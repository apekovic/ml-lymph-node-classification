{
 "cells": [
  {
   "cell_type": "code",
   "execution_count": 1,
   "id": "efcf15d2",
   "metadata": {},
   "outputs": [
    {
     "name": "stderr",
     "output_type": "stream",
     "text": [
      "C:\\Users\\ANCI\\anaconda3\\lib\\site-packages\\scipy\\__init__.py:146: UserWarning: A NumPy version >=1.16.5 and <1.23.0 is required for this version of SciPy (detected version 1.23.2\n",
      "  warnings.warn(f\"A NumPy version >={np_minversion} and <{np_maxversion}\"\n"
     ]
    }
   ],
   "source": [
    "import numpy as np\n",
    "import pandas as pd\n",
    "import matplotlib.pyplot as plt\n",
    "%matplotlib inline\n",
    "\n",
    "import h5py\n",
    "\n",
    "import tensorflow as tf\n",
    "\n",
    "from keras.preprocessing.image import ImageDataGenerator\n",
    "from keras.models import Sequential\n",
    "from keras.layers import InputLayer, Dense, Input, Dropout, Flatten, Conv2D,MaxPool2D\n",
    "from keras.losses import CategoricalCrossentropy\n",
    "from keras.optimizers import Adam\n",
    "from keras.regularizers import l1, l2\n",
    "\n",
    "from tensorflow.keras import utils\n",
    "from tensorflow.keras import backend as K\n",
    "\n",
    "from sklearn.model_selection import train_test_split\n",
    "from sklearn.preprocessing import StandardScaler\n",
    "\n",
    "import pydot\n",
    "from IPython.display import SVG\n",
    "from tensorflow.keras.utils import model_to_dot\n",
    "\n",
    "import pickle\n",
    "import json"
   ]
  },
  {
   "cell_type": "code",
   "execution_count": 2,
   "id": "4aa1f4a6",
   "metadata": {},
   "outputs": [
    {
     "data": {
      "text/plain": [
       "'2.9.1'"
      ]
     },
     "execution_count": 2,
     "metadata": {},
     "output_type": "execute_result"
    }
   ],
   "source": [
    "tf.__version__"
   ]
  },
  {
   "cell_type": "code",
   "execution_count": 3,
   "id": "ddb177ce",
   "metadata": {},
   "outputs": [
    {
     "name": "stdout",
     "output_type": "stream",
     "text": [
      "X shape =  (32768, 96, 96, 3)\n",
      "y shape =  (32768, 1, 1, 1)\n"
     ]
    }
   ],
   "source": [
    "hdf5_x_file = 'dataset/camelyonpatch_x.h5'\n",
    "hdf5_y_file = 'dataset/camelyonpatch_y.h5'\n",
    "\n",
    "hfx = h5py.File(hdf5_x_file, 'r')\n",
    "hfy = h5py.File(hdf5_y_file, 'r')\n",
    "\n",
    "X = hfx['x']\n",
    "y = hfy['y']\n",
    "\n",
    "print(\"X shape = \",X.shape)\n",
    "print(\"y shape = \",y.shape)"
   ]
  },
  {
   "cell_type": "markdown",
   "id": "1b2e215b",
   "metadata": {},
   "source": [
    "### Konvertovanje u np.array"
   ]
  },
  {
   "cell_type": "code",
   "execution_count": 4,
   "id": "06360254",
   "metadata": {},
   "outputs": [],
   "source": [
    "X = np.array(X)\n",
    "y = np.array(y)"
   ]
  },
  {
   "cell_type": "markdown",
   "id": "23c8e323",
   "metadata": {},
   "source": [
    "### Reshape iz  4D u 2D"
   ]
  },
  {
   "cell_type": "code",
   "execution_count": 5,
   "id": "6fd14ce4",
   "metadata": {},
   "outputs": [
    {
     "name": "stdout",
     "output_type": "stream",
     "text": [
      "2D X shape =  (32768, 27648)\n",
      "2D y shape =  (32768,)\n"
     ]
    }
   ],
   "source": [
    "nsamples, nx, ny, nrgb = X.shape\n",
    "X_reshape = X.reshape((nsamples,nx*ny*nrgb))\n",
    "print('2D X shape = ',X_reshape.shape)\n",
    "\n",
    "y_reshape = y.ravel()\n",
    "print('2D y shape = ',y_reshape.shape)"
   ]
  },
  {
   "cell_type": "code",
   "execution_count": 6,
   "id": "5b92faef",
   "metadata": {},
   "outputs": [
    {
     "name": "stdout",
     "output_type": "stream",
     "text": [
      "[[247 246 244 ... 243 241 244]\n",
      " [216 166 203 ... 227 213 226]\n",
      " [184 155 186 ... 251 205 242]\n",
      " ...\n",
      " [223 159 183 ... 192 113 160]\n",
      " [154  75 192 ...  67  10 107]\n",
      " [ 64   2  39 ... 197 137 165]]\n"
     ]
    }
   ],
   "source": [
    "print(X_reshape)"
   ]
  },
  {
   "cell_type": "code",
   "execution_count": 7,
   "id": "f88a0ded",
   "metadata": {},
   "outputs": [
    {
     "name": "stdout",
     "output_type": "stream",
     "text": [
      "[0 1 0 ... 1 1 0]\n"
     ]
    }
   ],
   "source": [
    "print(y_reshape)"
   ]
  },
  {
   "cell_type": "markdown",
   "id": "e92da8ac",
   "metadata": {},
   "source": [
    "### Podela na Train, Test i Validate podatke"
   ]
  },
  {
   "cell_type": "code",
   "execution_count": 8,
   "id": "959aff44",
   "metadata": {},
   "outputs": [],
   "source": [
    "X_train_and_val, X_test, y_train_and_val, y_test = train_test_split(X_reshape, y_reshape, test_size = 0.2, random_state = 42, stratify = y_reshape )\n",
    "X_train, X_validation, y_train, y_validation = train_test_split(X_train_and_val, y_train_and_val, test_size = 0.25, random_state = 42, stratify = y_train_and_val)"
   ]
  },
  {
   "cell_type": "code",
   "execution_count": 9,
   "id": "11d87c48",
   "metadata": {},
   "outputs": [
    {
     "data": {
      "text/plain": [
       "(19660, 27648)"
      ]
     },
     "execution_count": 9,
     "metadata": {},
     "output_type": "execute_result"
    }
   ],
   "source": [
    "X_train.shape"
   ]
  },
  {
   "cell_type": "code",
   "execution_count": 10,
   "id": "ea8d9a37",
   "metadata": {},
   "outputs": [
    {
     "data": {
      "text/plain": [
       "(6554, 27648)"
      ]
     },
     "execution_count": 10,
     "metadata": {},
     "output_type": "execute_result"
    }
   ],
   "source": [
    "X_test.shape"
   ]
  },
  {
   "cell_type": "code",
   "execution_count": 11,
   "id": "cab8f574",
   "metadata": {},
   "outputs": [
    {
     "data": {
      "text/plain": [
       "(6554, 27648)"
      ]
     },
     "execution_count": 11,
     "metadata": {},
     "output_type": "execute_result"
    }
   ],
   "source": [
    "X_validation.shape"
   ]
  },
  {
   "cell_type": "code",
   "execution_count": 12,
   "id": "a75cd817",
   "metadata": {},
   "outputs": [
    {
     "name": "stdout",
     "output_type": "stream",
     "text": [
      "[[254 233 238 ... 151 120 128]\n",
      " [178 130 190 ... 174  70 169]\n",
      " [ 60  23 126 ... 167 103 199]\n",
      " ...\n",
      " [215 210 217 ... 242 179 250]\n",
      " [246 161 220 ... 121  49 161]\n",
      " [ 77  34  64 ... 128  85 105]]\n"
     ]
    }
   ],
   "source": [
    "print(X_train)"
   ]
  },
  {
   "cell_type": "code",
   "execution_count": 13,
   "id": "e3fbf9e6",
   "metadata": {},
   "outputs": [
    {
     "name": "stdout",
     "output_type": "stream",
     "text": [
      "[0 1 1 ... 1 1 0]\n"
     ]
    }
   ],
   "source": [
    "print(y_train)"
   ]
  },
  {
   "cell_type": "code",
   "execution_count": 14,
   "id": "cd506bea",
   "metadata": {},
   "outputs": [
    {
     "name": "stdout",
     "output_type": "stream",
     "text": [
      "[[121  86 128 ... 252 252 252]\n",
      " [242 242 242 ... 193  68 208]\n",
      " [174 141 158 ... 115  63  65]\n",
      " ...\n",
      " [220 113 207 ... 227 217 242]\n",
      " [171  66 185 ... 238 223 255]\n",
      " [221 225 224 ... 187 126 186]]\n"
     ]
    }
   ],
   "source": [
    "print(X_test)"
   ]
  },
  {
   "cell_type": "code",
   "execution_count": 15,
   "id": "36751778",
   "metadata": {},
   "outputs": [
    {
     "name": "stdout",
     "output_type": "stream",
     "text": [
      "[1 1 0 ... 0 1 0]\n"
     ]
    }
   ],
   "source": [
    "print(y_test)"
   ]
  },
  {
   "cell_type": "code",
   "execution_count": 16,
   "id": "32f1d4e7",
   "metadata": {},
   "outputs": [
    {
     "name": "stdout",
     "output_type": "stream",
     "text": [
      "[[241 229 241 ... 229 224 231]\n",
      " [227 161 223 ...  58  34 144]\n",
      " [173  85 127 ... 134  63  97]\n",
      " ...\n",
      " [121  89 165 ... 159  97 183]\n",
      " [ 76  46 146 ... 214 167 222]\n",
      " [184  68 169 ... 253 219 254]]\n"
     ]
    }
   ],
   "source": [
    "print(X_validation)"
   ]
  },
  {
   "cell_type": "code",
   "execution_count": 17,
   "id": "036d1de7",
   "metadata": {},
   "outputs": [
    {
     "name": "stdout",
     "output_type": "stream",
     "text": [
      "[0 0 1 ... 0 1 1]\n"
     ]
    }
   ],
   "source": [
    "print(y_validation)"
   ]
  },
  {
   "cell_type": "markdown",
   "id": "e972fd5d",
   "metadata": {},
   "source": [
    "### Brisanje suvišnih podataka iz memorije i zatvaranje fajlova"
   ]
  },
  {
   "cell_type": "code",
   "execution_count": 18,
   "id": "881f586c",
   "metadata": {},
   "outputs": [],
   "source": [
    "del X, y, X_reshape, y_reshape"
   ]
  },
  {
   "cell_type": "code",
   "execution_count": 19,
   "id": "55c3845c",
   "metadata": {},
   "outputs": [],
   "source": [
    "hfx.close()\n",
    "hfy.close()"
   ]
  },
  {
   "cell_type": "markdown",
   "id": "8be7059a",
   "metadata": {},
   "source": [
    "### Pravljenje kopija\n",
    "Zbog rada na konvolutivnoj neuralnoj mrezi, pravim kopiju za X_test, X_train i X_validate.\n",
    "Trebaju mi nestandardizovane kopije, jer za konvolutivnu normalizujem podatke"
   ]
  },
  {
   "cell_type": "code",
   "execution_count": 20,
   "id": "11206bf4",
   "metadata": {},
   "outputs": [],
   "source": [
    "X_train_copy = X_train\n",
    "X_validation_copy = X_validation\n",
    "X_test_copy = X_test"
   ]
  },
  {
   "cell_type": "markdown",
   "id": "caef92a4",
   "metadata": {},
   "source": [
    "### Provera stratifikovanosti"
   ]
  },
  {
   "cell_type": "code",
   "execution_count": 21,
   "id": "68b4d227",
   "metadata": {},
   "outputs": [
    {
     "data": {
      "image/png": "[encoded data removed]",
      "text/plain": [
       "<Figure size 720x432 with 1 Axes>"
      ]
     },
     "metadata": {
      "needs_background": "light"
     },
     "output_type": "display_data"
    }
   ],
   "source": [
    "plt.figure(figsize = (10,6))\n",
    "plt.title('Vizuelna provera stratifikovanosti')\n",
    "plt.xticks([0,1])\n",
    "plt.xlabel('0 - normalan uzorak, 1 - maligni uzorak')\n",
    "plt.hist([y_train, y_test, y_validation], color=['orange', 'cadetblue', 'red'], label=['skup za treniranje', 'skup za testiranje','skup za validaciju'])\n",
    "plt.legend(loc='best')\n",
    "plt.grid(axis = 'y')\n",
    "plt.show()"
   ]
  },
  {
   "cell_type": "code",
   "execution_count": 22,
   "id": "91387de1",
   "metadata": {},
   "outputs": [
    {
     "name": "stdout",
     "output_type": "stream",
     "text": [
      "Broj instanci trening skupa koji sadrže maligna tkiva:  9826\n",
      "Broj normalnih instanci trening skupa:  9834\n",
      "Odstupanje: 8 (0.04%)\n",
      "=========================\n",
      "\n",
      "Broj instanci test skupa koji sadrže maligna tkiva:  3276\n",
      "Broj normalnih instanci test skupa:  3278\n",
      "Odstupanje: 2 (0.03%)\n",
      "=========================\n",
      "\n",
      "Broj instanci validactiong skupa koji sadrže maligna tkiva:  3275\n",
      "Broj normalnih instanci validacionog skupa:  3279\n",
      "Odstupanje: 4 (0.06%)\n",
      "=========================\n",
      "\n"
     ]
    }
   ],
   "source": [
    "maligni_train = np.sum(y_train==1)\n",
    "print('Broj instanci trening skupa koji sadrže maligna tkiva: ', maligni_train)\n",
    "normalni_train = np.sum(y_train==0)\n",
    "print('Broj normalnih instanci trening skupa: ', normalni_train)\n",
    "odstupanje = np.abs(normalni_train - maligni_train)\n",
    "procenat_odstupanja = odstupanje*100/X_train.shape[0]\n",
    "print('Odstupanje: {0:d} ({1:.2f}%)\\n=========================\\n'.format(odstupanje, procenat_odstupanja))\n",
    "\n",
    "maligni_test = np.sum(y_test==1)\n",
    "print('Broj instanci test skupa koji sadrže maligna tkiva: ', maligni_test)\n",
    "normalni_test = np.sum(y_test==0)\n",
    "print('Broj normalnih instanci test skupa: ', normalni_test)\n",
    "odstupanje = np.abs(normalni_test - maligni_test)\n",
    "procenat_odstupanja = odstupanje*100/X_test.shape[0]\n",
    "print('Odstupanje: {0:d} ({1:.2f}%)\\n=========================\\n'.format(odstupanje, procenat_odstupanja))\n",
    "\n",
    "maligni_val = np.sum(y_validation==1)\n",
    "print('Broj instanci validactiong skupa koji sadrže maligna tkiva: ', maligni_val)\n",
    "normalni_val = np.sum(y_validation==0)\n",
    "print('Broj normalnih instanci validacionog skupa: ', normalni_val)\n",
    "odstupanje = np.abs(normalni_val - maligni_val)\n",
    "procenat_odstupanja = odstupanje*100/X_validation.shape[0]\n",
    "print('Odstupanje: {0:d} ({1:.2f}%)\\n=========================\\n'.format(odstupanje, procenat_odstupanja))"
   ]
  },
  {
   "cell_type": "markdown",
   "id": "8c105390",
   "metadata": {},
   "source": [
    "### Standardizacija"
   ]
  },
  {
   "cell_type": "code",
   "execution_count": 23,
   "id": "229d8665",
   "metadata": {},
   "outputs": [],
   "source": [
    "scaler_t = StandardScaler()\n",
    "scaler_t.fit(X_train)\n",
    "X_train = scaler_t.transform(X_train)\n",
    "X_validation = scaler_t.transform(X_validation)"
   ]
  },
  {
   "cell_type": "code",
   "execution_count": 24,
   "id": "16d3f364",
   "metadata": {},
   "outputs": [],
   "source": [
    "scaler_tv = StandardScaler()\n",
    "scaler_tv.fit(X_train_and_val)\n",
    "X_train_and_val = scaler_tv.transform(X_train_and_val)\n",
    "X_test = scaler_tv.transform(X_test)"
   ]
  },
  {
   "cell_type": "code",
   "execution_count": 25,
   "id": "cbe8596b",
   "metadata": {},
   "outputs": [],
   "source": [
    "with open('assets/standard_scaler/ANN_Train_scaler.scaler.pickle', 'wb') as scaler_file:\n",
    "    pickle.dump(scaler_t, scaler_file)"
   ]
  },
  {
   "cell_type": "code",
   "execution_count": 26,
   "id": "adcf308c",
   "metadata": {},
   "outputs": [],
   "source": [
    "with open('assets/standard_scaler//ANN_Train_and_Validation_scaler.scaler.pickle', 'wb') as scaler_file:\n",
    "    pickle.dump(scaler_tv, scaler_file)"
   ]
  },
  {
   "cell_type": "code",
   "execution_count": 27,
   "id": "446fdd7c",
   "metadata": {},
   "outputs": [],
   "source": [
    "#Ovde nam neće trebati ovaj skup podataka\n",
    "del X_train_and_val"
   ]
  },
  {
   "cell_type": "code",
   "execution_count": 28,
   "id": "2b632388",
   "metadata": {},
   "outputs": [
    {
     "name": "stdout",
     "output_type": "stream",
     "text": [
      "[[ 1.30910312  1.38902285  1.17899234 ... -0.39282128 -0.21108891\n",
      "  -0.94294384]\n",
      " [ 0.08647567 -0.03866716  0.26224548 ... -0.02588697 -0.89542089\n",
      "  -0.17817272]\n",
      " [-1.81181431 -1.52180144 -0.96008367 ... -0.13756263 -0.44376179\n",
      "   0.38141591]\n",
      " ...\n",
      " [ 0.68170219  1.07021828  0.77791559 ...  1.05896227  0.59642281\n",
      "   1.33271658]\n",
      " [ 1.1804055   0.39102595  0.83521227 ... -0.87143124 -1.18284032\n",
      "  -0.32739635]\n",
      " [-1.53833186 -1.36932969 -2.14421502 ... -0.75975558 -0.6901213\n",
      "  -1.37196179]]\n"
     ]
    }
   ],
   "source": [
    "print(X_train)"
   ]
  },
  {
   "cell_type": "code",
   "execution_count": 29,
   "id": "a920a80c",
   "metadata": {},
   "outputs": [
    {
     "name": "stdout",
     "output_type": "stream",
     "text": [
      "[[-0.82465962 -0.64608368 -0.9201372  ...  1.22047286  1.59752775\n",
      "   1.3723488 ]\n",
      " [ 1.11346154  1.50732707  1.25023735 ...  0.28118425 -0.92216486\n",
      "   0.55153983]\n",
      " [ 0.02426949  0.11313165 -0.348986   ... -0.96058714 -0.99063477\n",
      "  -2.11608934]\n",
      " ...\n",
      " [ 0.76107588 -0.27337797  0.58389429 ...  0.82246921  1.11823839\n",
      "   1.18580131]\n",
      " [-0.02378311 -0.92216198  0.16505007 ...  0.99759082  1.20040228\n",
      "   1.42831305]\n",
      " [ 0.77709341  1.27266051  0.90754663 ...  0.18566337 -0.12791393\n",
      "   0.14113534]]\n"
     ]
    }
   ],
   "source": [
    "print(X_test)"
   ]
  },
  {
   "cell_type": "code",
   "execution_count": 30,
   "id": "cf643659",
   "metadata": {},
   "outputs": [
    {
     "name": "stdout",
     "output_type": "stream",
     "text": [
      "[[ 1.09996948  1.33357857  1.23628902 ...  0.85156462  1.21232159\n",
      "   0.97831045]\n",
      " [ 0.87474863  0.39102595  0.89250895 ... -1.87651215 -1.38813991\n",
      "  -0.64449657]\n",
      " [ 0.00603966 -0.66241522 -0.94098477 ... -0.66403359 -0.99122736\n",
      "  -1.52118542]\n",
      " ...\n",
      " [-0.83049491 -0.60697095 -0.21522684 ... -0.26519195 -0.52588162\n",
      "   0.08296864]\n",
      " [-1.55441906 -1.20299688 -0.57810581 ...  0.61225964  0.43218314\n",
      "   0.81043386]\n",
      " [ 0.18299889 -0.89805338 -0.13883127 ...  1.23445259  1.14388839\n",
      "   1.4073284 ]]\n"
     ]
    }
   ],
   "source": [
    "print(X_validation)"
   ]
  },
  {
   "cell_type": "markdown",
   "id": "d11d4a01",
   "metadata": {},
   "source": [
    "# 1.1. Neuronska mreža"
   ]
  },
  {
   "cell_type": "markdown",
   "id": "bc60e110",
   "metadata": {},
   "source": [
    "### Kreiranje mreže"
   ]
  },
  {
   "cell_type": "code",
   "execution_count": 31,
   "id": "7cf21ffc",
   "metadata": {},
   "outputs": [],
   "source": [
    "ann = Sequential()"
   ]
  },
  {
   "cell_type": "code",
   "execution_count": 32,
   "id": "ec0bbc20",
   "metadata": {},
   "outputs": [],
   "source": [
    "ann.add(InputLayer(input_shape=(nx*ny*nrgb)))\n",
    "ann.add(Dense(units=int(nx*ny/(nrgb**3)), activation='relu'))\n",
    "ann.add(Dense(units=128, activation='relu'))\n",
    "ann.add(Dense(units=64, activation='relu'))\n",
    "ann.add(Dense(units=1, activation='sigmoid'))"
   ]
  },
  {
   "cell_type": "markdown",
   "id": "f29ffa3d",
   "metadata": {},
   "source": [
    "### Opis mreže"
   ]
  },
  {
   "cell_type": "code",
   "execution_count": 33,
   "id": "a1f56640",
   "metadata": {},
   "outputs": [
    {
     "name": "stdout",
     "output_type": "stream",
     "text": [
      "Model: \"sequential\"\n",
      "_________________________________________________________________\n",
      " Layer (type)                Output Shape              Param #   \n",
      "=================================================================\n",
      " dense (Dense)               (None, 341)               9428309   \n",
      "                                                                 \n",
      " dense_1 (Dense)             (None, 128)               43776     \n",
      "                                                                 \n",
      " dense_2 (Dense)             (None, 64)                8256      \n",
      "                                                                 \n",
      " dense_3 (Dense)             (None, 1)                 65        \n",
      "                                                                 \n",
      "=================================================================\n",
      "Total params: 9,480,406\n",
      "Trainable params: 9,480,406\n",
      "Non-trainable params: 0\n",
      "_________________________________________________________________\n"
     ]
    }
   ],
   "source": [
    "ann.summary()"
   ]
  },
  {
   "cell_type": "code",
   "execution_count": 34,
   "id": "769fedee",
   "metadata": {},
   "outputs": [
    {
     "data": {
      "image/svg+xml": [
       "<svg xmlns=\"http://www.w3.org/2000/svg\" xmlns:xlink=\"http://www.w3.org/1999/xlink\" width=\"130pt\" height=\"304pt\" viewBox=\"0.00 0.00 144.00 337.00\">\n",
       "<g id=\"graph0\" class=\"graph\" transform=\"scale(0.902778 0.902778) rotate(0) translate(4 333)\">\n",
       "<title>G</title>\n",
       "<polygon fill=\"white\" stroke=\"none\" points=\"-4,4 -4,-333 140,-333 140,4 -4,4\"/>\n",
       "<!-- 2197692503376 -->\n",
       "<g id=\"node1\" class=\"node\"><title>2197692503376</title>\n",
       "<polygon fill=\"none\" stroke=\"black\" points=\"0,-292.5 0,-328.5 136,-328.5 136,-292.5 0,-292.5\"/>\n",
       "<text text-anchor=\"middle\" x=\"29.5\" y=\"-306.8\" font-family=\"Times New Roman,serif\" font-size=\"14.00\">input_1</text>\n",
       "<polyline fill=\"none\" stroke=\"black\" points=\"59,-292.5 59,-328.5 \"/>\n",
       "<text text-anchor=\"middle\" x=\"97.5\" y=\"-306.8\" font-family=\"Times New Roman,serif\" font-size=\"14.00\">InputLayer</text>\n",
       "</g>\n",
       "<!-- 2197692503280 -->\n",
       "<g id=\"node2\" class=\"node\"><title>2197692503280</title>\n",
       "<polygon fill=\"none\" stroke=\"black\" points=\"18,-219.5 18,-255.5 118,-255.5 118,-219.5 18,-219.5\"/>\n",
       "<text text-anchor=\"middle\" x=\"42.5\" y=\"-233.8\" font-family=\"Times New Roman,serif\" font-size=\"14.00\">dense</text>\n",
       "<polyline fill=\"none\" stroke=\"black\" points=\"67,-219.5 67,-255.5 \"/>\n",
       "<text text-anchor=\"middle\" x=\"92.5\" y=\"-233.8\" font-family=\"Times New Roman,serif\" font-size=\"14.00\">Dense</text>\n",
       "</g>\n",
       "<!-- 2197692503376&#45;&gt;2197692503280 -->\n",
       "<g id=\"edge1\" class=\"edge\"><title>2197692503376-&gt;2197692503280</title>\n",
       "<path fill=\"none\" stroke=\"black\" d=\"M68,-292.313C68,-284.289 68,-274.547 68,-265.569\"/>\n",
       "<polygon fill=\"black\" stroke=\"black\" points=\"71.5001,-265.529 68,-255.529 64.5001,-265.529 71.5001,-265.529\"/>\n",
       "</g>\n",
       "<!-- 2197692323344 -->\n",
       "<g id=\"node3\" class=\"node\"><title>2197692323344</title>\n",
       "<polygon fill=\"none\" stroke=\"black\" points=\"11,-146.5 11,-182.5 125,-182.5 125,-146.5 11,-146.5\"/>\n",
       "<text text-anchor=\"middle\" x=\"42.5\" y=\"-160.8\" font-family=\"Times New Roman,serif\" font-size=\"14.00\">dense_1</text>\n",
       "<polyline fill=\"none\" stroke=\"black\" points=\"74,-146.5 74,-182.5 \"/>\n",
       "<text text-anchor=\"middle\" x=\"99.5\" y=\"-160.8\" font-family=\"Times New Roman,serif\" font-size=\"14.00\">Dense</text>\n",
       "</g>\n",
       "<!-- 2197692503280&#45;&gt;2197692323344 -->\n",
       "<g id=\"edge2\" class=\"edge\"><title>2197692503280-&gt;2197692323344</title>\n",
       "<path fill=\"none\" stroke=\"black\" d=\"M68,-219.313C68,-211.289 68,-201.547 68,-192.569\"/>\n",
       "<polygon fill=\"black\" stroke=\"black\" points=\"71.5001,-192.529 68,-182.529 64.5001,-192.529 71.5001,-192.529\"/>\n",
       "</g>\n",
       "<!-- 2196932356464 -->\n",
       "<g id=\"node4\" class=\"node\"><title>2196932356464</title>\n",
       "<polygon fill=\"none\" stroke=\"black\" points=\"11,-73.5 11,-109.5 125,-109.5 125,-73.5 11,-73.5\"/>\n",
       "<text text-anchor=\"middle\" x=\"42.5\" y=\"-87.8\" font-family=\"Times New Roman,serif\" font-size=\"14.00\">dense_2</text>\n",
       "<polyline fill=\"none\" stroke=\"black\" points=\"74,-73.5 74,-109.5 \"/>\n",
       "<text text-anchor=\"middle\" x=\"99.5\" y=\"-87.8\" font-family=\"Times New Roman,serif\" font-size=\"14.00\">Dense</text>\n",
       "</g>\n",
       "<!-- 2197692323344&#45;&gt;2196932356464 -->\n",
       "<g id=\"edge3\" class=\"edge\"><title>2197692323344-&gt;2196932356464</title>\n",
       "<path fill=\"none\" stroke=\"black\" d=\"M68,-146.313C68,-138.289 68,-128.547 68,-119.569\"/>\n",
       "<polygon fill=\"black\" stroke=\"black\" points=\"71.5001,-119.529 68,-109.529 64.5001,-119.529 71.5001,-119.529\"/>\n",
       "</g>\n",
       "<!-- 2196932357136 -->\n",
       "<g id=\"node5\" class=\"node\"><title>2196932357136</title>\n",
       "<polygon fill=\"none\" stroke=\"black\" points=\"11,-0.5 11,-36.5 125,-36.5 125,-0.5 11,-0.5\"/>\n",
       "<text text-anchor=\"middle\" x=\"42.5\" y=\"-14.8\" font-family=\"Times New Roman,serif\" font-size=\"14.00\">dense_3</text>\n",
       "<polyline fill=\"none\" stroke=\"black\" points=\"74,-0.5 74,-36.5 \"/>\n",
       "<text text-anchor=\"middle\" x=\"99.5\" y=\"-14.8\" font-family=\"Times New Roman,serif\" font-size=\"14.00\">Dense</text>\n",
       "</g>\n",
       "<!-- 2196932356464&#45;&gt;2196932357136 -->\n",
       "<g id=\"edge4\" class=\"edge\"><title>2196932356464-&gt;2196932357136</title>\n",
       "<path fill=\"none\" stroke=\"black\" d=\"M68,-73.3129C68,-65.2895 68,-55.5475 68,-46.5691\"/>\n",
       "<polygon fill=\"black\" stroke=\"black\" points=\"71.5001,-46.5288 68,-36.5288 64.5001,-46.5289 71.5001,-46.5288\"/>\n",
       "</g>\n",
       "</g>\n",
       "</svg>"
      ],
      "text/plain": [
       "<IPython.core.display.SVG object>"
      ]
     },
     "metadata": {},
     "output_type": "display_data"
    }
   ],
   "source": [
    "display(SVG(model_to_dot(ann, dpi=65).create(prog='dot', format='svg')))"
   ]
  },
  {
   "cell_type": "markdown",
   "id": "d4c436d2",
   "metadata": {},
   "source": [
    "### Treniranje mreže"
   ]
  },
  {
   "cell_type": "code",
   "execution_count": 35,
   "id": "fe6aa2f7",
   "metadata": {},
   "outputs": [],
   "source": [
    "ann.compile(loss='binary_crossentropy', \n",
    "            optimizer='adam', \n",
    "            metrics=['accuracy'])"
   ]
  },
  {
   "cell_type": "code",
   "execution_count": 36,
   "id": "e758def5",
   "metadata": {},
   "outputs": [
    {
     "name": "stdout",
     "output_type": "stream",
     "text": [
      "Epoch 1/50\n",
      "154/154 [==============================] - 87s 559ms/step - loss: 1.3362 - accuracy: 0.6736 - val_loss: 0.6885 - val_accuracy: 0.7052\n",
      "Epoch 2/50\n",
      "154/154 [==============================] - 17s 108ms/step - loss: 0.5283 - accuracy: 0.7900 - val_loss: 0.6059 - val_accuracy: 0.7438\n",
      "Epoch 3/50\n",
      "154/154 [==============================] - 16s 107ms/step - loss: 0.3496 - accuracy: 0.8594 - val_loss: 0.6758 - val_accuracy: 0.7395\n",
      "Epoch 4/50\n",
      "154/154 [==============================] - 17s 107ms/step - loss: 0.2370 - accuracy: 0.9101 - val_loss: 0.6974 - val_accuracy: 0.7359\n",
      "Epoch 5/50\n",
      "154/154 [==============================] - 16s 106ms/step - loss: 0.1954 - accuracy: 0.9289 - val_loss: 0.8453 - val_accuracy: 0.7350\n",
      "Epoch 6/50\n",
      "154/154 [==============================] - 16s 106ms/step - loss: 0.1831 - accuracy: 0.9360 - val_loss: 0.7685 - val_accuracy: 0.7363\n",
      "Epoch 7/50\n",
      "154/154 [==============================] - 16s 106ms/step - loss: 0.1450 - accuracy: 0.9487 - val_loss: 0.8338 - val_accuracy: 0.7569\n",
      "Epoch 8/50\n",
      "154/154 [==============================] - 16s 106ms/step - loss: 0.1158 - accuracy: 0.9602 - val_loss: 0.9912 - val_accuracy: 0.7347\n",
      "Epoch 9/50\n",
      "154/154 [==============================] - 16s 107ms/step - loss: 0.0729 - accuracy: 0.9770 - val_loss: 1.0312 - val_accuracy: 0.7457\n",
      "Epoch 10/50\n",
      "154/154 [==============================] - 16s 106ms/step - loss: 0.0523 - accuracy: 0.9836 - val_loss: 1.1196 - val_accuracy: 0.7366\n",
      "Epoch 11/50\n",
      "154/154 [==============================] - 16s 107ms/step - loss: 0.5591 - accuracy: 0.8957 - val_loss: 1.0415 - val_accuracy: 0.6955\n",
      "Epoch 12/50\n",
      "154/154 [==============================] - 16s 106ms/step - loss: 0.3175 - accuracy: 0.8821 - val_loss: 0.8219 - val_accuracy: 0.7528\n",
      "Epoch 13/50\n",
      "154/154 [==============================] - 16s 107ms/step - loss: 0.1015 - accuracy: 0.9664 - val_loss: 0.8978 - val_accuracy: 0.7537\n",
      "Epoch 14/50\n",
      "154/154 [==============================] - 16s 106ms/step - loss: 0.1016 - accuracy: 0.9702 - val_loss: 0.9536 - val_accuracy: 0.7562\n",
      "Epoch 15/50\n",
      "154/154 [==============================] - 16s 106ms/step - loss: 0.0621 - accuracy: 0.9793 - val_loss: 1.1486 - val_accuracy: 0.7524\n",
      "Epoch 16/50\n",
      "154/154 [==============================] - 16s 106ms/step - loss: 0.0437 - accuracy: 0.9870 - val_loss: 1.1397 - val_accuracy: 0.7540\n",
      "Epoch 17/50\n",
      "154/154 [==============================] - 16s 106ms/step - loss: 0.0336 - accuracy: 0.9895 - val_loss: 1.3029 - val_accuracy: 0.7554\n",
      "Epoch 18/50\n",
      "154/154 [==============================] - 16s 106ms/step - loss: 0.0267 - accuracy: 0.9923 - val_loss: 1.3582 - val_accuracy: 0.7527\n",
      "Epoch 19/50\n",
      "154/154 [==============================] - 16s 106ms/step - loss: 0.0243 - accuracy: 0.9926 - val_loss: 1.3639 - val_accuracy: 0.7536\n",
      "Epoch 20/50\n",
      "154/154 [==============================] - 16s 106ms/step - loss: 0.1011 - accuracy: 0.9683 - val_loss: 1.1932 - val_accuracy: 0.7562\n",
      "Epoch 21/50\n",
      "154/154 [==============================] - 16s 106ms/step - loss: 0.0977 - accuracy: 0.9709 - val_loss: 1.3819 - val_accuracy: 0.7562\n",
      "Epoch 22/50\n",
      "154/154 [==============================] - 17s 108ms/step - loss: 0.0739 - accuracy: 0.9767 - val_loss: 1.2428 - val_accuracy: 0.7482\n",
      "Epoch 23/50\n",
      "154/154 [==============================] - 17s 110ms/step - loss: 0.0758 - accuracy: 0.9763 - val_loss: 1.3041 - val_accuracy: 0.7545\n",
      "Epoch 24/50\n",
      "154/154 [==============================] - 16s 107ms/step - loss: 0.0314 - accuracy: 0.9900 - val_loss: 1.5479 - val_accuracy: 0.7611\n",
      "Epoch 25/50\n",
      "154/154 [==============================] - 16s 106ms/step - loss: 0.0304 - accuracy: 0.9908 - val_loss: 1.5537 - val_accuracy: 0.7563\n",
      "Epoch 26/50\n",
      "154/154 [==============================] - 16s 106ms/step - loss: 0.0254 - accuracy: 0.9926 - val_loss: 1.6287 - val_accuracy: 0.7359\n",
      "Epoch 27/50\n",
      "154/154 [==============================] - 16s 106ms/step - loss: 0.0801 - accuracy: 0.9768 - val_loss: 1.5111 - val_accuracy: 0.7579\n",
      "Epoch 28/50\n",
      "154/154 [==============================] - 16s 107ms/step - loss: 0.0914 - accuracy: 0.9718 - val_loss: 1.6179 - val_accuracy: 0.7411\n",
      "Epoch 29/50\n",
      "154/154 [==============================] - 17s 108ms/step - loss: 0.1482 - accuracy: 0.9571 - val_loss: 1.3492 - val_accuracy: 0.7516\n",
      "Epoch 30/50\n",
      "154/154 [==============================] - 17s 108ms/step - loss: 0.0539 - accuracy: 0.9857 - val_loss: 1.5444 - val_accuracy: 0.7592\n",
      "Epoch 31/50\n",
      "154/154 [==============================] - 17s 107ms/step - loss: 0.0237 - accuracy: 0.9923 - val_loss: 1.6120 - val_accuracy: 0.7646\n",
      "Epoch 32/50\n",
      "154/154 [==============================] - 17s 107ms/step - loss: 0.0114 - accuracy: 0.9969 - val_loss: 1.6447 - val_accuracy: 0.7513\n",
      "Epoch 33/50\n",
      "154/154 [==============================] - 17s 108ms/step - loss: 0.0126 - accuracy: 0.9964 - val_loss: 1.7042 - val_accuracy: 0.7505\n",
      "Epoch 34/50\n",
      "154/154 [==============================] - 16s 107ms/step - loss: 0.0152 - accuracy: 0.9951 - val_loss: 1.6719 - val_accuracy: 0.7562\n",
      "Epoch 35/50\n",
      "154/154 [==============================] - 16s 106ms/step - loss: 0.0094 - accuracy: 0.9969 - val_loss: 1.8195 - val_accuracy: 0.7518\n",
      "Epoch 36/50\n",
      "154/154 [==============================] - 16s 106ms/step - loss: 0.0100 - accuracy: 0.9967 - val_loss: 1.8546 - val_accuracy: 0.7632\n",
      "Epoch 37/50\n",
      "154/154 [==============================] - 16s 106ms/step - loss: 0.0558 - accuracy: 0.9850 - val_loss: 1.5350 - val_accuracy: 0.7508\n",
      "Epoch 38/50\n",
      "154/154 [==============================] - 16s 106ms/step - loss: 0.1188 - accuracy: 0.9642 - val_loss: 1.4526 - val_accuracy: 0.7424\n",
      "Epoch 39/50\n",
      "154/154 [==============================] - 16s 106ms/step - loss: 0.0506 - accuracy: 0.9833 - val_loss: 1.6552 - val_accuracy: 0.7582\n",
      "Epoch 40/50\n",
      "154/154 [==============================] - 16s 107ms/step - loss: 0.0501 - accuracy: 0.9858 - val_loss: 1.9118 - val_accuracy: 0.7354\n",
      "Epoch 41/50\n",
      "154/154 [==============================] - 17s 109ms/step - loss: 0.0570 - accuracy: 0.9829 - val_loss: 1.6580 - val_accuracy: 0.7543\n",
      "Epoch 42/50\n",
      "154/154 [==============================] - 16s 106ms/step - loss: 0.1465 - accuracy: 0.9608 - val_loss: 1.5389 - val_accuracy: 0.7582\n",
      "Epoch 43/50\n",
      "154/154 [==============================] - 16s 106ms/step - loss: 0.0219 - accuracy: 0.9942 - val_loss: 1.8817 - val_accuracy: 0.7461\n",
      "Epoch 44/50\n",
      "154/154 [==============================] - 16s 106ms/step - loss: 0.0223 - accuracy: 0.9932 - val_loss: 2.1433 - val_accuracy: 0.7568\n",
      "Epoch 45/50\n",
      "154/154 [==============================] - 16s 106ms/step - loss: 0.0532 - accuracy: 0.9856 - val_loss: 1.4870 - val_accuracy: 0.7560\n",
      "Epoch 46/50\n",
      "154/154 [==============================] - 16s 106ms/step - loss: 0.0140 - accuracy: 0.9954 - val_loss: 1.8298 - val_accuracy: 0.7537\n",
      "Epoch 47/50\n",
      "154/154 [==============================] - 17s 107ms/step - loss: 0.0248 - accuracy: 0.9929 - val_loss: 1.7830 - val_accuracy: 0.7576\n",
      "Epoch 48/50\n",
      "154/154 [==============================] - 16s 107ms/step - loss: 0.0262 - accuracy: 0.9922 - val_loss: 1.8644 - val_accuracy: 0.7505\n",
      "Epoch 49/50\n",
      "154/154 [==============================] - 16s 106ms/step - loss: 0.0297 - accuracy: 0.9917 - val_loss: 1.6549 - val_accuracy: 0.7601\n",
      "Epoch 50/50\n",
      "154/154 [==============================] - 16s 107ms/step - loss: 0.0319 - accuracy: 0.9905 - val_loss: 1.9212 - val_accuracy: 0.7579\n"
     ]
    }
   ],
   "source": [
    "history = ann.fit(X_train,\n",
    "                  y_train,\n",
    "                  epochs=50,\n",
    "                  batch_size=128,\n",
    "                  validation_data=(X_validation, y_validation))"
   ]
  },
  {
   "cell_type": "markdown",
   "id": "4fda663b",
   "metadata": {},
   "source": [
    "### Ocena neuronske mreže"
   ]
  },
  {
   "cell_type": "code",
   "execution_count": 37,
   "id": "6f4c8cf4",
   "metadata": {},
   "outputs": [
    {
     "data": {
      "image/png": "[encoded data removed]",
      "text/plain": [
       "<Figure size 1008x864 with 2 Axes>"
      ]
     },
     "metadata": {
      "needs_background": "light"
     },
     "output_type": "display_data"
    }
   ],
   "source": [
    "plt.figure(figsize=(14,12))\n",
    "\n",
    "plt.subplot(2, 1, 1)\n",
    "\n",
    "plt.plot(np.arange(1, 51), history.history['loss'], label='Training')\n",
    "plt.plot(np.arange(1, 51), history.history['val_loss'], label='Validation')\n",
    "plt.title('Loss', size=20)\n",
    "plt.xlabel('Epoch', size=14)\n",
    "plt.xticks(np.arange(0,51,5))\n",
    "plt.grid()\n",
    "plt.legend()\n",
    "\n",
    "\n",
    "plt.subplot(2, 1, 2)\n",
    "\n",
    "plt.plot(np.arange(1, 51), history.history['accuracy'], label='Training')\n",
    "plt.plot(np.arange(1, 51), history.history['val_accuracy'], label='Validation')\n",
    "plt.title('Accuracy', size=20)\n",
    "plt.xlabel('Epoch', size=14)\n",
    "plt.xticks(np.arange(0,51,5))\n",
    "plt.grid()\n",
    "plt.legend()\n",
    "\n",
    "plt.savefig('assets/pictures/1.DM_1_ANN_Loss_Acc_first_try.jpg')\n",
    "\n",
    "plt.show()"
   ]
  },
  {
   "cell_type": "markdown",
   "id": "6b970dd3",
   "metadata": {},
   "source": [
    "### Evaluacija"
   ]
  },
  {
   "cell_type": "code",
   "execution_count": 38,
   "id": "0e99e80f",
   "metadata": {},
   "outputs": [],
   "source": [
    "loss = ann.metrics_names[0]\n",
    "acc = ann.metrics_names[1]"
   ]
  },
  {
   "cell_type": "code",
   "execution_count": 39,
   "id": "e83d5739",
   "metadata": {},
   "outputs": [
    {
     "name": "stdout",
     "output_type": "stream",
     "text": [
      "Evaluacija nad trening podacima:\n",
      "\n",
      "154/154 [==============================] - 6s 36ms/step - loss: 0.0118 - accuracy: 0.9956\n",
      "loss: 0.011831493116915226\n",
      "accuracy: 0.9956256151199341\n"
     ]
    }
   ],
   "source": [
    "print('Evaluacija nad trening podacima:\\n')\n",
    "\n",
    "train_scores = ann.evaluate(X_train, y_train, batch_size=128)\n",
    "print('{0}: {1}'.format(loss, train_scores[0]))\n",
    "print('{0}: {1}'.format(acc, train_scores[1]))"
   ]
  },
  {
   "cell_type": "code",
   "execution_count": 40,
   "id": "bb25c8d0",
   "metadata": {},
   "outputs": [
    {
     "name": "stdout",
     "output_type": "stream",
     "text": [
      "Evaluacija nad test podacima:\n",
      "\n",
      "52/52 [==============================] - 3s 39ms/step - loss: 1.8859 - accuracy: 0.7545\n",
      "Test skup loss: 1.8859018087387085\n",
      "Test skup accuracy: 0.7545010447502136\n"
     ]
    }
   ],
   "source": [
    "print('Evaluacija nad test podacima:\\n')\n",
    "\n",
    "test_scores = ann.evaluate(X_test, y_test, batch_size=128)\n",
    "print('Test skup {0}: {1}'.format(loss, test_scores[0]))\n",
    "print('Test skup {0}: {1}'.format(acc, test_scores[1]))"
   ]
  },
  {
   "cell_type": "markdown",
   "id": "732ee0ce",
   "metadata": {},
   "source": [
    "### Čuvanje modela neuronske mreže"
   ]
  },
  {
   "cell_type": "code",
   "execution_count": 41,
   "id": "55d4d0b2",
   "metadata": {},
   "outputs": [
    {
     "name": "stdout",
     "output_type": "stream",
     "text": [
      "INFO:tensorflow:Assets written to: ram://25912712-87ff-4a03-ad29-231ea1afcb12/assets\n"
     ]
    }
   ],
   "source": [
    "with open('models/deep_models/DC_1_ANN_first_classifier.model.pickle', 'wb') as model_file:\n",
    "    pickle.dump(ann, model_file)"
   ]
  },
  {
   "cell_type": "markdown",
   "id": "f1b6fe92",
   "metadata": {},
   "source": [
    "**Na osnovu grafika i rezultata može se primetiti da je model preprilagodjen. \n",
    "Naredni pokušaj je sa tehnikama regularizacije.**"
   ]
  },
  {
   "cell_type": "markdown",
   "id": "952db69e",
   "metadata": {},
   "source": [
    "# 1.2. Neuronska mreža sa regularizacijom"
   ]
  },
  {
   "cell_type": "markdown",
   "id": "0379b018",
   "metadata": {},
   "source": [
    "### Kreiranje mreže"
   ]
  },
  {
   "cell_type": "code",
   "execution_count": 42,
   "id": "c2d884f7",
   "metadata": {},
   "outputs": [],
   "source": [
    "ann2 = Sequential()\n",
    "\n",
    "ann2.add(InputLayer(input_shape=(nx*ny*nrgb)))\n",
    "ann2.add(Dense(units=int(nx*ny/(nrgb**3)), activation='relu', kernel_regularizer=l2(l=0.001)))\n",
    "ann2.add(Dropout(rate=0.4))\n",
    "ann2.add(Dense(units=128, activation='relu', kernel_regularizer=l2(l2=0.01)))\n",
    "ann2.add(Dropout(rate=0.3))\n",
    "ann2.add(Dense(units=64, activation='relu'))\n",
    "ann2.add(Dropout(rate=0.2))\n",
    "ann2.add(Dense(units=1, activation='sigmoid'))"
   ]
  },
  {
   "cell_type": "markdown",
   "id": "967a8901",
   "metadata": {},
   "source": [
    "### Opis mreže"
   ]
  },
  {
   "cell_type": "code",
   "execution_count": 43,
   "id": "f254ff51",
   "metadata": {},
   "outputs": [
    {
     "name": "stdout",
     "output_type": "stream",
     "text": [
      "Model: \"sequential_1\"\n",
      "_________________________________________________________________\n",
      " Layer (type)                Output Shape              Param #   \n",
      "=================================================================\n",
      " dense_4 (Dense)             (None, 341)               9428309   \n",
      "                                                                 \n",
      " dropout (Dropout)           (None, 341)               0         \n",
      "                                                                 \n",
      " dense_5 (Dense)             (None, 128)               43776     \n",
      "                                                                 \n",
      " dropout_1 (Dropout)         (None, 128)               0         \n",
      "                                                                 \n",
      " dense_6 (Dense)             (None, 64)                8256      \n",
      "                                                                 \n",
      " dropout_2 (Dropout)         (None, 64)                0         \n",
      "                                                                 \n",
      " dense_7 (Dense)             (None, 1)                 65        \n",
      "                                                                 \n",
      "=================================================================\n",
      "Total params: 9,480,406\n",
      "Trainable params: 9,480,406\n",
      "Non-trainable params: 0\n",
      "_________________________________________________________________\n"
     ]
    }
   ],
   "source": [
    "ann2.summary()"
   ]
  },
  {
   "cell_type": "code",
   "execution_count": 44,
   "id": "76ea879b",
   "metadata": {},
   "outputs": [
    {
     "data": {
      "image/svg+xml": [
       "<svg xmlns=\"http://www.w3.org/2000/svg\" xmlns:xlink=\"http://www.w3.org/1999/xlink\" width=\"134pt\" height=\"502pt\" viewBox=\"0.00 0.00 148.00 556.00\">\n",
       "<g id=\"graph0\" class=\"graph\" transform=\"scale(0.902778 0.902778) rotate(0) translate(4 552)\">\n",
       "<title>G</title>\n",
       "<polygon fill=\"white\" stroke=\"none\" points=\"-4,4 -4,-552 144,-552 144,4 -4,4\"/>\n",
       "<!-- 2196995309968 -->\n",
       "<g id=\"node1\" class=\"node\"><title>2196995309968</title>\n",
       "<polygon fill=\"none\" stroke=\"black\" points=\"2,-511.5 2,-547.5 138,-547.5 138,-511.5 2,-511.5\"/>\n",
       "<text text-anchor=\"middle\" x=\"31.5\" y=\"-525.8\" font-family=\"Times New Roman,serif\" font-size=\"14.00\">input_2</text>\n",
       "<polyline fill=\"none\" stroke=\"black\" points=\"61,-511.5 61,-547.5 \"/>\n",
       "<text text-anchor=\"middle\" x=\"99.5\" y=\"-525.8\" font-family=\"Times New Roman,serif\" font-size=\"14.00\">InputLayer</text>\n",
       "</g>\n",
       "<!-- 2196995927104 -->\n",
       "<g id=\"node2\" class=\"node\"><title>2196995927104</title>\n",
       "<polygon fill=\"none\" stroke=\"black\" points=\"13,-438.5 13,-474.5 127,-474.5 127,-438.5 13,-438.5\"/>\n",
       "<text text-anchor=\"middle\" x=\"44.5\" y=\"-452.8\" font-family=\"Times New Roman,serif\" font-size=\"14.00\">dense_4</text>\n",
       "<polyline fill=\"none\" stroke=\"black\" points=\"76,-438.5 76,-474.5 \"/>\n",
       "<text text-anchor=\"middle\" x=\"101.5\" y=\"-452.8\" font-family=\"Times New Roman,serif\" font-size=\"14.00\">Dense</text>\n",
       "</g>\n",
       "<!-- 2196995309968&#45;&gt;2196995927104 -->\n",
       "<g id=\"edge1\" class=\"edge\"><title>2196995309968-&gt;2196995927104</title>\n",
       "<path fill=\"none\" stroke=\"black\" d=\"M70,-511.313C70,-503.289 70,-493.547 70,-484.569\"/>\n",
       "<polygon fill=\"black\" stroke=\"black\" points=\"73.5001,-484.529 70,-474.529 66.5001,-484.529 73.5001,-484.529\"/>\n",
       "</g>\n",
       "<!-- 2196995312032 -->\n",
       "<g id=\"node3\" class=\"node\"><title>2196995312032</title>\n",
       "<polygon fill=\"none\" stroke=\"black\" points=\"7,-365.5 7,-401.5 133,-401.5 133,-365.5 7,-365.5\"/>\n",
       "<text text-anchor=\"middle\" x=\"38\" y=\"-379.8\" font-family=\"Times New Roman,serif\" font-size=\"14.00\">dropout</text>\n",
       "<polyline fill=\"none\" stroke=\"black\" points=\"69,-365.5 69,-401.5 \"/>\n",
       "<text text-anchor=\"middle\" x=\"101\" y=\"-379.8\" font-family=\"Times New Roman,serif\" font-size=\"14.00\">Dropout</text>\n",
       "</g>\n",
       "<!-- 2196995927104&#45;&gt;2196995312032 -->\n",
       "<g id=\"edge2\" class=\"edge\"><title>2196995927104-&gt;2196995312032</title>\n",
       "<path fill=\"none\" stroke=\"black\" d=\"M70,-438.313C70,-430.289 70,-420.547 70,-411.569\"/>\n",
       "<polygon fill=\"black\" stroke=\"black\" points=\"73.5001,-411.529 70,-401.529 66.5001,-411.529 73.5001,-411.529\"/>\n",
       "</g>\n",
       "<!-- 2196999051056 -->\n",
       "<g id=\"node4\" class=\"node\"><title>2196999051056</title>\n",
       "<polygon fill=\"none\" stroke=\"black\" points=\"13,-292.5 13,-328.5 127,-328.5 127,-292.5 13,-292.5\"/>\n",
       "<text text-anchor=\"middle\" x=\"44.5\" y=\"-306.8\" font-family=\"Times New Roman,serif\" font-size=\"14.00\">dense_5</text>\n",
       "<polyline fill=\"none\" stroke=\"black\" points=\"76,-292.5 76,-328.5 \"/>\n",
       "<text text-anchor=\"middle\" x=\"101.5\" y=\"-306.8\" font-family=\"Times New Roman,serif\" font-size=\"14.00\">Dense</text>\n",
       "</g>\n",
       "<!-- 2196995312032&#45;&gt;2196999051056 -->\n",
       "<g id=\"edge3\" class=\"edge\"><title>2196995312032-&gt;2196999051056</title>\n",
       "<path fill=\"none\" stroke=\"black\" d=\"M70,-365.313C70,-357.289 70,-347.547 70,-338.569\"/>\n",
       "<polygon fill=\"black\" stroke=\"black\" points=\"73.5001,-338.529 70,-328.529 66.5001,-338.529 73.5001,-338.529\"/>\n",
       "</g>\n",
       "<!-- 2196999049520 -->\n",
       "<g id=\"node5\" class=\"node\"><title>2196999049520</title>\n",
       "<polygon fill=\"none\" stroke=\"black\" points=\"0,-219.5 0,-255.5 140,-255.5 140,-219.5 0,-219.5\"/>\n",
       "<text text-anchor=\"middle\" x=\"38\" y=\"-233.8\" font-family=\"Times New Roman,serif\" font-size=\"14.00\">dropout_1</text>\n",
       "<polyline fill=\"none\" stroke=\"black\" points=\"76,-219.5 76,-255.5 \"/>\n",
       "<text text-anchor=\"middle\" x=\"108\" y=\"-233.8\" font-family=\"Times New Roman,serif\" font-size=\"14.00\">Dropout</text>\n",
       "</g>\n",
       "<!-- 2196999051056&#45;&gt;2196999049520 -->\n",
       "<g id=\"edge4\" class=\"edge\"><title>2196999051056-&gt;2196999049520</title>\n",
       "<path fill=\"none\" stroke=\"black\" d=\"M70,-292.313C70,-284.289 70,-274.547 70,-265.569\"/>\n",
       "<polygon fill=\"black\" stroke=\"black\" points=\"73.5001,-265.529 70,-255.529 66.5001,-265.529 73.5001,-265.529\"/>\n",
       "</g>\n",
       "<!-- 2196999052496 -->\n",
       "<g id=\"node6\" class=\"node\"><title>2196999052496</title>\n",
       "<polygon fill=\"none\" stroke=\"black\" points=\"13,-146.5 13,-182.5 127,-182.5 127,-146.5 13,-146.5\"/>\n",
       "<text text-anchor=\"middle\" x=\"44.5\" y=\"-160.8\" font-family=\"Times New Roman,serif\" font-size=\"14.00\">dense_6</text>\n",
       "<polyline fill=\"none\" stroke=\"black\" points=\"76,-146.5 76,-182.5 \"/>\n",
       "<text text-anchor=\"middle\" x=\"101.5\" y=\"-160.8\" font-family=\"Times New Roman,serif\" font-size=\"14.00\">Dense</text>\n",
       "</g>\n",
       "<!-- 2196999049520&#45;&gt;2196999052496 -->\n",
       "<g id=\"edge5\" class=\"edge\"><title>2196999049520-&gt;2196999052496</title>\n",
       "<path fill=\"none\" stroke=\"black\" d=\"M70,-219.313C70,-211.289 70,-201.547 70,-192.569\"/>\n",
       "<polygon fill=\"black\" stroke=\"black\" points=\"73.5001,-192.529 70,-182.529 66.5001,-192.529 73.5001,-192.529\"/>\n",
       "</g>\n",
       "<!-- 2196954598224 -->\n",
       "<g id=\"node7\" class=\"node\"><title>2196954598224</title>\n",
       "<polygon fill=\"none\" stroke=\"black\" points=\"0,-73.5 0,-109.5 140,-109.5 140,-73.5 0,-73.5\"/>\n",
       "<text text-anchor=\"middle\" x=\"38\" y=\"-87.8\" font-family=\"Times New Roman,serif\" font-size=\"14.00\">dropout_2</text>\n",
       "<polyline fill=\"none\" stroke=\"black\" points=\"76,-73.5 76,-109.5 \"/>\n",
       "<text text-anchor=\"middle\" x=\"108\" y=\"-87.8\" font-family=\"Times New Roman,serif\" font-size=\"14.00\">Dropout</text>\n",
       "</g>\n",
       "<!-- 2196999052496&#45;&gt;2196954598224 -->\n",
       "<g id=\"edge6\" class=\"edge\"><title>2196999052496-&gt;2196954598224</title>\n",
       "<path fill=\"none\" stroke=\"black\" d=\"M70,-146.313C70,-138.289 70,-128.547 70,-119.569\"/>\n",
       "<polygon fill=\"black\" stroke=\"black\" points=\"73.5001,-119.529 70,-109.529 66.5001,-119.529 73.5001,-119.529\"/>\n",
       "</g>\n",
       "<!-- 2196993311456 -->\n",
       "<g id=\"node8\" class=\"node\"><title>2196993311456</title>\n",
       "<polygon fill=\"none\" stroke=\"black\" points=\"13,-0.5 13,-36.5 127,-36.5 127,-0.5 13,-0.5\"/>\n",
       "<text text-anchor=\"middle\" x=\"44.5\" y=\"-14.8\" font-family=\"Times New Roman,serif\" font-size=\"14.00\">dense_7</text>\n",
       "<polyline fill=\"none\" stroke=\"black\" points=\"76,-0.5 76,-36.5 \"/>\n",
       "<text text-anchor=\"middle\" x=\"101.5\" y=\"-14.8\" font-family=\"Times New Roman,serif\" font-size=\"14.00\">Dense</text>\n",
       "</g>\n",
       "<!-- 2196954598224&#45;&gt;2196993311456 -->\n",
       "<g id=\"edge7\" class=\"edge\"><title>2196954598224-&gt;2196993311456</title>\n",
       "<path fill=\"none\" stroke=\"black\" d=\"M70,-73.3129C70,-65.2895 70,-55.5475 70,-46.5691\"/>\n",
       "<polygon fill=\"black\" stroke=\"black\" points=\"73.5001,-46.5288 70,-36.5288 66.5001,-46.5289 73.5001,-46.5288\"/>\n",
       "</g>\n",
       "</g>\n",
       "</svg>"
      ],
      "text/plain": [
       "<IPython.core.display.SVG object>"
      ]
     },
     "metadata": {},
     "output_type": "display_data"
    }
   ],
   "source": [
    "display(SVG(model_to_dot(ann2, dpi=65).create(prog='dot', format='svg')))"
   ]
  },
  {
   "cell_type": "markdown",
   "id": "e3383368",
   "metadata": {},
   "source": [
    "### Treniranje mreže"
   ]
  },
  {
   "cell_type": "code",
   "execution_count": 45,
   "id": "9fe24b99",
   "metadata": {},
   "outputs": [],
   "source": [
    "ann2.compile(loss='binary_crossentropy', \n",
    "             optimizer=Adam(learning_rate=0.001), \n",
    "             metrics=['accuracy'])"
   ]
  },
  {
   "cell_type": "code",
   "execution_count": 46,
   "id": "d28c5ddf",
   "metadata": {},
   "outputs": [
    {
     "name": "stdout",
     "output_type": "stream",
     "text": [
      "Epoch 1/50\n",
      "154/154 [==============================] - 134s 867ms/step - loss: 3.9816 - accuracy: 0.6086 - val_loss: 2.8283 - val_accuracy: 0.7203\n",
      "Epoch 2/50\n",
      "154/154 [==============================] - 24s 157ms/step - loss: 2.4972 - accuracy: 0.6628 - val_loss: 2.0819 - val_accuracy: 0.7142\n",
      "Epoch 3/50\n",
      "154/154 [==============================] - 24s 156ms/step - loss: 1.8082 - accuracy: 0.7081 - val_loss: 1.5432 - val_accuracy: 0.7244\n",
      "Epoch 4/50\n",
      "154/154 [==============================] - 24s 158ms/step - loss: 1.3792 - accuracy: 0.7199 - val_loss: 1.2199 - val_accuracy: 0.7218\n",
      "Epoch 5/50\n",
      "154/154 [==============================] - 24s 156ms/step - loss: 1.1105 - accuracy: 0.7308 - val_loss: 1.0092 - val_accuracy: 0.7424\n",
      "Epoch 6/50\n",
      "154/154 [==============================] - 24s 156ms/step - loss: 0.9422 - accuracy: 0.7390 - val_loss: 0.8944 - val_accuracy: 0.7353\n",
      "Epoch 7/50\n",
      "154/154 [==============================] - 24s 156ms/step - loss: 0.8375 - accuracy: 0.7453 - val_loss: 0.8094 - val_accuracy: 0.7510\n",
      "Epoch 8/50\n",
      "154/154 [==============================] - 24s 156ms/step - loss: 0.7859 - accuracy: 0.7407 - val_loss: 0.7704 - val_accuracy: 0.7284\n",
      "Epoch 9/50\n",
      "154/154 [==============================] - 24s 156ms/step - loss: 0.7227 - accuracy: 0.7510 - val_loss: 0.7191 - val_accuracy: 0.7417\n",
      "Epoch 10/50\n",
      "154/154 [==============================] - 24s 156ms/step - loss: 0.7041 - accuracy: 0.7452 - val_loss: 0.7027 - val_accuracy: 0.7392\n",
      "Epoch 11/50\n",
      "154/154 [==============================] - 24s 156ms/step - loss: 0.6811 - accuracy: 0.7538 - val_loss: 0.6845 - val_accuracy: 0.7444\n",
      "Epoch 12/50\n",
      "154/154 [==============================] - 24s 156ms/step - loss: 0.6671 - accuracy: 0.7557 - val_loss: 0.7044 - val_accuracy: 0.7267\n",
      "Epoch 13/50\n",
      "154/154 [==============================] - 24s 159ms/step - loss: 0.6703 - accuracy: 0.7518 - val_loss: 0.6632 - val_accuracy: 0.7548\n",
      "Epoch 14/50\n",
      "154/154 [==============================] - 24s 157ms/step - loss: 0.6648 - accuracy: 0.7479 - val_loss: 0.6692 - val_accuracy: 0.7208\n",
      "Epoch 15/50\n",
      "154/154 [==============================] - 24s 157ms/step - loss: 0.6476 - accuracy: 0.7558 - val_loss: 0.6494 - val_accuracy: 0.7495\n",
      "Epoch 16/50\n",
      "154/154 [==============================] - 24s 159ms/step - loss: 0.6678 - accuracy: 0.7491 - val_loss: 0.6591 - val_accuracy: 0.7428\n",
      "Epoch 17/50\n",
      "154/154 [==============================] - 24s 159ms/step - loss: 0.6546 - accuracy: 0.7481 - val_loss: 0.6407 - val_accuracy: 0.7449\n",
      "Epoch 18/50\n",
      "154/154 [==============================] - 24s 157ms/step - loss: 0.6457 - accuracy: 0.7455 - val_loss: 0.6446 - val_accuracy: 0.7370\n",
      "Epoch 19/50\n",
      "154/154 [==============================] - 24s 158ms/step - loss: 0.6475 - accuracy: 0.7440 - val_loss: 0.6705 - val_accuracy: 0.7284\n",
      "Epoch 20/50\n",
      "154/154 [==============================] - 24s 158ms/step - loss: 0.6535 - accuracy: 0.7445 - val_loss: 0.6740 - val_accuracy: 0.7382\n",
      "Epoch 21/50\n",
      "154/154 [==============================] - 24s 158ms/step - loss: 0.6504 - accuracy: 0.7486 - val_loss: 0.6736 - val_accuracy: 0.7090\n",
      "Epoch 22/50\n",
      "154/154 [==============================] - 24s 157ms/step - loss: 0.6592 - accuracy: 0.7434 - val_loss: 0.6604 - val_accuracy: 0.7377\n",
      "Epoch 23/50\n",
      "154/154 [==============================] - 24s 158ms/step - loss: 0.6571 - accuracy: 0.7440 - val_loss: 0.6636 - val_accuracy: 0.7142\n",
      "Epoch 24/50\n",
      "154/154 [==============================] - 25s 159ms/step - loss: 0.6475 - accuracy: 0.7481 - val_loss: 0.6305 - val_accuracy: 0.7504\n",
      "Epoch 25/50\n",
      "154/154 [==============================] - 26s 171ms/step - loss: 0.6494 - accuracy: 0.7430 - val_loss: 0.6823 - val_accuracy: 0.7161\n",
      "Epoch 26/50\n",
      "154/154 [==============================] - 24s 159ms/step - loss: 0.6535 - accuracy: 0.7477 - val_loss: 0.6463 - val_accuracy: 0.7466\n",
      "Epoch 27/50\n",
      "154/154 [==============================] - 24s 158ms/step - loss: 0.6554 - accuracy: 0.7445 - val_loss: 0.6728 - val_accuracy: 0.7377\n",
      "Epoch 28/50\n",
      "154/154 [==============================] - 24s 158ms/step - loss: 0.6533 - accuracy: 0.7462 - val_loss: 0.6543 - val_accuracy: 0.7444\n",
      "Epoch 29/50\n",
      "154/154 [==============================] - 24s 158ms/step - loss: 0.6641 - accuracy: 0.7433 - val_loss: 0.6704 - val_accuracy: 0.7548\n",
      "Epoch 30/50\n",
      "154/154 [==============================] - 24s 158ms/step - loss: 0.6599 - accuracy: 0.7426 - val_loss: 0.6759 - val_accuracy: 0.7392\n",
      "Epoch 31/50\n",
      "154/154 [==============================] - 24s 157ms/step - loss: 0.6564 - accuracy: 0.7435 - val_loss: 0.6571 - val_accuracy: 0.7376\n",
      "Epoch 32/50\n",
      "154/154 [==============================] - 24s 157ms/step - loss: 0.6525 - accuracy: 0.7447 - val_loss: 0.6643 - val_accuracy: 0.7368\n",
      "Epoch 33/50\n",
      "154/154 [==============================] - 24s 157ms/step - loss: 0.6645 - accuracy: 0.7512 - val_loss: 0.6638 - val_accuracy: 0.7519\n",
      "Epoch 34/50\n",
      "154/154 [==============================] - 24s 158ms/step - loss: 0.6515 - accuracy: 0.7446 - val_loss: 0.6533 - val_accuracy: 0.7479\n",
      "Epoch 35/50\n",
      "154/154 [==============================] - 24s 158ms/step - loss: 0.6660 - accuracy: 0.7506 - val_loss: 0.7069 - val_accuracy: 0.6985\n",
      "Epoch 36/50\n",
      "154/154 [==============================] - 24s 159ms/step - loss: 0.6575 - accuracy: 0.7505 - val_loss: 0.6647 - val_accuracy: 0.7472\n",
      "Epoch 37/50\n",
      "154/154 [==============================] - 25s 159ms/step - loss: 0.6646 - accuracy: 0.7460 - val_loss: 0.6766 - val_accuracy: 0.7315\n",
      "Epoch 38/50\n",
      "154/154 [==============================] - 24s 158ms/step - loss: 0.6740 - accuracy: 0.7523 - val_loss: 0.6568 - val_accuracy: 0.7374\n",
      "Epoch 39/50\n",
      "154/154 [==============================] - 24s 158ms/step - loss: 0.6632 - accuracy: 0.7518 - val_loss: 0.6584 - val_accuracy: 0.7499\n",
      "Epoch 40/50\n",
      "154/154 [==============================] - 24s 157ms/step - loss: 0.6615 - accuracy: 0.7524 - val_loss: 0.6876 - val_accuracy: 0.7351\n",
      "Epoch 41/50\n",
      "154/154 [==============================] - 24s 158ms/step - loss: 0.6733 - accuracy: 0.7520 - val_loss: 0.7105 - val_accuracy: 0.7208\n",
      "Epoch 42/50\n",
      "154/154 [==============================] - 24s 157ms/step - loss: 0.6744 - accuracy: 0.7502 - val_loss: 0.6981 - val_accuracy: 0.7453\n",
      "Epoch 43/50\n",
      "154/154 [==============================] - 24s 157ms/step - loss: 0.6712 - accuracy: 0.7557 - val_loss: 0.7252 - val_accuracy: 0.7324\n",
      "Epoch 44/50\n",
      "154/154 [==============================] - 26s 166ms/step - loss: 0.6819 - accuracy: 0.7509 - val_loss: 0.6911 - val_accuracy: 0.7482\n",
      "Epoch 45/50\n",
      "154/154 [==============================] - 25s 159ms/step - loss: 0.6870 - accuracy: 0.7521 - val_loss: 0.6833 - val_accuracy: 0.7417\n",
      "Epoch 46/50\n",
      "154/154 [==============================] - 24s 158ms/step - loss: 0.6711 - accuracy: 0.7583 - val_loss: 0.6827 - val_accuracy: 0.7467\n",
      "Epoch 47/50\n",
      "154/154 [==============================] - 24s 158ms/step - loss: 0.6652 - accuracy: 0.7565 - val_loss: 0.7073 - val_accuracy: 0.7226\n",
      "Epoch 48/50\n",
      "154/154 [==============================] - 24s 158ms/step - loss: 0.6690 - accuracy: 0.7610 - val_loss: 0.6794 - val_accuracy: 0.7521\n",
      "Epoch 49/50\n",
      "154/154 [==============================] - 24s 158ms/step - loss: 0.6706 - accuracy: 0.7604 - val_loss: 0.6993 - val_accuracy: 0.7408\n",
      "Epoch 50/50\n",
      "154/154 [==============================] - 24s 158ms/step - loss: 0.6895 - accuracy: 0.7606 - val_loss: 0.7002 - val_accuracy: 0.7417\n"
     ]
    }
   ],
   "source": [
    "history2 = ann2.fit(X_train,\n",
    "                    y_train,\n",
    "                    epochs=50,\n",
    "                    batch_size=128,\n",
    "                    validation_data=(X_validation, y_validation))"
   ]
  },
  {
   "cell_type": "markdown",
   "id": "beb7e8b5",
   "metadata": {},
   "source": [
    "### Ocena neuronske mreže nakon regularizacije"
   ]
  },
  {
   "cell_type": "code",
   "execution_count": 47,
   "id": "49f1258e",
   "metadata": {},
   "outputs": [
    {
     "data": {
      "image/png": "[encoded data removed]",
      "text/plain": [
       "<Figure size 1008x864 with 2 Axes>"
      ]
     },
     "metadata": {
      "needs_background": "light"
     },
     "output_type": "display_data"
    }
   ],
   "source": [
    "plt.figure(figsize=(14,12))\n",
    "\n",
    "plt.subplot(2, 1, 1)\n",
    "\n",
    "plt.plot(np.arange(1, 51), history2.history['loss'], label='Training')\n",
    "plt.plot(np.arange(1, 51), history2.history['val_loss'], label='Validation')\n",
    "plt.title('Loss', size=20)\n",
    "plt.xlabel('Epoch', size=14)\n",
    "plt.xticks(np.arange(0,51,5))\n",
    "plt.grid()\n",
    "plt.legend()\n",
    "\n",
    "\n",
    "plt.subplot(2, 1, 2)\n",
    "\n",
    "plt.plot(np.arange(1, 51), history2.history['accuracy'], label='Training')\n",
    "plt.plot(np.arange(1, 51), history2.history['val_accuracy'], label='Validation')\n",
    "plt.title('Accuracy', size=20)\n",
    "plt.xlabel('Epoch', size=14)\n",
    "plt.xticks(np.arange(0,51,5))\n",
    "plt.grid()\n",
    "plt.legend()\n",
    "\n",
    "plt.savefig('assets/pictures/2.DM_1_ANN_Loss_Acc_second_try.jpg')\n",
    "\n",
    "plt.show()"
   ]
  },
  {
   "cell_type": "markdown",
   "id": "618a0334",
   "metadata": {},
   "source": [
    "### Evaluacija nakon regularizacije"
   ]
  },
  {
   "cell_type": "code",
   "execution_count": 48,
   "id": "0b6f13ae",
   "metadata": {},
   "outputs": [
    {
     "name": "stdout",
     "output_type": "stream",
     "text": [
      "Evaluacija nad trening podacima:\n",
      "\n",
      "154/154 [==============================] - 8s 53ms/step - loss: 0.6278 - accuracy: 0.7900\n",
      "loss: 0.6277978420257568\n",
      "accuracy: 0.7900305390357971\n"
     ]
    }
   ],
   "source": [
    "print('Evaluacija nad trening podacima:\\n')\n",
    "\n",
    "train_scores2 = ann2.evaluate(X_train, y_train, batch_size=128)\n",
    "print('{0}: {1}'.format(loss, train_scores2[0]))\n",
    "print('{0}: {1}'.format(acc, train_scores2[1]))"
   ]
  },
  {
   "cell_type": "code",
   "execution_count": 49,
   "id": "a92215cc",
   "metadata": {},
   "outputs": [
    {
     "name": "stdout",
     "output_type": "stream",
     "text": [
      "Evaluacija nad test podacima:\n",
      "\n",
      "52/52 [==============================] - 3s 50ms/step - loss: 0.6935 - accuracy: 0.7409\n",
      "Test skup loss: 0.6935436129570007\n",
      "Test skup accuracy: 0.7409215569496155\n"
     ]
    }
   ],
   "source": [
    "print('Evaluacija nad test podacima:\\n')\n",
    "\n",
    "test_scores2 = ann2.evaluate(X_test, y_test, batch_size=128)\n",
    "print('Test skup {0}: {1}'.format(loss, test_scores2[0]))\n",
    "print('Test skup {0}: {1}'.format(acc, test_scores2[1]))"
   ]
  },
  {
   "cell_type": "markdown",
   "id": "2de9313c",
   "metadata": {},
   "source": [
    "### Čuvanje modela neuronske mreže"
   ]
  },
  {
   "cell_type": "code",
   "execution_count": 50,
   "id": "77883dd4",
   "metadata": {},
   "outputs": [
    {
     "name": "stdout",
     "output_type": "stream",
     "text": [
      "INFO:tensorflow:Assets written to: ram://f7e9ec2d-f4a1-4eb9-a89b-ba8395523a70/assets\n"
     ]
    }
   ],
   "source": [
    "with open('models/deep_models/DC_1_ANN_second_classifier.model.pickle', 'wb') as model_file:\n",
    "    pickle.dump(ann2, model_file)"
   ]
  },
  {
   "cell_type": "markdown",
   "id": "9d48a427",
   "metadata": {},
   "source": [
    "# 2.1. Konvolutivna neuronska mreža"
   ]
  },
  {
   "cell_type": "code",
   "execution_count": 51,
   "id": "4408064d",
   "metadata": {},
   "outputs": [],
   "source": [
    "X_train = X_train_copy.reshape((X_train_copy.shape[0], nx, ny, nrgb))\n",
    "X_validation = X_validation_copy.reshape((X_validation_copy.shape[0], nx, ny, nrgb))\n",
    "X_test = X_test_copy.reshape((X_test_copy.shape[0], nx, ny, nrgb))"
   ]
  },
  {
   "cell_type": "code",
   "execution_count": 52,
   "id": "527ce484",
   "metadata": {},
   "outputs": [
    {
     "name": "stdout",
     "output_type": "stream",
     "text": [
      "X_train shape =  (19660, 96, 96, 3)\n",
      "y_train shape = (19660,) \n",
      "\n",
      "X_validation shape =  (6554, 96, 96, 3)\n",
      "y_validation shape = (6554,) \n",
      "\n",
      "X_test shape =  (6554, 96, 96, 3)\n",
      "y_test shape =  (6554,)\n"
     ]
    }
   ],
   "source": [
    "print(\"X_train shape = \",X_train.shape)\n",
    "print(\"y_train shape = {} \\n\".format(y_train.shape))\n",
    "\n",
    "print(\"X_validation shape = \",X_validation.shape)\n",
    "print(\"y_validation shape = {} \\n\".format(y_validation.shape))\n",
    "\n",
    "print(\"X_test shape = \",X_test.shape)\n",
    "print(\"y_test shape = \",y_test.shape)"
   ]
  },
  {
   "cell_type": "markdown",
   "id": "892a25db",
   "metadata": {},
   "source": [
    "### Brisanje suvišnih podataka iz memorije "
   ]
  },
  {
   "cell_type": "code",
   "execution_count": 53,
   "id": "9aed63e2",
   "metadata": {},
   "outputs": [],
   "source": [
    "del X_train_copy, X_validation_copy, X_test_copy"
   ]
  },
  {
   "cell_type": "markdown",
   "id": "3a90d9a7",
   "metadata": {},
   "source": [
    "### Normalizacija"
   ]
  },
  {
   "cell_type": "code",
   "execution_count": 54,
   "id": "b0e5718e",
   "metadata": {},
   "outputs": [],
   "source": [
    "X_train = X_train / 255\n",
    "X_validation = X_validation / 255\n",
    "X_test = X_test / 255"
   ]
  },
  {
   "cell_type": "code",
   "execution_count": 55,
   "id": "ada69191",
   "metadata": {},
   "outputs": [
    {
     "name": "stdout",
     "output_type": "stream",
     "text": [
      "[[[[0.99607843 0.91372549 0.93333333]\n",
      "   [0.96470588 0.90588235 0.91764706]\n",
      "   [0.91372549 0.87058824 0.88627451]\n",
      "   ...\n",
      "   [0.21568627 0.0627451  0.23529412]\n",
      "   [0.21176471 0.09019608 0.25098039]\n",
      "   [0.20392157 0.10588235 0.25882353]]\n",
      "\n",
      "  [[1.         0.91372549 0.94509804]\n",
      "   [0.96862745 0.89411765 0.91764706]\n",
      "   [1.         0.98039216 1.        ]\n",
      "   ...\n",
      "   [0.33333333 0.17254902 0.3372549 ]\n",
      "   [0.25098039 0.1254902  0.27058824]\n",
      "   [0.2        0.09803922 0.23529412]]\n",
      "\n",
      "  [[0.74901961 0.64705882 0.69803922]\n",
      "   [0.9254902  0.83137255 0.88235294]\n",
      "   [0.91372549 0.83137255 0.86666667]\n",
      "   ...\n",
      "   [0.29803922 0.13333333 0.2745098 ]\n",
      "   [0.23921569 0.10196078 0.22745098]\n",
      "   [0.22745098 0.10980392 0.21960784]]\n",
      "\n",
      "  ...\n",
      "\n",
      "  [[0.81176471 0.63921569 0.72941176]\n",
      "   [0.79215686 0.62745098 0.72156863]\n",
      "   [0.89803922 0.76078431 0.85490196]\n",
      "   ...\n",
      "   [0.8        0.63921569 0.75686275]\n",
      "   [0.40392157 0.23921569 0.38823529]\n",
      "   [0.31372549 0.14509804 0.31372549]]\n",
      "\n",
      "  [[0.96470588 0.80392157 0.86666667]\n",
      "   [0.77647059 0.61176471 0.70588235]\n",
      "   [0.71764706 0.55686275 0.69019608]\n",
      "   ...\n",
      "   [0.95294118 0.81568627 0.89411765]\n",
      "   [0.98431373 0.83529412 0.91764706]\n",
      "   [0.80392157 0.65490196 0.74509804]]\n",
      "\n",
      "  [[0.91764706 0.76862745 0.81176471]\n",
      "   [1.         0.9254902  1.        ]\n",
      "   [0.38823529 0.22352941 0.38039216]\n",
      "   ...\n",
      "   [0.65098039 0.5254902  0.57647059]\n",
      "   [0.94901961 0.82352941 0.86666667]\n",
      "   [0.59215686 0.47058824 0.50196078]]]\n",
      "\n",
      "\n",
      " [[[0.69803922 0.50980392 0.74509804]\n",
      "   [0.68235294 0.48627451 0.73333333]\n",
      "   [0.67058824 0.4627451  0.7372549 ]\n",
      "   ...\n",
      "   [0.56862745 0.17254902 0.54901961]\n",
      "   [0.83137255 0.39215686 0.79215686]\n",
      "   [0.8        0.30588235 0.7372549 ]]\n",
      "\n",
      "  [[0.72941176 0.54509804 0.76078431]\n",
      "   [0.69411765 0.49019608 0.74117647]\n",
      "   [0.64313725 0.41960784 0.69803922]\n",
      "   ...\n",
      "   [0.60784314 0.21176471 0.58823529]\n",
      "   [0.6745098  0.23529412 0.63529412]\n",
      "   [0.95686275 0.45490196 0.89019608]]\n",
      "\n",
      "  [[0.78823529 0.61960784 0.82745098]\n",
      "   [0.74901961 0.56078431 0.79607843]\n",
      "   [0.60784314 0.38823529 0.68235294]\n",
      "   ...\n",
      "   [0.64313725 0.25490196 0.61960784]\n",
      "   [0.6627451  0.21176471 0.61568627]\n",
      "   [0.84705882 0.3254902  0.77647059]]\n",
      "\n",
      "  ...\n",
      "\n",
      "  [[0.11764706 0.02745098 0.34901961]\n",
      "   [0.16862745 0.05882353 0.38823529]\n",
      "   [0.1254902  0.         0.32941176]\n",
      "   ...\n",
      "   [0.6745098  0.31372549 0.70196078]\n",
      "   [0.68235294 0.31372549 0.69411765]\n",
      "   [0.64313725 0.25882353 0.64705882]]\n",
      "\n",
      "  [[0.2        0.09019608 0.43137255]\n",
      "   [0.26666667 0.14901961 0.48627451]\n",
      "   [0.16862745 0.03529412 0.37647059]\n",
      "   ...\n",
      "   [0.69803922 0.3254902  0.71764706]\n",
      "   [0.71764706 0.33333333 0.72156863]\n",
      "   [0.69019608 0.29019608 0.67843137]]\n",
      "\n",
      "  [[0.16862745 0.05098039 0.40392157]\n",
      "   [0.18431373 0.06666667 0.41176471]\n",
      "   [0.25490196 0.1254902  0.4745098 ]\n",
      "   ...\n",
      "   [0.69019608 0.32156863 0.70196078]\n",
      "   [0.74509804 0.35294118 0.7372549 ]\n",
      "   [0.68235294 0.2745098  0.6627451 ]]]\n",
      "\n",
      "\n",
      " [[[0.23529412 0.09019608 0.49411765]\n",
      "   [0.16862745 0.08627451 0.45098039]\n",
      "   [0.29019608 0.2        0.54509804]\n",
      "   ...\n",
      "   [0.65882353 0.4745098  0.67843137]\n",
      "   [1.         0.89803922 1.        ]\n",
      "   [0.89019608 0.79607843 0.84705882]]\n",
      "\n",
      "  [[0.2745098  0.10196078 0.48627451]\n",
      "   [0.23921569 0.1254902  0.47843137]\n",
      "   [0.20784314 0.10980392 0.43921569]\n",
      "   ...\n",
      "   [0.44705882 0.24313725 0.48627451]\n",
      "   [0.88235294 0.71764706 0.8745098 ]\n",
      "   [0.97254902 0.83921569 0.9372549 ]]\n",
      "\n",
      "  [[0.45098039 0.25490196 0.60392157]\n",
      "   [0.48627451 0.34901961 0.67058824]\n",
      "   [0.42745098 0.30588235 0.60392157]\n",
      "   ...\n",
      "   [0.54117647 0.29803922 0.6       ]\n",
      "   [0.62352941 0.40392157 0.64313725]\n",
      "   [0.83529412 0.63921569 0.83137255]]\n",
      "\n",
      "  ...\n",
      "\n",
      "  [[0.22352941 0.09411765 0.43529412]\n",
      "   [0.30196078 0.17647059 0.50980392]\n",
      "   [0.41960784 0.24705882 0.58823529]\n",
      "   ...\n",
      "   [0.29411765 0.14117647 0.45882353]\n",
      "   [0.23529412 0.         0.35294118]\n",
      "   [0.70588235 0.4        0.79607843]]\n",
      "\n",
      "  [[0.36862745 0.11764706 0.49411765]\n",
      "   [0.50196078 0.29411765 0.64705882]\n",
      "   [0.70196078 0.51372549 0.85098039]\n",
      "   ...\n",
      "   [0.31764706 0.16470588 0.4745098 ]\n",
      "   [0.27058824 0.03921569 0.39215686]\n",
      "   [0.63137255 0.34901961 0.7372549 ]]\n",
      "\n",
      "  [[0.54117647 0.18823529 0.58039216]\n",
      "   [0.44313725 0.16470588 0.53333333]\n",
      "   [0.43921569 0.22745098 0.56470588]\n",
      "   ...\n",
      "   [0.18823529 0.03529412 0.34509804]\n",
      "   [0.39607843 0.18431373 0.52941176]\n",
      "   [0.65490196 0.40392157 0.78039216]]]\n",
      "\n",
      "\n",
      " ...\n",
      "\n",
      "\n",
      " [[[0.84313725 0.82352941 0.85098039]\n",
      "   [0.89411765 0.8745098  0.89803922]\n",
      "   [0.87058824 0.8627451  0.8745098 ]\n",
      "   ...\n",
      "   [0.58431373 0.31372549 0.56862745]\n",
      "   [0.84313725 0.54117647 0.82352941]\n",
      "   [0.70980392 0.38431373 0.69019608]]\n",
      "\n",
      "  [[0.87058824 0.82745098 0.88235294]\n",
      "   [0.90196078 0.8627451  0.90588235]\n",
      "   [0.89803922 0.87058824 0.90196078]\n",
      "   ...\n",
      "   [0.69019608 0.40784314 0.69803922]\n",
      "   [0.67058824 0.40392157 0.70588235]\n",
      "   [0.62745098 0.36470588 0.6745098 ]]\n",
      "\n",
      "  [[0.92156863 0.84313725 0.94901961]\n",
      "   [0.92156863 0.84313725 0.94117647]\n",
      "   [0.9254902  0.85098039 0.92941176]\n",
      "   ...\n",
      "   [0.77254902 0.49019608 0.81960784]\n",
      "   [0.57254902 0.35686275 0.68235294]\n",
      "   [0.46666667 0.29019608 0.61568627]]\n",
      "\n",
      "  ...\n",
      "\n",
      "  [[0.89019608 0.84705882 0.8627451 ]\n",
      "   [0.74509804 0.7254902  0.74117647]\n",
      "   [0.78431373 0.77254902 0.81568627]\n",
      "   ...\n",
      "   [0.76470588 0.40392157 0.70588235]\n",
      "   [0.82352941 0.50588235 0.77647059]\n",
      "   [1.         0.76862745 1.        ]]\n",
      "\n",
      "  [[0.89019608 0.84705882 0.87843137]\n",
      "   [0.89411765 0.87058824 0.90980392]\n",
      "   [0.78039216 0.76470588 0.83137255]\n",
      "   ...\n",
      "   [0.70196078 0.34509804 0.65490196]\n",
      "   [0.67843137 0.37254902 0.66666667]\n",
      "   [1.         0.76862745 1.        ]]\n",
      "\n",
      "  [[0.81568627 0.76862745 0.82352941]\n",
      "   [0.86666667 0.83921569 0.90196078]\n",
      "   [0.81568627 0.79607843 0.88627451]\n",
      "   ...\n",
      "   [0.84313725 0.49803922 0.80392157]\n",
      "   [0.72941176 0.43137255 0.7254902 ]\n",
      "   [0.94901961 0.70196078 0.98039216]]]\n",
      "\n",
      "\n",
      " [[[0.96470588 0.63137255 0.8627451 ]\n",
      "   [0.83529412 0.65490196 0.83529412]\n",
      "   [0.80784314 0.75294118 0.88235294]\n",
      "   ...\n",
      "   [0.26666667 0.12941176 0.45098039]\n",
      "   [0.21568627 0.08235294 0.41176471]\n",
      "   [0.24705882 0.11372549 0.45098039]]\n",
      "\n",
      "  [[0.8        0.61568627 0.78823529]\n",
      "   [0.77647059 0.69019608 0.83137255]\n",
      "   [0.73333333 0.72156863 0.82745098]\n",
      "   ...\n",
      "   [0.2627451  0.11372549 0.44705882]\n",
      "   [0.27058824 0.12941176 0.47058824]\n",
      "   [0.23529412 0.09411765 0.43921569]]\n",
      "\n",
      "  [[0.96470588 0.89803922 1.        ]\n",
      "   [0.75686275 0.70196078 0.83137255]\n",
      "   [0.78823529 0.7372549  0.85490196]\n",
      "   ...\n",
      "   [0.23529412 0.06666667 0.41568627]\n",
      "   [0.30980392 0.14117647 0.49411765]\n",
      "   [0.23137255 0.0627451  0.42352941]]\n",
      "\n",
      "  ...\n",
      "\n",
      "  [[0.27058824 0.14901961 0.41568627]\n",
      "   [0.1254902  0.         0.29411765]\n",
      "   [0.24313725 0.08627451 0.43529412]\n",
      "   ...\n",
      "   [0.45882353 0.2        0.58039216]\n",
      "   [0.47058824 0.20392157 0.6       ]\n",
      "   [0.47843137 0.19215686 0.60392157]]\n",
      "\n",
      "  [[0.17254902 0.04705882 0.33333333]\n",
      "   [0.26666667 0.11372549 0.43921569]\n",
      "   [0.32941176 0.14509804 0.52156863]\n",
      "   ...\n",
      "   [0.48627451 0.21960784 0.61568627]\n",
      "   [0.48627451 0.21568627 0.63137255]\n",
      "   [0.4745098  0.19215686 0.62352941]]\n",
      "\n",
      "  [[0.17647059 0.03137255 0.33333333]\n",
      "   [0.3372549  0.15686275 0.50980392]\n",
      "   [0.36470588 0.1372549  0.54117647]\n",
      "   ...\n",
      "   [0.50980392 0.23921569 0.65490196]\n",
      "   [0.49411765 0.22352941 0.65098039]\n",
      "   [0.4745098  0.19215686 0.63137255]]]\n",
      "\n",
      "\n",
      " [[[0.30196078 0.13333333 0.25098039]\n",
      "   [0.34509804 0.16862745 0.29803922]\n",
      "   [0.31764706 0.12941176 0.27843137]\n",
      "   ...\n",
      "   [0.30980392 0.17647059 0.32156863]\n",
      "   [0.25882353 0.1254902  0.25490196]\n",
      "   [0.45490196 0.3254902  0.44705882]]\n",
      "\n",
      "  [[0.34509804 0.16862745 0.29019608]\n",
      "   [0.34117647 0.16470588 0.29411765]\n",
      "   [0.6        0.41176471 0.56078431]\n",
      "   ...\n",
      "   [0.30196078 0.16078431 0.30196078]\n",
      "   [0.34509804 0.20784314 0.3372549 ]\n",
      "   [0.44705882 0.30980392 0.43529412]]\n",
      "\n",
      "  [[0.25098039 0.0745098  0.19607843]\n",
      "   [0.44705882 0.27058824 0.4       ]\n",
      "   [0.89019608 0.70588235 0.84705882]\n",
      "   ...\n",
      "   [0.33333333 0.16862745 0.30980392]\n",
      "   [0.32941176 0.16862745 0.30196078]\n",
      "   [0.58823529 0.42745098 0.55294118]]\n",
      "\n",
      "  ...\n",
      "\n",
      "  [[0.72156863 0.49411765 0.65098039]\n",
      "   [0.68235294 0.46666667 0.59215686]\n",
      "   [0.92941176 0.73333333 0.84705882]\n",
      "   ...\n",
      "   [0.5372549  0.37254902 0.56862745]\n",
      "   [0.80392157 0.62745098 0.78039216]\n",
      "   [0.28235294 0.10588235 0.21960784]]\n",
      "\n",
      "  [[0.65882353 0.42352941 0.55686275]\n",
      "   [0.55294118 0.33333333 0.44705882]\n",
      "   [0.69019608 0.49411765 0.6       ]\n",
      "   ...\n",
      "   [0.64705882 0.48235294 0.67058824]\n",
      "   [0.88627451 0.71372549 0.85098039]\n",
      "   [0.36470588 0.19215686 0.29019608]]\n",
      "\n",
      "  [[0.81176471 0.57254902 0.69411765]\n",
      "   [0.81568627 0.59607843 0.69411765]\n",
      "   [0.6627451  0.45882353 0.54901961]\n",
      "   ...\n",
      "   [0.44705882 0.28627451 0.45098039]\n",
      "   [0.86666667 0.69803922 0.81568627]\n",
      "   [0.50196078 0.33333333 0.41176471]]]]\n"
     ]
    }
   ],
   "source": [
    "print(X_train)"
   ]
  },
  {
   "cell_type": "code",
   "execution_count": 56,
   "id": "cda2a345",
   "metadata": {},
   "outputs": [
    {
     "name": "stdout",
     "output_type": "stream",
     "text": [
      "[[[[0.94509804 0.89803922 0.94509804]\n",
      "   [0.89803922 0.86666667 0.90980392]\n",
      "   [0.82352941 0.81176471 0.83921569]\n",
      "   ...\n",
      "   [1.         0.9254902  1.        ]\n",
      "   [0.87843137 0.8745098  0.90588235]\n",
      "   [0.85490196 0.93333333 0.92941176]]\n",
      "\n",
      "  [[1.         0.91764706 1.        ]\n",
      "   [0.9372549  0.85490196 0.92941176]\n",
      "   [0.88235294 0.83529412 0.89019608]\n",
      "   ...\n",
      "   [1.         0.90196078 1.        ]\n",
      "   [0.94901961 0.90196078 0.95686275]\n",
      "   [0.89411765 0.9254902  0.9372549 ]]\n",
      "\n",
      "  [[0.81960784 0.65882353 0.78431373]\n",
      "   [0.96470588 0.82352941 0.93333333]\n",
      "   [0.94901961 0.85098039 0.9372549 ]\n",
      "   ...\n",
      "   [0.58823529 0.39607843 0.52156863]\n",
      "   [1.         0.95294118 1.        ]\n",
      "   [0.8745098  0.85098039 0.89019608]]\n",
      "\n",
      "  ...\n",
      "\n",
      "  [[0.91372549 0.85882353 0.9254902 ]\n",
      "   [0.89411765 0.84705882 0.90196078]\n",
      "   [0.87843137 0.83529412 0.89019608]\n",
      "   ...\n",
      "   [0.89803922 0.87843137 0.90588235]\n",
      "   [0.89803922 0.87843137 0.90588235]\n",
      "   [0.89803922 0.87843137 0.90588235]]\n",
      "\n",
      "  [[0.89803922 0.85098039 0.89803922]\n",
      "   [0.89411765 0.85490196 0.89803922]\n",
      "   [0.88235294 0.85882353 0.89803922]\n",
      "   ...\n",
      "   [0.89803922 0.87843137 0.90588235]\n",
      "   [0.89803922 0.87843137 0.90588235]\n",
      "   [0.89803922 0.87843137 0.90588235]]\n",
      "\n",
      "  [[0.88627451 0.83921569 0.87843137]\n",
      "   [0.89411765 0.85490196 0.89019608]\n",
      "   [0.89019608 0.87843137 0.90588235]\n",
      "   ...\n",
      "   [0.89803922 0.87843137 0.90588235]\n",
      "   [0.89803922 0.87843137 0.90588235]\n",
      "   [0.89803922 0.87843137 0.90588235]]]\n",
      "\n",
      "\n",
      " [[[0.89019608 0.63137255 0.8745098 ]\n",
      "   [0.8627451  0.57254902 0.91372549]\n",
      "   [0.60392157 0.36078431 0.74901961]\n",
      "   ...\n",
      "   [0.19607843 0.14901961 0.43921569]\n",
      "   [0.23137255 0.12941176 0.48627451]\n",
      "   [0.30196078 0.15686275 0.56862745]]\n",
      "\n",
      "  [[0.80392157 0.57254902 0.83921569]\n",
      "   [0.80392157 0.55294118 0.89411765]\n",
      "   [0.69803922 0.47843137 0.86666667]\n",
      "   ...\n",
      "   [0.18039216 0.1254902  0.42745098]\n",
      "   [0.17254902 0.06666667 0.43921569]\n",
      "   [0.1254902  0.         0.4       ]]\n",
      "\n",
      "  [[0.25490196 0.07058824 0.37647059]\n",
      "   [0.41960784 0.21960784 0.58431373]\n",
      "   [0.67843137 0.49019608 0.88235294]\n",
      "   ...\n",
      "   [0.15686275 0.08235294 0.40392157]\n",
      "   [0.27843137 0.17647059 0.55686275]\n",
      "   [0.27843137 0.15294118 0.57254902]]\n",
      "\n",
      "  ...\n",
      "\n",
      "  [[0.3254902  0.15294118 0.5372549 ]\n",
      "   [0.28627451 0.09019608 0.47843137]\n",
      "   [0.40784314 0.21176471 0.58431373]\n",
      "   ...\n",
      "   [0.36078431 0.20392157 0.49019608]\n",
      "   [0.21960784 0.09019608 0.4       ]\n",
      "   [0.22352941 0.14901961 0.45882353]]\n",
      "\n",
      "  [[0.50588235 0.32941176 0.73333333]\n",
      "   [0.43137255 0.24705882 0.64705882]\n",
      "   [0.36862745 0.22352941 0.6       ]\n",
      "   ...\n",
      "   [0.33333333 0.19215686 0.53333333]\n",
      "   [0.25882353 0.13333333 0.51372549]\n",
      "   [0.2        0.10196078 0.49803922]]\n",
      "\n",
      "  [[0.3254902  0.15686275 0.57647059]\n",
      "   [0.40392157 0.23529412 0.64705882]\n",
      "   [0.15294118 0.03529412 0.41960784]\n",
      "   ...\n",
      "   [0.32156863 0.18431373 0.55294118]\n",
      "   [0.21176471 0.10196078 0.50588235]\n",
      "   [0.22745098 0.13333333 0.56470588]]]\n",
      "\n",
      "\n",
      " [[[0.67843137 0.33333333 0.49803922]\n",
      "   [0.6745098  0.34117647 0.49411765]\n",
      "   [0.76470588 0.4627451  0.58823529]\n",
      "   ...\n",
      "   [0.6745098  0.35686275 0.48627451]\n",
      "   [0.70588235 0.37254902 0.49411765]\n",
      "   [0.72156863 0.38823529 0.50980392]]\n",
      "\n",
      "  [[0.63529412 0.30196078 0.45490196]\n",
      "   [0.63529412 0.32156863 0.45882353]\n",
      "   [0.66666667 0.37254902 0.49019608]\n",
      "   ...\n",
      "   [0.62352941 0.30588235 0.43529412]\n",
      "   [0.64705882 0.31764706 0.44705882]\n",
      "   [0.77254902 0.44313725 0.57254902]]\n",
      "\n",
      "  [[0.85490196 0.55294118 0.69411765]\n",
      "   [0.81176471 0.51764706 0.63921569]\n",
      "   [0.87058824 0.59607843 0.69803922]\n",
      "   ...\n",
      "   [0.52941176 0.22745098 0.36078431]\n",
      "   [0.59215686 0.27843137 0.41568627]\n",
      "   [0.64313725 0.33333333 0.45882353]]\n",
      "\n",
      "  ...\n",
      "\n",
      "  [[0.5254902  0.22352941 0.38823529]\n",
      "   [0.49019608 0.19215686 0.34509804]\n",
      "   [0.49803922 0.2        0.35294118]\n",
      "   ...\n",
      "   [0.65490196 0.36470588 0.49411765]\n",
      "   [0.74509804 0.45490196 0.58431373]\n",
      "   [0.82352941 0.53333333 0.6627451 ]]\n",
      "\n",
      "  [[0.79607843 0.49803922 0.64705882]\n",
      "   [0.50980392 0.21176471 0.36078431]\n",
      "   [0.61960784 0.32156863 0.47058824]\n",
      "   ...\n",
      "   [0.81568627 0.5254902  0.65490196]\n",
      "   [0.82352941 0.54509804 0.67058824]\n",
      "   [0.6        0.32156863 0.44705882]]\n",
      "\n",
      "  [[0.78823529 0.49019608 0.63137255]\n",
      "   [0.72941176 0.43137255 0.57254902]\n",
      "   [0.63921569 0.34117647 0.49019608]\n",
      "   ...\n",
      "   [0.79215686 0.50196078 0.63921569]\n",
      "   [0.68235294 0.40392157 0.5372549 ]\n",
      "   [0.5254902  0.24705882 0.38039216]]]\n",
      "\n",
      "\n",
      " ...\n",
      "\n",
      "\n",
      " [[[0.4745098  0.34901961 0.64705882]\n",
      "   [0.60784314 0.4627451  0.76470588]\n",
      "   [0.49411765 0.32941176 0.61960784]\n",
      "   ...\n",
      "   [0.16078431 0.12941176 0.35294118]\n",
      "   [0.09019608 0.04705882 0.31764706]\n",
      "   [0.14901961 0.0745098  0.39215686]]\n",
      "\n",
      "  [[0.6627451  0.49411765 0.80392157]\n",
      "   [0.61960784 0.45882353 0.75686275]\n",
      "   [0.45490196 0.30588235 0.59215686]\n",
      "   ...\n",
      "   [0.11764706 0.09803922 0.34901961]\n",
      "   [0.18823529 0.14901961 0.43529412]\n",
      "   [0.16078431 0.08627451 0.40392157]]\n",
      "\n",
      "  [[0.48627451 0.27843137 0.6       ]\n",
      "   [0.69411765 0.52156863 0.82352941]\n",
      "   [0.51764706 0.39215686 0.67843137]\n",
      "   ...\n",
      "   [0.08627451 0.05490196 0.34901961]\n",
      "   [0.09019608 0.02352941 0.3372549 ]\n",
      "   [0.25098039 0.15294118 0.47843137]]\n",
      "\n",
      "  ...\n",
      "\n",
      "  [[1.         0.90588235 1.        ]\n",
      "   [0.81568627 0.70588235 0.89411765]\n",
      "   [0.8745098  0.75686275 0.99215686]\n",
      "   ...\n",
      "   [0.42745098 0.35686275 0.68627451]\n",
      "   [0.29019608 0.20392157 0.5372549 ]\n",
      "   [0.50588235 0.36470588 0.70980392]]\n",
      "\n",
      "  [[0.9372549  0.85098039 1.        ]\n",
      "   [0.63529412 0.56862745 0.74509804]\n",
      "   [0.28235294 0.2        0.41960784]\n",
      "   ...\n",
      "   [0.45490196 0.34901961 0.66666667]\n",
      "   [0.41176471 0.27843137 0.60784314]\n",
      "   [0.52156863 0.33333333 0.67058824]]\n",
      "\n",
      "  [[0.59607843 0.54901961 0.69803922]\n",
      "   [0.0745098  0.04705882 0.21176471]\n",
      "   [0.18039216 0.1254902  0.33333333]\n",
      "   ...\n",
      "   [0.7372549  0.59215686 0.89411765]\n",
      "   [0.41176471 0.23921569 0.54901961]\n",
      "   [0.62352941 0.38039216 0.71764706]]]\n",
      "\n",
      "\n",
      " [[[0.29803922 0.18039216 0.57254902]\n",
      "   [0.29803922 0.17254902 0.55294118]\n",
      "   [0.3254902  0.19607843 0.55294118]\n",
      "   ...\n",
      "   [0.70588235 0.50588235 0.80784314]\n",
      "   [0.55294118 0.3372549  0.70196078]\n",
      "   [0.60392157 0.36470588 0.77254902]]\n",
      "\n",
      "  [[0.2        0.05882353 0.44313725]\n",
      "   [0.31764706 0.18039216 0.54901961]\n",
      "   [0.27843137 0.1372549  0.48235294]\n",
      "   ...\n",
      "   [0.44313725 0.27058824 0.56470588]\n",
      "   [0.37647059 0.18431373 0.54117647]\n",
      "   [0.44313725 0.22745098 0.62745098]]\n",
      "\n",
      "  [[0.39215686 0.21568627 0.57254902]\n",
      "   [0.48627451 0.32156863 0.65882353]\n",
      "   [0.49019608 0.3254902  0.64705882]\n",
      "   ...\n",
      "   [0.19607843 0.06666667 0.34509804]\n",
      "   [0.15686275 0.         0.3372549 ]\n",
      "   [0.18823529 0.01176471 0.38431373]]\n",
      "\n",
      "  ...\n",
      "\n",
      "  [[0.19607843 0.08627451 0.41568627]\n",
      "   [0.17647059 0.04705882 0.38823529]\n",
      "   [0.27843137 0.11764706 0.47843137]\n",
      "   ...\n",
      "   [0.58039216 0.20784314 0.5254902 ]\n",
      "   [0.58823529 0.2627451  0.57647059]\n",
      "   [0.48627451 0.25882353 0.54901961]]\n",
      "\n",
      "  [[0.11764706 0.04705882 0.3372549 ]\n",
      "   [0.2        0.10196078 0.41960784]\n",
      "   [0.21176471 0.07843137 0.41568627]\n",
      "   ...\n",
      "   [0.76470588 0.49019608 0.7372549 ]\n",
      "   [0.83137255 0.56862745 0.83137255]\n",
      "   [0.85098039 0.65490196 0.90196078]]\n",
      "\n",
      "  [[0.21568627 0.17254902 0.44313725]\n",
      "   [0.10196078 0.03137255 0.32156863]\n",
      "   [0.19215686 0.08627451 0.40392157]\n",
      "   ...\n",
      "   [0.76470588 0.55294118 0.75686275]\n",
      "   [0.81960784 0.58823529 0.81568627]\n",
      "   [0.83921569 0.65490196 0.87058824]]]\n",
      "\n",
      "\n",
      " [[[0.72156863 0.26666667 0.6627451 ]\n",
      "   [0.79607843 0.4627451  0.81960784]\n",
      "   [0.56078431 0.35294118 0.66666667]\n",
      "   ...\n",
      "   [0.85098039 0.85490196 0.8627451 ]\n",
      "   [0.80784314 0.80784314 0.81568627]\n",
      "   [0.93333333 0.82745098 0.89411765]]\n",
      "\n",
      "  [[0.7254902  0.25882353 0.65882353]\n",
      "   [0.81568627 0.46666667 0.82745098]\n",
      "   [0.6        0.37254902 0.70196078]\n",
      "   ...\n",
      "   [0.80392157 0.82352941 0.83529412]\n",
      "   [0.8627451  0.86666667 0.88627451]\n",
      "   [0.85882353 0.76862745 0.83137255]]\n",
      "\n",
      "  [[0.77254902 0.30588235 0.71372549]\n",
      "   [0.78823529 0.41176471 0.79607843]\n",
      "   [0.65490196 0.38431373 0.73333333]\n",
      "   ...\n",
      "   [0.78431373 0.81960784 0.83921569]\n",
      "   [0.8745098  0.86666667 0.90980392]\n",
      "   [0.83921569 0.75686275 0.83137255]]\n",
      "\n",
      "  ...\n",
      "\n",
      "  [[1.         0.81960784 1.        ]\n",
      "   [0.81176471 0.57647059 0.82745098]\n",
      "   [0.69019608 0.41176471 0.71764706]\n",
      "   ...\n",
      "   [0.67843137 0.31372549 0.58823529]\n",
      "   [1.         0.71764706 0.98823529]\n",
      "   [0.48235294 0.16862745 0.43921569]]\n",
      "\n",
      "  [[0.54901961 0.25098039 0.54117647]\n",
      "   [0.5254902  0.19607843 0.50196078]\n",
      "   [0.55686275 0.21176471 0.54901961]\n",
      "   ...\n",
      "   [0.8        0.45490196 0.69411765]\n",
      "   [1.         0.78823529 1.        ]\n",
      "   [0.90196078 0.69803922 0.89019608]]\n",
      "\n",
      "  [[0.69019608 0.24705882 0.60784314]\n",
      "   [0.65490196 0.26666667 0.61960784]\n",
      "   [0.41176471 0.08235294 0.41568627]\n",
      "   ...\n",
      "   [0.62745098 0.29411765 0.51764706]\n",
      "   [0.94117647 0.71764706 0.89411765]\n",
      "   [0.99215686 0.85882353 0.99607843]]]]\n"
     ]
    }
   ],
   "source": [
    "print(X_validation)"
   ]
  },
  {
   "cell_type": "code",
   "execution_count": 57,
   "id": "967559f5",
   "metadata": {},
   "outputs": [
    {
     "name": "stdout",
     "output_type": "stream",
     "text": [
      "[[[[0.4745098  0.3372549  0.50196078]\n",
      "   [0.63137255 0.49411765 0.65098039]\n",
      "   [0.54901961 0.4        0.55294118]\n",
      "   ...\n",
      "   [0.70980392 0.54117647 0.64705882]\n",
      "   [0.81960784 0.65098039 0.75686275]\n",
      "   [0.74117647 0.58431373 0.69019608]]\n",
      "\n",
      "  [[0.56862745 0.44313725 0.58823529]\n",
      "   [0.61960784 0.48627451 0.62352941]\n",
      "   [0.63137255 0.49411765 0.62352941]\n",
      "   ...\n",
      "   [0.96470588 0.76862745 0.88235294]\n",
      "   [0.73333333 0.54117647 0.65882353]\n",
      "   [0.77647059 0.58431373 0.70196078]]\n",
      "\n",
      "  [[0.78823529 0.66666667 0.78823529]\n",
      "   [0.68235294 0.55294118 0.6745098 ]\n",
      "   [0.66666667 0.52941176 0.64705882]\n",
      "   ...\n",
      "   [0.84705882 0.61568627 0.74117647]\n",
      "   [0.85098039 0.61568627 0.74901961]\n",
      "   [0.94509804 0.70980392 0.84313725]]\n",
      "\n",
      "  ...\n",
      "\n",
      "  [[0.96470588 0.9372549  0.96470588]\n",
      "   [0.98039216 0.95294118 0.98039216]\n",
      "   [0.99607843 0.97647059 0.99215686]\n",
      "   ...\n",
      "   [0.98431373 0.97647059 0.98039216]\n",
      "   [0.96078431 0.95686275 0.94901961]\n",
      "   [0.99215686 0.97647059 0.97254902]]\n",
      "\n",
      "  [[0.83137255 0.76470588 0.80392157]\n",
      "   [0.91372549 0.85098039 0.89019608]\n",
      "   [0.92941176 0.87843137 0.91372549]\n",
      "   ...\n",
      "   [1.         1.         1.        ]\n",
      "   [0.95294118 0.95294118 0.95294118]\n",
      "   [0.96862745 0.96078431 0.96470588]]\n",
      "\n",
      "  [[0.89019608 0.79607843 0.84705882]\n",
      "   [0.88627451 0.8        0.84705882]\n",
      "   [0.8627451  0.78431373 0.82745098]\n",
      "   ...\n",
      "   [0.95294118 0.95686275 0.96470588]\n",
      "   [0.92156863 0.92941176 0.9254902 ]\n",
      "   [0.98823529 0.98823529 0.98823529]]]\n",
      "\n",
      "\n",
      " [[[0.94901961 0.94901961 0.94901961]\n",
      "   [0.80392157 0.81568627 0.85098039]\n",
      "   [0.85490196 0.83529412 0.95294118]\n",
      "   ...\n",
      "   [0.49803922 0.18431373 0.62745098]\n",
      "   [0.6        0.29411765 0.72156863]\n",
      "   [0.61568627 0.32156863 0.73333333]]\n",
      "\n",
      "  [[0.83529412 0.68627451 0.83137255]\n",
      "   [0.94117647 0.81960784 0.98039216]\n",
      "   [0.89019608 0.77254902 0.97647059]\n",
      "   ...\n",
      "   [0.5372549  0.22352941 0.65882353]\n",
      "   [0.49411765 0.18823529 0.61568627]\n",
      "   [0.65882353 0.35686275 0.77254902]]\n",
      "\n",
      "  [[0.78823529 0.42352941 0.78039216]\n",
      "   [0.94117647 0.64705882 0.98039216]\n",
      "   [0.8627451  0.61568627 0.93333333]\n",
      "   ...\n",
      "   [0.50196078 0.19215686 0.61960784]\n",
      "   [0.52941176 0.22745098 0.64313725]\n",
      "   [0.42745098 0.1254902  0.54117647]]\n",
      "\n",
      "  ...\n",
      "\n",
      "  [[0.71764706 0.75686275 0.89411765]\n",
      "   [0.57254902 0.4745098  0.69019608]\n",
      "   [0.78431373 0.56470588 0.85098039]\n",
      "   ...\n",
      "   [0.50980392 0.19607843 0.63921569]\n",
      "   [0.50588235 0.07058824 0.54509804]\n",
      "   [0.83529412 0.30980392 0.83137255]]\n",
      "\n",
      "  [[0.01960784 0.03921569 0.20392157]\n",
      "   [0.07058824 0.01176471 0.24313725]\n",
      "   [0.17647059 0.         0.30588235]\n",
      "   ...\n",
      "   [0.46666667 0.13333333 0.59215686]\n",
      "   [0.62745098 0.18823529 0.68235294]\n",
      "   [0.84705882 0.3254902  0.87843137]]\n",
      "\n",
      "  [[0.09411765 0.10196078 0.29411765]\n",
      "   [0.10980392 0.0745098  0.32941176]\n",
      "   [0.18039216 0.02352941 0.36862745]\n",
      "   ...\n",
      "   [0.50980392 0.16862745 0.62745098]\n",
      "   [0.59607843 0.16078431 0.6627451 ]\n",
      "   [0.75686275 0.26666667 0.81568627]]]\n",
      "\n",
      "\n",
      " [[[0.68235294 0.55294118 0.61960784]\n",
      "   [0.69411765 0.54509804 0.62745098]\n",
      "   [0.90196078 0.72941176 0.83529412]\n",
      "   ...\n",
      "   [0.74901961 0.61568627 0.72156863]\n",
      "   [1.         0.8745098  0.99607843]\n",
      "   [0.69411765 0.54901961 0.67843137]]\n",
      "\n",
      "  [[0.70980392 0.58039216 0.64705882]\n",
      "   [1.         0.86666667 0.94901961]\n",
      "   [0.79607843 0.62352941 0.72156863]\n",
      "   ...\n",
      "   [0.27058824 0.12941176 0.23921569]\n",
      "   [0.47843137 0.33333333 0.45490196]\n",
      "   [0.97254902 0.82745098 0.95686275]]\n",
      "\n",
      "  [[0.91372549 0.79215686 0.8627451 ]\n",
      "   [1.         0.88627451 0.96470588]\n",
      "   [0.6        0.43529412 0.52156863]\n",
      "   ...\n",
      "   [0.54901961 0.40784314 0.51764706]\n",
      "   [0.42352941 0.27843137 0.4       ]\n",
      "   [0.74509804 0.6        0.72941176]]\n",
      "\n",
      "  ...\n",
      "\n",
      "  [[0.70196078 0.56862745 0.71372549]\n",
      "   [0.9254902  0.79215686 0.92941176]\n",
      "   [0.72941176 0.59215686 0.72156863]\n",
      "   ...\n",
      "   [0.8745098  0.65098039 0.71764706]\n",
      "   [0.89019608 0.64705882 0.69803922]\n",
      "   [0.35294118 0.10588235 0.14117647]]\n",
      "\n",
      "  [[0.58431373 0.43529412 0.59607843]\n",
      "   [0.21568627 0.05490196 0.21960784]\n",
      "   [0.32156863 0.15294118 0.32156863]\n",
      "   ...\n",
      "   [0.90980392 0.70980392 0.77647059]\n",
      "   [0.6745098  0.45490196 0.49019608]\n",
      "   [0.34117647 0.11764706 0.14117647]]\n",
      "\n",
      "  [[0.6        0.43921569 0.61176471]\n",
      "   [0.38431373 0.21568627 0.39215686]\n",
      "   [0.58039216 0.39607843 0.57647059]\n",
      "   ...\n",
      "   [0.89411765 0.70980392 0.77254902]\n",
      "   [0.8        0.6        0.62745098]\n",
      "   [0.45098039 0.24705882 0.25490196]]]\n",
      "\n",
      "\n",
      " ...\n",
      "\n",
      "\n",
      " [[[0.8627451  0.44313725 0.81176471]\n",
      "   [0.69019608 0.25882353 0.63137255]\n",
      "   [0.73333333 0.28627451 0.6627451 ]\n",
      "   ...\n",
      "   [0.54901961 0.25490196 0.61176471]\n",
      "   [0.47843137 0.21568627 0.58823529]\n",
      "   [0.49411765 0.24313725 0.62352941]]\n",
      "\n",
      "  [[0.72156863 0.28627451 0.65882353]\n",
      "   [0.74117647 0.29411765 0.67058824]\n",
      "   [0.72941176 0.28235294 0.65882353]\n",
      "   ...\n",
      "   [0.65882353 0.32941176 0.69803922]\n",
      "   [0.46666667 0.17647059 0.54901961]\n",
      "   [0.42745098 0.16862745 0.54901961]]\n",
      "\n",
      "  [[0.70196078 0.23921569 0.61960784]\n",
      "   [0.74509804 0.28235294 0.6627451 ]\n",
      "   [0.78431373 0.32156863 0.70196078]\n",
      "   ...\n",
      "   [0.7372549  0.36862745 0.74509804]\n",
      "   [0.65490196 0.3372549  0.70980392]\n",
      "   [0.48627451 0.20784314 0.57647059]]\n",
      "\n",
      "  ...\n",
      "\n",
      "  [[0.89019608 0.8627451  0.89019608]\n",
      "   [0.87843137 0.84705882 0.90588235]\n",
      "   [0.88235294 0.83529412 0.91372549]\n",
      "   ...\n",
      "   [0.89019608 0.79607843 0.92156863]\n",
      "   [0.85490196 0.76862745 0.90980392]\n",
      "   [0.77254902 0.69411765 0.83921569]]\n",
      "\n",
      "  [[0.83137255 0.80784314 0.81568627]\n",
      "   [0.8745098  0.83137255 0.88627451]\n",
      "   [0.87843137 0.83529412 0.90196078]\n",
      "   ...\n",
      "   [0.95686275 0.90196078 0.96862745]\n",
      "   [0.91372549 0.85882353 0.95686275]\n",
      "   [0.75294118 0.69411765 0.81568627]]\n",
      "\n",
      "  [[0.85882353 0.83529412 0.84313725]\n",
      "   [0.90980392 0.86666667 0.92156863]\n",
      "   [0.87843137 0.83529412 0.90196078]\n",
      "   ...\n",
      "   [0.8627451  0.82745098 0.84705882]\n",
      "   [0.91372549 0.87058824 0.9372549 ]\n",
      "   [0.89019608 0.85098039 0.94901961]]]\n",
      "\n",
      "\n",
      " [[[0.67058824 0.25882353 0.7254902 ]\n",
      "   [0.59215686 0.21960784 0.72941176]\n",
      "   [0.43529412 0.13333333 0.64313725]\n",
      "   ...\n",
      "   [0.85490196 0.89803922 0.88235294]\n",
      "   [0.82352941 0.83529412 0.85490196]\n",
      "   [0.88235294 0.84313725 0.9372549 ]]\n",
      "\n",
      "  [[0.54901961 0.11372549 0.58823529]\n",
      "   [0.69803922 0.29411765 0.80784314]\n",
      "   [0.56470588 0.22352941 0.73333333]\n",
      "   ...\n",
      "   [0.84313725 0.84705882 0.8627451 ]\n",
      "   [0.88627451 0.8745098  0.90980392]\n",
      "   [0.88627451 0.83137255 0.92941176]]\n",
      "\n",
      "  [[0.51372549 0.08627451 0.57647059]\n",
      "   [0.48627451 0.09019608 0.59215686]\n",
      "   [0.61568627 0.27058824 0.75294118]\n",
      "   ...\n",
      "   [0.88627451 0.83921569 0.88627451]\n",
      "   [0.92941176 0.8745098  0.93333333]\n",
      "   [0.90980392 0.81960784 0.92941176]]\n",
      "\n",
      "  ...\n",
      "\n",
      "  [[0.30588235 0.0745098  0.49019608]\n",
      "   [0.37254902 0.10980392 0.55294118]\n",
      "   [0.49411765 0.2        0.66666667]\n",
      "   ...\n",
      "   [0.6627451  0.20784314 0.69019608]\n",
      "   [0.8        0.39607843 0.80784314]\n",
      "   [0.69411765 0.30980392 0.64313725]]\n",
      "\n",
      "  [[0.30588235 0.04705882 0.47843137]\n",
      "   [0.40784314 0.12156863 0.58039216]\n",
      "   [0.52156863 0.19215686 0.67843137]\n",
      "   ...\n",
      "   [0.60784314 0.16862745 0.60784314]\n",
      "   [0.83137255 0.54509804 0.86666667]\n",
      "   [0.78431373 0.58431373 0.80392157]]\n",
      "\n",
      "  [[0.31764706 0.04313725 0.48235294]\n",
      "   [0.43921569 0.12941176 0.59607843]\n",
      "   [0.58039216 0.23137255 0.7254902 ]\n",
      "   ...\n",
      "   [0.65490196 0.24313725 0.64705882]\n",
      "   [0.92156863 0.72156863 0.98431373]\n",
      "   [0.93333333 0.8745098  1.        ]]]\n",
      "\n",
      "\n",
      " [[[0.86666667 0.88235294 0.87843137]\n",
      "   [0.82352941 0.82745098 0.83529412]\n",
      "   [0.85490196 0.85098039 0.87058824]\n",
      "   ...\n",
      "   [0.8        0.52941176 0.77647059]\n",
      "   [0.80392157 0.54509804 0.79607843]\n",
      "   [0.87843137 0.62352941 0.8745098 ]]\n",
      "\n",
      "  [[0.8745098  0.87058824 0.89411765]\n",
      "   [0.8745098  0.87058824 0.89411765]\n",
      "   [0.87843137 0.86666667 0.90196078]\n",
      "   ...\n",
      "   [0.70588235 0.44705882 0.69803922]\n",
      "   [0.74901961 0.49411765 0.75294118]\n",
      "   [0.71372549 0.45882353 0.71764706]]\n",
      "\n",
      "  [[0.91372549 0.8627451  0.92941176]\n",
      "   [0.93333333 0.89019608 0.95294118]\n",
      "   [0.90588235 0.8745098  0.93333333]\n",
      "   ...\n",
      "   [0.65098039 0.41176471 0.68235294]\n",
      "   [0.7372549  0.49019608 0.76470588]\n",
      "   [0.70196078 0.45490196 0.72941176]]\n",
      "\n",
      "  ...\n",
      "\n",
      "  [[0.96862745 0.77254902 0.97254902]\n",
      "   [0.8        0.53333333 0.75686275]\n",
      "   [0.65882353 0.29803922 0.56078431]\n",
      "   ...\n",
      "   [0.8        0.50588235 0.76078431]\n",
      "   [0.6745098  0.38039216 0.64313725]\n",
      "   [0.74117647 0.44705882 0.71764706]]\n",
      "\n",
      "  [[0.84705882 0.78823529 0.91764706]\n",
      "   [1.         0.89019608 1.        ]\n",
      "   [0.72941176 0.4627451  0.68627451]\n",
      "   ...\n",
      "   [0.88235294 0.61568627 0.84705882]\n",
      "   [0.7254902  0.45490196 0.70196078]\n",
      "   [0.73333333 0.4627451  0.71764706]]\n",
      "\n",
      "  [[0.67843137 0.70980392 0.79215686]\n",
      "   [0.81176471 0.75294118 0.88235294]\n",
      "   [0.82352941 0.63529412 0.82352941]\n",
      "   ...\n",
      "   [0.87058824 0.63137255 0.85490196]\n",
      "   [0.76470588 0.5254902  0.75686275]\n",
      "   [0.73333333 0.49411765 0.72941176]]]]\n"
     ]
    }
   ],
   "source": [
    "print(X_test)"
   ]
  },
  {
   "cell_type": "markdown",
   "id": "661782c5",
   "metadata": {},
   "source": [
    "### Kreiranje konvolutivne mreže"
   ]
  },
  {
   "cell_type": "code",
   "execution_count": 58,
   "id": "c0b4abf0",
   "metadata": {},
   "outputs": [],
   "source": [
    "cnn = Sequential()"
   ]
  },
  {
   "cell_type": "code",
   "execution_count": 59,
   "id": "e9415353",
   "metadata": {},
   "outputs": [],
   "source": [
    "cnn.add(Conv2D(filters=32, kernel_size=3, activation='relu', input_shape=[96, 96, 3]))\n",
    "cnn.add(MaxPool2D(pool_size=2, strides=2))\n",
    "cnn.add(Conv2D(filters=32, kernel_size=3, activation='relu'))\n",
    "cnn.add(MaxPool2D(pool_size=2, strides=2))\n",
    "cnn.add(Flatten())\n",
    "cnn.add(Dense(units=128, activation='relu'))\n",
    "cnn.add(Dense(units=64, activation='relu'))\n",
    "cnn.add(Dense(units=1, activation='sigmoid'))"
   ]
  },
  {
   "cell_type": "markdown",
   "id": "86ba9a6f",
   "metadata": {},
   "source": [
    "### Sumacija postavke konvolutivne mreže"
   ]
  },
  {
   "cell_type": "code",
   "execution_count": 60,
   "id": "e88136ef",
   "metadata": {},
   "outputs": [
    {
     "name": "stdout",
     "output_type": "stream",
     "text": [
      "Model: \"sequential_2\"\n",
      "_________________________________________________________________\n",
      " Layer (type)                Output Shape              Param #   \n",
      "=================================================================\n",
      " conv2d (Conv2D)             (None, 94, 94, 32)        896       \n",
      "                                                                 \n",
      " max_pooling2d (MaxPooling2D  (None, 47, 47, 32)       0         \n",
      " )                                                               \n",
      "                                                                 \n",
      " conv2d_1 (Conv2D)           (None, 45, 45, 32)        9248      \n",
      "                                                                 \n",
      " max_pooling2d_1 (MaxPooling  (None, 22, 22, 32)       0         \n",
      " 2D)                                                             \n",
      "                                                                 \n",
      " flatten (Flatten)           (None, 15488)             0         \n",
      "                                                                 \n",
      " dense_8 (Dense)             (None, 128)               1982592   \n",
      "                                                                 \n",
      " dense_9 (Dense)             (None, 64)                8256      \n",
      "                                                                 \n",
      " dense_10 (Dense)            (None, 1)                 65        \n",
      "                                                                 \n",
      "=================================================================\n",
      "Total params: 2,001,057\n",
      "Trainable params: 2,001,057\n",
      "Non-trainable params: 0\n",
      "_________________________________________________________________\n"
     ]
    }
   ],
   "source": [
    "cnn.summary()"
   ]
  },
  {
   "cell_type": "code",
   "execution_count": 61,
   "id": "76f20cd1",
   "metadata": {},
   "outputs": [
    {
     "data": {
      "image/svg+xml": [
       "<svg xmlns=\"http://www.w3.org/2000/svg\" xmlns:xlink=\"http://www.w3.org/1999/xlink\" width=\"205pt\" height=\"568pt\" viewBox=\"0.00 0.00 227.00 629.00\">\n",
       "<g id=\"graph0\" class=\"graph\" transform=\"scale(0.902778 0.902778) rotate(0) translate(4 625)\">\n",
       "<title>G</title>\n",
       "<polygon fill=\"white\" stroke=\"none\" points=\"-4,4 -4,-625 223,-625 223,4 -4,4\"/>\n",
       "<!-- 2196998236144 -->\n",
       "<g id=\"node1\" class=\"node\"><title>2196998236144</title>\n",
       "<polygon fill=\"none\" stroke=\"black\" points=\"24,-584.5 24,-620.5 195,-620.5 195,-584.5 24,-584.5\"/>\n",
       "<text text-anchor=\"middle\" x=\"71\" y=\"-598.8\" font-family=\"Times New Roman,serif\" font-size=\"14.00\">conv2d_input</text>\n",
       "<polyline fill=\"none\" stroke=\"black\" points=\"118,-584.5 118,-620.5 \"/>\n",
       "<text text-anchor=\"middle\" x=\"156.5\" y=\"-598.8\" font-family=\"Times New Roman,serif\" font-size=\"14.00\">InputLayer</text>\n",
       "</g>\n",
       "<!-- 2196998237104 -->\n",
       "<g id=\"node2\" class=\"node\"><title>2196998237104</title>\n",
       "<polygon fill=\"none\" stroke=\"black\" points=\"48,-511.5 48,-547.5 171,-547.5 171,-511.5 48,-511.5\"/>\n",
       "<text text-anchor=\"middle\" x=\"77.5\" y=\"-525.8\" font-family=\"Times New Roman,serif\" font-size=\"14.00\">conv2d</text>\n",
       "<polyline fill=\"none\" stroke=\"black\" points=\"107,-511.5 107,-547.5 \"/>\n",
       "<text text-anchor=\"middle\" x=\"139\" y=\"-525.8\" font-family=\"Times New Roman,serif\" font-size=\"14.00\">Conv2D</text>\n",
       "</g>\n",
       "<!-- 2196998236144&#45;&gt;2196998237104 -->\n",
       "<g id=\"edge1\" class=\"edge\"><title>2196998236144-&gt;2196998237104</title>\n",
       "<path fill=\"none\" stroke=\"black\" d=\"M109.5,-584.313C109.5,-576.289 109.5,-566.547 109.5,-557.569\"/>\n",
       "<polygon fill=\"black\" stroke=\"black\" points=\"113,-557.529 109.5,-547.529 106,-557.529 113,-557.529\"/>\n",
       "</g>\n",
       "<!-- 2196998237440 -->\n",
       "<g id=\"node3\" class=\"node\"><title>2196998237440</title>\n",
       "<polygon fill=\"none\" stroke=\"black\" points=\"7,-438.5 7,-474.5 212,-474.5 212,-438.5 7,-438.5\"/>\n",
       "<text text-anchor=\"middle\" x=\"59\" y=\"-452.8\" font-family=\"Times New Roman,serif\" font-size=\"14.00\">max_pooling2d</text>\n",
       "<polyline fill=\"none\" stroke=\"black\" points=\"111,-438.5 111,-474.5 \"/>\n",
       "<text text-anchor=\"middle\" x=\"161.5\" y=\"-452.8\" font-family=\"Times New Roman,serif\" font-size=\"14.00\">MaxPooling2D</text>\n",
       "</g>\n",
       "<!-- 2196998237104&#45;&gt;2196998237440 -->\n",
       "<g id=\"edge2\" class=\"edge\"><title>2196998237104-&gt;2196998237440</title>\n",
       "<path fill=\"none\" stroke=\"black\" d=\"M109.5,-511.313C109.5,-503.289 109.5,-493.547 109.5,-484.569\"/>\n",
       "<polygon fill=\"black\" stroke=\"black\" points=\"113,-484.529 109.5,-474.529 106,-484.529 113,-484.529\"/>\n",
       "</g>\n",
       "<!-- 2196998312672 -->\n",
       "<g id=\"node4\" class=\"node\"><title>2196998312672</title>\n",
       "<polygon fill=\"none\" stroke=\"black\" points=\"41,-365.5 41,-401.5 178,-401.5 178,-365.5 41,-365.5\"/>\n",
       "<text text-anchor=\"middle\" x=\"77.5\" y=\"-379.8\" font-family=\"Times New Roman,serif\" font-size=\"14.00\">conv2d_1</text>\n",
       "<polyline fill=\"none\" stroke=\"black\" points=\"114,-365.5 114,-401.5 \"/>\n",
       "<text text-anchor=\"middle\" x=\"146\" y=\"-379.8\" font-family=\"Times New Roman,serif\" font-size=\"14.00\">Conv2D</text>\n",
       "</g>\n",
       "<!-- 2196998237440&#45;&gt;2196998312672 -->\n",
       "<g id=\"edge3\" class=\"edge\"><title>2196998237440-&gt;2196998312672</title>\n",
       "<path fill=\"none\" stroke=\"black\" d=\"M109.5,-438.313C109.5,-430.289 109.5,-420.547 109.5,-411.569\"/>\n",
       "<polygon fill=\"black\" stroke=\"black\" points=\"113,-411.529 109.5,-401.529 106,-411.529 113,-411.529\"/>\n",
       "</g>\n",
       "<!-- 2196998266064 -->\n",
       "<g id=\"node5\" class=\"node\"><title>2196998266064</title>\n",
       "<polygon fill=\"none\" stroke=\"black\" points=\"0,-292.5 0,-328.5 219,-328.5 219,-292.5 0,-292.5\"/>\n",
       "<text text-anchor=\"middle\" x=\"59\" y=\"-306.8\" font-family=\"Times New Roman,serif\" font-size=\"14.00\">max_pooling2d_1</text>\n",
       "<polyline fill=\"none\" stroke=\"black\" points=\"118,-292.5 118,-328.5 \"/>\n",
       "<text text-anchor=\"middle\" x=\"168.5\" y=\"-306.8\" font-family=\"Times New Roman,serif\" font-size=\"14.00\">MaxPooling2D</text>\n",
       "</g>\n",
       "<!-- 2196998312672&#45;&gt;2196998266064 -->\n",
       "<g id=\"edge4\" class=\"edge\"><title>2196998312672-&gt;2196998266064</title>\n",
       "<path fill=\"none\" stroke=\"black\" d=\"M109.5,-365.313C109.5,-357.289 109.5,-347.547 109.5,-338.569\"/>\n",
       "<polygon fill=\"black\" stroke=\"black\" points=\"113,-338.529 109.5,-328.529 106,-338.529 113,-338.529\"/>\n",
       "</g>\n",
       "<!-- 2196998236288 -->\n",
       "<g id=\"node6\" class=\"node\"><title>2196998236288</title>\n",
       "<polygon fill=\"none\" stroke=\"black\" points=\"57.5,-219.5 57.5,-255.5 161.5,-255.5 161.5,-219.5 57.5,-219.5\"/>\n",
       "<text text-anchor=\"middle\" x=\"82.5\" y=\"-233.8\" font-family=\"Times New Roman,serif\" font-size=\"14.00\">flatten</text>\n",
       "<polyline fill=\"none\" stroke=\"black\" points=\"107.5,-219.5 107.5,-255.5 \"/>\n",
       "<text text-anchor=\"middle\" x=\"134.5\" y=\"-233.8\" font-family=\"Times New Roman,serif\" font-size=\"14.00\">Flatten</text>\n",
       "</g>\n",
       "<!-- 2196998266064&#45;&gt;2196998236288 -->\n",
       "<g id=\"edge5\" class=\"edge\"><title>2196998266064-&gt;2196998236288</title>\n",
       "<path fill=\"none\" stroke=\"black\" d=\"M109.5,-292.313C109.5,-284.289 109.5,-274.547 109.5,-265.569\"/>\n",
       "<polygon fill=\"black\" stroke=\"black\" points=\"113,-265.529 109.5,-255.529 106,-265.529 113,-265.529\"/>\n",
       "</g>\n",
       "<!-- 2196893664208 -->\n",
       "<g id=\"node7\" class=\"node\"><title>2196893664208</title>\n",
       "<polygon fill=\"none\" stroke=\"black\" points=\"52.5,-146.5 52.5,-182.5 166.5,-182.5 166.5,-146.5 52.5,-146.5\"/>\n",
       "<text text-anchor=\"middle\" x=\"84\" y=\"-160.8\" font-family=\"Times New Roman,serif\" font-size=\"14.00\">dense_8</text>\n",
       "<polyline fill=\"none\" stroke=\"black\" points=\"115.5,-146.5 115.5,-182.5 \"/>\n",
       "<text text-anchor=\"middle\" x=\"141\" y=\"-160.8\" font-family=\"Times New Roman,serif\" font-size=\"14.00\">Dense</text>\n",
       "</g>\n",
       "<!-- 2196998236288&#45;&gt;2196893664208 -->\n",
       "<g id=\"edge6\" class=\"edge\"><title>2196998236288-&gt;2196893664208</title>\n",
       "<path fill=\"none\" stroke=\"black\" d=\"M109.5,-219.313C109.5,-211.289 109.5,-201.547 109.5,-192.569\"/>\n",
       "<polygon fill=\"black\" stroke=\"black\" points=\"113,-192.529 109.5,-182.529 106,-192.529 113,-192.529\"/>\n",
       "</g>\n",
       "<!-- 2196894005088 -->\n",
       "<g id=\"node8\" class=\"node\"><title>2196894005088</title>\n",
       "<polygon fill=\"none\" stroke=\"black\" points=\"52.5,-73.5 52.5,-109.5 166.5,-109.5 166.5,-73.5 52.5,-73.5\"/>\n",
       "<text text-anchor=\"middle\" x=\"84\" y=\"-87.8\" font-family=\"Times New Roman,serif\" font-size=\"14.00\">dense_9</text>\n",
       "<polyline fill=\"none\" stroke=\"black\" points=\"115.5,-73.5 115.5,-109.5 \"/>\n",
       "<text text-anchor=\"middle\" x=\"141\" y=\"-87.8\" font-family=\"Times New Roman,serif\" font-size=\"14.00\">Dense</text>\n",
       "</g>\n",
       "<!-- 2196893664208&#45;&gt;2196894005088 -->\n",
       "<g id=\"edge7\" class=\"edge\"><title>2196893664208-&gt;2196894005088</title>\n",
       "<path fill=\"none\" stroke=\"black\" d=\"M109.5,-146.313C109.5,-138.289 109.5,-128.547 109.5,-119.569\"/>\n",
       "<polygon fill=\"black\" stroke=\"black\" points=\"113,-119.529 109.5,-109.529 106,-119.529 113,-119.529\"/>\n",
       "</g>\n",
       "<!-- 2196954805680 -->\n",
       "<g id=\"node9\" class=\"node\"><title>2196954805680</title>\n",
       "<polygon fill=\"none\" stroke=\"black\" points=\"49,-0.5 49,-36.5 170,-36.5 170,-0.5 49,-0.5\"/>\n",
       "<text text-anchor=\"middle\" x=\"84\" y=\"-14.8\" font-family=\"Times New Roman,serif\" font-size=\"14.00\">dense_10</text>\n",
       "<polyline fill=\"none\" stroke=\"black\" points=\"119,-0.5 119,-36.5 \"/>\n",
       "<text text-anchor=\"middle\" x=\"144.5\" y=\"-14.8\" font-family=\"Times New Roman,serif\" font-size=\"14.00\">Dense</text>\n",
       "</g>\n",
       "<!-- 2196894005088&#45;&gt;2196954805680 -->\n",
       "<g id=\"edge8\" class=\"edge\"><title>2196894005088-&gt;2196954805680</title>\n",
       "<path fill=\"none\" stroke=\"black\" d=\"M109.5,-73.3129C109.5,-65.2895 109.5,-55.5475 109.5,-46.5691\"/>\n",
       "<polygon fill=\"black\" stroke=\"black\" points=\"113,-46.5288 109.5,-36.5288 106,-46.5289 113,-46.5288\"/>\n",
       "</g>\n",
       "</g>\n",
       "</svg>"
      ],
      "text/plain": [
       "<IPython.core.display.SVG object>"
      ]
     },
     "metadata": {},
     "output_type": "display_data"
    }
   ],
   "source": [
    "display(SVG(model_to_dot(cnn, dpi=65).create(prog='dot', format='svg')))"
   ]
  },
  {
   "cell_type": "markdown",
   "id": "d1e807e0",
   "metadata": {},
   "source": [
    "### Treniranje konvolutivne mreže"
   ]
  },
  {
   "cell_type": "code",
   "execution_count": 62,
   "id": "aca8a669",
   "metadata": {},
   "outputs": [],
   "source": [
    "cnn.compile(optimizer = 'adam', \n",
    "            loss = 'binary_crossentropy', \n",
    "            metrics = ['accuracy'])"
   ]
  },
  {
   "cell_type": "code",
   "execution_count": 63,
   "id": "31df64c7",
   "metadata": {},
   "outputs": [
    {
     "name": "stdout",
     "output_type": "stream",
     "text": [
      "Epoch 1/50\n",
      "615/615 [==============================] - 121s 194ms/step - loss: 0.5158 - accuracy: 0.7514 - val_loss: 0.4971 - val_accuracy: 0.7794\n",
      "Epoch 2/50\n",
      "615/615 [==============================] - 112s 182ms/step - loss: 0.4573 - accuracy: 0.7923 - val_loss: 0.4286 - val_accuracy: 0.8105\n",
      "Epoch 3/50\n",
      "615/615 [==============================] - 112s 182ms/step - loss: 0.3990 - accuracy: 0.8270 - val_loss: 0.4108 - val_accuracy: 0.8178\n",
      "Epoch 4/50\n",
      "615/615 [==============================] - 111s 180ms/step - loss: 0.3420 - accuracy: 0.8548 - val_loss: 0.4422 - val_accuracy: 0.8076\n",
      "Epoch 5/50\n",
      "615/615 [==============================] - 111s 180ms/step - loss: 0.2702 - accuracy: 0.8885 - val_loss: 0.5031 - val_accuracy: 0.7910\n",
      "Epoch 6/50\n",
      "615/615 [==============================] - 111s 180ms/step - loss: 0.1860 - accuracy: 0.9253 - val_loss: 0.5228 - val_accuracy: 0.8145\n",
      "Epoch 7/50\n",
      "615/615 [==============================] - 111s 180ms/step - loss: 0.1039 - accuracy: 0.9614 - val_loss: 0.8432 - val_accuracy: 0.7931\n",
      "Epoch 8/50\n",
      "615/615 [==============================] - 111s 180ms/step - loss: 0.0694 - accuracy: 0.9755 - val_loss: 0.9165 - val_accuracy: 0.8064\n",
      "Epoch 9/50\n",
      "615/615 [==============================] - 111s 180ms/step - loss: 0.0428 - accuracy: 0.9858 - val_loss: 0.9448 - val_accuracy: 0.8120\n",
      "Epoch 10/50\n",
      "615/615 [==============================] - 110s 180ms/step - loss: 0.0320 - accuracy: 0.9902 - val_loss: 1.1025 - val_accuracy: 0.8100\n",
      "Epoch 11/50\n",
      "615/615 [==============================] - 111s 180ms/step - loss: 0.0299 - accuracy: 0.9906 - val_loss: 1.1438 - val_accuracy: 0.8135\n",
      "Epoch 12/50\n",
      "615/615 [==============================] - 111s 180ms/step - loss: 0.0163 - accuracy: 0.9946 - val_loss: 1.3443 - val_accuracy: 0.8096\n",
      "Epoch 13/50\n",
      "615/615 [==============================] - 111s 180ms/step - loss: 0.0222 - accuracy: 0.9929 - val_loss: 1.3293 - val_accuracy: 0.8044\n",
      "Epoch 14/50\n",
      "615/615 [==============================] - 111s 180ms/step - loss: 0.0228 - accuracy: 0.9919 - val_loss: 1.3700 - val_accuracy: 0.8071\n",
      "Epoch 15/50\n",
      "615/615 [==============================] - 111s 181ms/step - loss: 0.0154 - accuracy: 0.9958 - val_loss: 1.2622 - val_accuracy: 0.7958\n",
      "Epoch 16/50\n",
      "615/615 [==============================] - 112s 182ms/step - loss: 0.0270 - accuracy: 0.9908 - val_loss: 1.3372 - val_accuracy: 0.8166\n",
      "Epoch 17/50\n",
      "615/615 [==============================] - 112s 182ms/step - loss: 0.0161 - accuracy: 0.9944 - val_loss: 1.4394 - val_accuracy: 0.8102\n",
      "Epoch 18/50\n",
      "615/615 [==============================] - 112s 182ms/step - loss: 0.0084 - accuracy: 0.9978 - val_loss: 1.6031 - val_accuracy: 0.7879\n",
      "Epoch 19/50\n",
      "615/615 [==============================] - 112s 182ms/step - loss: 0.0226 - accuracy: 0.9927 - val_loss: 1.3332 - val_accuracy: 0.8097\n",
      "Epoch 20/50\n",
      "615/615 [==============================] - 112s 182ms/step - loss: 0.0084 - accuracy: 0.9976 - val_loss: 1.3895 - val_accuracy: 0.8035\n",
      "Epoch 21/50\n",
      "615/615 [==============================] - 111s 181ms/step - loss: 0.0156 - accuracy: 0.9951 - val_loss: 1.4053 - val_accuracy: 0.8166\n",
      "Epoch 22/50\n",
      "615/615 [==============================] - 112s 182ms/step - loss: 0.0134 - accuracy: 0.9963 - val_loss: 1.3841 - val_accuracy: 0.8084\n",
      "Epoch 23/50\n",
      "615/615 [==============================] - 111s 181ms/step - loss: 0.0145 - accuracy: 0.9955 - val_loss: 1.7762 - val_accuracy: 0.7984\n",
      "Epoch 24/50\n",
      "615/615 [==============================] - 112s 182ms/step - loss: 0.0072 - accuracy: 0.9976 - val_loss: 1.6966 - val_accuracy: 0.7981\n",
      "Epoch 25/50\n",
      "615/615 [==============================] - 112s 181ms/step - loss: 0.0185 - accuracy: 0.9948 - val_loss: 1.3529 - val_accuracy: 0.8041\n",
      "Epoch 26/50\n",
      "615/615 [==============================] - 112s 182ms/step - loss: 0.0207 - accuracy: 0.9933 - val_loss: 1.4011 - val_accuracy: 0.8003\n",
      "Epoch 27/50\n",
      "615/615 [==============================] - 112s 182ms/step - loss: 0.0084 - accuracy: 0.9975 - val_loss: 1.4166 - val_accuracy: 0.8064\n",
      "Epoch 28/50\n",
      "615/615 [==============================] - 112s 182ms/step - loss: 0.0036 - accuracy: 0.9992 - val_loss: 1.7044 - val_accuracy: 0.8129\n",
      "Epoch 29/50\n",
      "615/615 [==============================] - 112s 182ms/step - loss: 0.0105 - accuracy: 0.9965 - val_loss: 1.3120 - val_accuracy: 0.7991\n",
      "Epoch 30/50\n",
      "615/615 [==============================] - 112s 182ms/step - loss: 0.0096 - accuracy: 0.9973 - val_loss: 1.8198 - val_accuracy: 0.8029\n",
      "Epoch 31/50\n",
      "615/615 [==============================] - 112s 182ms/step - loss: 0.0100 - accuracy: 0.9962 - val_loss: 1.6538 - val_accuracy: 0.8059\n",
      "Epoch 32/50\n",
      "615/615 [==============================] - 114s 185ms/step - loss: 0.0083 - accuracy: 0.9975 - val_loss: 1.6373 - val_accuracy: 0.8045\n",
      "Epoch 33/50\n",
      "615/615 [==============================] - 113s 184ms/step - loss: 0.0086 - accuracy: 0.9974 - val_loss: 1.6141 - val_accuracy: 0.8033\n",
      "Epoch 34/50\n",
      "615/615 [==============================] - 112s 182ms/step - loss: 0.0072 - accuracy: 0.9975 - val_loss: 1.5289 - val_accuracy: 0.8032\n",
      "Epoch 35/50\n",
      "615/615 [==============================] - 112s 182ms/step - loss: 0.0085 - accuracy: 0.9973 - val_loss: 1.4820 - val_accuracy: 0.8076\n",
      "Epoch 36/50\n",
      "615/615 [==============================] - 112s 182ms/step - loss: 0.0075 - accuracy: 0.9975 - val_loss: 1.7689 - val_accuracy: 0.8036\n",
      "Epoch 37/50\n",
      "615/615 [==============================] - 112s 182ms/step - loss: 0.0077 - accuracy: 0.9976 - val_loss: 1.7320 - val_accuracy: 0.8085\n",
      "Epoch 38/50\n",
      "615/615 [==============================] - 112s 182ms/step - loss: 0.0072 - accuracy: 0.9982 - val_loss: 1.7913 - val_accuracy: 0.8012\n",
      "Epoch 39/50\n",
      "615/615 [==============================] - 112s 182ms/step - loss: 0.0057 - accuracy: 0.9980 - val_loss: 1.6665 - val_accuracy: 0.8044\n",
      "Epoch 40/50\n",
      "615/615 [==============================] - 112s 182ms/step - loss: 1.9629e-04 - accuracy: 1.0000 - val_loss: 1.7912 - val_accuracy: 0.8088\n",
      "Epoch 41/50\n",
      "615/615 [==============================] - 112s 182ms/step - loss: 2.4952e-05 - accuracy: 1.0000 - val_loss: 1.9014 - val_accuracy: 0.8090\n",
      "Epoch 42/50\n",
      "615/615 [==============================] - 114s 185ms/step - loss: 1.1684e-05 - accuracy: 1.0000 - val_loss: 1.9658 - val_accuracy: 0.8091\n",
      "Epoch 43/50\n",
      "615/615 [==============================] - 112s 183ms/step - loss: 7.8199e-06 - accuracy: 1.0000 - val_loss: 2.0278 - val_accuracy: 0.8103\n",
      "Epoch 44/50\n",
      "615/615 [==============================] - 112s 183ms/step - loss: 5.3967e-06 - accuracy: 1.0000 - val_loss: 2.0821 - val_accuracy: 0.8102\n",
      "Epoch 45/50\n",
      "615/615 [==============================] - 112s 183ms/step - loss: 3.8153e-06 - accuracy: 1.0000 - val_loss: 2.1358 - val_accuracy: 0.8100\n",
      "Epoch 46/50\n",
      "615/615 [==============================] - 112s 182ms/step - loss: 2.7492e-06 - accuracy: 1.0000 - val_loss: 2.1915 - val_accuracy: 0.8097\n",
      "Epoch 47/50\n",
      "615/615 [==============================] - 113s 184ms/step - loss: 1.9695e-06 - accuracy: 1.0000 - val_loss: 2.2476 - val_accuracy: 0.8096\n",
      "Epoch 48/50\n",
      "615/615 [==============================] - 112s 183ms/step - loss: 1.4136e-06 - accuracy: 1.0000 - val_loss: 2.3008 - val_accuracy: 0.8088\n",
      "Epoch 49/50\n",
      "615/615 [==============================] - 112s 183ms/step - loss: 1.0046e-06 - accuracy: 1.0000 - val_loss: 2.3569 - val_accuracy: 0.8090\n",
      "Epoch 50/50\n",
      "615/615 [==============================] - 112s 182ms/step - loss: 7.1691e-07 - accuracy: 1.0000 - val_loss: 2.4116 - val_accuracy: 0.8100\n"
     ]
    }
   ],
   "source": [
    "history_cnn = cnn.fit(x = X_train, \n",
    "                      y = y_train, \n",
    "                      validation_data = (X_validation, y_validation), \n",
    "                      epochs = 50)"
   ]
  },
  {
   "cell_type": "markdown",
   "id": "7637910d",
   "metadata": {},
   "source": [
    "### Evaluacija konvolutivne mreže"
   ]
  },
  {
   "cell_type": "code",
   "execution_count": 64,
   "id": "ded43030",
   "metadata": {},
   "outputs": [
    {
     "name": "stdout",
     "output_type": "stream",
     "text": [
      "Evaluacija nad trening podacima:\n",
      "\n",
      "154/154 [==============================] - 30s 181ms/step - loss: 5.6632e-07 - accuracy: 1.0000\n",
      "loss: 5.66315975447651e-07\n",
      "accuracy: 1.0\n"
     ]
    }
   ],
   "source": [
    "print('Evaluacija nad trening podacima:\\n')\n",
    "\n",
    "train_scores_cnn = cnn.evaluate(X_train, y_train, batch_size=128)\n",
    "print('{0}: {1}'.format(loss, train_scores_cnn[0]))\n",
    "print('{0}: {1}'.format(acc, train_scores_cnn[1]))"
   ]
  },
  {
   "cell_type": "code",
   "execution_count": 65,
   "id": "4d79259d",
   "metadata": {},
   "outputs": [
    {
     "name": "stdout",
     "output_type": "stream",
     "text": [
      "Evaluacija nad test podacima:\n",
      "\n",
      "52/52 [==============================] - 9s 171ms/step - loss: 2.1632 - accuracy: 0.8230\n",
      "loss: 2.1632003784179688\n",
      "accuracy: 0.8230088353157043\n"
     ]
    }
   ],
   "source": [
    "print('Evaluacija nad test podacima:\\n')\n",
    "\n",
    "test_scores_cnn = cnn.evaluate(X_test, y_test, batch_size=128)\n",
    "print('{0}: {1}'.format(loss, test_scores_cnn[0]))\n",
    "print('{0}: {1}'.format(acc, test_scores_cnn[1]))"
   ]
  },
  {
   "cell_type": "code",
   "execution_count": 66,
   "id": "5af2b51b",
   "metadata": {},
   "outputs": [
    {
     "data": {
      "image/png": "[encoded data removed]",
      "text/plain": [
       "<Figure size 1008x864 with 2 Axes>"
      ]
     },
     "metadata": {
      "needs_background": "light"
     },
     "output_type": "display_data"
    }
   ],
   "source": [
    "plt.figure(figsize=(14,12))\n",
    "\n",
    "plt.subplot(2, 1, 1)\n",
    "\n",
    "plt.plot(np.arange(1, 51), history_cnn.history['loss'], label='Training')\n",
    "plt.plot(np.arange(1, 51), history_cnn.history['val_loss'], label='Validation')\n",
    "plt.title('Loss', size=20)\n",
    "plt.xlabel('Epoch', size=14)\n",
    "plt.xticks(np.arange(0,51,5))\n",
    "plt.grid()\n",
    "plt.legend()\n",
    "\n",
    "\n",
    "plt.subplot(2, 1, 2)\n",
    "\n",
    "plt.plot(np.arange(1, 51), history_cnn.history['accuracy'], label='Training')\n",
    "plt.plot(np.arange(1, 51), history_cnn.history['val_accuracy'], label='Validation')\n",
    "plt.title('Accuracy', size=20)\n",
    "plt.xlabel('Epoch', size=14)\n",
    "plt.xticks(np.arange(0,51,5))\n",
    "plt.grid()\n",
    "plt.legend()\n",
    "\n",
    "plt.savefig('assets/pictures/3.DM_2_CNN_Loss_Acc_first_try.jpg')\n",
    "\n",
    "plt.show()"
   ]
  },
  {
   "cell_type": "markdown",
   "id": "259f39c9",
   "metadata": {},
   "source": [
    "### Čuvanje modela konvolutivne neuronske mreže"
   ]
  },
  {
   "cell_type": "code",
   "execution_count": 67,
   "id": "e4f1e34b",
   "metadata": {},
   "outputs": [
    {
     "name": "stderr",
     "output_type": "stream",
     "text": [
      "WARNING:absl:Found untraced functions such as _jit_compiled_convolution_op, _jit_compiled_convolution_op while saving (showing 2 of 2). These functions will not be directly callable after loading.\n"
     ]
    },
    {
     "name": "stdout",
     "output_type": "stream",
     "text": [
      "INFO:tensorflow:Assets written to: ram://5a1a997e-231e-499b-93a7-5cf3ae234ca5/assets\n"
     ]
    },
    {
     "name": "stderr",
     "output_type": "stream",
     "text": [
      "INFO:tensorflow:Assets written to: ram://5a1a997e-231e-499b-93a7-5cf3ae234ca5/assets\n"
     ]
    }
   ],
   "source": [
    "with open('models/deep_models/DC_2_CNN_first_classifier.model.pickle', 'wb') as model_file:\n",
    "    pickle.dump(cnn, model_file)"
   ]
  },
  {
   "cell_type": "markdown",
   "id": "8f9d0454",
   "metadata": {},
   "source": [
    "# 2.2 Konvolutivna mreža drugi pristup"
   ]
  },
  {
   "cell_type": "markdown",
   "id": "2c2e55ff",
   "metadata": {},
   "source": [
    "### Kreiranje mreže"
   ]
  },
  {
   "cell_type": "code",
   "execution_count": 82,
   "id": "4eb7d5e0",
   "metadata": {},
   "outputs": [],
   "source": [
    "cnn2 = Sequential([Input(shape=[96,96,3]),\n",
    "                   Conv2D(filters=32, kernel_size=3, activation='relu'),\n",
    "                   MaxPool2D(pool_size=2, strides=2),\n",
    "                   Conv2D(filters=32, kernel_size=3, activation='relu'),\n",
    "                   MaxPool2D(pool_size=2, strides=2),\n",
    "                   Dropout(0.4),\n",
    "                   Flatten(),\n",
    "                   Dense(128, activation='relu', kernel_regularizer=l2(l2=0.01)),\n",
    "                   Dropout(0.3),\n",
    "                   Dense(64, activation='relu', kernel_regularizer=l2(l2=0.01)),\n",
    "                   Dropout(0.2),\n",
    "                   Dense(1, activation='sigmoid')])"
   ]
  },
  {
   "cell_type": "markdown",
   "id": "a85f9f2d",
   "metadata": {},
   "source": [
    "### Opis mreže"
   ]
  },
  {
   "cell_type": "code",
   "execution_count": 83,
   "id": "8761c397",
   "metadata": {},
   "outputs": [
    {
     "name": "stdout",
     "output_type": "stream",
     "text": [
      "Model: \"sequential_4\"\n",
      "_________________________________________________________________\n",
      " Layer (type)                Output Shape              Param #   \n",
      "=================================================================\n",
      " conv2d_4 (Conv2D)           (None, 94, 94, 32)        896       \n",
      "                                                                 \n",
      " max_pooling2d_4 (MaxPooling  (None, 47, 47, 32)       0         \n",
      " 2D)                                                             \n",
      "                                                                 \n",
      " conv2d_5 (Conv2D)           (None, 45, 45, 32)        9248      \n",
      "                                                                 \n",
      " max_pooling2d_5 (MaxPooling  (None, 22, 22, 32)       0         \n",
      " 2D)                                                             \n",
      "                                                                 \n",
      " dropout_6 (Dropout)         (None, 22, 22, 32)        0         \n",
      "                                                                 \n",
      " flatten_2 (Flatten)         (None, 15488)             0         \n",
      "                                                                 \n",
      " dense_14 (Dense)            (None, 128)               1982592   \n",
      "                                                                 \n",
      " dropout_7 (Dropout)         (None, 128)               0         \n",
      "                                                                 \n",
      " dense_15 (Dense)            (None, 64)                8256      \n",
      "                                                                 \n",
      " dropout_8 (Dropout)         (None, 64)                0         \n",
      "                                                                 \n",
      " dense_16 (Dense)            (None, 1)                 65        \n",
      "                                                                 \n",
      "=================================================================\n",
      "Total params: 2,001,057\n",
      "Trainable params: 2,001,057\n",
      "Non-trainable params: 0\n",
      "_________________________________________________________________\n"
     ]
    }
   ],
   "source": [
    "cnn2.summary()"
   ]
  },
  {
   "cell_type": "code",
   "execution_count": 70,
   "id": "f6707ebe",
   "metadata": {},
   "outputs": [
    {
     "data": {
      "image/svg+xml": [
       "<svg xmlns=\"http://www.w3.org/2000/svg\" xmlns:xlink=\"http://www.w3.org/1999/xlink\" width=\"205pt\" height=\"766pt\" viewBox=\"0.00 0.00 227.00 848.00\">\n",
       "<g id=\"graph0\" class=\"graph\" transform=\"scale(0.902778 0.902778) rotate(0) translate(4 844)\">\n",
       "<title>G</title>\n",
       "<polygon fill=\"white\" stroke=\"none\" points=\"-4,4 -4,-844 223,-844 223,4 -4,4\"/>\n",
       "<!-- 2197006126048 -->\n",
       "<g id=\"node1\" class=\"node\"><title>2197006126048</title>\n",
       "<polygon fill=\"none\" stroke=\"black\" points=\"41.5,-803.5 41.5,-839.5 177.5,-839.5 177.5,-803.5 41.5,-803.5\"/>\n",
       "<text text-anchor=\"middle\" x=\"71\" y=\"-817.8\" font-family=\"Times New Roman,serif\" font-size=\"14.00\">input_3</text>\n",
       "<polyline fill=\"none\" stroke=\"black\" points=\"100.5,-803.5 100.5,-839.5 \"/>\n",
       "<text text-anchor=\"middle\" x=\"139\" y=\"-817.8\" font-family=\"Times New Roman,serif\" font-size=\"14.00\">InputLayer</text>\n",
       "</g>\n",
       "<!-- 2197006126960 -->\n",
       "<g id=\"node2\" class=\"node\"><title>2197006126960</title>\n",
       "<polygon fill=\"none\" stroke=\"black\" points=\"41,-730.5 41,-766.5 178,-766.5 178,-730.5 41,-730.5\"/>\n",
       "<text text-anchor=\"middle\" x=\"77.5\" y=\"-744.8\" font-family=\"Times New Roman,serif\" font-size=\"14.00\">conv2d_2</text>\n",
       "<polyline fill=\"none\" stroke=\"black\" points=\"114,-730.5 114,-766.5 \"/>\n",
       "<text text-anchor=\"middle\" x=\"146\" y=\"-744.8\" font-family=\"Times New Roman,serif\" font-size=\"14.00\">Conv2D</text>\n",
       "</g>\n",
       "<!-- 2197006126048&#45;&gt;2197006126960 -->\n",
       "<g id=\"edge1\" class=\"edge\"><title>2197006126048-&gt;2197006126960</title>\n",
       "<path fill=\"none\" stroke=\"black\" d=\"M109.5,-803.313C109.5,-795.289 109.5,-785.547 109.5,-776.569\"/>\n",
       "<polygon fill=\"black\" stroke=\"black\" points=\"113,-776.529 109.5,-766.529 106,-776.529 113,-776.529\"/>\n",
       "</g>\n",
       "<!-- 2197006124464 -->\n",
       "<g id=\"node3\" class=\"node\"><title>2197006124464</title>\n",
       "<polygon fill=\"none\" stroke=\"black\" points=\"0,-657.5 0,-693.5 219,-693.5 219,-657.5 0,-657.5\"/>\n",
       "<text text-anchor=\"middle\" x=\"59\" y=\"-671.8\" font-family=\"Times New Roman,serif\" font-size=\"14.00\">max_pooling2d_2</text>\n",
       "<polyline fill=\"none\" stroke=\"black\" points=\"118,-657.5 118,-693.5 \"/>\n",
       "<text text-anchor=\"middle\" x=\"168.5\" y=\"-671.8\" font-family=\"Times New Roman,serif\" font-size=\"14.00\">MaxPooling2D</text>\n",
       "</g>\n",
       "<!-- 2197006126960&#45;&gt;2197006124464 -->\n",
       "<g id=\"edge2\" class=\"edge\"><title>2197006126960-&gt;2197006124464</title>\n",
       "<path fill=\"none\" stroke=\"black\" d=\"M109.5,-730.313C109.5,-722.289 109.5,-712.547 109.5,-703.569\"/>\n",
       "<polygon fill=\"black\" stroke=\"black\" points=\"113,-703.529 109.5,-693.529 106,-703.529 113,-703.529\"/>\n",
       "</g>\n",
       "<!-- 2197006162960 -->\n",
       "<g id=\"node4\" class=\"node\"><title>2197006162960</title>\n",
       "<polygon fill=\"none\" stroke=\"black\" points=\"41,-584.5 41,-620.5 178,-620.5 178,-584.5 41,-584.5\"/>\n",
       "<text text-anchor=\"middle\" x=\"77.5\" y=\"-598.8\" font-family=\"Times New Roman,serif\" font-size=\"14.00\">conv2d_3</text>\n",
       "<polyline fill=\"none\" stroke=\"black\" points=\"114,-584.5 114,-620.5 \"/>\n",
       "<text text-anchor=\"middle\" x=\"146\" y=\"-598.8\" font-family=\"Times New Roman,serif\" font-size=\"14.00\">Conv2D</text>\n",
       "</g>\n",
       "<!-- 2197006124464&#45;&gt;2197006162960 -->\n",
       "<g id=\"edge3\" class=\"edge\"><title>2197006124464-&gt;2197006162960</title>\n",
       "<path fill=\"none\" stroke=\"black\" d=\"M109.5,-657.313C109.5,-649.289 109.5,-639.547 109.5,-630.569\"/>\n",
       "<polygon fill=\"black\" stroke=\"black\" points=\"113,-630.529 109.5,-620.529 106,-630.529 113,-630.529\"/>\n",
       "</g>\n",
       "<!-- 2197006123264 -->\n",
       "<g id=\"node5\" class=\"node\"><title>2197006123264</title>\n",
       "<polygon fill=\"none\" stroke=\"black\" points=\"0,-511.5 0,-547.5 219,-547.5 219,-511.5 0,-511.5\"/>\n",
       "<text text-anchor=\"middle\" x=\"59\" y=\"-525.8\" font-family=\"Times New Roman,serif\" font-size=\"14.00\">max_pooling2d_3</text>\n",
       "<polyline fill=\"none\" stroke=\"black\" points=\"118,-511.5 118,-547.5 \"/>\n",
       "<text text-anchor=\"middle\" x=\"168.5\" y=\"-525.8\" font-family=\"Times New Roman,serif\" font-size=\"14.00\">MaxPooling2D</text>\n",
       "</g>\n",
       "<!-- 2197006162960&#45;&gt;2197006123264 -->\n",
       "<g id=\"edge4\" class=\"edge\"><title>2197006162960-&gt;2197006123264</title>\n",
       "<path fill=\"none\" stroke=\"black\" d=\"M109.5,-584.313C109.5,-576.289 109.5,-566.547 109.5,-557.569\"/>\n",
       "<polygon fill=\"black\" stroke=\"black\" points=\"113,-557.529 109.5,-547.529 106,-557.529 113,-557.529\"/>\n",
       "</g>\n",
       "<!-- 2197006160128 -->\n",
       "<g id=\"node6\" class=\"node\"><title>2197006160128</title>\n",
       "<polygon fill=\"none\" stroke=\"black\" points=\"39.5,-438.5 39.5,-474.5 179.5,-474.5 179.5,-438.5 39.5,-438.5\"/>\n",
       "<text text-anchor=\"middle\" x=\"77.5\" y=\"-452.8\" font-family=\"Times New Roman,serif\" font-size=\"14.00\">dropout_3</text>\n",
       "<polyline fill=\"none\" stroke=\"black\" points=\"115.5,-438.5 115.5,-474.5 \"/>\n",
       "<text text-anchor=\"middle\" x=\"147.5\" y=\"-452.8\" font-family=\"Times New Roman,serif\" font-size=\"14.00\">Dropout</text>\n",
       "</g>\n",
       "<!-- 2197006123264&#45;&gt;2197006160128 -->\n",
       "<g id=\"edge5\" class=\"edge\"><title>2197006123264-&gt;2197006160128</title>\n",
       "<path fill=\"none\" stroke=\"black\" d=\"M109.5,-511.313C109.5,-503.289 109.5,-493.547 109.5,-484.569\"/>\n",
       "<polygon fill=\"black\" stroke=\"black\" points=\"113,-484.529 109.5,-474.529 106,-484.529 113,-484.529\"/>\n",
       "</g>\n",
       "<!-- 2197005857840 -->\n",
       "<g id=\"node7\" class=\"node\"><title>2197005857840</title>\n",
       "<polygon fill=\"none\" stroke=\"black\" points=\"50,-365.5 50,-401.5 169,-401.5 169,-365.5 50,-365.5\"/>\n",
       "<text text-anchor=\"middle\" x=\"82.5\" y=\"-379.8\" font-family=\"Times New Roman,serif\" font-size=\"14.00\">flatten_1</text>\n",
       "<polyline fill=\"none\" stroke=\"black\" points=\"115,-365.5 115,-401.5 \"/>\n",
       "<text text-anchor=\"middle\" x=\"142\" y=\"-379.8\" font-family=\"Times New Roman,serif\" font-size=\"14.00\">Flatten</text>\n",
       "</g>\n",
       "<!-- 2197006160128&#45;&gt;2197005857840 -->\n",
       "<g id=\"edge6\" class=\"edge\"><title>2197006160128-&gt;2197005857840</title>\n",
       "<path fill=\"none\" stroke=\"black\" d=\"M109.5,-438.313C109.5,-430.289 109.5,-420.547 109.5,-411.569\"/>\n",
       "<polygon fill=\"black\" stroke=\"black\" points=\"113,-411.529 109.5,-401.529 106,-411.529 113,-411.529\"/>\n",
       "</g>\n",
       "<!-- 2197005857888 -->\n",
       "<g id=\"node8\" class=\"node\"><title>2197005857888</title>\n",
       "<polygon fill=\"none\" stroke=\"black\" points=\"49,-292.5 49,-328.5 170,-328.5 170,-292.5 49,-292.5\"/>\n",
       "<text text-anchor=\"middle\" x=\"84\" y=\"-306.8\" font-family=\"Times New Roman,serif\" font-size=\"14.00\">dense_11</text>\n",
       "<polyline fill=\"none\" stroke=\"black\" points=\"119,-292.5 119,-328.5 \"/>\n",
       "<text text-anchor=\"middle\" x=\"144.5\" y=\"-306.8\" font-family=\"Times New Roman,serif\" font-size=\"14.00\">Dense</text>\n",
       "</g>\n",
       "<!-- 2197005857840&#45;&gt;2197005857888 -->\n",
       "<g id=\"edge7\" class=\"edge\"><title>2197005857840-&gt;2197005857888</title>\n",
       "<path fill=\"none\" stroke=\"black\" d=\"M109.5,-365.313C109.5,-357.289 109.5,-347.547 109.5,-338.569\"/>\n",
       "<polygon fill=\"black\" stroke=\"black\" points=\"113,-338.529 109.5,-328.529 106,-338.529 113,-338.529\"/>\n",
       "</g>\n",
       "<!-- 2197005858320 -->\n",
       "<g id=\"node9\" class=\"node\"><title>2197005858320</title>\n",
       "<polygon fill=\"none\" stroke=\"black\" points=\"39.5,-219.5 39.5,-255.5 179.5,-255.5 179.5,-219.5 39.5,-219.5\"/>\n",
       "<text text-anchor=\"middle\" x=\"77.5\" y=\"-233.8\" font-family=\"Times New Roman,serif\" font-size=\"14.00\">dropout_4</text>\n",
       "<polyline fill=\"none\" stroke=\"black\" points=\"115.5,-219.5 115.5,-255.5 \"/>\n",
       "<text text-anchor=\"middle\" x=\"147.5\" y=\"-233.8\" font-family=\"Times New Roman,serif\" font-size=\"14.00\">Dropout</text>\n",
       "</g>\n",
       "<!-- 2197005857888&#45;&gt;2197005858320 -->\n",
       "<g id=\"edge8\" class=\"edge\"><title>2197005857888-&gt;2197005858320</title>\n",
       "<path fill=\"none\" stroke=\"black\" d=\"M109.5,-292.313C109.5,-284.289 109.5,-274.547 109.5,-265.569\"/>\n",
       "<polygon fill=\"black\" stroke=\"black\" points=\"113,-265.529 109.5,-255.529 106,-265.529 113,-265.529\"/>\n",
       "</g>\n",
       "<!-- 2197005860336 -->\n",
       "<g id=\"node10\" class=\"node\"><title>2197005860336</title>\n",
       "<polygon fill=\"none\" stroke=\"black\" points=\"49,-146.5 49,-182.5 170,-182.5 170,-146.5 49,-146.5\"/>\n",
       "<text text-anchor=\"middle\" x=\"84\" y=\"-160.8\" font-family=\"Times New Roman,serif\" font-size=\"14.00\">dense_12</text>\n",
       "<polyline fill=\"none\" stroke=\"black\" points=\"119,-146.5 119,-182.5 \"/>\n",
       "<text text-anchor=\"middle\" x=\"144.5\" y=\"-160.8\" font-family=\"Times New Roman,serif\" font-size=\"14.00\">Dense</text>\n",
       "</g>\n",
       "<!-- 2197005858320&#45;&gt;2197005860336 -->\n",
       "<g id=\"edge9\" class=\"edge\"><title>2197005858320-&gt;2197005860336</title>\n",
       "<path fill=\"none\" stroke=\"black\" d=\"M109.5,-219.313C109.5,-211.289 109.5,-201.547 109.5,-192.569\"/>\n",
       "<polygon fill=\"black\" stroke=\"black\" points=\"113,-192.529 109.5,-182.529 106,-192.529 113,-192.529\"/>\n",
       "</g>\n",
       "<!-- 2197005858416 -->\n",
       "<g id=\"node11\" class=\"node\"><title>2197005858416</title>\n",
       "<polygon fill=\"none\" stroke=\"black\" points=\"39.5,-73.5 39.5,-109.5 179.5,-109.5 179.5,-73.5 39.5,-73.5\"/>\n",
       "<text text-anchor=\"middle\" x=\"77.5\" y=\"-87.8\" font-family=\"Times New Roman,serif\" font-size=\"14.00\">dropout_5</text>\n",
       "<polyline fill=\"none\" stroke=\"black\" points=\"115.5,-73.5 115.5,-109.5 \"/>\n",
       "<text text-anchor=\"middle\" x=\"147.5\" y=\"-87.8\" font-family=\"Times New Roman,serif\" font-size=\"14.00\">Dropout</text>\n",
       "</g>\n",
       "<!-- 2197005860336&#45;&gt;2197005858416 -->\n",
       "<g id=\"edge10\" class=\"edge\"><title>2197005860336-&gt;2197005858416</title>\n",
       "<path fill=\"none\" stroke=\"black\" d=\"M109.5,-146.313C109.5,-138.289 109.5,-128.547 109.5,-119.569\"/>\n",
       "<polygon fill=\"black\" stroke=\"black\" points=\"113,-119.529 109.5,-109.529 106,-119.529 113,-119.529\"/>\n",
       "</g>\n",
       "<!-- 2197006201328 -->\n",
       "<g id=\"node12\" class=\"node\"><title>2197006201328</title>\n",
       "<polygon fill=\"none\" stroke=\"black\" points=\"49,-0.5 49,-36.5 170,-36.5 170,-0.5 49,-0.5\"/>\n",
       "<text text-anchor=\"middle\" x=\"84\" y=\"-14.8\" font-family=\"Times New Roman,serif\" font-size=\"14.00\">dense_13</text>\n",
       "<polyline fill=\"none\" stroke=\"black\" points=\"119,-0.5 119,-36.5 \"/>\n",
       "<text text-anchor=\"middle\" x=\"144.5\" y=\"-14.8\" font-family=\"Times New Roman,serif\" font-size=\"14.00\">Dense</text>\n",
       "</g>\n",
       "<!-- 2197005858416&#45;&gt;2197006201328 -->\n",
       "<g id=\"edge11\" class=\"edge\"><title>2197005858416-&gt;2197006201328</title>\n",
       "<path fill=\"none\" stroke=\"black\" d=\"M109.5,-73.3129C109.5,-65.2895 109.5,-55.5475 109.5,-46.5691\"/>\n",
       "<polygon fill=\"black\" stroke=\"black\" points=\"113,-46.5288 109.5,-36.5288 106,-46.5289 113,-46.5288\"/>\n",
       "</g>\n",
       "</g>\n",
       "</svg>"
      ],
      "text/plain": [
       "<IPython.core.display.SVG object>"
      ]
     },
     "metadata": {},
     "output_type": "display_data"
    }
   ],
   "source": [
    "display(SVG(model_to_dot(cnn2, dpi=65).create(prog='dot', format='svg')))"
   ]
  },
  {
   "cell_type": "markdown",
   "id": "24e0b461",
   "metadata": {},
   "source": [
    "### Treniranje mreže"
   ]
  },
  {
   "cell_type": "code",
   "execution_count": 84,
   "id": "ce9f7d91",
   "metadata": {},
   "outputs": [],
   "source": [
    "cnn2.compile(loss='binary_crossentropy', \n",
    "             optimizer=Adam(learning_rate=0.001), \n",
    "             metrics=['accuracy'])"
   ]
  },
  {
   "cell_type": "code",
   "execution_count": 85,
   "id": "226c044f",
   "metadata": {},
   "outputs": [
    {
     "name": "stdout",
     "output_type": "stream",
     "text": [
      "Epoch 1/50\n",
      "154/154 [==============================] - 207s 1s/step - loss: 1.2003 - accuracy: 0.6940 - val_loss: 0.6506 - val_accuracy: 0.7693\n",
      "Epoch 2/50\n",
      "154/154 [==============================] - 107s 697ms/step - loss: 0.5917 - accuracy: 0.7766 - val_loss: 0.5373 - val_accuracy: 0.7922\n",
      "Epoch 3/50\n",
      "154/154 [==============================] - 107s 698ms/step - loss: 0.5372 - accuracy: 0.7811 - val_loss: 0.5086 - val_accuracy: 0.7867\n",
      "Epoch 4/50\n",
      "154/154 [==============================] - 107s 693ms/step - loss: 0.5150 - accuracy: 0.7909 - val_loss: 0.5145 - val_accuracy: 0.7868\n",
      "Epoch 5/50\n",
      "154/154 [==============================] - 108s 702ms/step - loss: 0.5113 - accuracy: 0.7888 - val_loss: 0.4948 - val_accuracy: 0.7952\n",
      "Epoch 6/50\n",
      "154/154 [==============================] - 107s 695ms/step - loss: 0.5070 - accuracy: 0.7889 - val_loss: 0.4886 - val_accuracy: 0.8039\n",
      "Epoch 7/50\n",
      "154/154 [==============================] - 108s 702ms/step - loss: 0.4963 - accuracy: 0.7954 - val_loss: 0.4960 - val_accuracy: 0.7925\n",
      "Epoch 8/50\n",
      "154/154 [==============================] - 107s 695ms/step - loss: 0.4993 - accuracy: 0.7959 - val_loss: 0.4709 - val_accuracy: 0.8085\n",
      "Epoch 9/50\n",
      "154/154 [==============================] - 106s 692ms/step - loss: 0.4889 - accuracy: 0.8022 - val_loss: 0.4994 - val_accuracy: 0.7920\n",
      "Epoch 10/50\n",
      "154/154 [==============================] - 107s 693ms/step - loss: 0.4822 - accuracy: 0.8057 - val_loss: 0.4687 - val_accuracy: 0.8158\n",
      "Epoch 11/50\n",
      "154/154 [==============================] - 107s 693ms/step - loss: 0.4725 - accuracy: 0.8138 - val_loss: 0.4707 - val_accuracy: 0.8096\n",
      "Epoch 12/50\n",
      "154/154 [==============================] - 107s 695ms/step - loss: 0.4789 - accuracy: 0.8112 - val_loss: 0.4673 - val_accuracy: 0.8137\n",
      "Epoch 13/50\n",
      "154/154 [==============================] - 107s 692ms/step - loss: 0.4689 - accuracy: 0.8217 - val_loss: 0.5492 - val_accuracy: 0.7807\n",
      "Epoch 14/50\n",
      "154/154 [==============================] - 106s 692ms/step - loss: 0.4701 - accuracy: 0.8183 - val_loss: 0.4585 - val_accuracy: 0.8265\n",
      "Epoch 15/50\n",
      "154/154 [==============================] - 107s 692ms/step - loss: 0.4677 - accuracy: 0.8202 - val_loss: 0.4539 - val_accuracy: 0.8273\n",
      "Epoch 16/50\n",
      "154/154 [==============================] - 107s 693ms/step - loss: 0.4611 - accuracy: 0.8277 - val_loss: 0.4728 - val_accuracy: 0.8222\n",
      "Epoch 17/50\n",
      "154/154 [==============================] - 106s 692ms/step - loss: 0.4622 - accuracy: 0.8263 - val_loss: 0.5296 - val_accuracy: 0.7908\n",
      "Epoch 18/50\n",
      "154/154 [==============================] - 118s 766ms/step - loss: 0.4615 - accuracy: 0.8298 - val_loss: 0.4558 - val_accuracy: 0.8267\n",
      "Epoch 19/50\n",
      "154/154 [==============================] - 119s 771ms/step - loss: 0.4580 - accuracy: 0.8332 - val_loss: 0.4565 - val_accuracy: 0.8255\n",
      "Epoch 20/50\n",
      "154/154 [==============================] - 111s 719ms/step - loss: 0.4526 - accuracy: 0.8342 - val_loss: 0.4455 - val_accuracy: 0.8308\n",
      "Epoch 21/50\n",
      "154/154 [==============================] - 111s 720ms/step - loss: 0.4485 - accuracy: 0.8348 - val_loss: 0.4448 - val_accuracy: 0.8299\n",
      "Epoch 22/50\n",
      "154/154 [==============================] - 110s 717ms/step - loss: 0.4450 - accuracy: 0.8358 - val_loss: 0.4380 - val_accuracy: 0.8366\n",
      "Epoch 23/50\n",
      "154/154 [==============================] - 110s 718ms/step - loss: 0.4407 - accuracy: 0.8389 - val_loss: 0.4389 - val_accuracy: 0.8369\n",
      "Epoch 24/50\n",
      "154/154 [==============================] - 111s 721ms/step - loss: 0.4365 - accuracy: 0.8432 - val_loss: 0.4570 - val_accuracy: 0.8287\n",
      "Epoch 25/50\n",
      "154/154 [==============================] - 110s 716ms/step - loss: 0.4432 - accuracy: 0.8385 - val_loss: 0.4822 - val_accuracy: 0.8172\n",
      "Epoch 26/50\n",
      "154/154 [==============================] - 110s 717ms/step - loss: 0.4386 - accuracy: 0.8419 - val_loss: 0.4299 - val_accuracy: 0.8416\n",
      "Epoch 27/50\n",
      "154/154 [==============================] - 110s 715ms/step - loss: 0.4336 - accuracy: 0.8462 - val_loss: 0.4415 - val_accuracy: 0.8349\n",
      "Epoch 28/50\n",
      "154/154 [==============================] - 110s 716ms/step - loss: 0.4332 - accuracy: 0.8446 - val_loss: 0.4438 - val_accuracy: 0.8383\n",
      "Epoch 29/50\n",
      "154/154 [==============================] - 110s 714ms/step - loss: 0.4311 - accuracy: 0.8464 - val_loss: 0.4685 - val_accuracy: 0.8303\n",
      "Epoch 30/50\n",
      "154/154 [==============================] - 110s 713ms/step - loss: 0.4289 - accuracy: 0.8476 - val_loss: 0.4220 - val_accuracy: 0.8460\n",
      "Epoch 31/50\n",
      "154/154 [==============================] - 110s 714ms/step - loss: 0.4345 - accuracy: 0.8462 - val_loss: 0.4463 - val_accuracy: 0.8325\n",
      "Epoch 32/50\n",
      "154/154 [==============================] - 110s 718ms/step - loss: 0.4275 - accuracy: 0.8507 - val_loss: 0.4380 - val_accuracy: 0.8422\n",
      "Epoch 33/50\n",
      "154/154 [==============================] - 111s 724ms/step - loss: 0.4252 - accuracy: 0.8507 - val_loss: 0.4302 - val_accuracy: 0.8439\n",
      "Epoch 34/50\n",
      "154/154 [==============================] - 115s 743ms/step - loss: 0.4214 - accuracy: 0.8532 - val_loss: 0.4270 - val_accuracy: 0.8445\n",
      "Epoch 35/50\n",
      "154/154 [==============================] - 109s 708ms/step - loss: 0.4241 - accuracy: 0.8528 - val_loss: 0.4222 - val_accuracy: 0.8453\n",
      "Epoch 36/50\n",
      "154/154 [==============================] - 107s 698ms/step - loss: 0.4184 - accuracy: 0.8562 - val_loss: 0.4285 - val_accuracy: 0.8488\n",
      "Epoch 37/50\n",
      "154/154 [==============================] - 106s 691ms/step - loss: 0.4163 - accuracy: 0.8550 - val_loss: 0.4224 - val_accuracy: 0.8479\n",
      "Epoch 38/50\n",
      "154/154 [==============================] - 107s 694ms/step - loss: 0.4217 - accuracy: 0.8530 - val_loss: 0.4418 - val_accuracy: 0.8448\n",
      "Epoch 39/50\n",
      "154/154 [==============================] - 106s 690ms/step - loss: 0.4124 - accuracy: 0.8575 - val_loss: 0.4481 - val_accuracy: 0.8412\n",
      "Epoch 40/50\n",
      "154/154 [==============================] - 106s 691ms/step - loss: 0.4162 - accuracy: 0.8573 - val_loss: 0.4099 - val_accuracy: 0.8589\n",
      "Epoch 41/50\n",
      "154/154 [==============================] - 107s 694ms/step - loss: 0.4095 - accuracy: 0.8585 - val_loss: 0.4401 - val_accuracy: 0.8441\n",
      "Epoch 42/50\n",
      "154/154 [==============================] - 107s 692ms/step - loss: 0.4120 - accuracy: 0.8622 - val_loss: 0.4540 - val_accuracy: 0.8335\n",
      "Epoch 43/50\n",
      "154/154 [==============================] - 106s 690ms/step - loss: 0.4114 - accuracy: 0.8606 - val_loss: 0.4208 - val_accuracy: 0.8546\n",
      "Epoch 44/50\n",
      "154/154 [==============================] - 106s 692ms/step - loss: 0.4135 - accuracy: 0.8579 - val_loss: 0.4171 - val_accuracy: 0.8554\n",
      "Epoch 45/50\n",
      "154/154 [==============================] - 107s 693ms/step - loss: 0.4101 - accuracy: 0.8618 - val_loss: 0.4200 - val_accuracy: 0.8551\n",
      "Epoch 46/50\n",
      "154/154 [==============================] - 106s 690ms/step - loss: 0.4086 - accuracy: 0.8604 - val_loss: 0.4138 - val_accuracy: 0.8558\n",
      "Epoch 47/50\n",
      "154/154 [==============================] - 106s 690ms/step - loss: 0.4149 - accuracy: 0.8599 - val_loss: 0.4136 - val_accuracy: 0.8534\n",
      "Epoch 48/50\n",
      "154/154 [==============================] - 106s 690ms/step - loss: 0.4113 - accuracy: 0.8633 - val_loss: 0.4309 - val_accuracy: 0.8427\n",
      "Epoch 49/50\n",
      "154/154 [==============================] - 107s 693ms/step - loss: 0.4049 - accuracy: 0.8638 - val_loss: 0.4126 - val_accuracy: 0.8543\n",
      "Epoch 50/50\n",
      "154/154 [==============================] - 107s 692ms/step - loss: 0.4003 - accuracy: 0.8654 - val_loss: 0.4229 - val_accuracy: 0.8570\n"
     ]
    }
   ],
   "source": [
    "history_cnn2 = cnn2.fit(X_train,\n",
    "                        y_train,\n",
    "                        validation_data= (X_validation, y_validation),\n",
    "                        batch_size=128,\n",
    "                        epochs=50)"
   ]
  },
  {
   "cell_type": "code",
   "execution_count": 86,
   "id": "56d8d9cb",
   "metadata": {},
   "outputs": [
    {
     "data": {
      "image/png": "[encoded data removed]",
      "text/plain": [
       "<Figure size 1008x864 with 2 Axes>"
      ]
     },
     "metadata": {
      "needs_background": "light"
     },
     "output_type": "display_data"
    }
   ],
   "source": [
    "plt.figure(figsize=(14,12))\n",
    "\n",
    "plt.subplot(2, 1, 1)\n",
    "\n",
    "plt.plot(np.arange(1, 51), history_cnn2.history['loss'], label='Training')\n",
    "plt.plot(np.arange(1, 51), history_cnn2.history['val_loss'], label='Validation')\n",
    "plt.title('Loss', size=20)\n",
    "plt.xlabel('Epoch', size=14)\n",
    "plt.xticks(np.arange(1, 51, 5))\n",
    "plt.grid()\n",
    "plt.legend()\n",
    "\n",
    "\n",
    "plt.subplot(2, 1, 2)\n",
    "\n",
    "plt.plot(np.arange(1, 51), history_cnn2.history['accuracy'], label='Training')\n",
    "plt.plot(np.arange(1, 51), history_cnn2.history['val_accuracy'], label='Validation')\n",
    "plt.title('Accuracy', size=20)\n",
    "plt.xlabel('Epoch', size=14)\n",
    "plt.xticks(np.arange(1, 51, 5))\n",
    "plt.grid()\n",
    "plt.legend()\n",
    "\n",
    "plt.savefig('assets/pictures/4.DM_2_CNN_Loss_Acc_second_try.jpg')\n",
    "\n",
    "plt.show()"
   ]
  },
  {
   "cell_type": "markdown",
   "id": "4babc4af",
   "metadata": {},
   "source": [
    "### Evaluacija "
   ]
  },
  {
   "cell_type": "code",
   "execution_count": 87,
   "id": "e40a93bc",
   "metadata": {},
   "outputs": [
    {
     "name": "stdout",
     "output_type": "stream",
     "text": [
      "154/154 [==============================] - 26s 171ms/step - loss: 0.3728 - accuracy: 0.8790\n",
      "Training skup accuracy: 0.88%\n",
      "Training skup loss: 0.37284761667251587\n"
     ]
    }
   ],
   "source": [
    "train_scores_cnn2 = cnn2.evaluate(X_train, y_train, batch_size=128)\n",
    "print('Training skup {0}: {1:.2f}%'.format(cnn2.metrics_names[1], train_scores_cnn2[1]))\n",
    "print('Training skup {0}: {1}'.format(cnn2.metrics_names[0], train_scores_cnn2[0]))"
   ]
  },
  {
   "cell_type": "code",
   "execution_count": 88,
   "id": "b35c44c0",
   "metadata": {},
   "outputs": [
    {
     "name": "stdout",
     "output_type": "stream",
     "text": [
      "52/52 [==============================] - 11s 210ms/step - loss: 0.3920 - accuracy: 0.8688\n",
      "Test skup accuracy: 0.87%\n",
      "Test skup loss: 0.3920220136642456\n"
     ]
    }
   ],
   "source": [
    "test_scores_cnn2 = cnn2.evaluate(X_test, y_test, batch_size=128)\n",
    "print('Test skup {0}: {1:.2f}%'.format(cnn2.metrics_names[1], test_scores_cnn2[1]))\n",
    "print('Test skup {0}: {1}'.format(cnn2.metrics_names[0], test_scores_cnn2[0]))"
   ]
  },
  {
   "cell_type": "markdown",
   "id": "e5769cb7",
   "metadata": {},
   "source": [
    "### Čuvanje modela konvolutivne neuronske mreže"
   ]
  },
  {
   "cell_type": "code",
   "execution_count": 89,
   "id": "5d800464",
   "metadata": {},
   "outputs": [
    {
     "name": "stderr",
     "output_type": "stream",
     "text": [
      "WARNING:absl:Found untraced functions such as _jit_compiled_convolution_op, _jit_compiled_convolution_op while saving (showing 2 of 2). These functions will not be directly callable after loading.\n"
     ]
    },
    {
     "name": "stdout",
     "output_type": "stream",
     "text": [
      "INFO:tensorflow:Assets written to: ram://a8513605-92fb-44a7-b219-e177866b57ea/assets\n"
     ]
    },
    {
     "name": "stderr",
     "output_type": "stream",
     "text": [
      "INFO:tensorflow:Assets written to: ram://a8513605-92fb-44a7-b219-e177866b57ea/assets\n"
     ]
    }
   ],
   "source": [
    "with open('models/deep_models/DC_2_CNN_second_classifier.model.pickle', 'wb') as model_file:\n",
    "    pickle.dump(cnn2, model_file)"
   ]
  },
  {
   "cell_type": "markdown",
   "id": "d9fb808d",
   "metadata": {},
   "source": [
    "# 3. Uporedjivanje Train vs. Validation podataka neuronske i konvolutivne mreže\n",
    "Samo popravljene verzije neuronske i konvolutivne mreže posmatramo ovde"
   ]
  },
  {
   "cell_type": "code",
   "execution_count": 90,
   "id": "fa2dd8fd",
   "metadata": {
    "scrolled": false
   },
   "outputs": [
    {
     "data": {
      "image/png": "[encoded data removed]",
      "text/plain": [
       "<Figure size 1296x1008 with 4 Axes>"
      ]
     },
     "metadata": {
      "needs_background": "light"
     },
     "output_type": "display_data"
    }
   ],
   "source": [
    "plt.figure(figsize=(18,14))\n",
    "\n",
    "plt.subplot(2, 2, 1)\n",
    "\n",
    "plt.title('Train vs. Validation - Neuronska i Konvolutivna mreža', size=20)\n",
    "plt.ylabel('Neuronska mreža', size=20)\n",
    "\n",
    "plt.plot(np.arange(1, 51), history2.history['loss'], label='Training')\n",
    "plt.plot(np.arange(1, 51), history2.history['val_loss'], label='Validation')\n",
    "plt.title('Loss', size=10)\n",
    "plt.xlabel('Epoch', size=10)\n",
    "plt.xticks(np.arange(0,51,5))\n",
    "plt.grid()\n",
    "plt.legend()\n",
    "\n",
    "\n",
    "plt.subplot(2, 2, 2)\n",
    "\n",
    "plt.plot(np.arange(1, 51), history2.history['accuracy'], label='Training')\n",
    "plt.plot(np.arange(1, 51), history2.history['val_accuracy'], label='Validation')\n",
    "plt.title('Accuracy', size=10)\n",
    "plt.xlabel('Epoch', size=10)\n",
    "plt.xticks(np.arange(0,51,5))\n",
    "plt.yticks(np.linspace(0.5,1,11))\n",
    "plt.grid()\n",
    "plt.legend()\n",
    "\n",
    "\n",
    "plt.subplot(2, 2, 3)\n",
    "plt.ylabel('Konvolutivna mreža', size=20)\n",
    "\n",
    "plt.plot(np.arange(1, 51), history_cnn2.history['loss'], label='Training')\n",
    "plt.plot(np.arange(1, 51), history_cnn2.history['val_loss'], label='Validation')\n",
    "plt.title('Loss', size=10)\n",
    "plt.xlabel('Epoch', size=10)\n",
    "plt.xticks(np.arange(0,51,5))\n",
    "plt.grid()\n",
    "plt.legend()\n",
    "\n",
    "\n",
    "plt.subplot(2, 2, 4)\n",
    "\n",
    "plt.plot(np.arange(1, 51), history_cnn2.history['accuracy'], label='Training')\n",
    "plt.plot(np.arange(1, 51), history_cnn2.history['val_accuracy'], label='Validation')\n",
    "plt.title('Accuracy', size=10)\n",
    "plt.xlabel('Epoch', size=10)\n",
    "plt.xticks(np.arange(0,51,5))\n",
    "plt.yticks(np.linspace(0.5,1,11))\n",
    "plt.grid()\n",
    "plt.legend()\n",
    "\n",
    "plt.savefig('assets/pictures/5.DM_Conclusion_ANN_vs_CNN.jpg')\n",
    "\n",
    "\n",
    "plt.show()"
   ]
  },
  {
   "cell_type": "markdown",
   "id": "0e420cd7",
   "metadata": {},
   "source": [
    "### Uvećavanje slika i postavljanje na iste podeoke zbog preciznijeg uporedjivanja\n",
    "Rezultati prvih nekoliko epoha će biti isečeni jer će se loss posmatrati na podeoku [0.4, 1], a accuracy na podeoku [0.6, 0.9] zbog preciznijeg uvida u odnos oba poboljšana modela. "
   ]
  },
  {
   "cell_type": "code",
   "execution_count": 91,
   "id": "bbc0d71c",
   "metadata": {},
   "outputs": [
    {
     "data": {
      "image/png": "[encoded data removed]",
      "text/plain": [
       "<Figure size 1296x1008 with 4 Axes>"
      ]
     },
     "metadata": {
      "needs_background": "light"
     },
     "output_type": "display_data"
    }
   ],
   "source": [
    "plt.figure(figsize=(18,14))\n",
    "\n",
    "plt.subplot(2, 2, 1)\n",
    "\n",
    "plt.title('Train vs. Validation - Neuronska i Konvolutivna mreža', size=20)\n",
    "plt.ylabel('Neuronska mreža', size=20)\n",
    "\n",
    "plt.plot(np.arange(1, 51), history2.history['loss'], label='Training')\n",
    "plt.plot(np.arange(1, 51), history2.history['val_loss'], label='Validation')\n",
    "plt.title('Loss', size=10)\n",
    "plt.xlabel('Epoch', size=10)\n",
    "plt.ylim(0.4,1)\n",
    "plt.xticks(np.arange(0,51,5))\n",
    "plt.grid()\n",
    "plt.legend()\n",
    "\n",
    "\n",
    "plt.subplot(2, 2, 2)\n",
    "\n",
    "plt.plot(np.arange(1, 51), history2.history['accuracy'], label='Training')\n",
    "plt.plot(np.arange(1, 51), history2.history['val_accuracy'], label='Validation')\n",
    "plt.title('Accuracy', size=10)\n",
    "plt.xlabel('Epoch', size=10)\n",
    "plt.ylim(0.6,0.9)\n",
    "plt.xticks(np.arange(0,51,5))\n",
    "plt.grid()\n",
    "plt.legend()\n",
    "\n",
    "\n",
    "plt.subplot(2, 2, 3)\n",
    "plt.ylabel('Konvolutivna mreža', size=20)\n",
    "\n",
    "plt.plot(np.arange(1, 51), history_cnn2.history['loss'], label='Training')\n",
    "plt.plot(np.arange(1, 51), history_cnn2.history['val_loss'], label='Validation')\n",
    "plt.title('Loss', size=10)\n",
    "plt.xlabel('Epoch', size=10)\n",
    "plt.ylim(0.4,1)\n",
    "plt.xticks(np.arange(0,51,5))\n",
    "plt.grid()\n",
    "plt.legend()\n",
    "\n",
    "\n",
    "plt.subplot(2, 2, 4)\n",
    "\n",
    "plt.plot(np.arange(1, 51), history_cnn2.history['accuracy'], label='Training')\n",
    "plt.plot(np.arange(1, 51), history_cnn2.history['val_accuracy'], label='Validation')\n",
    "plt.title('Accuracy', size=10)\n",
    "plt.xlabel('Epoch', size=10)\n",
    "plt.ylim(0.6,0.9)\n",
    "plt.xticks(np.arange(0,51,5))\n",
    "plt.grid()\n",
    "plt.legend()\n",
    "\n",
    "plt.savefig('assets/pictures/6.DM_Conclusion_ANN_vs_CNN_zoomed.jpg')\n",
    "\n",
    "\n",
    "plt.show()"
   ]
  },
  {
   "cell_type": "markdown",
   "id": "2f61ccdb",
   "metadata": {},
   "source": [
    "Kovolutivna mreža se ispostavila kao najbolji model za predikciju slika. \n",
    "Iz ovog grafika se vidi da bi potencijalno rezultat mogao biti bolji ako bi mreža duže bila trenirana, tako da je broj epoha dupliran u narednom delu koda."
   ]
  },
  {
   "cell_type": "markdown",
   "id": "7da69da0",
   "metadata": {},
   "source": [
    "# Uporedjivanje rezultata evaluacije nad test podacima\n",
    "Pogledaćemo nad sva 4 trenirana modela (dva preprilagodjena i dva popravljena) kako su se kretali rezultati loss i accuracy nad test podacima."
   ]
  },
  {
   "cell_type": "code",
   "execution_count": 92,
   "id": "55177d91",
   "metadata": {},
   "outputs": [
    {
     "data": {
      "image/png": "[encoded data removed]",
      "text/plain": [
       "<Figure size 1008x576 with 1 Axes>"
      ]
     },
     "metadata": {
      "needs_background": "light"
     },
     "output_type": "display_data"
    }
   ],
   "source": [
    "labels = [\"Neuronska\", \"Neuronska - popravljena\", \"Konvolutivna\", \"Konvolutivna - popravljena\"]\n",
    "losses = [test_scores[0], test_scores2[0],test_scores_cnn[0], test_scores_cnn2[0]]\n",
    "accs = [test_scores[1], test_scores2[1],test_scores_cnn[1], test_scores_cnn2[1]]\n",
    "val_labels = ['Accuracy', 'Loss']\n",
    "vals = [accs, losses]\n",
    "\n",
    "x_axis = np.arange(len(labels))\n",
    "move = [-1/2, 1/2]\n",
    "width = 0.2\n",
    "upper_y_lim = int(max(max(losses), max(accs))) + 1\n",
    "\n",
    "plt.figure(figsize = (14,8))\n",
    "for i in range(len(move)):\n",
    "    plt.bar(x_axis + width*move[i], vals[i], width, edgecolor='gray')\n",
    "\n",
    "plt.xticks(x_axis, labels, rotation = 45, size = 15)\n",
    "plt.yticks(np.linspace(0, upper_y_lim, 16))\n",
    "\n",
    "plt.legend(val_labels)\n",
    "plt.grid(axis = 'y', linewidth = 0.5)\n",
    "\n",
    "plt.savefig('assets/pictures/7.DM_eval_comparisson_ANN_CNN_all_models.jpg')\n",
    "\n",
    "plt.show()"
   ]
  },
  {
   "cell_type": "code",
   "execution_count": 106,
   "id": "d1ea7a24",
   "metadata": {},
   "outputs": [
    {
     "data": {
      "image/png": "[encoded data removed]",
      "text/plain": [
       "<Figure size 864x432 with 1 Axes>"
      ]
     },
     "metadata": {
      "needs_background": "light"
     },
     "output_type": "display_data"
    }
   ],
   "source": [
    "test_scores2\n",
    "test_scores_cnn2\n",
    "\n",
    "labels = [\"Neuronska - popravljena\", \"Konvolutivna - popravljena\"]\n",
    "losses = [test_scores2[0], test_scores_cnn2[0]]\n",
    "accs = [test_scores2[1], test_scores_cnn2[1]]\n",
    "val_labels = ['Accuracy', 'Loss']\n",
    "vals = [accs, losses]\n",
    "\n",
    "x_axis = np.arange(len(labels))\n",
    "move = [-1/2, 1/2]\n",
    "width = 0.1\n",
    "upper_y_lim = int(max(max(losses), max(accs))) + 1\n",
    "\n",
    "plt.figure(figsize = (12,6))\n",
    "for i in range(len(move)):\n",
    "    plt.bar(x_axis + width*move[i], vals[i], width, edgecolor='gray')\n",
    "\n",
    "plt.xticks(x_axis, labels, size = 15)\n",
    "plt.yticks(np.linspace(0, upper_y_lim,(upper_y_lim+1)*5+1))\n",
    "\n",
    "plt.legend(val_labels, loc='center')\n",
    "plt.grid(axis = 'y', linewidth = 0.5)\n",
    "\n",
    "plt.savefig('assets/pictures/8.DM_eval_comparisson_ANN_CNN_fox_fixed_models.jpg')\n",
    "\n",
    "plt.show()"
   ]
  },
  {
   "cell_type": "markdown",
   "id": "c247d568",
   "metadata": {},
   "source": [
    "# 4. Popravljena Konvolutivna mreža - trening na 100 epoha\n",
    "Iz prethodnog se videlo da bi možda uz više epoha popravljena konvolutivna mreža mogla da da bolje rezultate, pa sa 50 epoha podižemo trening mreže na 100 epoha."
   ]
  },
  {
   "cell_type": "code",
   "execution_count": 94,
   "id": "031d9730",
   "metadata": {},
   "outputs": [
    {
     "name": "stdout",
     "output_type": "stream",
     "text": [
      "Epoch 1/100\n",
      "154/154 [==============================] - 158s 1s/step - loss: 0.4049 - accuracy: 0.8651 - val_loss: 0.4116 - val_accuracy: 0.8575\n",
      "Epoch 2/100\n",
      "154/154 [==============================] - 109s 706ms/step - loss: 0.3985 - accuracy: 0.8681 - val_loss: 0.4069 - val_accuracy: 0.8573\n",
      "Epoch 3/100\n",
      "154/154 [==============================] - 107s 698ms/step - loss: 0.3997 - accuracy: 0.8677 - val_loss: 0.4464 - val_accuracy: 0.8464\n",
      "Epoch 4/100\n",
      "154/154 [==============================] - 111s 722ms/step - loss: 0.4046 - accuracy: 0.8684 - val_loss: 0.4083 - val_accuracy: 0.8581\n",
      "Epoch 5/100\n",
      "154/154 [==============================] - 109s 711ms/step - loss: 0.3956 - accuracy: 0.8680 - val_loss: 0.4059 - val_accuracy: 0.8598\n",
      "Epoch 6/100\n",
      "154/154 [==============================] - 110s 713ms/step - loss: 0.4007 - accuracy: 0.8664 - val_loss: 0.4199 - val_accuracy: 0.8578\n",
      "Epoch 7/100\n",
      "154/154 [==============================] - 109s 711ms/step - loss: 0.4008 - accuracy: 0.8696 - val_loss: 0.4126 - val_accuracy: 0.8587\n",
      "Epoch 8/100\n",
      "154/154 [==============================] - 109s 710ms/step - loss: 0.3990 - accuracy: 0.8697 - val_loss: 0.4068 - val_accuracy: 0.8615\n",
      "Epoch 9/100\n",
      "154/154 [==============================] - 109s 710ms/step - loss: 0.3948 - accuracy: 0.8696 - val_loss: 0.4170 - val_accuracy: 0.8554\n",
      "Epoch 10/100\n",
      "154/154 [==============================] - 109s 711ms/step - loss: 0.3947 - accuracy: 0.8719 - val_loss: 0.4231 - val_accuracy: 0.8567\n",
      "Epoch 11/100\n",
      "154/154 [==============================] - 110s 715ms/step - loss: 0.4012 - accuracy: 0.8704 - val_loss: 0.4390 - val_accuracy: 0.8424\n",
      "Epoch 12/100\n",
      "154/154 [==============================] - 109s 711ms/step - loss: 0.3911 - accuracy: 0.8721 - val_loss: 0.4119 - val_accuracy: 0.8621\n",
      "Epoch 13/100\n",
      "154/154 [==============================] - 109s 709ms/step - loss: 0.4006 - accuracy: 0.8694 - val_loss: 0.4107 - val_accuracy: 0.8587\n",
      "Epoch 14/100\n",
      "154/154 [==============================] - 109s 709ms/step - loss: 0.3973 - accuracy: 0.8701 - val_loss: 0.4170 - val_accuracy: 0.8586\n",
      "Epoch 15/100\n",
      "154/154 [==============================] - 109s 710ms/step - loss: 0.3903 - accuracy: 0.8737 - val_loss: 0.4165 - val_accuracy: 0.8624\n",
      "Epoch 16/100\n",
      "154/154 [==============================] - 109s 710ms/step - loss: 0.3953 - accuracy: 0.8727 - val_loss: 0.4105 - val_accuracy: 0.8618\n",
      "Epoch 17/100\n",
      "154/154 [==============================] - 109s 709ms/step - loss: 0.3911 - accuracy: 0.8748 - val_loss: 0.4074 - val_accuracy: 0.8619\n",
      "Epoch 18/100\n",
      "154/154 [==============================] - 109s 710ms/step - loss: 0.3974 - accuracy: 0.8737 - val_loss: 0.4081 - val_accuracy: 0.8654\n",
      "Epoch 19/100\n",
      "154/154 [==============================] - 109s 709ms/step - loss: 0.3937 - accuracy: 0.8732 - val_loss: 0.4093 - val_accuracy: 0.8621\n",
      "Epoch 20/100\n",
      "154/154 [==============================] - 110s 711ms/step - loss: 0.3922 - accuracy: 0.8746 - val_loss: 0.4123 - val_accuracy: 0.8668\n",
      "Epoch 21/100\n",
      "154/154 [==============================] - 109s 708ms/step - loss: 0.3900 - accuracy: 0.8764 - val_loss: 0.4292 - val_accuracy: 0.8486\n",
      "Epoch 22/100\n",
      "154/154 [==============================] - 109s 710ms/step - loss: 0.3916 - accuracy: 0.8751 - val_loss: 0.4093 - val_accuracy: 0.8666\n",
      "Epoch 23/100\n",
      "154/154 [==============================] - 109s 709ms/step - loss: 0.3904 - accuracy: 0.8748 - val_loss: 0.4153 - val_accuracy: 0.8598\n",
      "Epoch 24/100\n",
      "154/154 [==============================] - 109s 708ms/step - loss: 0.3871 - accuracy: 0.8783 - val_loss: 0.4087 - val_accuracy: 0.8674\n",
      "Epoch 25/100\n",
      "154/154 [==============================] - 109s 710ms/step - loss: 0.3892 - accuracy: 0.8777 - val_loss: 0.4111 - val_accuracy: 0.8624\n",
      "Epoch 26/100\n",
      "154/154 [==============================] - 109s 707ms/step - loss: 0.3869 - accuracy: 0.8760 - val_loss: 0.4018 - val_accuracy: 0.8673\n",
      "Epoch 27/100\n",
      "154/154 [==============================] - 109s 708ms/step - loss: 0.3890 - accuracy: 0.8773 - val_loss: 0.4093 - val_accuracy: 0.8644\n",
      "Epoch 28/100\n",
      "154/154 [==============================] - 109s 711ms/step - loss: 0.3846 - accuracy: 0.8772 - val_loss: 0.4167 - val_accuracy: 0.8644\n",
      "Epoch 29/100\n",
      "154/154 [==============================] - 107s 692ms/step - loss: 0.3832 - accuracy: 0.8778 - val_loss: 0.4133 - val_accuracy: 0.8677\n",
      "Epoch 30/100\n",
      "154/154 [==============================] - 106s 692ms/step - loss: 0.3830 - accuracy: 0.8796 - val_loss: 0.4331 - val_accuracy: 0.8538\n",
      "Epoch 31/100\n",
      "154/154 [==============================] - 107s 692ms/step - loss: 0.3828 - accuracy: 0.8782 - val_loss: 0.4170 - val_accuracy: 0.8674\n",
      "Epoch 32/100\n",
      "154/154 [==============================] - 107s 698ms/step - loss: 0.3857 - accuracy: 0.8793 - val_loss: 0.3964 - val_accuracy: 0.8702\n",
      "Epoch 33/100\n",
      "154/154 [==============================] - 107s 692ms/step - loss: 0.3812 - accuracy: 0.8808 - val_loss: 0.4256 - val_accuracy: 0.8625\n",
      "Epoch 34/100\n",
      "154/154 [==============================] - 107s 693ms/step - loss: 0.3858 - accuracy: 0.8798 - val_loss: 0.4144 - val_accuracy: 0.8703\n",
      "Epoch 35/100\n",
      "154/154 [==============================] - 106s 692ms/step - loss: 0.3857 - accuracy: 0.8800 - val_loss: 0.4066 - val_accuracy: 0.8714\n",
      "Epoch 36/100\n",
      "154/154 [==============================] - 107s 693ms/step - loss: 0.3826 - accuracy: 0.8793 - val_loss: 0.4077 - val_accuracy: 0.8671\n",
      "Epoch 37/100\n",
      "154/154 [==============================] - 107s 695ms/step - loss: 0.3794 - accuracy: 0.8843 - val_loss: 0.4089 - val_accuracy: 0.8702\n",
      "Epoch 38/100\n",
      "154/154 [==============================] - 107s 693ms/step - loss: 0.3815 - accuracy: 0.8820 - val_loss: 0.4215 - val_accuracy: 0.8616\n",
      "Epoch 39/100\n",
      "154/154 [==============================] - 106s 691ms/step - loss: 0.3883 - accuracy: 0.8788 - val_loss: 0.4101 - val_accuracy: 0.8674\n",
      "Epoch 40/100\n",
      "154/154 [==============================] - 106s 691ms/step - loss: 0.3823 - accuracy: 0.8807 - val_loss: 0.4388 - val_accuracy: 0.8612\n",
      "Epoch 41/100\n",
      "154/154 [==============================] - 106s 691ms/step - loss: 0.3870 - accuracy: 0.8819 - val_loss: 0.4105 - val_accuracy: 0.8697\n",
      "Epoch 42/100\n",
      "154/154 [==============================] - 106s 692ms/step - loss: 0.3805 - accuracy: 0.8841 - val_loss: 0.4146 - val_accuracy: 0.8682\n",
      "Epoch 43/100\n",
      "154/154 [==============================] - 106s 691ms/step - loss: 0.3878 - accuracy: 0.8848 - val_loss: 0.4086 - val_accuracy: 0.8721\n",
      "Epoch 44/100\n",
      "154/154 [==============================] - 106s 690ms/step - loss: 0.3781 - accuracy: 0.8863 - val_loss: 0.4120 - val_accuracy: 0.8692\n",
      "Epoch 45/100\n",
      "154/154 [==============================] - 107s 695ms/step - loss: 0.3841 - accuracy: 0.8851 - val_loss: 0.4221 - val_accuracy: 0.8671\n",
      "Epoch 46/100\n",
      "154/154 [==============================] - 108s 704ms/step - loss: 0.3797 - accuracy: 0.8876 - val_loss: 0.4046 - val_accuracy: 0.8746\n",
      "Epoch 47/100\n",
      "154/154 [==============================] - 109s 711ms/step - loss: 0.3801 - accuracy: 0.8861 - val_loss: 0.4126 - val_accuracy: 0.8682\n",
      "Epoch 48/100\n",
      "154/154 [==============================] - 111s 720ms/step - loss: 0.3765 - accuracy: 0.8865 - val_loss: 0.4262 - val_accuracy: 0.8628\n",
      "Epoch 49/100\n",
      "154/154 [==============================] - 109s 708ms/step - loss: 0.3805 - accuracy: 0.8889 - val_loss: 0.4016 - val_accuracy: 0.8750\n",
      "Epoch 50/100\n",
      "154/154 [==============================] - 109s 708ms/step - loss: 0.3765 - accuracy: 0.8871 - val_loss: 0.4026 - val_accuracy: 0.8773\n",
      "Epoch 51/100\n",
      "154/154 [==============================] - 109s 710ms/step - loss: 0.3762 - accuracy: 0.8885 - val_loss: 0.4131 - val_accuracy: 0.8697\n",
      "Epoch 52/100\n",
      "154/154 [==============================] - 111s 719ms/step - loss: 0.3741 - accuracy: 0.8901 - val_loss: 0.4033 - val_accuracy: 0.8772\n",
      "Epoch 53/100\n",
      "154/154 [==============================] - 109s 711ms/step - loss: 0.3803 - accuracy: 0.8883 - val_loss: 0.4272 - val_accuracy: 0.8712\n",
      "Epoch 54/100\n",
      "154/154 [==============================] - 109s 710ms/step - loss: 0.3759 - accuracy: 0.8893 - val_loss: 0.4079 - val_accuracy: 0.8711\n",
      "Epoch 55/100\n",
      "154/154 [==============================] - 109s 711ms/step - loss: 0.3739 - accuracy: 0.8888 - val_loss: 0.4079 - val_accuracy: 0.8717\n",
      "Epoch 56/100\n"
     ]
    },
    {
     "name": "stdout",
     "output_type": "stream",
     "text": [
      "154/154 [==============================] - 110s 711ms/step - loss: 0.3761 - accuracy: 0.8906 - val_loss: 0.4082 - val_accuracy: 0.8732\n",
      "Epoch 57/100\n",
      "154/154 [==============================] - 109s 710ms/step - loss: 0.3819 - accuracy: 0.8883 - val_loss: 0.4147 - val_accuracy: 0.8720\n",
      "Epoch 58/100\n",
      "154/154 [==============================] - 110s 712ms/step - loss: 0.3780 - accuracy: 0.8876 - val_loss: 0.4023 - val_accuracy: 0.8769\n",
      "Epoch 59/100\n",
      "154/154 [==============================] - 110s 713ms/step - loss: 0.3747 - accuracy: 0.8909 - val_loss: 0.4199 - val_accuracy: 0.8723\n",
      "Epoch 60/100\n",
      "154/154 [==============================] - 109s 709ms/step - loss: 0.3768 - accuracy: 0.8893 - val_loss: 0.4088 - val_accuracy: 0.8756\n",
      "Epoch 61/100\n",
      "154/154 [==============================] - 109s 710ms/step - loss: 0.3715 - accuracy: 0.8924 - val_loss: 0.4053 - val_accuracy: 0.8782\n",
      "Epoch 62/100\n",
      "154/154 [==============================] - 109s 709ms/step - loss: 0.3761 - accuracy: 0.8935 - val_loss: 0.4048 - val_accuracy: 0.8811\n",
      "Epoch 63/100\n",
      "154/154 [==============================] - 109s 710ms/step - loss: 0.3771 - accuracy: 0.8914 - val_loss: 0.4136 - val_accuracy: 0.8763\n",
      "Epoch 64/100\n",
      "154/154 [==============================] - 110s 712ms/step - loss: 0.3804 - accuracy: 0.8898 - val_loss: 0.4082 - val_accuracy: 0.8772\n",
      "Epoch 65/100\n",
      "154/154 [==============================] - 109s 711ms/step - loss: 0.3743 - accuracy: 0.8904 - val_loss: 0.4020 - val_accuracy: 0.8753\n",
      "Epoch 66/100\n",
      "154/154 [==============================] - 109s 710ms/step - loss: 0.3719 - accuracy: 0.8932 - val_loss: 0.4220 - val_accuracy: 0.8650\n",
      "Epoch 67/100\n",
      "154/154 [==============================] - 110s 713ms/step - loss: 0.3721 - accuracy: 0.8934 - val_loss: 0.4311 - val_accuracy: 0.8697\n",
      "Epoch 68/100\n",
      "154/154 [==============================] - 110s 717ms/step - loss: 0.3747 - accuracy: 0.8922 - val_loss: 0.4163 - val_accuracy: 0.8760\n",
      "Epoch 69/100\n",
      "154/154 [==============================] - 110s 713ms/step - loss: 0.3821 - accuracy: 0.8909 - val_loss: 0.4084 - val_accuracy: 0.8743\n",
      "Epoch 70/100\n",
      "154/154 [==============================] - 110s 712ms/step - loss: 0.3797 - accuracy: 0.8914 - val_loss: 0.4134 - val_accuracy: 0.8766\n",
      "Epoch 71/100\n",
      "154/154 [==============================] - 110s 712ms/step - loss: 0.3786 - accuracy: 0.8946 - val_loss: 0.4097 - val_accuracy: 0.8770\n",
      "Epoch 72/100\n",
      "154/154 [==============================] - 110s 712ms/step - loss: 0.3696 - accuracy: 0.8964 - val_loss: 0.4072 - val_accuracy: 0.8770\n",
      "Epoch 73/100\n",
      "154/154 [==============================] - 110s 712ms/step - loss: 0.3724 - accuracy: 0.8932 - val_loss: 0.4150 - val_accuracy: 0.8761\n",
      "Epoch 74/100\n",
      "154/154 [==============================] - 107s 698ms/step - loss: 0.3660 - accuracy: 0.8980 - val_loss: 0.4201 - val_accuracy: 0.8692\n",
      "Epoch 75/100\n",
      "154/154 [==============================] - 106s 692ms/step - loss: 0.3768 - accuracy: 0.8922 - val_loss: 0.4116 - val_accuracy: 0.8773\n",
      "Epoch 76/100\n",
      "154/154 [==============================] - 106s 691ms/step - loss: 0.3733 - accuracy: 0.8952 - val_loss: 0.4214 - val_accuracy: 0.8729\n",
      "Epoch 77/100\n",
      "154/154 [==============================] - 106s 692ms/step - loss: 0.3769 - accuracy: 0.8917 - val_loss: 0.4077 - val_accuracy: 0.8772\n",
      "Epoch 78/100\n",
      "154/154 [==============================] - 111s 720ms/step - loss: 0.3718 - accuracy: 0.8964 - val_loss: 0.4084 - val_accuracy: 0.8796\n",
      "Epoch 79/100\n",
      "154/154 [==============================] - 110s 716ms/step - loss: 0.3722 - accuracy: 0.8960 - val_loss: 0.4125 - val_accuracy: 0.8799\n",
      "Epoch 80/100\n",
      "154/154 [==============================] - 111s 720ms/step - loss: 0.3725 - accuracy: 0.8956 - val_loss: 0.4060 - val_accuracy: 0.8767\n",
      "Epoch 81/100\n",
      "154/154 [==============================] - 110s 716ms/step - loss: 0.3721 - accuracy: 0.8956 - val_loss: 0.4283 - val_accuracy: 0.8776\n",
      "Epoch 82/100\n",
      "154/154 [==============================] - 110s 714ms/step - loss: 0.3731 - accuracy: 0.8968 - val_loss: 0.4166 - val_accuracy: 0.8764\n",
      "Epoch 83/100\n",
      "154/154 [==============================] - 110s 713ms/step - loss: 0.3716 - accuracy: 0.8954 - val_loss: 0.4101 - val_accuracy: 0.8778\n",
      "Epoch 84/100\n",
      "154/154 [==============================] - 111s 723ms/step - loss: 0.3688 - accuracy: 0.8980 - val_loss: 0.4102 - val_accuracy: 0.8776\n",
      "Epoch 85/100\n",
      "154/154 [==============================] - 109s 710ms/step - loss: 0.3674 - accuracy: 0.9000 - val_loss: 0.4109 - val_accuracy: 0.8799\n",
      "Epoch 86/100\n",
      "154/154 [==============================] - 109s 711ms/step - loss: 0.3662 - accuracy: 0.9007 - val_loss: 0.4136 - val_accuracy: 0.8789\n",
      "Epoch 87/100\n",
      "154/154 [==============================] - 110s 712ms/step - loss: 0.3631 - accuracy: 0.8979 - val_loss: 0.4187 - val_accuracy: 0.8752\n",
      "Epoch 88/100\n",
      "154/154 [==============================] - 109s 711ms/step - loss: 0.3727 - accuracy: 0.8988 - val_loss: 0.4051 - val_accuracy: 0.8824\n",
      "Epoch 89/100\n",
      "154/154 [==============================] - 110s 713ms/step - loss: 0.3670 - accuracy: 0.9002 - val_loss: 0.4149 - val_accuracy: 0.8795\n",
      "Epoch 90/100\n",
      "154/154 [==============================] - 110s 712ms/step - loss: 0.3653 - accuracy: 0.9022 - val_loss: 0.4243 - val_accuracy: 0.8772\n",
      "Epoch 91/100\n",
      "154/154 [==============================] - 110s 716ms/step - loss: 0.3720 - accuracy: 0.8985 - val_loss: 0.4129 - val_accuracy: 0.8821\n",
      "Epoch 92/100\n",
      "154/154 [==============================] - 109s 709ms/step - loss: 0.3669 - accuracy: 0.9007 - val_loss: 0.4281 - val_accuracy: 0.8807\n",
      "Epoch 93/100\n",
      "154/154 [==============================] - 109s 711ms/step - loss: 0.3829 - accuracy: 0.8982 - val_loss: 0.4312 - val_accuracy: 0.8805\n",
      "Epoch 94/100\n",
      "154/154 [==============================] - 109s 711ms/step - loss: 0.3679 - accuracy: 0.9021 - val_loss: 0.4280 - val_accuracy: 0.8750\n",
      "Epoch 95/100\n",
      "154/154 [==============================] - 109s 710ms/step - loss: 0.3693 - accuracy: 0.9006 - val_loss: 0.4215 - val_accuracy: 0.8825\n",
      "Epoch 96/100\n",
      "154/154 [==============================] - 109s 710ms/step - loss: 0.3773 - accuracy: 0.8991 - val_loss: 0.4199 - val_accuracy: 0.8761\n",
      "Epoch 97/100\n",
      "154/154 [==============================] - 110s 713ms/step - loss: 0.3611 - accuracy: 0.9031 - val_loss: 0.4102 - val_accuracy: 0.8842\n",
      "Epoch 98/100\n",
      "154/154 [==============================] - 111s 719ms/step - loss: 0.3703 - accuracy: 0.9003 - val_loss: 0.4200 - val_accuracy: 0.8785\n",
      "Epoch 99/100\n",
      "154/154 [==============================] - 116s 753ms/step - loss: 0.3699 - accuracy: 0.8995 - val_loss: 0.4160 - val_accuracy: 0.8816\n",
      "Epoch 100/100\n",
      "154/154 [==============================] - 110s 716ms/step - loss: 0.3667 - accuracy: 0.9036 - val_loss: 0.4146 - val_accuracy: 0.8816\n"
     ]
    }
   ],
   "source": [
    "history_cnn3 = cnn2.fit(X_train,\n",
    "                        y_train,\n",
    "                        validation_data= (X_validation, y_validation),\n",
    "                        batch_size=128,\n",
    "                        epochs=100)"
   ]
  },
  {
   "cell_type": "markdown",
   "id": "ae2c8465",
   "metadata": {},
   "source": [
    "### Finalna evaluacija konvolutivne mreže"
   ]
  },
  {
   "cell_type": "code",
   "execution_count": 99,
   "id": "fc03053e",
   "metadata": {},
   "outputs": [
    {
     "name": "stdout",
     "output_type": "stream",
     "text": [
      "Evaluacija nad trening podacima:\n",
      "\n",
      "154/154 [==============================] - 29s 186ms/step - loss: 0.3104 - accuracy: 0.9276\n",
      "loss: 0.3104158639907837\n",
      "accuracy: 0.9275686740875244\n",
      "Poboljšanje tacnosti: 5.53%\n"
     ]
    }
   ],
   "source": [
    "print('Evaluacija nad trening podacima:\\n')\n",
    "\n",
    "train_scores_cnn_f = cnn2.evaluate(X_train, y_train, batch_size=128)\n",
    "print('{0}: {1}'.format(loss, train_scores_cnn_f[0]))\n",
    "print('{0}: {1}'.format(acc, train_scores_cnn_f[1]))\n",
    "\n",
    "poboljšanje = (train_scores_cnn_f[1]*100)/train_scores_cnn2[1] - 100\n",
    "\n",
    "print('Poboljšanje tacnosti: {:.2f}%'.format(poboljšanje))"
   ]
  },
  {
   "cell_type": "code",
   "execution_count": 98,
   "id": "3056478f",
   "metadata": {},
   "outputs": [
    {
     "name": "stdout",
     "output_type": "stream",
     "text": [
      "Evaluacija nad test podacima:\n",
      "\n",
      "52/52 [==============================] - 11s 207ms/step - loss: 0.3871 - accuracy: 0.8933\n",
      "Test skup loss: 0.3870885372161865\n",
      "Test skup accuracy: 0.8933475613594055\n",
      "Poboljšanje tacnosti: 2.83%\n"
     ]
    }
   ],
   "source": [
    "print('Evaluacija nad test podacima:\\n')\n",
    "\n",
    "test_scores_cnn_f = cnn2.evaluate(X_test, y_test, batch_size=128)\n",
    "print('Test skup {0}: {1}'.format(loss, test_scores_cnn_f[0]))\n",
    "print('Test skup {0}: {1}'.format(acc, test_scores_cnn_f[1]))\n",
    "\n",
    "poboljšanje = (test_scores_cnn_f[1]*100)/test_scores_cnn2[1] - 100\n",
    "\n",
    "print('Poboljšanje tacnosti: {:.2f}%'.format(poboljšanje))"
   ]
  },
  {
   "cell_type": "markdown",
   "id": "fc111c05",
   "metadata": {},
   "source": [
    "### Poboljšanje nakon dupliranja epoha"
   ]
  },
  {
   "cell_type": "code",
   "execution_count": 105,
   "id": "66b2b449",
   "metadata": {},
   "outputs": [
    {
     "data": {
      "image/png": "[encoded data removed]",
      "text/plain": [
       "<Figure size 1296x1008 with 4 Axes>"
      ]
     },
     "metadata": {
      "needs_background": "light"
     },
     "output_type": "display_data"
    }
   ],
   "source": [
    "plt.figure(figsize=(18,14))\n",
    "\n",
    "plt.subplot(2, 2, 1)\n",
    "\n",
    "plt.plot(np.arange(1, 51), history_cnn2.history['loss'], label='Training')\n",
    "plt.plot(np.arange(1, 51), history_cnn2.history['val_loss'], label='Validation')\n",
    "plt.title('Loss', size=15)\n",
    "plt.xlabel('Epoch', size=15)\n",
    "plt.ylabel('50 Epochs', size=15)\n",
    "plt.ylim(0.2,1)\n",
    "plt.xticks(np.arange(0,51,5))\n",
    "plt.grid()\n",
    "plt.legend()\n",
    "\n",
    "\n",
    "plt.subplot(2, 2, 2)\n",
    "\n",
    "plt.plot(np.arange(1, 101), history_cnn3.history['loss'], label='Training')\n",
    "plt.plot(np.arange(1, 101), history_cnn3.history['val_loss'], label='Validation')\n",
    "plt.title('Loss', size=15)\n",
    "plt.xlabel('Epoch', size=15)\n",
    "plt.ylabel('100 Epochs', size=15)\n",
    "plt.ylim(0.2,1)\n",
    "plt.xticks(np.arange(0,101,10))\n",
    "plt.grid()\n",
    "plt.legend()\n",
    "\n",
    "\n",
    "\n",
    "plt.subplot(2, 2, 3)\n",
    "\n",
    "plt.plot(np.arange(1, 51), history_cnn2.history['accuracy'], label='Training')\n",
    "plt.plot(np.arange(1, 51), history_cnn2.history['val_accuracy'], label='Validation')\n",
    "plt.title('Accuracy', size=15)\n",
    "plt.xlabel('Epoch', size=15)\n",
    "plt.ylabel('50 Epochs', size=15)\n",
    "plt.ylim(0.6,1)\n",
    "plt.xticks(np.arange(0,51,5))\n",
    "plt.grid()\n",
    "plt.legend()\n",
    "\n",
    "plt.subplot(2, 2, 4)\n",
    "\n",
    "plt.plot(np.arange(1, 101), history_cnn3.history['accuracy'], label='Training')\n",
    "plt.plot(np.arange(1, 101), history_cnn3.history['val_accuracy'], label='Validation')\n",
    "plt.title('Accuracy', size=15)\n",
    "plt.xlabel('Epoch', size=15)\n",
    "plt.ylabel('100 Epochs', size=15)\n",
    "plt.ylim(0.6,1)\n",
    "plt.xticks(np.arange(0,101,10))\n",
    "plt.grid()\n",
    "plt.legend()\n",
    "\n",
    "plt.savefig('assets/pictures/9.DM_final_CNN_comparisson_100_vs_50_epochs_zoomed.jpg')\n",
    "\n",
    "\n",
    "plt.show()"
   ]
  },
  {
   "cell_type": "code",
   "execution_count": 103,
   "id": "b441cd35",
   "metadata": {},
   "outputs": [
    {
     "data": {
      "image/png": "[encoded data removed]",
      "text/plain": [
       "<Figure size 864x432 with 1 Axes>"
      ]
     },
     "metadata": {
      "needs_background": "light"
     },
     "output_type": "display_data"
    }
   ],
   "source": [
    "labels = [\"50 Epoha\", \"100 Epoha\"]\n",
    "losses = [test_scores_cnn2[0], test_scores_cnn_f[0]]\n",
    "accs = [test_scores_cnn2[1], test_scores_cnn_f[1]]\n",
    "val_labels = ['Accuracy', 'Loss']\n",
    "vals = [accs, losses]\n",
    "\n",
    "x_axis = np.arange(len(labels))\n",
    "move = [-1/2, 1/2]\n",
    "width = 0.1\n",
    "upper_y_lim = int(max(max(losses), max(accs))) + 1\n",
    "\n",
    "plt.figure(figsize = (12,6))\n",
    "plt.title(\"Popravljena konvolutivna mreža: 50 vs 100 epoha\", size = 20)\n",
    "for i in range(len(move)):\n",
    "    plt.bar(x_axis + width*move[i], vals[i], width, edgecolor='gray')\n",
    "\n",
    "plt.xticks(x_axis, labels, size = 15)\n",
    "plt.yticks(np.linspace(0, upper_y_lim,(upper_y_lim+1)*5+1))\n",
    "\n",
    "plt.legend(val_labels, loc='center')\n",
    "plt.grid(axis = 'y', linewidth = 0.5)\n",
    "\n",
    "plt.savefig('assets/pictures/10.DM_final_CNN_eval_comparisson_100_vs_50_epochs.jpg')\n",
    "\n",
    "plt.show()"
   ]
  },
  {
   "cell_type": "markdown",
   "id": "f11fa119",
   "metadata": {},
   "source": [
    "# Zaključak\n",
    "Najbolji model koji je dobijen iz svih dosadašnjih klasifikacija je Konvolutivna neuronska mreža. U ovom slučaju, najbolji rezultat, dobijen nakon regularizacije i 100 epoha treniranja, je **89.33%** preciznosti predvidjanja slika limfnih čvorova."
   ]
  }
 ],
 "metadata": {
  "kernelspec": {
   "display_name": "Python 3 (ipykernel)",
   "language": "python",
   "name": "python3"
  },
  "language_info": {
   "codemirror_mode": {
    "name": "ipython",
    "version": 3
   },
   "file_extension": ".py",
   "mimetype": "text/x-python",
   "name": "python",
   "nbconvert_exporter": "python",
   "pygments_lexer": "ipython3",
   "version": "3.9.7"
  }
 },
 "nbformat": 4,
 "nbformat_minor": 5
}
