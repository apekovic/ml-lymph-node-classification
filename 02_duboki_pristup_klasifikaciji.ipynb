{
 "cells": [
  {
   "cell_type": "code",
   "execution_count": 257,
   "id": "efcf15d2",
   "metadata": {},
   "outputs": [],
   "source": [
    "import numpy as np\n",
    "import pandas as pd\n",
    "import matplotlib.pyplot as plt\n",
    "%matplotlib inline\n",
    "\n",
    "import h5py\n",
    "\n",
    "import tensorflow as tf\n",
    "\n",
    "from tensorflow.keras.preprocessing.image import ImageDataGenerator\n",
    "from tensorflow.keras.models import Sequential\n",
    "from tensorflow.keras.layers import InputLayer, Dense, Input, Dropout, Flatten, Conv2D,MaxPool2D\n",
    "from tensorflow.keras.losses import CategoricalCrossentropy\n",
    "from tensorflow.keras.optimizers import Adam\n",
    "\n",
    "from tensorflow.keras import utils\n",
    "from tensorflow.keras import backend as K\n",
    "\n",
    "from sklearn.model_selection import train_test_split\n",
    "from sklearn.preprocessing import StandardScaler\n",
    "\n",
    "import pydot\n",
    "from IPython.display import SVG\n",
    "from tensorflow.keras.utils import model_to_dot"
   ]
  },
  {
   "cell_type": "code",
   "execution_count": 258,
   "id": "4aa1f4a6",
   "metadata": {},
   "outputs": [
    {
     "data": {
      "text/plain": [
       "'2.9.1'"
      ]
     },
     "execution_count": 258,
     "metadata": {},
     "output_type": "execute_result"
    }
   ],
   "source": [
    "tf.__version__"
   ]
  },
  {
   "cell_type": "code",
   "execution_count": 440,
   "id": "ddb177ce",
   "metadata": {},
   "outputs": [
    {
     "name": "stdout",
     "output_type": "stream",
     "text": [
      "X shape =  (32768, 96, 96, 3)\n",
      "y shape =  (32768, 1, 1, 1)\n"
     ]
    }
   ],
   "source": [
    "hdf5_x_file = 'dataset/camelyonpatch_x.h5'\n",
    "hdf5_y_file = 'dataset/camelyonpatch_y.h5'\n",
    "\n",
    "hfx = h5py.File(hdf5_x_file, 'r')\n",
    "hfy = h5py.File(hdf5_y_file, 'r')\n",
    "\n",
    "X = hfx['x']\n",
    "y = hfy['y']\n",
    "\n",
    "print(\"X shape = \",X.shape)\n",
    "print(\"y shape = \",y.shape)"
   ]
  },
  {
   "cell_type": "markdown",
   "id": "1b2e215b",
   "metadata": {},
   "source": [
    "### Konvertovanje u np.array"
   ]
  },
  {
   "cell_type": "code",
   "execution_count": 441,
   "id": "06360254",
   "metadata": {},
   "outputs": [],
   "source": [
    "X = np.array(X)[:12000]\n",
    "y = np.array(y)[:12000]"
   ]
  },
  {
   "cell_type": "markdown",
   "id": "23c8e323",
   "metadata": {},
   "source": [
    "### Reshape iz  4D u 2D"
   ]
  },
  {
   "cell_type": "code",
   "execution_count": 261,
   "id": "6fd14ce4",
   "metadata": {},
   "outputs": [
    {
     "name": "stdout",
     "output_type": "stream",
     "text": [
      "2D X shape =  (12000, 27648)\n",
      "2D y shape =  (12000,)\n"
     ]
    }
   ],
   "source": [
    "nsamples, nx, ny, nrgb = X.shape\n",
    "X_reshape = X.reshape((nsamples,nx*ny*nrgb))\n",
    "print('2D X shape = ',X_reshape.shape)\n",
    "\n",
    "y_reshape = y.ravel()\n",
    "print('2D y shape = ',y_reshape.shape)"
   ]
  },
  {
   "cell_type": "code",
   "execution_count": 63,
   "id": "5b92faef",
   "metadata": {},
   "outputs": [
    {
     "name": "stdout",
     "output_type": "stream",
     "text": [
      "[[247 246 244 ... 243 241 244]\n",
      " [216 166 203 ... 227 213 226]\n",
      " [184 155 186 ... 251 205 242]\n",
      " ...\n",
      " [111  89 189 ... 106 106 142]\n",
      " [175 131 218 ... 174  94 183]\n",
      " [178 138 227 ...  15  39 101]]\n"
     ]
    }
   ],
   "source": [
    "print(X_reshape)"
   ]
  },
  {
   "cell_type": "code",
   "execution_count": 64,
   "id": "f88a0ded",
   "metadata": {},
   "outputs": [
    {
     "name": "stdout",
     "output_type": "stream",
     "text": [
      "[0 1 0 ... 1 1 1]\n"
     ]
    }
   ],
   "source": [
    "print(y_reshape)"
   ]
  },
  {
   "cell_type": "code",
   "execution_count": 262,
   "id": "959aff44",
   "metadata": {},
   "outputs": [],
   "source": [
    "X_train, X_test_and_val, y_train, y_test_and_val = train_test_split(X_reshape, y_reshape, test_size = 0.4, random_state = 42, stratify = y_reshape )\n",
    "X_test, X_validation, y_test, y_validation = train_test_split(X_test_and_val, y_test_and_val, train_size = 0.5, random_state = 42, stratify = y_test_and_val)"
   ]
  },
  {
   "cell_type": "code",
   "execution_count": 263,
   "id": "e3135ec1",
   "metadata": {},
   "outputs": [],
   "source": [
    "del X_reshape, y_reshape"
   ]
  },
  {
   "cell_type": "code",
   "execution_count": 264,
   "id": "11d87c48",
   "metadata": {},
   "outputs": [
    {
     "data": {
      "text/plain": [
       "(7200, 27648)"
      ]
     },
     "execution_count": 264,
     "metadata": {},
     "output_type": "execute_result"
    }
   ],
   "source": [
    "X_train.shape"
   ]
  },
  {
   "cell_type": "code",
   "execution_count": 265,
   "id": "ea8d9a37",
   "metadata": {},
   "outputs": [
    {
     "data": {
      "text/plain": [
       "(2400, 27648)"
      ]
     },
     "execution_count": 265,
     "metadata": {},
     "output_type": "execute_result"
    }
   ],
   "source": [
    "X_test.shape"
   ]
  },
  {
   "cell_type": "code",
   "execution_count": 266,
   "id": "cab8f574",
   "metadata": {},
   "outputs": [
    {
     "data": {
      "text/plain": [
       "(2400, 27648)"
      ]
     },
     "execution_count": 266,
     "metadata": {},
     "output_type": "execute_result"
    }
   ],
   "source": [
    "X_validation.shape"
   ]
  },
  {
   "cell_type": "code",
   "execution_count": 70,
   "id": "a75cd817",
   "metadata": {},
   "outputs": [
    {
     "name": "stdout",
     "output_type": "stream",
     "text": [
      "[[ 55  29  40 ...  66  19  71]\n",
      " [ 69  32  66 ... 166 128 175]\n",
      " [201 206 212 ... 224  97 212]\n",
      " ...\n",
      " [201 157 192 ... 255 217 239]\n",
      " [ 40  23  57 ... 231 169 206]\n",
      " [228 222 236 ... 226 215 231]]\n"
     ]
    }
   ],
   "source": [
    "print(X_train)"
   ]
  },
  {
   "cell_type": "code",
   "execution_count": 71,
   "id": "e3fbf9e6",
   "metadata": {},
   "outputs": [
    {
     "name": "stdout",
     "output_type": "stream",
     "text": [
      "[0 0 1 ... 0 1 0]\n"
     ]
    }
   ],
   "source": [
    "print(y_train)"
   ]
  },
  {
   "cell_type": "code",
   "execution_count": 72,
   "id": "cd506bea",
   "metadata": {},
   "outputs": [
    {
     "name": "stdout",
     "output_type": "stream",
     "text": [
      "[[142  95 129 ... 202 130 152]\n",
      " [148 126 173 ... 159 111 153]\n",
      " [233 226 234 ... 229 222 230]\n",
      " ...\n",
      " [208 117 150 ... 234 239 233]\n",
      " [244 207 225 ... 246 246 244]\n",
      " [ 82  22  84 ... 107  58 103]]\n"
     ]
    }
   ],
   "source": [
    "print(X_test)"
   ]
  },
  {
   "cell_type": "code",
   "execution_count": 73,
   "id": "36751778",
   "metadata": {},
   "outputs": [
    {
     "name": "stdout",
     "output_type": "stream",
     "text": [
      "[1 0 0 ... 0 0 0]\n"
     ]
    }
   ],
   "source": [
    "print(y_test)"
   ]
  },
  {
   "cell_type": "code",
   "execution_count": 74,
   "id": "32f1d4e7",
   "metadata": {},
   "outputs": [
    {
     "name": "stdout",
     "output_type": "stream",
     "text": [
      "[[218 228 227 ... 110  85 186]\n",
      " [244 233 231 ... 236 205 211]\n",
      " [175 128 146 ... 207 184 194]\n",
      " ...\n",
      " [147  77 175 ... 108  44 158]\n",
      " [153  96 128 ... 201 130 164]\n",
      " [252 246 255 ...  52  30  76]]\n"
     ]
    }
   ],
   "source": [
    "print(X_validation)"
   ]
  },
  {
   "cell_type": "code",
   "execution_count": 75,
   "id": "036d1de7",
   "metadata": {},
   "outputs": [
    {
     "name": "stdout",
     "output_type": "stream",
     "text": [
      "[1 1 1 ... 0 1 0]\n"
     ]
    }
   ],
   "source": [
    "print(y_validation)"
   ]
  },
  {
   "cell_type": "code",
   "execution_count": 267,
   "id": "68b4d227",
   "metadata": {},
   "outputs": [
    {
     "data": {
      "image/png": "[encoded data removed]",
      "text/plain": [
       "<Figure size 432x288 with 1 Axes>"
      ]
     },
     "metadata": {
      "needs_background": "light"
     },
     "output_type": "display_data"
    }
   ],
   "source": [
    "plt.title('Vizuelna provera stratifikovanosti')\n",
    "plt.xticks([0,1])\n",
    "plt.xlabel('0 - maligni tumor, 1 - benigni tumor')\n",
    "plt.hist([y_train, y_test, y_validation], color=['orange', 'cadetblue', 'red'], label=['skup za treniranje', 'skup za testiranje','skup za validaciju'])\n",
    "plt.legend(loc='best')\n",
    "plt.show()"
   ]
  },
  {
   "cell_type": "markdown",
   "id": "8c105390",
   "metadata": {},
   "source": [
    "### Standardizacija"
   ]
  },
  {
   "cell_type": "code",
   "execution_count": 77,
   "id": "229d8665",
   "metadata": {},
   "outputs": [],
   "source": [
    "scaler = StandardScaler()\n",
    "scaler.fit(X_train)\n",
    "X_train = scaler.transform(X_train)\n",
    "X_test = scaler.transform(X_test)\n",
    "X_validation = scaler.transform(X_validation)"
   ]
  },
  {
   "cell_type": "code",
   "execution_count": 21,
   "id": "2b632388",
   "metadata": {},
   "outputs": [
    {
     "name": "stdout",
     "output_type": "stream",
     "text": [
      "[[-1.88647399 -1.44093522 -2.593453   ... -1.744461   -1.58952023\n",
      "  -2.00642359]\n",
      " [-1.66148322 -1.39940955 -2.09924623 ... -0.14662173 -0.10030922\n",
      "  -0.06609754]\n",
      " [ 0.45985838  1.00907972  0.67591488 ...  0.78012505 -0.52384629\n",
      "   0.62421077]\n",
      " ...\n",
      " [ 0.45985838  0.33082699  0.29575583 ...  1.27545522  1.11565207\n",
      "   1.12794926]\n",
      " [-2.12753554 -1.52398658 -2.2703178  ...  0.8919738   0.45985272\n",
      "   0.51226888]\n",
      " [ 0.89376916  1.23055     1.13210575 ...  0.81208184  1.0883271\n",
      "   0.97869341]]\n"
     ]
    }
   ],
   "source": [
    "print(X_train)"
   ]
  },
  {
   "cell_type": "code",
   "execution_count": 22,
   "id": "a920a80c",
   "metadata": {},
   "outputs": [
    {
     "name": "stdout",
     "output_type": "stream",
     "text": [
      "[[-0.48831703 -0.52737033 -0.9017452  ...  0.42860041 -0.07298424\n",
      "  -0.49520811]\n",
      " [-0.39189241 -0.09827167 -0.06539528 ... -0.25847047 -0.33257148\n",
      "  -0.47655113]\n",
      " [ 0.97412301  1.28591757  1.09408984 ...  0.86001701  1.1839645\n",
      "   0.96003643]\n",
      " ...\n",
      " [ 0.57235376 -0.2228487  -0.50257819 ...  0.93990898  1.41622677\n",
      "   1.01600737]\n",
      " [ 1.15090147  1.02292161  0.92301827 ...  1.13164969  1.51186417\n",
      "   1.22123417]\n",
      " [-1.45256321 -1.53782847 -1.75710308 ... -1.08934689 -1.05668326\n",
      "  -1.40940019]]\n"
     ]
    }
   ],
   "source": [
    "print(X_test)"
   ]
  },
  {
   "cell_type": "code",
   "execution_count": 23,
   "id": "cf643659",
   "metadata": {},
   "outputs": [
    {
     "name": "stdout",
     "output_type": "stream",
     "text": [
      "[[ 0.73306146  1.31360135  0.96103417 ... -1.04141172 -0.68779613\n",
      "   0.13912925]\n",
      " [ 1.15090147  1.38281081  1.03706599 ...  0.97186576  0.95170223\n",
      "   0.60555379]\n",
      " [ 0.04201837 -0.07058788 -0.57861    ...  0.50849237  0.66479002\n",
      "   0.2883851 ]\n",
      " ...\n",
      " [-0.40796318 -0.77652439 -0.02737937 ... -1.0733685  -1.24795807\n",
      "  -0.38326622]\n",
      " [-0.31153857 -0.51352844 -0.92075315 ...  0.41262202 -0.07298424\n",
      "  -0.27132433]\n",
      " [ 1.27946763  1.56275541  1.49325685 ... -1.96815849 -1.43923288\n",
      "  -1.91313868]]\n"
     ]
    }
   ],
   "source": [
    "print(X_validation)"
   ]
  },
  {
   "cell_type": "markdown",
   "id": "d11d4a01",
   "metadata": {},
   "source": [
    "# 1.Neuronska mreža"
   ]
  },
  {
   "cell_type": "markdown",
   "id": "bc60e110",
   "metadata": {},
   "source": [
    "### Kreiranje mreže"
   ]
  },
  {
   "cell_type": "code",
   "execution_count": 268,
   "id": "7cf21ffc",
   "metadata": {},
   "outputs": [],
   "source": [
    "ann = Sequential()"
   ]
  },
  {
   "cell_type": "code",
   "execution_count": 269,
   "id": "ec0bbc20",
   "metadata": {},
   "outputs": [],
   "source": [
    "ann.add(InputLayer(input_shape=(nx*ny*nrgb,)))\n",
    "ann.add(Dense(units=nx*ny, activation='relu'))\n",
    "ann.add(Dense(units=nx, activation='relu'))\n",
    "ann.add(Dense(units=1, activation='sigmoid'))"
   ]
  },
  {
   "cell_type": "code",
   "execution_count": 270,
   "id": "a1f56640",
   "metadata": {},
   "outputs": [
    {
     "name": "stdout",
     "output_type": "stream",
     "text": [
      "Model: \"sequential_9\"\n",
      "_________________________________________________________________\n",
      " Layer (type)                Output Shape              Param #   \n",
      "=================================================================\n",
      " dense_17 (Dense)            (None, 9216)              254813184 \n",
      "                                                                 \n",
      " dense_18 (Dense)            (None, 96)                884832    \n",
      "                                                                 \n",
      " dense_19 (Dense)            (None, 1)                 97        \n",
      "                                                                 \n",
      "=================================================================\n",
      "Total params: 255,698,113\n",
      "Trainable params: 255,698,113\n",
      "Non-trainable params: 0\n",
      "_________________________________________________________________\n"
     ]
    }
   ],
   "source": [
    "ann.summary()"
   ]
  },
  {
   "cell_type": "markdown",
   "id": "d4c436d2",
   "metadata": {},
   "source": [
    "### Treniranje mreže"
   ]
  },
  {
   "cell_type": "code",
   "execution_count": 271,
   "id": "fe6aa2f7",
   "metadata": {},
   "outputs": [],
   "source": [
    "ann.compile(loss='binary_crossentropy', \n",
    "            optimizer='adam', \n",
    "            metrics=['accuracy'])"
   ]
  },
  {
   "cell_type": "code",
   "execution_count": 28,
   "id": "e758def5",
   "metadata": {},
   "outputs": [
    {
     "name": "stdout",
     "output_type": "stream",
     "text": [
      "Epoch 1/50\n",
      "57/57 [==============================] - 168s 3s/step - loss: 17.8633 - accuracy: 0.5487 - val_loss: 0.6959 - val_accuracy: 0.5325\n",
      "Epoch 2/50\n",
      "57/57 [==============================] - 149s 3s/step - loss: 0.6753 - accuracy: 0.5331 - val_loss: 0.7053 - val_accuracy: 0.5350\n",
      "Epoch 3/50\n",
      "57/57 [==============================] - 150s 3s/step - loss: 0.6704 - accuracy: 0.5474 - val_loss: 0.6963 - val_accuracy: 0.5400\n",
      "Epoch 4/50\n",
      "57/57 [==============================] - 142s 2s/step - loss: 0.6410 - accuracy: 0.6193 - val_loss: 0.7804 - val_accuracy: 0.6558\n",
      "Epoch 5/50\n",
      "57/57 [==============================] - 143s 3s/step - loss: 0.6117 - accuracy: 0.6515 - val_loss: 0.7349 - val_accuracy: 0.5896\n",
      "Epoch 6/50\n",
      "57/57 [==============================] - 137s 2s/step - loss: 0.6002 - accuracy: 0.6571 - val_loss: 0.8045 - val_accuracy: 0.6500\n",
      "Epoch 7/50\n",
      "57/57 [==============================] - 141s 2s/step - loss: 0.5731 - accuracy: 0.6847 - val_loss: 0.7358 - val_accuracy: 0.6417\n",
      "Epoch 8/50\n",
      "57/57 [==============================] - 145s 3s/step - loss: 0.5629 - accuracy: 0.6864 - val_loss: 0.8207 - val_accuracy: 0.6425\n",
      "Epoch 9/50\n",
      "57/57 [==============================] - 145s 3s/step - loss: 0.5519 - accuracy: 0.6985 - val_loss: 0.8472 - val_accuracy: 0.6513\n",
      "Epoch 10/50\n",
      "57/57 [==============================] - 142s 3s/step - loss: 0.5366 - accuracy: 0.7086 - val_loss: 0.8058 - val_accuracy: 0.6508\n",
      "Epoch 11/50\n",
      "57/57 [==============================] - 146s 3s/step - loss: 0.5292 - accuracy: 0.7149 - val_loss: 0.9377 - val_accuracy: 0.6712\n",
      "Epoch 12/50\n",
      "57/57 [==============================] - 146s 3s/step - loss: 0.5312 - accuracy: 0.7117 - val_loss: 0.9856 - val_accuracy: 0.6671\n",
      "Epoch 13/50\n",
      "57/57 [==============================] - 145s 3s/step - loss: 0.5189 - accuracy: 0.7287 - val_loss: 1.1377 - val_accuracy: 0.6779\n",
      "Epoch 14/50\n",
      "57/57 [==============================] - 146s 3s/step - loss: 0.5681 - accuracy: 0.6801 - val_loss: 0.8492 - val_accuracy: 0.6383\n",
      "Epoch 15/50\n",
      "57/57 [==============================] - 146s 3s/step - loss: 0.6053 - accuracy: 0.6313 - val_loss: 0.7842 - val_accuracy: 0.5758\n",
      "Epoch 16/50\n",
      "57/57 [==============================] - 153s 3s/step - loss: 0.6489 - accuracy: 0.6276 - val_loss: 0.7854 - val_accuracy: 0.6050\n",
      "Epoch 17/50\n",
      "57/57 [==============================] - 146s 3s/step - loss: 0.6039 - accuracy: 0.6324 - val_loss: 0.9167 - val_accuracy: 0.6229\n",
      "Epoch 18/50\n",
      "57/57 [==============================] - 137s 2s/step - loss: 0.5962 - accuracy: 0.6463 - val_loss: 0.7063 - val_accuracy: 0.5350\n",
      "Epoch 19/50\n",
      "57/57 [==============================] - 136s 2s/step - loss: 0.6442 - accuracy: 0.5824 - val_loss: 0.8990 - val_accuracy: 0.6221\n",
      "Epoch 20/50\n",
      "57/57 [==============================] - 136s 2s/step - loss: 0.5885 - accuracy: 0.6543 - val_loss: 1.0695 - val_accuracy: 0.6321\n",
      "Epoch 21/50\n",
      "57/57 [==============================] - 136s 2s/step - loss: 0.5712 - accuracy: 0.6637 - val_loss: 0.9451 - val_accuracy: 0.6308\n",
      "Epoch 22/50\n",
      "57/57 [==============================] - 135s 2s/step - loss: 0.5705 - accuracy: 0.6644 - val_loss: 1.1150 - val_accuracy: 0.6413\n",
      "Epoch 23/50\n",
      "57/57 [==============================] - 137s 2s/step - loss: 0.6103 - accuracy: 0.6392 - val_loss: 0.7830 - val_accuracy: 0.5596\n",
      "Epoch 24/50\n",
      "57/57 [==============================] - 138s 2s/step - loss: 0.6228 - accuracy: 0.5967 - val_loss: 1.0432 - val_accuracy: 0.6183\n",
      "Epoch 25/50\n",
      "57/57 [==============================] - 135s 2s/step - loss: 0.6029 - accuracy: 0.6464 - val_loss: 0.7960 - val_accuracy: 0.5508\n",
      "Epoch 26/50\n",
      "57/57 [==============================] - 134s 2s/step - loss: 0.6360 - accuracy: 0.6047 - val_loss: 0.8372 - val_accuracy: 0.5871\n",
      "Epoch 27/50\n",
      "57/57 [==============================] - 137s 2s/step - loss: 0.6329 - accuracy: 0.5875 - val_loss: 0.8741 - val_accuracy: 0.5946\n",
      "Epoch 28/50\n",
      "57/57 [==============================] - 150s 3s/step - loss: 0.6173 - accuracy: 0.6086 - val_loss: 0.8658 - val_accuracy: 0.5771\n",
      "Epoch 29/50\n",
      "57/57 [==============================] - 145s 3s/step - loss: 0.5988 - accuracy: 0.6303 - val_loss: 0.9426 - val_accuracy: 0.6096\n",
      "Epoch 30/50\n",
      "57/57 [==============================] - 138s 2s/step - loss: 0.6221 - accuracy: 0.6146 - val_loss: 0.7118 - val_accuracy: 0.5117\n",
      "Epoch 31/50\n",
      "57/57 [==============================] - 138s 2s/step - loss: 0.6749 - accuracy: 0.5369 - val_loss: 0.7230 - val_accuracy: 0.5296\n",
      "Epoch 32/50\n",
      "57/57 [==============================] - 136s 2s/step - loss: 0.6411 - accuracy: 0.5921 - val_loss: 0.7289 - val_accuracy: 0.5467\n",
      "Epoch 33/50\n",
      "57/57 [==============================] - 134s 2s/step - loss: 0.6336 - accuracy: 0.5928 - val_loss: 0.7546 - val_accuracy: 0.5496\n",
      "Epoch 34/50\n",
      "57/57 [==============================] - 135s 2s/step - loss: 0.6376 - accuracy: 0.5932 - val_loss: 0.7695 - val_accuracy: 0.5404\n",
      "Epoch 35/50\n",
      "57/57 [==============================] - 134s 2s/step - loss: 0.6292 - accuracy: 0.5867 - val_loss: 1.1014 - val_accuracy: 0.6229\n",
      "Epoch 36/50\n",
      "57/57 [==============================] - 133s 2s/step - loss: 0.5946 - accuracy: 0.6311 - val_loss: 1.0128 - val_accuracy: 0.6162\n",
      "Epoch 37/50\n",
      "57/57 [==============================] - 133s 2s/step - loss: 0.5818 - accuracy: 0.6528 - val_loss: 1.3302 - val_accuracy: 0.6371\n",
      "Epoch 38/50\n",
      "57/57 [==============================] - 138s 2s/step - loss: 0.5956 - accuracy: 0.6326 - val_loss: 1.0234 - val_accuracy: 0.6129\n",
      "Epoch 39/50\n",
      "57/57 [==============================] - 139s 2s/step - loss: 0.5763 - accuracy: 0.6511 - val_loss: 0.9085 - val_accuracy: 0.5987\n",
      "Epoch 40/50\n",
      "57/57 [==============================] - 137s 2s/step - loss: 0.5754 - accuracy: 0.6524 - val_loss: 1.5132 - val_accuracy: 0.6358\n",
      "Epoch 41/50\n",
      "57/57 [==============================] - 144s 3s/step - loss: 0.5809 - accuracy: 0.6556 - val_loss: 1.0321 - val_accuracy: 0.6133\n",
      "Epoch 42/50\n",
      "57/57 [==============================] - 148s 3s/step - loss: 0.5620 - accuracy: 0.6726 - val_loss: 1.0886 - val_accuracy: 0.6229\n",
      "Epoch 43/50\n",
      "57/57 [==============================] - 136s 2s/step - loss: 0.5703 - accuracy: 0.6603 - val_loss: 1.2660 - val_accuracy: 0.6296\n",
      "Epoch 44/50\n",
      "57/57 [==============================] - 134s 2s/step - loss: 0.5779 - accuracy: 0.6557 - val_loss: 0.8459 - val_accuracy: 0.5779\n",
      "Epoch 45/50\n",
      "57/57 [==============================] - 134s 2s/step - loss: 0.5718 - accuracy: 0.6528 - val_loss: 1.3786 - val_accuracy: 0.6354\n",
      "Epoch 46/50\n",
      "57/57 [==============================] - 134s 2s/step - loss: 0.5723 - accuracy: 0.6637 - val_loss: 0.9559 - val_accuracy: 0.5950\n",
      "Epoch 47/50\n",
      "57/57 [==============================] - 133s 2s/step - loss: 0.5774 - accuracy: 0.6560 - val_loss: 1.2215 - val_accuracy: 0.6258\n",
      "Epoch 48/50\n",
      "57/57 [==============================] - 134s 2s/step - loss: 0.5541 - accuracy: 0.6837 - val_loss: 1.6682 - val_accuracy: 0.6471\n",
      "Epoch 49/50\n",
      "57/57 [==============================] - 134s 2s/step - loss: 0.5437 - accuracy: 0.6921 - val_loss: 1.3509 - val_accuracy: 0.6142\n",
      "Epoch 50/50\n",
      "57/57 [==============================] - 134s 2s/step - loss: 0.5610 - accuracy: 0.6703 - val_loss: 1.7448 - val_accuracy: 0.6388\n"
     ]
    }
   ],
   "source": [
    "history = ann.fit(X_train,\n",
    "                  y_train,\n",
    "                  epochs=50,\n",
    "                  batch_size=128,\n",
    "                  validation_data=(X_validation, y_validation))"
   ]
  },
  {
   "cell_type": "markdown",
   "id": "4fda663b",
   "metadata": {},
   "source": [
    "### Ocena neuronske mreže"
   ]
  },
  {
   "cell_type": "code",
   "execution_count": 83,
   "id": "6f4c8cf4",
   "metadata": {},
   "outputs": [
    {
     "data": {
      "image/png": "[encoded data removed]",
      "text/plain": [
       "<Figure size 1008x1008 with 2 Axes>"
      ]
     },
     "metadata": {
      "needs_background": "light"
     },
     "output_type": "display_data"
    }
   ],
   "source": [
    "plt.figure(figsize=(14,14))\n",
    "\n",
    "plt.subplot(2, 1, 1)\n",
    "\n",
    "plt.plot(np.arange(1, 51), history.history['loss'], label='Training')\n",
    "plt.plot(np.arange(1, 51), history.history['val_loss'], label='Validation')\n",
    "plt.title('Training vs. Validation Loss', size=20)\n",
    "plt.xlabel('Epoch', size=14)\n",
    "plt.legend()\n",
    "\n",
    "\n",
    "plt.subplot(2, 1, 2)\n",
    "\n",
    "plt.plot(np.arange(1, 51), history.history['accuracy'], label='Training')\n",
    "plt.plot(np.arange(1, 51), history.history['val_accuracy'], label='Validation')\n",
    "plt.title('Training vs. Validation Accuracy', size=20)\n",
    "plt.xlabel('Epoch', size=14)\n",
    "plt.legend()\n",
    "plt.show()"
   ]
  },
  {
   "cell_type": "markdown",
   "id": "6b970dd3",
   "metadata": {},
   "source": [
    "### Evaluacija"
   ]
  },
  {
   "cell_type": "code",
   "execution_count": 126,
   "id": "8d378192",
   "metadata": {},
   "outputs": [
    {
     "name": "stdout",
     "output_type": "stream",
     "text": [
      "57/57 [==============================] - 41s 715ms/step - loss: 0.5505 - accuracy: 0.6749\n",
      "\n",
      "Training set accuracy: 0.6748611330986023\n",
      "\n",
      "Training set loss: 0.5505223870277405\n"
     ]
    }
   ],
   "source": [
    "train_scores = ann.evaluate(X_train, y_train, batch_size=128)\n",
    "print('\\nTraining set {0}: {1}'.format(ann.metrics_names[1], train_scores[1]))\n",
    "print('\\nTraining set {0}: {1}'.format(ann.metrics_names[0], train_scores[0]))"
   ]
  },
  {
   "cell_type": "code",
   "execution_count": 127,
   "id": "10ab3cb4",
   "metadata": {},
   "outputs": [
    {
     "name": "stdout",
     "output_type": "stream",
     "text": [
      "19/19 [==============================] - 14s 731ms/step - loss: 1.4409 - accuracy: 0.6233\n",
      "\n",
      "Test set accuracy: 0.6233333349227905\n",
      "\n",
      "Test set loss: 1.4408799409866333\n"
     ]
    }
   ],
   "source": [
    "test_scores = ann.evaluate(X_test, y_test, batch_size=128)\n",
    "print('\\nTest set {0}: {1}'.format(ann.metrics_names[1], test_scores[1]))\n",
    "print('\\nTest set {0}: {1}'.format(ann.metrics_names[0], test_scores[0]))"
   ]
  },
  {
   "cell_type": "markdown",
   "id": "9d48a427",
   "metadata": {},
   "source": [
    "# 2. Konvolutivna neuronska mreža"
   ]
  },
  {
   "cell_type": "code",
   "execution_count": 465,
   "id": "ff844db0",
   "metadata": {},
   "outputs": [
    {
     "name": "stdout",
     "output_type": "stream",
     "text": [
      "X shape =  (12000, 96, 96, 3)\n",
      "y shape =  (12000, 1, 1, 1)\n"
     ]
    }
   ],
   "source": [
    "print(\"X shape = \",X.shape)\n",
    "print(\"y shape = \",y.shape)"
   ]
  },
  {
   "cell_type": "markdown",
   "id": "0fedabbf",
   "metadata": {},
   "source": [
    "### Podela ulaza na Train, Test i Validation"
   ]
  },
  {
   "cell_type": "code",
   "execution_count": 466,
   "id": "424cb6ac",
   "metadata": {},
   "outputs": [],
   "source": [
    "split_1 = int(0.6 * X.shape[0])\n",
    "split_2 = int(0.8 * X.shape[0])\n",
    "\n",
    "X_trainc = X[:split_1]\n",
    "X_validationc = X[split_1:split_2]\n",
    "X_testc = X[split_2:]\n",
    "\n",
    "y_trainc = y[:split_1]\n",
    "y_validationc = y[split_1:split_2]\n",
    "y_testc = y[split_2:]"
   ]
  },
  {
   "cell_type": "code",
   "execution_count": 467,
   "id": "527ce484",
   "metadata": {},
   "outputs": [
    {
     "name": "stdout",
     "output_type": "stream",
     "text": [
      "X_trainc shape =  (7200, 96, 96, 3)\n",
      "y_trainc shape = (7200, 1, 1, 1) \n",
      "\n",
      "X_validationc shape =  (2400, 96, 96, 3)\n",
      "y_validationc shape = (2400, 1, 1, 1) \n",
      "\n",
      "X_testc shape =  (2400, 96, 96, 3)\n",
      "y_testc shape =  (2400, 1, 1, 1)\n"
     ]
    }
   ],
   "source": [
    "print(\"X_trainc shape = \",X_trainc.shape)\n",
    "print(\"y_trainc shape = {} \\n\".format(y_trainc.shape))\n",
    "\n",
    "print(\"X_validationc shape = \",X_validationc.shape)\n",
    "print(\"y_validationc shape = {} \\n\".format(y_validationc.shape))\n",
    "\n",
    "print(\"X_testc shape = \",X_testc.shape)\n",
    "print(\"y_testc shape = \",y_testc.shape)"
   ]
  },
  {
   "cell_type": "markdown",
   "id": "3a90d9a7",
   "metadata": {},
   "source": [
    "### Normalizacija"
   ]
  },
  {
   "cell_type": "code",
   "execution_count": 468,
   "id": "b0e5718e",
   "metadata": {},
   "outputs": [],
   "source": [
    "X_trainc = X_trainc / 255\n",
    "X_validationc = X_validationc / 255\n",
    "X_testc = X_testc / 255"
   ]
  },
  {
   "cell_type": "code",
   "execution_count": 469,
   "id": "8e1b922d",
   "metadata": {},
   "outputs": [],
   "source": [
    "y_trainc = y_trainc.ravel()\n",
    "y_validationc = y_validationc.ravel()\n",
    "y_testc = y_testc.ravel()"
   ]
  },
  {
   "cell_type": "code",
   "execution_count": 470,
   "id": "ada69191",
   "metadata": {},
   "outputs": [
    {
     "name": "stdout",
     "output_type": "stream",
     "text": [
      "[[[[0.96862745 0.96470588 0.95686275]\n",
      "   [0.96470588 0.96078431 0.95294118]\n",
      "   [0.96470588 0.96078431 0.95294118]\n",
      "   ...\n",
      "   [0.92156863 0.9254902  0.90196078]\n",
      "   [0.98431373 0.98039216 0.97254902]\n",
      "   [0.99607843 0.99607843 0.99607843]]\n",
      "\n",
      "  [[0.96862745 0.96470588 0.95686275]\n",
      "   [0.96470588 0.96078431 0.95294118]\n",
      "   [0.96470588 0.96078431 0.95294118]\n",
      "   ...\n",
      "   [0.96862745 0.96470588 0.95686275]\n",
      "   [0.96078431 0.95294118 0.95686275]\n",
      "   [0.96078431 0.96078431 0.96862745]]\n",
      "\n",
      "  [[0.96862745 0.96470588 0.95686275]\n",
      "   [0.96470588 0.96078431 0.95294118]\n",
      "   [0.96470588 0.96078431 0.95294118]\n",
      "   ...\n",
      "   [1.         0.99607843 1.        ]\n",
      "   [0.95294118 0.94509804 0.95686275]\n",
      "   [0.9254902  0.92156863 0.94117647]]\n",
      "\n",
      "  ...\n",
      "\n",
      "  [[0.95686275 0.95686275 0.94901961]\n",
      "   [0.95686275 0.95686275 0.94901961]\n",
      "   [0.95686275 0.95686275 0.94901961]\n",
      "   ...\n",
      "   [0.95686275 0.94901961 0.95294118]\n",
      "   [0.96078431 0.95294118 0.95686275]\n",
      "   [0.97647059 0.96078431 0.96470588]]\n",
      "\n",
      "  [[0.95294118 0.95294118 0.94509804]\n",
      "   [0.95294118 0.95294118 0.94509804]\n",
      "   [0.95686275 0.95686275 0.94901961]\n",
      "   ...\n",
      "   [0.94901961 0.94901961 0.94901961]\n",
      "   [0.95294118 0.94509804 0.94901961]\n",
      "   [0.96078431 0.95294118 0.95686275]]\n",
      "\n",
      "  [[0.95294118 0.95294118 0.94509804]\n",
      "   [0.95294118 0.95294118 0.94509804]\n",
      "   [0.95686275 0.95686275 0.94901961]\n",
      "   ...\n",
      "   [0.95294118 0.95294118 0.95294118]\n",
      "   [0.94509804 0.94509804 0.95294118]\n",
      "   [0.95294118 0.94509804 0.95686275]]]\n",
      "\n",
      "\n",
      " [[[0.84705882 0.65098039 0.79607843]\n",
      "   [0.94509804 0.76470588 0.86666667]\n",
      "   [0.96078431 0.80392157 0.84705882]\n",
      "   ...\n",
      "   [0.79215686 0.61568627 0.70588235]\n",
      "   [0.38039216 0.17254902 0.28235294]\n",
      "   [0.75294118 0.5372549  0.65882353]]\n",
      "\n",
      "  [[0.88235294 0.70196078 0.84313725]\n",
      "   [0.75686275 0.59215686 0.68627451]\n",
      "   [0.89411765 0.75294118 0.8       ]\n",
      "   ...\n",
      "   [0.97647059 0.8        0.89019608]\n",
      "   [1.         0.83529412 0.94509804]\n",
      "   [0.84313725 0.62745098 0.74117647]]\n",
      "\n",
      "  [[0.53333333 0.35686275 0.47843137]\n",
      "   [0.94901961 0.79215686 0.88627451]\n",
      "   [1.         0.89411765 0.94509804]\n",
      "   ...\n",
      "   [0.72941176 0.55294118 0.63529412]\n",
      "   [0.80392157 0.60784314 0.70588235]\n",
      "   [0.89019608 0.68235294 0.78431373]]\n",
      "\n",
      "  ...\n",
      "\n",
      "  [[0.21960784 0.03529412 0.16078431]\n",
      "   [0.38823529 0.21568627 0.32156863]\n",
      "   [0.9372549  0.76470588 0.8627451 ]\n",
      "   ...\n",
      "   [1.         0.96470588 1.        ]\n",
      "   [0.98431373 0.94901961 0.96862745]\n",
      "   [1.         1.         0.99215686]]\n",
      "\n",
      "  [[0.13333333 0.         0.09019608]\n",
      "   [0.50196078 0.31764706 0.44313725]\n",
      "   [0.91372549 0.73333333 0.84313725]\n",
      "   ...\n",
      "   [0.97647059 0.85882353 0.95294118]\n",
      "   [1.         0.94509804 0.99607843]\n",
      "   [0.98823529 0.96078431 0.98823529]]\n",
      "\n",
      "  [[0.2745098  0.08627451 0.23529412]\n",
      "   [0.94901961 0.76470588 0.90588235]\n",
      "   [0.82745098 0.63529412 0.75294118]\n",
      "   ...\n",
      "   [0.50588235 0.36078431 0.48235294]\n",
      "   [1.         0.96470588 1.        ]\n",
      "   [0.89019608 0.83529412 0.88627451]]]\n",
      "\n",
      "\n",
      " [[[0.72156863 0.60784314 0.72941176]\n",
      "   [0.96470588 0.84313725 0.96862745]\n",
      "   [0.88235294 0.74901961 0.89411765]\n",
      "   ...\n",
      "   [0.75686275 0.50196078 0.71372549]\n",
      "   [0.92941176 0.70196078 0.89803922]\n",
      "   [0.83137255 0.60392157 0.79215686]]\n",
      "\n",
      "  [[0.84705882 0.74509804 0.85882353]\n",
      "   [0.87843137 0.76470588 0.88627451]\n",
      "   [0.80392157 0.67843137 0.82352941]\n",
      "   ...\n",
      "   [0.70196078 0.45882353 0.65882353]\n",
      "   [1.         0.78039216 0.96862745]\n",
      "   [0.83921569 0.61176471 0.8       ]]\n",
      "\n",
      "  [[0.74117647 0.63921569 0.75294118]\n",
      "   [0.90980392 0.80392157 0.9254902 ]\n",
      "   [1.         0.9372549  1.        ]\n",
      "   ...\n",
      "   [0.69019608 0.4627451  0.65882353]\n",
      "   [0.92941176 0.70980392 0.90196078]\n",
      "   [0.9254902  0.69411765 0.88235294]]\n",
      "\n",
      "  ...\n",
      "\n",
      "  [[0.94117647 0.92941176 0.96470588]\n",
      "   [0.80392157 0.77254902 0.85490196]\n",
      "   [0.6745098  0.61568627 0.76862745]\n",
      "   ...\n",
      "   [0.70588235 0.54117647 0.69803922]\n",
      "   [0.94509804 0.76862745 0.92156863]\n",
      "   [0.8627451  0.6745098  0.82352941]]\n",
      "\n",
      "  [[0.85098039 0.85490196 0.83529412]\n",
      "   [0.83137255 0.81960784 0.85490196]\n",
      "   [0.82352941 0.78823529 0.90980392]\n",
      "   ...\n",
      "   [0.59215686 0.42352941 0.59215686]\n",
      "   [1.         0.83529412 0.98823529]\n",
      "   [0.89803922 0.71764706 0.8627451 ]]\n",
      "\n",
      "  [[0.93333333 0.9254902  0.87843137]\n",
      "   [0.87058824 0.85098039 0.86666667]\n",
      "   [0.85490196 0.82352941 0.91764706]\n",
      "   ...\n",
      "   [0.66666667 0.50588235 0.67058824]\n",
      "   [0.88235294 0.70588235 0.85882353]\n",
      "   [0.98431373 0.80392157 0.94901961]]]\n",
      "\n",
      "\n",
      " ...\n",
      "\n",
      "\n",
      " [[[0.6745098  0.41176471 0.58431373]\n",
      "   [0.56862745 0.32156863 0.50588235]\n",
      "   [0.47058824 0.25098039 0.44313725]\n",
      "   ...\n",
      "   [0.61176471 0.47843137 0.62352941]\n",
      "   [0.40392157 0.29411765 0.48627451]\n",
      "   [0.56862745 0.4745098  0.70980392]]\n",
      "\n",
      "  [[0.72941176 0.45098039 0.62352941]\n",
      "   [0.55294118 0.29803922 0.46666667]\n",
      "   [0.42745098 0.19607843 0.36862745]\n",
      "   ...\n",
      "   [0.22745098 0.10196078 0.24705882]\n",
      "   [0.22352941 0.12156863 0.30588235]\n",
      "   [0.24705882 0.16470588 0.38431373]]\n",
      "\n",
      "  [[0.69803922 0.41568627 0.57254902]\n",
      "   [0.6745098  0.40784314 0.56078431]\n",
      "   [0.62352941 0.38823529 0.5372549 ]\n",
      "   ...\n",
      "   [0.17647059 0.07058824 0.2       ]\n",
      "   [0.20392157 0.11372549 0.27843137]\n",
      "   [0.3254902  0.25098039 0.43137255]]\n",
      "\n",
      "  ...\n",
      "\n",
      "  [[0.32156863 0.1372549  0.27843137]\n",
      "   [0.31764706 0.13333333 0.31372549]\n",
      "   [0.32941176 0.15294118 0.37647059]\n",
      "   ...\n",
      "   [0.49019608 0.30588235 0.44705882]\n",
      "   [0.25098039 0.0745098  0.24313725]\n",
      "   [0.28627451 0.12156863 0.30980392]]\n",
      "\n",
      "  [[0.6627451  0.43137255 0.54117647]\n",
      "   [0.75686275 0.5372549  0.68235294]\n",
      "   [0.57647059 0.35294118 0.55294118]\n",
      "   ...\n",
      "   [0.33333333 0.14509804 0.30196078]\n",
      "   [0.37254902 0.18823529 0.39215686]\n",
      "   [0.36862745 0.19607843 0.42745098]]\n",
      "\n",
      "  [[0.77647059 0.52156863 0.6       ]\n",
      "   [0.68627451 0.43921569 0.56078431]\n",
      "   [0.60784314 0.36078431 0.54509804]\n",
      "   ...\n",
      "   [0.34901961 0.14901961 0.31764706]\n",
      "   [0.36470588 0.18039216 0.39607843]\n",
      "   [0.41568627 0.23529412 0.49019608]]]\n",
      "\n",
      "\n",
      " [[[0.77647059 0.29803922 0.77254902]\n",
      "   [0.65490196 0.22745098 0.69411765]\n",
      "   [0.40392157 0.05490196 0.50980392]\n",
      "   ...\n",
      "   [0.65882353 0.31764706 0.76862745]\n",
      "   [0.56862745 0.22352941 0.70196078]\n",
      "   [0.44313725 0.09411765 0.58823529]]\n",
      "\n",
      "  [[0.56078431 0.16862745 0.62352941]\n",
      "   [0.55686275 0.17647059 0.63137255]\n",
      "   [0.43921569 0.08235294 0.54901961]\n",
      "   ...\n",
      "   [0.4745098  0.10980392 0.56862745]\n",
      "   [0.49803922 0.15294118 0.62352941]\n",
      "   [0.4627451  0.14509804 0.61568627]]\n",
      "\n",
      "  [[0.56078431 0.25098039 0.67843137]\n",
      "   [0.55294118 0.22745098 0.6745098 ]\n",
      "   [0.43921569 0.09411765 0.56470588]\n",
      "   ...\n",
      "   [0.53333333 0.1372549  0.6       ]\n",
      "   [0.44705882 0.10588235 0.54901961]\n",
      "   [0.45882353 0.15294118 0.59215686]]\n",
      "\n",
      "  ...\n",
      "\n",
      "  [[0.18431373 0.02745098 0.36470588]\n",
      "   [0.27843137 0.05490196 0.42352941]\n",
      "   [0.3254902  0.02352941 0.43137255]\n",
      "   ...\n",
      "   [0.35686275 0.07843137 0.54117647]\n",
      "   [0.44313725 0.15294118 0.60392157]\n",
      "   [0.41176471 0.10980392 0.54901961]]\n",
      "\n",
      "  [[0.11764706 0.03137255 0.35294118]\n",
      "   [0.20392157 0.03529412 0.39607843]\n",
      "   [0.31764706 0.03921569 0.45490196]\n",
      "   ...\n",
      "   [0.49411765 0.11764706 0.60784314]\n",
      "   [0.55686275 0.15686275 0.64705882]\n",
      "   [0.61568627 0.19215686 0.67058824]]\n",
      "\n",
      "  [[0.12941176 0.09411765 0.40392157]\n",
      "   [0.14117647 0.01176471 0.36862745]\n",
      "   [0.37647059 0.10980392 0.5372549 ]\n",
      "   ...\n",
      "   [0.56078431 0.1254902  0.62745098]\n",
      "   [0.6745098  0.22352941 0.72156863]\n",
      "   [0.6627451  0.19215686 0.67843137]]]\n",
      "\n",
      "\n",
      " [[[0.34901961 0.18823529 0.56470588]\n",
      "   [0.34901961 0.20392157 0.56862745]\n",
      "   [0.48235294 0.34901961 0.69019608]\n",
      "   ...\n",
      "   [0.78039216 0.62352941 0.87058824]\n",
      "   [0.36862745 0.29803922 0.5254902 ]\n",
      "   [0.03921569 0.07058824 0.25490196]]\n",
      "\n",
      "  [[0.30980392 0.11372549 0.49411765]\n",
      "   [0.24705882 0.08627451 0.44705882]\n",
      "   [0.32941176 0.18823529 0.53333333]\n",
      "   ...\n",
      "   [0.7372549  0.54509804 0.85490196]\n",
      "   [0.12941176 0.01176471 0.29411765]\n",
      "   [0.12156863 0.09803922 0.34901961]]\n",
      "\n",
      "  [[0.38431373 0.14901961 0.53333333]\n",
      "   [0.42352941 0.23137255 0.59215686]\n",
      "   [0.2745098  0.11764706 0.4627451 ]\n",
      "   ...\n",
      "   [0.54509804 0.32156863 0.69411765]\n",
      "   [0.37647059 0.20784314 0.56078431]\n",
      "   [0.05882353 0.         0.28627451]]\n",
      "\n",
      "  ...\n",
      "\n",
      "  [[0.38431373 0.10980392 0.49803922]\n",
      "   [0.65098039 0.39607843 0.76470588]\n",
      "   [0.63529412 0.40392157 0.73333333]\n",
      "   ...\n",
      "   [0.18039216 0.06666667 0.41960784]\n",
      "   [0.29803922 0.18431373 0.5372549 ]\n",
      "   [0.24313725 0.10196078 0.45490196]]\n",
      "\n",
      "  [[0.40392157 0.17254902 0.54117647]\n",
      "   [0.58823529 0.36862745 0.70980392]\n",
      "   [0.74901961 0.54117647 0.84705882]\n",
      "   ...\n",
      "   [0.14901961 0.10196078 0.43921569]\n",
      "   [0.21176471 0.15294118 0.47843137]\n",
      "   [0.15294118 0.02745098 0.35294118]]\n",
      "\n",
      "  [[0.31764706 0.11764706 0.47843137]\n",
      "   [0.42745098 0.24313725 0.56078431]\n",
      "   [0.81568627 0.64705882 0.9254902 ]\n",
      "   ...\n",
      "   [0.09019608 0.08235294 0.40784314]\n",
      "   [0.08235294 0.05490196 0.36078431]\n",
      "   [0.21176471 0.09803922 0.41176471]]]]\n"
     ]
    }
   ],
   "source": [
    "print(X_trainc)"
   ]
  },
  {
   "cell_type": "code",
   "execution_count": 471,
   "id": "cda2a345",
   "metadata": {},
   "outputs": [
    {
     "name": "stdout",
     "output_type": "stream",
     "text": [
      "[[[[0.39215686 0.18823529 0.62352941]\n",
      "   [0.41176471 0.18431373 0.61568627]\n",
      "   [0.34509804 0.08627451 0.50196078]\n",
      "   ...\n",
      "   [0.88627451 0.84313725 0.89803922]\n",
      "   [0.88627451 0.84313725 0.89803922]\n",
      "   [0.88627451 0.84313725 0.89803922]]\n",
      "\n",
      "  [[0.37254902 0.1372549  0.58039216]\n",
      "   [0.36862745 0.11764706 0.54901961]\n",
      "   [0.40784314 0.1372549  0.55294118]\n",
      "   ...\n",
      "   [0.88627451 0.84313725 0.89803922]\n",
      "   [0.88627451 0.84313725 0.89803922]\n",
      "   [0.88627451 0.84313725 0.89803922]]\n",
      "\n",
      "  [[0.41568627 0.13333333 0.56470588]\n",
      "   [0.39607843 0.11372549 0.5372549 ]\n",
      "   [0.60784314 0.32156863 0.73333333]\n",
      "   ...\n",
      "   [0.89019608 0.84705882 0.90196078]\n",
      "   [0.88627451 0.84313725 0.89803922]\n",
      "   [0.88627451 0.84313725 0.89803922]]\n",
      "\n",
      "  ...\n",
      "\n",
      "  [[0.70588235 0.57254902 0.8627451 ]\n",
      "   [0.43529412 0.26666667 0.58823529]\n",
      "   [0.54901961 0.31372549 0.69019608]\n",
      "   ...\n",
      "   [0.87843137 0.83137255 0.88627451]\n",
      "   [0.87843137 0.83137255 0.88627451]\n",
      "   [0.88235294 0.83529412 0.89019608]]\n",
      "\n",
      "  [[0.70980392 0.56470588 0.86666667]\n",
      "   [0.50588235 0.33333333 0.66666667]\n",
      "   [0.5372549  0.3372549  0.70196078]\n",
      "   ...\n",
      "   [0.88627451 0.83921569 0.89411765]\n",
      "   [0.88627451 0.83921569 0.89411765]\n",
      "   [0.88627451 0.83921569 0.89411765]]\n",
      "\n",
      "  [[0.90980392 0.69803922 1.        ]\n",
      "   [0.63529412 0.43921569 0.78823529]\n",
      "   [0.21568627 0.04705882 0.4       ]\n",
      "   ...\n",
      "   [0.88627451 0.83921569 0.89411765]\n",
      "   [0.88627451 0.83921569 0.89411765]\n",
      "   [0.88627451 0.83921569 0.89411765]]]\n",
      "\n",
      "\n",
      " [[[0.27843137 0.08235294 0.45490196]\n",
      "   [0.25882353 0.04313725 0.41176471]\n",
      "   [0.4627451  0.22745098 0.58039216]\n",
      "   ...\n",
      "   [0.66666667 0.3372549  0.70588235]\n",
      "   [0.70980392 0.43529412 0.77254902]\n",
      "   [0.60784314 0.40392157 0.69803922]]\n",
      "\n",
      "  [[0.36078431 0.16078431 0.53333333]\n",
      "   [0.3372549  0.12156863 0.49019608]\n",
      "   [0.58039216 0.34901961 0.70196078]\n",
      "   ...\n",
      "   [0.80784314 0.47843137 0.84705882]\n",
      "   [0.69019608 0.41568627 0.75294118]\n",
      "   [0.63137255 0.41960784 0.71764706]]\n",
      "\n",
      "  [[0.34509804 0.13333333 0.51764706]\n",
      "   [0.49803922 0.28235294 0.65098039]\n",
      "   [0.58039216 0.36470588 0.72156863]\n",
      "   ...\n",
      "   [0.74509804 0.41960784 0.78039216]\n",
      "   [0.67843137 0.38823529 0.72941176]\n",
      "   [0.60784314 0.38039216 0.67843137]]\n",
      "\n",
      "  ...\n",
      "\n",
      "  [[0.74901961 0.54117647 0.80784314]\n",
      "   [0.73333333 0.52941176 0.81176471]\n",
      "   [0.70588235 0.5254902  0.81960784]\n",
      "   ...\n",
      "   [0.77254902 0.58823529 0.90196078]\n",
      "   [0.63921569 0.43921569 0.74901961]\n",
      "   [0.55294118 0.32941176 0.64705882]]\n",
      "\n",
      "  [[0.63921569 0.41960784 0.69803922]\n",
      "   [0.58823529 0.38431373 0.6745098 ]\n",
      "   [0.46666667 0.29019608 0.60784314]\n",
      "   ...\n",
      "   [0.77254902 0.57254902 0.8745098 ]\n",
      "   [0.65490196 0.44705882 0.75294118]\n",
      "   [0.54117647 0.30980392 0.63137255]]\n",
      "\n",
      "  [[0.59215686 0.37254902 0.65882353]\n",
      "   [0.49019608 0.28627451 0.58039216]\n",
      "   [0.39607843 0.21960784 0.54509804]\n",
      "   ...\n",
      "   [0.70196078 0.49803922 0.78823529]\n",
      "   [0.63137255 0.41960784 0.7254902 ]\n",
      "   [0.56078431 0.32156863 0.63529412]]]\n",
      "\n",
      "\n",
      " [[[0.68235294 0.37254902 0.72156863]\n",
      "   [0.76078431 0.44313725 0.80392157]\n",
      "   [0.6745098  0.34509804 0.71372549]\n",
      "   ...\n",
      "   [0.89803922 0.83137255 0.90196078]\n",
      "   [0.91372549 0.83137255 0.90588235]\n",
      "   [0.91764706 0.82745098 0.90588235]]\n",
      "\n",
      "  [[0.6        0.30980392 0.64313725]\n",
      "   [0.70588235 0.40784314 0.75294118]\n",
      "   [0.73333333 0.41568627 0.77647059]\n",
      "   ...\n",
      "   [0.8745098  0.85098039 0.90588235]\n",
      "   [0.87843137 0.83529412 0.89803922]\n",
      "   [0.87843137 0.82745098 0.89411765]]\n",
      "\n",
      "  [[0.74117647 0.47058824 0.78431373]\n",
      "   [0.72156863 0.43137255 0.76470588]\n",
      "   [0.60392157 0.30588235 0.65098039]\n",
      "   ...\n",
      "   [0.83921569 0.84705882 0.89411765]\n",
      "   [0.83529412 0.84313725 0.89019608]\n",
      "   [0.84313725 0.84313725 0.89019608]]\n",
      "\n",
      "  ...\n",
      "\n",
      "  [[0.67058824 0.6627451  0.81960784]\n",
      "   [0.36470588 0.35686275 0.55294118]\n",
      "   [0.16078431 0.10196078 0.37254902]\n",
      "   ...\n",
      "   [0.74901961 0.56862745 0.81960784]\n",
      "   [0.65490196 0.50588235 0.7372549 ]\n",
      "   [0.69803922 0.56862745 0.79215686]]\n",
      "\n",
      "  [[0.91764706 0.8627451  0.96078431]\n",
      "   [0.70588235 0.67843137 0.81176471]\n",
      "   [0.41568627 0.37254902 0.59215686]\n",
      "   ...\n",
      "   [0.72941176 0.51764706 0.82352941]\n",
      "   [0.65490196 0.4745098  0.76862745]\n",
      "   [0.57254902 0.41568627 0.69411765]]\n",
      "\n",
      "  [[0.91764706 0.80784314 0.86666667]\n",
      "   [0.94901961 0.89411765 0.99215686]\n",
      "   [0.6745098  0.62745098 0.81568627]\n",
      "   ...\n",
      "   [0.60392157 0.37254902 0.7254902 ]\n",
      "   [0.46666667 0.27058824 0.60392157]\n",
      "   [0.30980392 0.13333333 0.45882353]]]\n",
      "\n",
      "\n",
      " ...\n",
      "\n",
      "\n",
      " [[[0.94901961 0.7254902  0.8       ]\n",
      "   [0.90980392 0.69411765 0.78431373]\n",
      "   [0.67843137 0.45882353 0.56470588]\n",
      "   ...\n",
      "   [1.         0.96862745 1.        ]\n",
      "   [1.         0.99607843 1.        ]\n",
      "   [0.94117647 0.96078431 0.9372549 ]]\n",
      "\n",
      "  [[0.94117647 0.70588235 0.81568627]\n",
      "   [0.59215686 0.35294118 0.4745098 ]\n",
      "   [0.30196078 0.06666667 0.2       ]\n",
      "   ...\n",
      "   [1.         0.98039216 1.        ]\n",
      "   [0.9372549  0.91372549 0.91372549]\n",
      "   [0.99607843 0.97647059 0.96470588]]\n",
      "\n",
      "  [[1.         0.80392157 0.94117647]\n",
      "   [0.41568627 0.17254902 0.31764706]\n",
      "   [0.39607843 0.15294118 0.30588235]\n",
      "   ...\n",
      "   [1.         0.98039216 1.        ]\n",
      "   [0.96862745 0.90980392 0.92156863]\n",
      "   [1.         0.96470588 0.97254902]]\n",
      "\n",
      "  ...\n",
      "\n",
      "  [[0.88627451 0.7372549  0.82745098]\n",
      "   [0.51764706 0.36078431 0.4627451 ]\n",
      "   [0.29019608 0.12156863 0.22745098]\n",
      "   ...\n",
      "   [1.         0.9372549  1.        ]\n",
      "   [1.         0.90196078 0.99607843]\n",
      "   [0.28235294 0.         0.09803922]]\n",
      "\n",
      "  [[0.61176471 0.40392157 0.57647059]\n",
      "   [0.39607843 0.2        0.34901961]\n",
      "   [0.1254902  0.         0.08235294]\n",
      "   ...\n",
      "   [0.89803922 0.75686275 0.81176471]\n",
      "   [0.58039216 0.38823529 0.4627451 ]\n",
      "   [0.56862745 0.31372549 0.4       ]]\n",
      "\n",
      "  [[0.35686275 0.11764706 0.34117647]\n",
      "   [0.41568627 0.20392157 0.39607843]\n",
      "   [0.41568627 0.25490196 0.38823529]\n",
      "   ...\n",
      "   [0.76862745 0.65882353 0.70588235]\n",
      "   [0.60392157 0.44313725 0.49803922]\n",
      "   [0.80784314 0.57647059 0.64705882]]]\n",
      "\n",
      "\n",
      " [[[0.84705882 0.65490196 0.74117647]\n",
      "   [0.87843137 0.68627451 0.77254902]\n",
      "   [0.95294118 0.76470588 0.85882353]\n",
      "   ...\n",
      "   [0.52156863 0.36470588 0.50980392]\n",
      "   [0.29411765 0.14117647 0.3254902 ]\n",
      "   [0.37647059 0.22352941 0.43137255]]\n",
      "\n",
      "  [[0.66666667 0.4627451  0.55294118]\n",
      "   [0.71372549 0.50980392 0.6       ]\n",
      "   [0.83921569 0.64313725 0.74117647]\n",
      "   ...\n",
      "   [0.22745098 0.06666667 0.22352941]\n",
      "   [0.29019608 0.1372549  0.32156863]\n",
      "   [0.33333333 0.18431373 0.38431373]]\n",
      "\n",
      "  [[0.58431373 0.37254902 0.46666667]\n",
      "   [0.83529412 0.62352941 0.71764706]\n",
      "   [0.96470588 0.75686275 0.85882353]\n",
      "   ...\n",
      "   [0.3372549  0.18823529 0.34117647]\n",
      "   [0.37254902 0.21960784 0.39607843]\n",
      "   [0.31764706 0.16470588 0.34901961]]\n",
      "\n",
      "  ...\n",
      "\n",
      "  [[0.47843137 0.27058824 0.43529412]\n",
      "   [0.4745098  0.27058824 0.42352941]\n",
      "   [0.4627451  0.27843137 0.41176471]\n",
      "   ...\n",
      "   [0.83921569 0.67058824 0.77647059]\n",
      "   [0.37647059 0.21568627 0.33333333]\n",
      "   [0.69411765 0.54117647 0.65490196]]\n",
      "\n",
      "  [[0.62352941 0.41568627 0.58823529]\n",
      "   [0.64313725 0.43529412 0.6       ]\n",
      "   [0.34117647 0.15294118 0.30196078]\n",
      "   ...\n",
      "   [0.73333333 0.51764706 0.63137255]\n",
      "   [0.63921569 0.42352941 0.54901961]\n",
      "   [0.79607843 0.57647059 0.72156863]]\n",
      "\n",
      "  [[0.94901961 0.74117647 0.91372549]\n",
      "   [0.67843137 0.47843137 0.64705882]\n",
      "   [0.3372549  0.14901961 0.30588235]\n",
      "   ...\n",
      "   [0.81176471 0.56470588 0.68627451]\n",
      "   [0.68235294 0.41568627 0.56078431]\n",
      "   [0.80784314 0.54117647 0.70196078]]]\n",
      "\n",
      "\n",
      " [[[0.70196078 0.3254902  0.70980392]\n",
      "   [0.67058824 0.31372549 0.67843137]\n",
      "   [0.69019608 0.34117647 0.6627451 ]\n",
      "   ...\n",
      "   [0.62745098 0.4        0.63921569]\n",
      "   [0.84313725 0.56862745 0.85098039]\n",
      "   [0.60784314 0.30980392 0.60392157]]\n",
      "\n",
      "  [[0.62745098 0.25490196 0.60784314]\n",
      "   [0.84705882 0.51372549 0.83921569]\n",
      "   [0.96078431 0.65490196 0.94901961]\n",
      "   ...\n",
      "   [0.74901961 0.48627451 0.75686275]\n",
      "   [0.85882353 0.57254902 0.85098039]\n",
      "   [0.85490196 0.55294118 0.83529412]]\n",
      "\n",
      "  [[0.81176471 0.45882353 0.74901961]\n",
      "   [0.8627451  0.56862745 0.83137255]\n",
      "   [0.76862745 0.53333333 0.76862745]\n",
      "   ...\n",
      "   [0.65490196 0.36470588 0.66666667]\n",
      "   [0.90980392 0.59215686 0.89019608]\n",
      "   [0.87843137 0.55686275 0.83921569]]\n",
      "\n",
      "  ...\n",
      "\n",
      "  [[0.56470588 0.31764706 0.6745098 ]\n",
      "   [0.58039216 0.37254902 0.67843137]\n",
      "   [0.76470588 0.61568627 0.83921569]\n",
      "   ...\n",
      "   [0.7372549  0.42745098 0.75294118]\n",
      "   [0.72156863 0.44705882 0.72941176]\n",
      "   [0.74117647 0.52156863 0.77647059]]\n",
      "\n",
      "  [[0.54901961 0.29411765 0.64705882]\n",
      "   [0.61960784 0.40784314 0.70588235]\n",
      "   [0.80784314 0.65490196 0.87843137]\n",
      "   ...\n",
      "   [0.76862745 0.44313725 0.80392157]\n",
      "   [0.68627451 0.4        0.70980392]\n",
      "   [0.72156863 0.49019608 0.74901961]]\n",
      "\n",
      "  [[0.53333333 0.2745098  0.62745098]\n",
      "   [0.62745098 0.40392157 0.70588235]\n",
      "   [0.69019608 0.52941176 0.74901961]\n",
      "   ...\n",
      "   [0.70980392 0.37647059 0.78039216]\n",
      "   [0.74117647 0.45098039 0.78431373]\n",
      "   [0.67058824 0.42745098 0.71372549]]]]\n"
     ]
    }
   ],
   "source": [
    "print(X_validationc)"
   ]
  },
  {
   "cell_type": "code",
   "execution_count": 472,
   "id": "967559f5",
   "metadata": {},
   "outputs": [
    {
     "name": "stdout",
     "output_type": "stream",
     "text": [
      "[[[[0.71372549 0.51764706 0.66666667]\n",
      "   [0.57254902 0.35686275 0.50980392]\n",
      "   [0.57254902 0.3372549  0.48627451]\n",
      "   ...\n",
      "   [0.7372549  0.47058824 0.62352941]\n",
      "   [0.77254902 0.49411765 0.65098039]\n",
      "   [0.7254902  0.44705882 0.61176471]]\n",
      "\n",
      "  [[0.70588235 0.51764706 0.68235294]\n",
      "   [0.6        0.39215686 0.55686275]\n",
      "   [0.64705882 0.40784314 0.56862745]\n",
      "   ...\n",
      "   [0.65882353 0.40392157 0.56078431]\n",
      "   [0.67058824 0.41568627 0.57254902]\n",
      "   [0.61568627 0.35294118 0.51372549]]\n",
      "\n",
      "  [[0.6627451  0.4745098  0.67058824]\n",
      "   [0.55294118 0.34117647 0.53333333]\n",
      "   [0.62352941 0.38039216 0.54117647]\n",
      "   ...\n",
      "   [0.57647059 0.35294118 0.51372549]\n",
      "   [0.61176471 0.37254902 0.53333333]\n",
      "   [0.57254902 0.3372549  0.48627451]]\n",
      "\n",
      "  ...\n",
      "\n",
      "  [[0.78823529 0.49803922 0.63529412]\n",
      "   [0.81568627 0.54509804 0.66666667]\n",
      "   [0.85882353 0.6        0.70588235]\n",
      "   ...\n",
      "   [0.89803922 0.65490196 0.7372549 ]\n",
      "   [0.84705882 0.60392157 0.69411765]\n",
      "   [0.83529412 0.59215686 0.68235294]]\n",
      "\n",
      "  [[0.81568627 0.52156863 0.65098039]\n",
      "   [0.86666667 0.58823529 0.70588235]\n",
      "   [0.83921569 0.56862745 0.67843137]\n",
      "   ...\n",
      "   [0.87058824 0.58823529 0.6745098 ]\n",
      "   [0.84313725 0.56078431 0.65490196]\n",
      "   [0.89019608 0.60392157 0.70980392]]\n",
      "\n",
      "  [[0.83137255 0.52941176 0.65490196]\n",
      "   [0.90196078 0.61568627 0.73333333]\n",
      "   [0.80784314 0.53333333 0.64313725]\n",
      "   ...\n",
      "   [0.94509804 0.63921569 0.73333333]\n",
      "   [0.90588235 0.59215686 0.69803922]\n",
      "   [0.92941176 0.60392157 0.72156863]]]\n",
      "\n",
      "\n",
      " [[[0.90196078 0.87058824 0.91372549]\n",
      "   [0.90196078 0.87058824 0.91372549]\n",
      "   [0.90196078 0.87058824 0.91372549]\n",
      "   ...\n",
      "   [0.9372549  0.87058824 0.94117647]\n",
      "   [1.         0.89803922 0.99607843]\n",
      "   [0.83137255 0.70196078 0.82352941]]\n",
      "\n",
      "  [[0.90196078 0.87058824 0.91372549]\n",
      "   [0.90196078 0.87058824 0.91372549]\n",
      "   [0.90196078 0.87058824 0.91372549]\n",
      "   ...\n",
      "   [0.90196078 0.84313725 0.91764706]\n",
      "   [0.92156863 0.81568627 0.9372549 ]\n",
      "   [0.78039216 0.65490196 0.8       ]]\n",
      "\n",
      "  [[0.90196078 0.87058824 0.91372549]\n",
      "   [0.90196078 0.87058824 0.91372549]\n",
      "   [0.90196078 0.87058824 0.91372549]\n",
      "   ...\n",
      "   [0.90980392 0.83529412 0.94509804]\n",
      "   [0.84313725 0.72156863 0.88235294]\n",
      "   [0.67058824 0.52156863 0.71372549]]\n",
      "\n",
      "  ...\n",
      "\n",
      "  [[1.         0.6745098  1.        ]\n",
      "   [0.8745098  0.55686275 0.86666667]\n",
      "   [0.7372549  0.44705882 0.74117647]\n",
      "   ...\n",
      "   [0.90196078 0.87843137 0.91764706]\n",
      "   [0.89803922 0.8745098  0.91372549]\n",
      "   [0.89803922 0.8745098  0.91372549]]\n",
      "\n",
      "  [[0.75294118 0.4745098  0.74901961]\n",
      "   [0.94901961 0.68627451 0.94901961]\n",
      "   [0.92156863 0.69411765 0.9254902 ]\n",
      "   ...\n",
      "   [0.90196078 0.87843137 0.91764706]\n",
      "   [0.89803922 0.8745098  0.91372549]\n",
      "   [0.89803922 0.8745098  0.91372549]]\n",
      "\n",
      "  [[0.75686275 0.52156863 0.75686275]\n",
      "   [0.8627451  0.64705882 0.87058824]\n",
      "   [0.91764706 0.7372549  0.92941176]\n",
      "   ...\n",
      "   [0.90196078 0.87843137 0.91764706]\n",
      "   [0.89803922 0.8745098  0.91372549]\n",
      "   [0.89803922 0.8745098  0.91372549]]]\n",
      "\n",
      "\n",
      " [[[0.85490196 0.84313725 0.88627451]\n",
      "   [0.85490196 0.84313725 0.88627451]\n",
      "   [0.85490196 0.84313725 0.88627451]\n",
      "   ...\n",
      "   [0.8745098  0.85098039 0.89803922]\n",
      "   [0.8745098  0.85098039 0.89803922]\n",
      "   [0.8745098  0.85098039 0.89803922]]\n",
      "\n",
      "  [[0.85490196 0.84313725 0.88627451]\n",
      "   [0.85490196 0.84313725 0.88627451]\n",
      "   [0.85490196 0.84313725 0.88627451]\n",
      "   ...\n",
      "   [0.8745098  0.85098039 0.89803922]\n",
      "   [0.8745098  0.85098039 0.89803922]\n",
      "   [0.8745098  0.85098039 0.89803922]]\n",
      "\n",
      "  [[0.85490196 0.84313725 0.88627451]\n",
      "   [0.85490196 0.84313725 0.88627451]\n",
      "   [0.85490196 0.84313725 0.88627451]\n",
      "   ...\n",
      "   [0.8745098  0.85098039 0.89803922]\n",
      "   [0.8745098  0.85098039 0.89803922]\n",
      "   [0.87058824 0.84705882 0.89411765]]\n",
      "\n",
      "  ...\n",
      "\n",
      "  [[0.9372549  0.8627451  0.98039216]\n",
      "   [0.4        0.28235294 0.41568627]\n",
      "   [0.99215686 0.84705882 0.97647059]\n",
      "   ...\n",
      "   [0.60392157 0.46666667 0.63137255]\n",
      "   [0.76470588 0.59607843 0.80392157]\n",
      "   [0.91764706 0.74117647 0.97254902]]\n",
      "\n",
      "  [[0.92156863 0.85490196 0.98039216]\n",
      "   [0.41176471 0.30588235 0.43529412]\n",
      "   [0.95686275 0.81960784 0.94509804]\n",
      "   ...\n",
      "   [0.58823529 0.45882353 0.62745098]\n",
      "   [0.69019608 0.52941176 0.74901961]\n",
      "   [0.73333333 0.55294118 0.80392157]]\n",
      "\n",
      "  [[0.89019608 0.82352941 0.94901961]\n",
      "   [0.4627451  0.35686275 0.48627451]\n",
      "   [0.90588235 0.77254902 0.90196078]\n",
      "   ...\n",
      "   [0.58431373 0.4627451  0.63529412]\n",
      "   [0.5372549  0.37647059 0.61176471]\n",
      "   [0.53333333 0.34901961 0.61568627]]]\n",
      "\n",
      "\n",
      " ...\n",
      "\n",
      "\n",
      " [[[0.43529412 0.34901961 0.74117647]\n",
      "   [0.43921569 0.3372549  0.69411765]\n",
      "   [0.47843137 0.33333333 0.63921569]\n",
      "   ...\n",
      "   [0.32941176 0.23529412 0.58039216]\n",
      "   [0.29019608 0.2627451  0.56470588]\n",
      "   [0.36862745 0.36078431 0.61960784]]\n",
      "\n",
      "  [[0.45098039 0.33333333 0.71764706]\n",
      "   [0.40784314 0.29019608 0.63529412]\n",
      "   [0.4627451  0.32941176 0.63137255]\n",
      "   ...\n",
      "   [0.51372549 0.43529412 0.77647059]\n",
      "   [0.62352941 0.58039216 0.87843137]\n",
      "   [0.34509804 0.29411765 0.56470588]]\n",
      "\n",
      "  [[0.46666667 0.30588235 0.6745098 ]\n",
      "   [0.47058824 0.32156863 0.6627451 ]\n",
      "   [0.41960784 0.29411765 0.58823529]\n",
      "   ...\n",
      "   [0.55294118 0.50196078 0.81568627]\n",
      "   [0.40392157 0.34117647 0.63529412]\n",
      "   [0.25490196 0.14901961 0.42745098]]\n",
      "\n",
      "  ...\n",
      "\n",
      "  [[0.74901961 0.57254902 0.79607843]\n",
      "   [0.69411765 0.57647059 0.78039216]\n",
      "   [0.74509804 0.66666667 0.86666667]\n",
      "   ...\n",
      "   [0.71764706 0.58823529 0.76470588]\n",
      "   [0.7254902  0.68235294 0.81568627]\n",
      "   [0.8        0.83921569 0.94509804]]\n",
      "\n",
      "  [[0.76470588 0.56470588 0.78431373]\n",
      "   [0.62352941 0.49803922 0.69019608]\n",
      "   [0.70196078 0.61568627 0.79607843]\n",
      "   ...\n",
      "   [0.79215686 0.67058824 0.83137255]\n",
      "   [0.81568627 0.76078431 0.90196078]\n",
      "   [0.65882353 0.67058824 0.79215686]]\n",
      "\n",
      "  [[0.81176471 0.59607843 0.81960784]\n",
      "   [0.70588235 0.57647059 0.76078431]\n",
      "   [0.78039216 0.69803922 0.85882353]\n",
      "   ...\n",
      "   [0.88235294 0.77254902 0.93333333]\n",
      "   [0.7372549  0.67843137 0.83137255]\n",
      "   [0.41568627 0.41568627 0.55686275]]]\n",
      "\n",
      "\n",
      " [[[0.68627451 0.51372549 0.85490196]\n",
      "   [0.52941176 0.36078431 0.70980392]\n",
      "   [0.34509804 0.19215686 0.54901961]\n",
      "   ...\n",
      "   [0.49803922 0.23921569 0.58039216]\n",
      "   [0.70588235 0.45098039 0.77254902]\n",
      "   [0.86666667 0.61960784 0.92941176]]\n",
      "\n",
      "  [[0.56470588 0.38823529 0.71372549]\n",
      "   [0.54117647 0.37647059 0.71372549]\n",
      "   [0.30980392 0.15686275 0.50588235]\n",
      "   ...\n",
      "   [0.59215686 0.3372549  0.66666667]\n",
      "   [0.76078431 0.51372549 0.83137255]\n",
      "   [0.85098039 0.61176471 0.91764706]]\n",
      "\n",
      "  [[0.53333333 0.34901961 0.65490196]\n",
      "   [0.62745098 0.45098039 0.76862745]\n",
      "   [0.35294118 0.18823529 0.5254902 ]\n",
      "   ...\n",
      "   [0.64705882 0.39215686 0.72156863]\n",
      "   [0.74117647 0.49803922 0.82352941]\n",
      "   [0.72156863 0.49803922 0.81568627]]\n",
      "\n",
      "  ...\n",
      "\n",
      "  [[0.42352941 0.11372549 0.5254902 ]\n",
      "   [0.50980392 0.16862745 0.57647059]\n",
      "   [0.63529412 0.25098039 0.64705882]\n",
      "   ...\n",
      "   [0.72941176 0.32156863 0.70196078]\n",
      "   [0.80784314 0.41568627 0.79215686]\n",
      "   [0.82352941 0.44313725 0.81568627]]\n",
      "\n",
      "  [[0.52156863 0.34509804 0.70196078]\n",
      "   [0.44705882 0.20784314 0.58039216]\n",
      "   [0.55294118 0.23137255 0.61568627]\n",
      "   ...\n",
      "   [0.72941176 0.33333333 0.70980392]\n",
      "   [0.69411765 0.3254902  0.69411765]\n",
      "   [0.68627451 0.34901961 0.70588235]]\n",
      "\n",
      "  [[0.36470588 0.27843137 0.6       ]\n",
      "   [0.39607843 0.23921569 0.57647059]\n",
      "   [0.50980392 0.23921569 0.59607843]\n",
      "   ...\n",
      "   [0.74901961 0.35294118 0.72941176]\n",
      "   [0.65098039 0.30196078 0.6627451 ]\n",
      "   [0.68235294 0.36862745 0.71764706]]]\n",
      "\n",
      "\n",
      " [[[0.69803922 0.54117647 0.89019608]\n",
      "   [0.61960784 0.47843137 0.82352941]\n",
      "   [0.49803922 0.36078431 0.69019608]\n",
      "   ...\n",
      "   [0.65882353 0.46666667 0.78431373]\n",
      "   [0.63529412 0.43137255 0.76470588]\n",
      "   [0.89803922 0.68627451 1.        ]]\n",
      "\n",
      "  [[0.67843137 0.40784314 0.76470588]\n",
      "   [0.73333333 0.48627451 0.83529412]\n",
      "   [0.74509804 0.51764706 0.85882353]\n",
      "   ...\n",
      "   [0.36862745 0.2        0.51372549]\n",
      "   [0.64313725 0.4745098  0.79607843]\n",
      "   [0.61568627 0.44313725 0.77647059]]\n",
      "\n",
      "  [[0.52156863 0.14509804 0.49803922]\n",
      "   [0.81960784 0.48235294 0.83137255]\n",
      "   [0.76862745 0.45490196 0.80392157]\n",
      "   ...\n",
      "   [0.54117647 0.40784314 0.70588235]\n",
      "   [0.49411765 0.37254902 0.67058824]\n",
      "   [0.37254902 0.2627451  0.56470588]]\n",
      "\n",
      "  ...\n",
      "\n",
      "  [[0.42352941 0.19607843 0.49803922]\n",
      "   [0.52941176 0.28627451 0.61176471]\n",
      "   [0.42745098 0.18431373 0.52156863]\n",
      "   ...\n",
      "   [0.8745098  0.70196078 1.        ]\n",
      "   [0.37647059 0.33333333 0.56862745]\n",
      "   [0.06666667 0.12156863 0.31372549]]\n",
      "\n",
      "  [[0.54117647 0.33333333 0.65490196]\n",
      "   [0.6        0.30196078 0.64705882]\n",
      "   [0.63529412 0.2627451  0.63137255]\n",
      "   ...\n",
      "   [0.83137255 0.61568627 0.93333333]\n",
      "   [0.4        0.35294118 0.61176471]\n",
      "   [0.09019608 0.17254902 0.39607843]]\n",
      "\n",
      "  [[0.62745098 0.41960784 0.76470588]\n",
      "   [0.61568627 0.28235294 0.65098039]\n",
      "   [0.83921569 0.38431373 0.78039216]\n",
      "   ...\n",
      "   [0.93333333 0.67843137 1.        ]\n",
      "   [0.60784314 0.54509804 0.82352941]\n",
      "   [0.05882353 0.15294118 0.39607843]]]]\n"
     ]
    }
   ],
   "source": [
    "print(X_testc)"
   ]
  },
  {
   "cell_type": "code",
   "execution_count": 473,
   "id": "2bb8f0bf",
   "metadata": {},
   "outputs": [
    {
     "name": "stdout",
     "output_type": "stream",
     "text": [
      "X_trainc shape =  (7200, 96, 96, 3)\n",
      "y_trainc shape = (7200,) \n",
      "\n",
      "X_validationc shape =  (2400, 96, 96, 3)\n",
      "y_validationc shape = (2400,) \n",
      "\n",
      "X_testc shape =  (2400, 96, 96, 3)\n",
      "y_testc shape =  (2400,)\n"
     ]
    }
   ],
   "source": [
    "print(\"X_trainc shape = \",X_trainc.shape)\n",
    "print(\"y_trainc shape = {} \\n\".format(y_trainc.shape))\n",
    "\n",
    "print(\"X_validationc shape = \",X_validationc.shape)\n",
    "print(\"y_validationc shape = {} \\n\".format(y_validationc.shape))\n",
    "\n",
    "print(\"X_testc shape = \",X_testc.shape)\n",
    "print(\"y_testc shape = \",y_testc.shape)"
   ]
  },
  {
   "cell_type": "markdown",
   "id": "661782c5",
   "metadata": {},
   "source": [
    "### Kreiranje konvolutivne mreže"
   ]
  },
  {
   "cell_type": "markdown",
   "id": "d5bf671a",
   "metadata": {},
   "source": [
    "#### Inicijalizacija"
   ]
  },
  {
   "cell_type": "code",
   "execution_count": 483,
   "id": "c0b4abf0",
   "metadata": {},
   "outputs": [],
   "source": [
    "cnn = Sequential()"
   ]
  },
  {
   "cell_type": "markdown",
   "id": "af4f124f",
   "metadata": {},
   "source": [
    "#### Konvolucija"
   ]
  },
  {
   "cell_type": "code",
   "execution_count": 484,
   "id": "e9415353",
   "metadata": {},
   "outputs": [],
   "source": [
    "cnn.add(Conv2D(filters=32, kernel_size=3, activation='relu', input_shape=[96, 96, 3]))"
   ]
  },
  {
   "cell_type": "markdown",
   "id": "8ec93553",
   "metadata": {},
   "source": [
    "#### Agregacija - Max Pooling"
   ]
  },
  {
   "cell_type": "code",
   "execution_count": 485,
   "id": "57517089",
   "metadata": {},
   "outputs": [],
   "source": [
    "cnn.add(MaxPool2D(pool_size=2, strides=2))"
   ]
  },
  {
   "cell_type": "code",
   "execution_count": 486,
   "id": "67c26f03",
   "metadata": {},
   "outputs": [],
   "source": [
    "#Dodavanje drugog konvolutivnog sloja\n",
    "\n",
    "cnn.add(Conv2D(filters=32, kernel_size=3, activation='relu'))\n",
    "cnn.add(MaxPool2D(pool_size=2, strides=2))"
   ]
  },
  {
   "cell_type": "markdown",
   "id": "55370b3d",
   "metadata": {},
   "source": [
    "#### Ispravljanje - Flattening"
   ]
  },
  {
   "cell_type": "code",
   "execution_count": 487,
   "id": "24290e0e",
   "metadata": {},
   "outputs": [],
   "source": [
    "cnn.add(Flatten())"
   ]
  },
  {
   "cell_type": "markdown",
   "id": "fe50f227",
   "metadata": {},
   "source": [
    "#### Povezivanje"
   ]
  },
  {
   "cell_type": "code",
   "execution_count": 488,
   "id": "31756450",
   "metadata": {},
   "outputs": [],
   "source": [
    "cnn.add(Dense(units=1000, activation='relu'))\n",
    "cnn.add(Dense(units=1, activation='sigmoid'))"
   ]
  },
  {
   "cell_type": "markdown",
   "id": "86ba9a6f",
   "metadata": {},
   "source": [
    "### Sumacija postavke konvolutivne mreže"
   ]
  },
  {
   "cell_type": "code",
   "execution_count": 489,
   "id": "e88136ef",
   "metadata": {},
   "outputs": [
    {
     "name": "stdout",
     "output_type": "stream",
     "text": [
      "Model: \"sequential_35\"\n",
      "_________________________________________________________________\n",
      " Layer (type)                Output Shape              Param #   \n",
      "=================================================================\n",
      " conv2d_54 (Conv2D)          (None, 94, 94, 32)        896       \n",
      "                                                                 \n",
      " max_pooling2d_48 (MaxPoolin  (None, 47, 47, 32)       0         \n",
      " g2D)                                                            \n",
      "                                                                 \n",
      " conv2d_55 (Conv2D)          (None, 45, 45, 32)        9248      \n",
      "                                                                 \n",
      " max_pooling2d_49 (MaxPoolin  (None, 22, 22, 32)       0         \n",
      " g2D)                                                            \n",
      "                                                                 \n",
      " flatten_26 (Flatten)        (None, 15488)             0         \n",
      "                                                                 \n",
      " dense_57 (Dense)            (None, 1000)              15489000  \n",
      "                                                                 \n",
      " dense_58 (Dense)            (None, 1)                 1001      \n",
      "                                                                 \n",
      "=================================================================\n",
      "Total params: 15,500,145\n",
      "Trainable params: 15,500,145\n",
      "Non-trainable params: 0\n",
      "_________________________________________________________________\n"
     ]
    }
   ],
   "source": [
    "cnn.summary()"
   ]
  },
  {
   "cell_type": "markdown",
   "id": "d1e807e0",
   "metadata": {},
   "source": [
    "### Treniranje konvolucione mreže"
   ]
  },
  {
   "cell_type": "code",
   "execution_count": 490,
   "id": "aca8a669",
   "metadata": {},
   "outputs": [],
   "source": [
    "cnn.compile(optimizer = 'adam', \n",
    "            loss = 'binary_crossentropy', \n",
    "            metrics = ['accuracy'])"
   ]
  },
  {
   "cell_type": "code",
   "execution_count": 491,
   "id": "31df64c7",
   "metadata": {},
   "outputs": [
    {
     "name": "stdout",
     "output_type": "stream",
     "text": [
      "Epoch 1/20\n",
      "225/225 [==============================] - 79s 348ms/step - loss: 0.6576 - accuracy: 0.6703 - val_loss: 0.5295 - val_accuracy: 0.7679\n",
      "Epoch 2/20\n",
      "225/225 [==============================] - 63s 279ms/step - loss: 0.4981 - accuracy: 0.7647 - val_loss: 0.4685 - val_accuracy: 0.7788\n",
      "Epoch 3/20\n",
      "225/225 [==============================] - 64s 283ms/step - loss: 0.4002 - accuracy: 0.8251 - val_loss: 0.4717 - val_accuracy: 0.7783\n",
      "Epoch 4/20\n",
      "225/225 [==============================] - 67s 296ms/step - loss: 0.2898 - accuracy: 0.8821 - val_loss: 0.5095 - val_accuracy: 0.7754\n",
      "Epoch 5/20\n",
      "225/225 [==============================] - 72s 320ms/step - loss: 0.1818 - accuracy: 0.9315 - val_loss: 0.6818 - val_accuracy: 0.7646\n",
      "Epoch 6/20\n",
      "225/225 [==============================] - 65s 287ms/step - loss: 0.0736 - accuracy: 0.9772 - val_loss: 0.8758 - val_accuracy: 0.7604\n",
      "Epoch 7/20\n",
      "225/225 [==============================] - 62s 276ms/step - loss: 0.0211 - accuracy: 0.9962 - val_loss: 0.8977 - val_accuracy: 0.7808\n",
      "Epoch 8/20\n",
      "225/225 [==============================] - 62s 277ms/step - loss: 0.0081 - accuracy: 0.9986 - val_loss: 1.0357 - val_accuracy: 0.7796\n",
      "Epoch 9/20\n",
      "225/225 [==============================] - 62s 275ms/step - loss: 0.0102 - accuracy: 0.9978 - val_loss: 1.0197 - val_accuracy: 0.7808\n",
      "Epoch 10/20\n",
      "225/225 [==============================] - 62s 276ms/step - loss: 0.1194 - accuracy: 0.9550 - val_loss: 0.6971 - val_accuracy: 0.7504\n",
      "Epoch 11/20\n",
      "225/225 [==============================] - 61s 273ms/step - loss: 0.0531 - accuracy: 0.9828 - val_loss: 0.9892 - val_accuracy: 0.7725\n",
      "Epoch 12/20\n",
      "225/225 [==============================] - 61s 273ms/step - loss: 0.0076 - accuracy: 0.9983 - val_loss: 1.0717 - val_accuracy: 0.7688\n",
      "Epoch 13/20\n",
      "225/225 [==============================] - 62s 274ms/step - loss: 0.0012 - accuracy: 1.0000 - val_loss: 1.3242 - val_accuracy: 0.7775\n",
      "Epoch 14/20\n",
      "225/225 [==============================] - 62s 274ms/step - loss: 6.4214e-04 - accuracy: 1.0000 - val_loss: 1.3149 - val_accuracy: 0.7800\n",
      "Epoch 15/20\n",
      "225/225 [==============================] - 62s 275ms/step - loss: 2.8773e-04 - accuracy: 1.0000 - val_loss: 1.3848 - val_accuracy: 0.7804\n",
      "Epoch 16/20\n",
      "225/225 [==============================] - 62s 274ms/step - loss: 2.0317e-04 - accuracy: 1.0000 - val_loss: 1.4298 - val_accuracy: 0.7792\n",
      "Epoch 17/20\n",
      "225/225 [==============================] - 64s 285ms/step - loss: 1.5194e-04 - accuracy: 1.0000 - val_loss: 1.4703 - val_accuracy: 0.7788\n",
      "Epoch 18/20\n",
      "225/225 [==============================] - 70s 310ms/step - loss: 1.1349e-04 - accuracy: 1.0000 - val_loss: 1.4991 - val_accuracy: 0.7800\n",
      "Epoch 19/20\n",
      "225/225 [==============================] - 66s 294ms/step - loss: 8.2896e-05 - accuracy: 1.0000 - val_loss: 1.5307 - val_accuracy: 0.7788\n",
      "Epoch 20/20\n",
      "225/225 [==============================] - 62s 276ms/step - loss: 5.9450e-05 - accuracy: 1.0000 - val_loss: 1.5657 - val_accuracy: 0.7792\n"
     ]
    }
   ],
   "source": [
    "history_cnn = cnn.fit(x = X_trainc, \n",
    "                      y = y_trainc, \n",
    "                      validation_data = (X_validationc, y_validationc), \n",
    "                      epochs = 20)"
   ]
  },
  {
   "cell_type": "markdown",
   "id": "7637910d",
   "metadata": {},
   "source": [
    "### Evaluacija konvolucione mreže"
   ]
  },
  {
   "cell_type": "code",
   "execution_count": 492,
   "id": "ded43030",
   "metadata": {},
   "outputs": [
    {
     "name": "stdout",
     "output_type": "stream",
     "text": [
      "57/57 [==============================] - 12s 209ms/step - loss: 4.7636e-05 - accuracy: 1.0000\n",
      "Training set accuracy: 1.0\n",
      "Training set loss: 4.7635599912609905e-05\n"
     ]
    }
   ],
   "source": [
    "train_scores_cnn = cnn.evaluate(X_trainc, y_trainc, batch_size=128)\n",
    "print('Training set {0}: {1}'.format(cnn.metrics_names[1], train_scores_cnn[1]))\n",
    "print('Training set {0}: {1}'.format(cnn.metrics_names[0], train_scores_cnn[0]))"
   ]
  },
  {
   "cell_type": "code",
   "execution_count": 493,
   "id": "4d79259d",
   "metadata": {},
   "outputs": [
    {
     "name": "stdout",
     "output_type": "stream",
     "text": [
      "19/19 [==============================] - 4s 210ms/step - loss: 1.7469 - accuracy: 0.7817\n",
      "Test set accuracy: 0.7816666960716248\n",
      "Test set loss: 1.746937870979309\n"
     ]
    }
   ],
   "source": [
    "test_scores_cnn = cnn.evaluate(X_testc, y_testc, batch_size=128)\n",
    "print('Test set {0}: {1}'.format(cnn.metrics_names[1], test_scores_cnn[1]))\n",
    "print('Test set {0}: {1}'.format(cnn.metrics_names[0], test_scores_cnn[0]))"
   ]
  },
  {
   "cell_type": "code",
   "execution_count": 494,
   "id": "5af2b51b",
   "metadata": {},
   "outputs": [
    {
     "data": {
      "image/png": "[encoded data removed]",
      "text/plain": [
       "<Figure size 1080x360 with 2 Axes>"
      ]
     },
     "metadata": {
      "needs_background": "light"
     },
     "output_type": "display_data"
    }
   ],
   "source": [
    "plt.figure(figsize=(15,5))\n",
    "\n",
    "plt.subplot(1, 2, 1)\n",
    "\n",
    "plt.plot(np.arange(1, 21), history_cnn.history['loss'], label='Training')\n",
    "plt.plot(np.arange(1, 21), history_cnn.history['val_loss'], label='Validation')\n",
    "plt.title('Training vs. Validation Loss', size=10)\n",
    "plt.xlabel('Epoch', size=14)\n",
    "plt.legend()\n",
    "\n",
    "\n",
    "plt.subplot(1, 2, 2)\n",
    "\n",
    "plt.plot(np.arange(1, 21), history_cnn.history['accuracy'], label='Training')\n",
    "plt.plot(np.arange(1, 21), history_cnn.history['val_accuracy'], label='Validation')\n",
    "plt.title('Training vs. Validation Accuracy', size=10)\n",
    "plt.xlabel('Epoch', size=14)\n",
    "plt.legend()\n",
    "\n",
    "plt.show()"
   ]
  },
  {
   "cell_type": "markdown",
   "id": "e83ee740",
   "metadata": {},
   "source": [
    "# Zaključak"
   ]
  },
  {
   "cell_type": "code",
   "execution_count": 495,
   "id": "2ac48db4",
   "metadata": {},
   "outputs": [
    {
     "data": {
      "image/png": "[encoded data removed]",
      "text/plain": [
       "<Figure size 1080x1080 with 4 Axes>"
      ]
     },
     "metadata": {
      "needs_background": "light"
     },
     "output_type": "display_data"
    }
   ],
   "source": [
    "plt.figure(figsize=(15,15))\n",
    "\n",
    "plt.subplot(2, 2, 1)\n",
    "\n",
    "plt.plot(np.arange(1, 51), history.history['loss'], label='Training')\n",
    "plt.plot(np.arange(1, 51), history.history['val_loss'], label='Validation')\n",
    "plt.title('Training vs. Validation Loss', size=10)\n",
    "plt.xlabel('Epoch', size=14)\n",
    "plt.legend()\n",
    "\n",
    "\n",
    "plt.subplot(2, 2, 2)\n",
    "\n",
    "plt.plot(np.arange(1, 51), history.history['accuracy'], label='Training')\n",
    "plt.plot(np.arange(1, 51), history.history['val_accuracy'], label='Validation')\n",
    "plt.title('Training vs. Validation Accuracy', size=10)\n",
    "plt.xlabel('Epoch', size=14)\n",
    "plt.legend()\n",
    "\n",
    "plt.subplot(2, 2, 3)\n",
    "\n",
    "plt.plot(np.arange(1, 21), history_cnn.history['loss'], label='Training')\n",
    "plt.plot(np.arange(1, 21), history_cnn.history['val_loss'], label='Validation')\n",
    "plt.title('Training vs. Validation Loss', size=10)\n",
    "plt.xlabel('Epoch', size=14)\n",
    "plt.legend()\n",
    "\n",
    "\n",
    "plt.subplot(2, 2, 4)\n",
    "\n",
    "plt.plot(np.arange(1, 21), history_cnn.history['accuracy'], label='Training')\n",
    "plt.plot(np.arange(1, 21), history_cnn.history['val_accuracy'], label='Validation')\n",
    "plt.title('Training vs. Validation Accuracy', size=10)\n",
    "plt.xlabel('Epoch', size=14)\n",
    "plt.legend()\n",
    "\n",
    "plt.show()"
   ]
  },
  {
   "cell_type": "markdown",
   "id": "6bb67f9a",
   "metadata": {},
   "source": [
    "**Konvoluciona mreža** prividno izgleda kao najbolja jer kaže da smo dobili predikciju od 100% tokom treninga, ali validacioni set kaže da je model samo overfitovan i da što duže traje trening, to gore performanse imamo na validacionom setu. Što je manji gubitak tokom treninga mreže trening setom, to je veći gubitak na validacionom setu, uprkos tome što je tačnost na validacionom setu sa malim oscilacijama i sa pristojnom preciznošću.\n",
    "Uz prepravke, trebalo bi da konvoluciona mreža zaista bude najbolji model.\n",
    "Isprobana je verzija sa **ImageDataGenerator** bibliotekom zbog sprečavanja preprilagodjavanja, ali uz greške koje nisu uspele da budu rešene. \n",
    "\n",
    "**Neuralna mreža** nam kaže da smo već kod trinaeste epohe imali najbolje rezultate u kontekstu tačnosti i gubitka, ali sa tačnošću oko 72,87%. "
   ]
  }
 ],
 "metadata": {
  "kernelspec": {
   "display_name": "Python 3 (ipykernel)",
   "language": "python",
   "name": "python3"
  },
  "language_info": {
   "codemirror_mode": {
    "name": "ipython",
    "version": 3
   },
   "file_extension": ".py",
   "mimetype": "text/x-python",
   "name": "python",
   "nbconvert_exporter": "python",
   "pygments_lexer": "ipython3",
   "version": "3.9.7"
  }
 },
 "nbformat": 4,
 "nbformat_minor": 5
}
