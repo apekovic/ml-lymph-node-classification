{
 "cells": [
  {
   "cell_type": "markdown",
   "id": "340d059c",
   "metadata": {},
   "source": [
    "# <span style=\"color:blue\">Klasični pristup klasifikaciji slika limfnih čvorova</span>"
   ]
  },
  {
   "cell_type": "code",
   "execution_count": 1,
   "id": "967fa420",
   "metadata": {},
   "outputs": [
    {
     "name": "stderr",
     "output_type": "stream",
     "text": [
      "C:\\Users\\ANCI\\anaconda3\\lib\\site-packages\\scipy\\__init__.py:146: UserWarning: A NumPy version >=1.16.5 and <1.23.0 is required for this version of SciPy (detected version 1.23.2\n",
      "  warnings.warn(f\"A NumPy version >={np_minversion} and <{np_maxversion}\"\n"
     ]
    }
   ],
   "source": [
    "import numpy as np\n",
    "import pandas as pd\n",
    "import matplotlib.pyplot as plt\n",
    "from matplotlib import cm\n",
    "%matplotlib inline\n",
    "\n",
    "import h5py\n",
    "\n",
    "import pickle\n",
    "\n",
    "from sklearn import preprocessing, model_selection\n",
    "from sklearn.metrics import accuracy_score, confusion_matrix, classification_report, roc_curve, roc_auc_score, RocCurveDisplay\n",
    "from sklearn.linear_model import LogisticRegression\n",
    "from sklearn.ensemble import RandomForestClassifier, AdaBoostClassifier, GradientBoostingClassifier, BaggingClassifier\n",
    "from sklearn.neighbors import KNeighborsClassifier\n",
    "from sklearn.tree import DecisionTreeClassifier\n",
    "from sklearn.naive_bayes import GaussianNB\n",
    "from sklearn.svm import SVC\n",
    "from sklearn.model_selection import cross_val_score, train_test_split, GridSearchCV\n",
    "\n",
    "from xgboost import XGBClassifier\n",
    "\n",
    "import warnings\n",
    "warnings.filterwarnings('ignore')"
   ]
  },
  {
   "cell_type": "markdown",
   "id": "692b698f",
   "metadata": {},
   "source": [
    "### Učitavanje podataka iz hdf5 fajlova"
   ]
  },
  {
   "cell_type": "code",
   "execution_count": 2,
   "id": "8a2a46e2",
   "metadata": {},
   "outputs": [
    {
     "name": "stdout",
     "output_type": "stream",
     "text": [
      "X shape =  (32768, 96, 96, 3)\n",
      "y shape =  (32768, 1, 1, 1)\n"
     ]
    }
   ],
   "source": [
    "hdf5_x_file = 'dataset/camelyonpatch_x.h5'\n",
    "hdf5_y_file = 'dataset/camelyonpatch_y.h5'\n",
    "\n",
    "hfx = h5py.File(hdf5_x_file, 'r')\n",
    "hfy = h5py.File(hdf5_y_file, 'r')\n",
    "\n",
    "X = hfx['x']\n",
    "y = hfy['y']\n",
    "\n",
    "print(\"X shape = \",X.shape)\n",
    "print(\"y shape = \",y.shape)"
   ]
  },
  {
   "cell_type": "code",
   "execution_count": 3,
   "id": "e3049d2f",
   "metadata": {},
   "outputs": [
    {
     "data": {
      "text/plain": [
       "array([[[[247, 246, 244],\n",
       "         [246, 245, 243],\n",
       "         [246, 245, 243],\n",
       "         ...,\n",
       "         [235, 236, 230],\n",
       "         [251, 250, 248],\n",
       "         [254, 254, 254]],\n",
       "\n",
       "        [[247, 246, 244],\n",
       "         [246, 245, 243],\n",
       "         [246, 245, 243],\n",
       "         ...,\n",
       "         [247, 246, 244],\n",
       "         [245, 243, 244],\n",
       "         [245, 245, 247]],\n",
       "\n",
       "        [[247, 246, 244],\n",
       "         [246, 245, 243],\n",
       "         [246, 245, 243],\n",
       "         ...,\n",
       "         [255, 254, 255],\n",
       "         [243, 241, 244],\n",
       "         [236, 235, 240]],\n",
       "\n",
       "        ...,\n",
       "\n",
       "        [[244, 244, 242],\n",
       "         [244, 244, 242],\n",
       "         [244, 244, 242],\n",
       "         ...,\n",
       "         [244, 242, 243],\n",
       "         [245, 243, 244],\n",
       "         [249, 245, 246]],\n",
       "\n",
       "        [[243, 243, 241],\n",
       "         [243, 243, 241],\n",
       "         [244, 244, 242],\n",
       "         ...,\n",
       "         [242, 242, 242],\n",
       "         [243, 241, 242],\n",
       "         [245, 243, 244]],\n",
       "\n",
       "        [[243, 243, 241],\n",
       "         [243, 243, 241],\n",
       "         [244, 244, 242],\n",
       "         ...,\n",
       "         [243, 243, 243],\n",
       "         [241, 241, 243],\n",
       "         [243, 241, 244]]],\n",
       "\n",
       "\n",
       "       [[[216, 166, 203],\n",
       "         [241, 195, 221],\n",
       "         [245, 205, 216],\n",
       "         ...,\n",
       "         [202, 157, 180],\n",
       "         [ 97,  44,  72],\n",
       "         [192, 137, 168]],\n",
       "\n",
       "        [[225, 179, 215],\n",
       "         [193, 151, 175],\n",
       "         [228, 192, 204],\n",
       "         ...,\n",
       "         [249, 204, 227],\n",
       "         [255, 213, 241],\n",
       "         [215, 160, 189]],\n",
       "\n",
       "        [[136,  91, 122],\n",
       "         [242, 202, 226],\n",
       "         [255, 228, 241],\n",
       "         ...,\n",
       "         [186, 141, 162],\n",
       "         [205, 155, 180],\n",
       "         [227, 174, 200]],\n",
       "\n",
       "        ...,\n",
       "\n",
       "        [[ 56,   9,  41],\n",
       "         [ 99,  55,  82],\n",
       "         [239, 195, 220],\n",
       "         ...,\n",
       "         [255, 246, 255],\n",
       "         [251, 242, 247],\n",
       "         [255, 255, 253]],\n",
       "\n",
       "        [[ 34,   0,  23],\n",
       "         [128,  81, 113],\n",
       "         [233, 187, 215],\n",
       "         ...,\n",
       "         [249, 219, 243],\n",
       "         [255, 241, 254],\n",
       "         [252, 245, 252]],\n",
       "\n",
       "        [[ 70,  22,  60],\n",
       "         [242, 195, 231],\n",
       "         [211, 162, 192],\n",
       "         ...,\n",
       "         [129,  92, 123],\n",
       "         [255, 246, 255],\n",
       "         [227, 213, 226]]],\n",
       "\n",
       "\n",
       "       [[[184, 155, 186],\n",
       "         [246, 215, 247],\n",
       "         [225, 191, 228],\n",
       "         ...,\n",
       "         [193, 128, 182],\n",
       "         [237, 179, 229],\n",
       "         [212, 154, 202]],\n",
       "\n",
       "        [[216, 190, 219],\n",
       "         [224, 195, 226],\n",
       "         [205, 173, 210],\n",
       "         ...,\n",
       "         [179, 117, 168],\n",
       "         [255, 199, 247],\n",
       "         [214, 156, 204]],\n",
       "\n",
       "        [[189, 163, 192],\n",
       "         [232, 205, 236],\n",
       "         [255, 239, 255],\n",
       "         ...,\n",
       "         [176, 118, 168],\n",
       "         [237, 181, 230],\n",
       "         [236, 177, 225]],\n",
       "\n",
       "        ...,\n",
       "\n",
       "        [[240, 237, 246],\n",
       "         [205, 197, 218],\n",
       "         [172, 157, 196],\n",
       "         ...,\n",
       "         [180, 138, 178],\n",
       "         [241, 196, 235],\n",
       "         [220, 172, 210]],\n",
       "\n",
       "        [[217, 218, 213],\n",
       "         [212, 209, 218],\n",
       "         [210, 201, 232],\n",
       "         ...,\n",
       "         [151, 108, 151],\n",
       "         [255, 213, 252],\n",
       "         [229, 183, 220]],\n",
       "\n",
       "        [[238, 236, 224],\n",
       "         [222, 217, 221],\n",
       "         [218, 210, 234],\n",
       "         ...,\n",
       "         [170, 129, 171],\n",
       "         [225, 180, 219],\n",
       "         [251, 205, 242]]],\n",
       "\n",
       "\n",
       "       [[[140,  64, 164],\n",
       "         [169,  92, 188],\n",
       "         [160,  77, 167],\n",
       "         ...,\n",
       "         [140, 101, 182],\n",
       "         [147, 105, 187],\n",
       "         [130,  89, 168]],\n",
       "\n",
       "        [[155,  73, 175],\n",
       "         [173,  89, 185],\n",
       "         [155,  70, 161],\n",
       "         ...,\n",
       "         [141,  99, 181],\n",
       "         [116,  74, 156],\n",
       "         [127,  85, 167]],\n",
       "\n",
       "        [[172,  79, 185],\n",
       "         [186,  94, 193],\n",
       "         [221, 133, 220],\n",
       "         ...,\n",
       "         [127,  85, 167],\n",
       "         [129,  85, 170],\n",
       "         [108,  64, 149]],\n",
       "\n",
       "        ...,\n",
       "\n",
       "        [[112,  72, 161],\n",
       "         [115,  69, 159],\n",
       "         [112,  59, 147],\n",
       "         ...,\n",
       "         [ 96,  36, 122],\n",
       "         [121,  67, 151],\n",
       "         [113,  64, 146]],\n",
       "\n",
       "        [[111,  76, 166],\n",
       "         [113,  70, 160],\n",
       "         [123,  69, 163],\n",
       "         ...,\n",
       "         [150,  76, 163],\n",
       "         [129,  59, 145],\n",
       "         [132,  67, 151]],\n",
       "\n",
       "        [[161, 131, 219],\n",
       "         [131,  92, 183],\n",
       "         [136,  85, 180],\n",
       "         ...,\n",
       "         [235, 149, 236],\n",
       "         [202, 120, 205],\n",
       "         [221, 143, 227]]],\n",
       "\n",
       "\n",
       "       [[[153, 111, 175],\n",
       "         [131,  75, 140],\n",
       "         [195, 125, 188],\n",
       "         ...,\n",
       "         [ 63,  32, 126],\n",
       "         [ 73,  53, 150],\n",
       "         [ 31,  19, 117]],\n",
       "\n",
       "        [[134,  93, 161],\n",
       "         [135,  82, 150],\n",
       "         [230, 164, 228],\n",
       "         ...,\n",
       "         [ 72,  47, 131],\n",
       "         [ 67,  49, 135],\n",
       "         [ 70,  56, 144]],\n",
       "\n",
       "        [[190, 150, 221],\n",
       "         [142,  92, 163],\n",
       "         [193, 132, 199],\n",
       "         ...,\n",
       "         [ 60,  38, 113],\n",
       "         [ 47,  26, 101],\n",
       "         [ 76,  58, 132]],\n",
       "\n",
       "        ...,\n",
       "\n",
       "        [[236, 224, 238],\n",
       "         [229, 218, 232],\n",
       "         [225, 214, 228],\n",
       "         ...,\n",
       "         [151,  81, 179],\n",
       "         [ 96,  68, 142],\n",
       "         [ 28,  49,  94]],\n",
       "\n",
       "        [[240, 228, 242],\n",
       "         [232, 220, 234],\n",
       "         [227, 215, 229],\n",
       "         ...,\n",
       "         [131,  57, 156],\n",
       "         [ 64,  31, 118],\n",
       "         [ 51,  69, 133]],\n",
       "\n",
       "        [[243, 229, 244],\n",
       "         [234, 222, 236],\n",
       "         [228, 216, 230],\n",
       "         ...,\n",
       "         [133,  57, 157],\n",
       "         [ 60,  23, 118],\n",
       "         [ 36,  50, 125]]]], dtype=uint8)"
      ]
     },
     "execution_count": 3,
     "metadata": {},
     "output_type": "execute_result"
    }
   ],
   "source": [
    "X[:5]"
   ]
  },
  {
   "cell_type": "code",
   "execution_count": 4,
   "id": "ffbac322",
   "metadata": {},
   "outputs": [
    {
     "data": {
      "text/plain": [
       "array([[[[0]]],\n",
       "\n",
       "\n",
       "       [[[1]]],\n",
       "\n",
       "\n",
       "       [[[0]]],\n",
       "\n",
       "\n",
       "       [[[1]]],\n",
       "\n",
       "\n",
       "       [[[1]]]], dtype=uint8)"
      ]
     },
     "execution_count": 4,
     "metadata": {},
     "output_type": "execute_result"
    }
   ],
   "source": [
    "y[:5]"
   ]
  },
  {
   "cell_type": "markdown",
   "id": "23ec2aa5",
   "metadata": {},
   "source": [
    "### Konvertovanje u np.array"
   ]
  },
  {
   "cell_type": "code",
   "execution_count": 5,
   "id": "4bf07648",
   "metadata": {},
   "outputs": [],
   "source": [
    "X = np.array(X)\n",
    "y = np.array(y)"
   ]
  },
  {
   "cell_type": "code",
   "execution_count": 6,
   "id": "6deeec54",
   "metadata": {},
   "outputs": [
    {
     "name": "stdout",
     "output_type": "stream",
     "text": [
      "2D X shape =  (32768, 27648)\n",
      "2D y shape =  (32768,)\n"
     ]
    }
   ],
   "source": [
    "#Reshape iz  4D u 2D\n",
    "\n",
    "nsamples, nx, ny, nrgb = X.shape\n",
    "X = X.reshape((nsamples,nx*ny*nrgb))\n",
    "print('2D X shape = ',X.shape)\n",
    "\n",
    "y = y.ravel()\n",
    "print('2D y shape = ',y.shape)"
   ]
  },
  {
   "cell_type": "code",
   "execution_count": 7,
   "id": "e2ed469d",
   "metadata": {},
   "outputs": [
    {
     "name": "stdout",
     "output_type": "stream",
     "text": [
      "Broj pozitivnih instanci dataseta:  16377\n",
      "Broj negativnih instanci dataseta:  16391\n"
     ]
    }
   ],
   "source": [
    "#Provera koliko u datasetu ima benignih i malignih uzoraka\n",
    "\n",
    "benigni = np.sum(y==1)\n",
    "print('Broj pozitivnih instanci dataseta: ', benigni)\n",
    "\n",
    "maligni = np.sum(y==0)\n",
    "print('Broj negativnih instanci dataseta: ', maligni)"
   ]
  },
  {
   "cell_type": "markdown",
   "id": "8178eb94",
   "metadata": {},
   "source": [
    "### Balansiranost podataka"
   ]
  },
  {
   "cell_type": "code",
   "execution_count": 8,
   "id": "88a54c52",
   "metadata": {},
   "outputs": [
    {
     "data": {
      "image/png": "[encoded data removed]",
      "text/plain": [
       "<Figure size 720x432 with 1 Axes>"
      ]
     },
     "metadata": {
      "needs_background": "light"
     },
     "output_type": "display_data"
    }
   ],
   "source": [
    "plt.figure(figsize = (10,6))\n",
    "\n",
    "plt.title('Vizuelna provera balansiranosti')\n",
    "plt.xticks([0,1])\n",
    "plt.ylabel('Broj instanci',size = 12)\n",
    "plt.bar(['benigni','maligni'], [benigni,maligni], width = 0.1, color=['lightgreen','tomato'], edgecolor = ['gray','gray'])\n",
    "\n",
    "plt.grid(axis = 'y')\n",
    "\n",
    "plt.savefig('assets/pictures/BalanceCheck.jpg')\n",
    "\n",
    "plt.show()"
   ]
  },
  {
   "cell_type": "markdown",
   "id": "6cf18c44",
   "metadata": {},
   "source": [
    "Zbog balansiranosti uzoraka obe klase koje predvidjamo, tačnost klasifikacije (Accuracy) će nam biti dobra mera evaluacije klasifikatora."
   ]
  },
  {
   "cell_type": "markdown",
   "id": "0fd2619f",
   "metadata": {},
   "source": [
    "### Podela dataseta na Training, Test i Validation set"
   ]
  },
  {
   "cell_type": "code",
   "execution_count": 9,
   "id": "aacaaf22",
   "metadata": {},
   "outputs": [],
   "source": [
    "X_train_and_val, X_test, y_train_and_val, y_test = train_test_split(X, y, test_size = 0.2, random_state = 42, stratify = y)\n",
    "X_train, X_validation, y_train, y_validation = train_test_split(X_train_and_val, y_train_and_val, test_size = 0.25, random_state = 42, stratify = y_train_and_val )"
   ]
  },
  {
   "cell_type": "code",
   "execution_count": 10,
   "id": "88aedb68",
   "metadata": {},
   "outputs": [
    {
     "name": "stdout",
     "output_type": "stream",
     "text": [
      "[[254 233 238 ... 151 120 128]\n",
      " [178 130 190 ... 174  70 169]\n",
      " [ 60  23 126 ... 167 103 199]\n",
      " ...\n",
      " [215 210 217 ... 242 179 250]\n",
      " [246 161 220 ... 121  49 161]\n",
      " [ 77  34  64 ... 128  85 105]]\n"
     ]
    }
   ],
   "source": [
    "print(X_train)"
   ]
  },
  {
   "cell_type": "code",
   "execution_count": 11,
   "id": "fe7ca5a1",
   "metadata": {},
   "outputs": [
    {
     "name": "stdout",
     "output_type": "stream",
     "text": [
      "[0 1 1 ... 1 1 0]\n"
     ]
    }
   ],
   "source": [
    "print(y_train)"
   ]
  },
  {
   "cell_type": "code",
   "execution_count": 12,
   "id": "a86adb72",
   "metadata": {},
   "outputs": [
    {
     "name": "stdout",
     "output_type": "stream",
     "text": [
      "[[121  86 128 ... 252 252 252]\n",
      " [242 242 242 ... 193  68 208]\n",
      " [174 141 158 ... 115  63  65]\n",
      " ...\n",
      " [220 113 207 ... 227 217 242]\n",
      " [171  66 185 ... 238 223 255]\n",
      " [221 225 224 ... 187 126 186]]\n"
     ]
    }
   ],
   "source": [
    "print(X_test)"
   ]
  },
  {
   "cell_type": "code",
   "execution_count": 13,
   "id": "cfc08d1e",
   "metadata": {},
   "outputs": [
    {
     "name": "stdout",
     "output_type": "stream",
     "text": [
      "[1 1 0 ... 0 1 0]\n"
     ]
    }
   ],
   "source": [
    "print(y_test)"
   ]
  },
  {
   "cell_type": "code",
   "execution_count": 15,
   "id": "a14b660f",
   "metadata": {},
   "outputs": [
    {
     "name": "stdout",
     "output_type": "stream",
     "text": [
      "[[241 229 241 ... 229 224 231]\n",
      " [227 161 223 ...  58  34 144]\n",
      " [173  85 127 ... 134  63  97]\n",
      " ...\n",
      " [121  89 165 ... 159  97 183]\n",
      " [ 76  46 146 ... 214 167 222]\n",
      " [184  68 169 ... 253 219 254]]\n"
     ]
    }
   ],
   "source": [
    "print(X_validation)"
   ]
  },
  {
   "cell_type": "code",
   "execution_count": 16,
   "id": "768da944",
   "metadata": {},
   "outputs": [
    {
     "name": "stdout",
     "output_type": "stream",
     "text": [
      "[0 0 1 ... 0 1 1]\n"
     ]
    }
   ],
   "source": [
    "print(y_validation)"
   ]
  },
  {
   "cell_type": "code",
   "execution_count": 17,
   "id": "b76768b4",
   "metadata": {},
   "outputs": [
    {
     "name": "stdout",
     "output_type": "stream",
     "text": [
      "Trening set (shape):  (19660, 27648)\n",
      "Test set (shape):  (6554, 27648)\n",
      "Validation set (shape):  (6554, 27648)\n"
     ]
    }
   ],
   "source": [
    "print(\"Trening set (shape): \",X_train.shape)\n",
    "print(\"Test set (shape): \",X_test.shape)\n",
    "print(\"Validation set (shape): \",X_validation.shape)"
   ]
  },
  {
   "cell_type": "code",
   "execution_count": null,
   "id": "b73a0035",
   "metadata": {},
   "outputs": [],
   "source": []
  },
  {
   "cell_type": "code",
   "execution_count": 18,
   "id": "d27bc990",
   "metadata": {},
   "outputs": [],
   "source": [
    "#Zbog velike količine iskorišćene memorije, oslobadja se deo koji nije više neophodan. \n",
    "#Nakon podele na train i test, mogu X i y da se uklone\n",
    "del X, y"
   ]
  },
  {
   "cell_type": "markdown",
   "id": "fc38886c",
   "metadata": {},
   "source": [
    "### Provera stratifikovanosti podataka za Training, Test i Validation set"
   ]
  },
  {
   "cell_type": "code",
   "execution_count": 19,
   "id": "aa66042b",
   "metadata": {},
   "outputs": [
    {
     "name": "stdout",
     "output_type": "stream",
     "text": [
      "Broj pozitivnih instanci trening seta:  9826\n",
      "Broj negativnih instanci trening seta:  9834\n"
     ]
    }
   ],
   "source": [
    "benigni_train = np.sum(y_train==1)\n",
    "print('Broj pozitivnih instanci trening seta: ', benigni_train)\n",
    "\n",
    "maligni_train = np.sum(y_train==0)\n",
    "print('Broj negativnih instanci trening seta: ', maligni_train)"
   ]
  },
  {
   "cell_type": "code",
   "execution_count": 20,
   "id": "b0ea9319",
   "metadata": {},
   "outputs": [
    {
     "name": "stdout",
     "output_type": "stream",
     "text": [
      "Broj pozitivnih instanci test seta:  3276\n",
      "Broj negativnih instanci test seta:  3278\n"
     ]
    }
   ],
   "source": [
    "benigni_test = np.sum(y_test==1)\n",
    "print('Broj pozitivnih instanci test seta: ', benigni_test)\n",
    "maligni_test = np.sum(y_test==0)\n",
    "print('Broj negativnih instanci test seta: ', maligni_test)"
   ]
  },
  {
   "cell_type": "code",
   "execution_count": 21,
   "id": "9bfc57b0",
   "metadata": {},
   "outputs": [
    {
     "name": "stdout",
     "output_type": "stream",
     "text": [
      "Broj pozitivnih instanci validacionog seta:  3275\n",
      "Broj negativnih instanci validacionog seta:  3279\n"
     ]
    }
   ],
   "source": [
    "benigni_val = np.sum(y_validation==1)\n",
    "print('Broj pozitivnih instanci validacionog seta: ', benigni_val)\n",
    "maligni_val = np.sum(y_validation==0)\n",
    "print('Broj negativnih instanci validacionog seta: ', maligni_val)"
   ]
  },
  {
   "cell_type": "code",
   "execution_count": 22,
   "id": "45c6e03a",
   "metadata": {},
   "outputs": [
    {
     "data": {
      "image/png": "[encoded data removed]",
      "text/plain": [
       "<Figure size 720x432 with 1 Axes>"
      ]
     },
     "metadata": {
      "needs_background": "light"
     },
     "output_type": "display_data"
    }
   ],
   "source": [
    "plt.figure(figsize = (10,6))\n",
    "\n",
    "plt.title('Vizuelna provera stratifikovanosti')\n",
    "plt.xticks([0,1])\n",
    "plt.xlabel('0 - maligni tumor, 1 - benigni tumor')\n",
    "plt.hist([y_train, y_test, y_validation], color=['tomato', 'gold', 'lightgreen'], label=['skup za treniranje', 'skup za testiranje', 'skup za validaciju'], edgecolor='gray')\n",
    "plt.legend(loc='best')\n",
    "plt.grid(axis = 'y')\n",
    "\n",
    "plt.savefig('assets/pictures/StratificationCheck.jpg')\n",
    "\n",
    "plt.show()"
   ]
  },
  {
   "cell_type": "markdown",
   "id": "13b58f11",
   "metadata": {},
   "source": [
    "### Standardizacija"
   ]
  },
  {
   "cell_type": "code",
   "execution_count": 21,
   "id": "2c538c77",
   "metadata": {},
   "outputs": [],
   "source": [
    "scaler = preprocessing.StandardScaler()\n",
    "scaler.fit(X_train)\n",
    "X_train = scaler.transform(X_train)\n",
    "X_validation = scaler.transform(X_validation)"
   ]
  },
  {
   "cell_type": "code",
   "execution_count": 22,
   "id": "2676c0ab",
   "metadata": {},
   "outputs": [],
   "source": [
    "scaler_tv = preprocessing.StandardScaler()\n",
    "scaler_tv.fit(X_train_and_val)\n",
    "X_train_and_val = scaler_tv.transform(X_train_and_val)\n",
    "X_test = scaler_tv.transform(X_test)"
   ]
  },
  {
   "cell_type": "code",
   "execution_count": 23,
   "id": "ac614480",
   "metadata": {},
   "outputs": [
    {
     "name": "stdout",
     "output_type": "stream",
     "text": [
      "[[ 1.30910312  1.38902285  1.17899234 ... -0.39282128 -0.21108891\n",
      "  -0.94294384]\n",
      " [ 0.08647567 -0.03866716  0.26224548 ... -0.02588697 -0.89542089\n",
      "  -0.17817272]\n",
      " [-1.81181431 -1.52180144 -0.96008367 ... -0.13756263 -0.44376179\n",
      "   0.38141591]\n",
      " ...\n",
      " [ 0.68170219  1.07021828  0.77791559 ...  1.05896227  0.59642281\n",
      "   1.33271658]\n",
      " [ 1.1804055   0.39102595  0.83521227 ... -0.87143124 -1.18284032\n",
      "  -0.32739635]\n",
      " [-1.53833186 -1.36932969 -2.14421502 ... -0.75975558 -0.6901213\n",
      "  -1.37196179]]\n"
     ]
    }
   ],
   "source": [
    "print(X_train)"
   ]
  },
  {
   "cell_type": "code",
   "execution_count": 24,
   "id": "23e7d365",
   "metadata": {},
   "outputs": [
    {
     "name": "stdout",
     "output_type": "stream",
     "text": [
      "[[-0.82465962 -0.64608368 -0.9201372  ...  1.22047286  1.59752775\n",
      "   1.3723488 ]\n",
      " [ 1.11346154  1.50732707  1.25023735 ...  0.28118425 -0.92216486\n",
      "   0.55153983]\n",
      " [ 0.02426949  0.11313165 -0.348986   ... -0.96058714 -0.99063477\n",
      "  -2.11608934]\n",
      " ...\n",
      " [ 0.76107588 -0.27337797  0.58389429 ...  0.82246921  1.11823839\n",
      "   1.18580131]\n",
      " [-0.02378311 -0.92216198  0.16505007 ...  0.99759082  1.20040228\n",
      "   1.42831305]\n",
      " [ 0.77709341  1.27266051  0.90754663 ...  0.18566337 -0.12791393\n",
      "   0.14113534]]\n"
     ]
    }
   ],
   "source": [
    "print(X_test)"
   ]
  },
  {
   "cell_type": "code",
   "execution_count": 25,
   "id": "87887817",
   "metadata": {},
   "outputs": [
    {
     "name": "stdout",
     "output_type": "stream",
     "text": [
      "[[ 1.09996948  1.33357857  1.23628902 ...  0.85156462  1.21232159\n",
      "   0.97831045]\n",
      " [ 0.87474863  0.39102595  0.89250895 ... -1.87651215 -1.38813991\n",
      "  -0.64449657]\n",
      " [ 0.00603966 -0.66241522 -0.94098477 ... -0.66403359 -0.99122736\n",
      "  -1.52118542]\n",
      " ...\n",
      " [-0.83049491 -0.60697095 -0.21522684 ... -0.26519195 -0.52588162\n",
      "   0.08296864]\n",
      " [-1.55441906 -1.20299688 -0.57810581 ...  0.61225964  0.43218314\n",
      "   0.81043386]\n",
      " [ 0.18299889 -0.89805338 -0.13883127 ...  1.23445259  1.14388839\n",
      "   1.4073284 ]]\n"
     ]
    }
   ],
   "source": [
    "print(X_validation)"
   ]
  },
  {
   "cell_type": "markdown",
   "id": "821b6781",
   "metadata": {},
   "source": [
    "### Čuvanje scaler-a"
   ]
  },
  {
   "cell_type": "code",
   "execution_count": 26,
   "id": "d6001d0d",
   "metadata": {},
   "outputs": [],
   "source": [
    "with open('assets/standard_scaler/Train.scaler.pickle', 'wb') as scaler_file:\n",
    "    pickle.dump(scaler, scaler_file)"
   ]
  },
  {
   "cell_type": "code",
   "execution_count": 27,
   "id": "e073934d",
   "metadata": {},
   "outputs": [],
   "source": [
    "with open('assets/standard_scaler/Train_and_Validation.scaler.pickle', 'wb') as scaler_file:\n",
    "    pickle.dump(scaler_tv, scaler_file)"
   ]
  },
  {
   "cell_type": "markdown",
   "id": "d1a36b2d",
   "metadata": {},
   "source": [
    "# <span style=\"color:blue\">1. Logistička regresija</span>"
   ]
  },
  {
   "cell_type": "code",
   "execution_count": 28,
   "id": "8715ac68",
   "metadata": {},
   "outputs": [
    {
     "data": {
      "text/plain": [
       "LogisticRegression()"
      ]
     },
     "execution_count": 28,
     "metadata": {},
     "output_type": "execute_result"
    }
   ],
   "source": [
    "log_reg = LogisticRegression()\n",
    "log_reg.fit(X_train, y_train)"
   ]
  },
  {
   "cell_type": "markdown",
   "id": "dcdfc1dc",
   "metadata": {},
   "source": [
    "### Predikcija na test setu"
   ]
  },
  {
   "cell_type": "code",
   "execution_count": 29,
   "id": "f3e8de00",
   "metadata": {},
   "outputs": [],
   "source": [
    "y_pred_log = log_reg.predict(X_test)"
   ]
  },
  {
   "cell_type": "code",
   "execution_count": 30,
   "id": "7c17527f",
   "metadata": {},
   "outputs": [
    {
     "name": "stdout",
     "output_type": "stream",
     "text": [
      "Tačnost: 64.28%\n"
     ]
    }
   ],
   "source": [
    "log_acc = accuracy_score(y_pred_log, y_test)\n",
    "print('Tačnost: {0:.2f}%'.format(log_acc*100))"
   ]
  },
  {
   "cell_type": "code",
   "execution_count": 31,
   "id": "1e972160",
   "metadata": {},
   "outputs": [
    {
     "name": "stdout",
     "output_type": "stream",
     "text": [
      "              precision    recall  f1-score   support\n",
      "\n",
      "           0       0.63      0.65      0.64      3181\n",
      "           1       0.66      0.64      0.65      3373\n",
      "\n",
      "    accuracy                           0.64      6554\n",
      "   macro avg       0.64      0.64      0.64      6554\n",
      "weighted avg       0.64      0.64      0.64      6554\n",
      "\n"
     ]
    }
   ],
   "source": [
    "log_cr = classification_report(y_pred_log, y_test)\n",
    "print(log_cr)"
   ]
  },
  {
   "cell_type": "code",
   "execution_count": 32,
   "id": "3fee4034",
   "metadata": {},
   "outputs": [
    {
     "data": {
      "text/plain": [
       "array([[2059, 1122],\n",
       "       [1219, 2154]], dtype=int64)"
      ]
     },
     "execution_count": 32,
     "metadata": {},
     "output_type": "execute_result"
    }
   ],
   "source": [
    "log_cm = confusion_matrix(y_pred_log, y_test)\n",
    "log_cm"
   ]
  },
  {
   "cell_type": "markdown",
   "id": "25f3109f",
   "metadata": {},
   "source": [
    "### Predikcija na trening setu"
   ]
  },
  {
   "cell_type": "code",
   "execution_count": 33,
   "id": "410aa3e6",
   "metadata": {},
   "outputs": [
    {
     "name": "stdout",
     "output_type": "stream",
     "text": [
      "[1 1 1 ... 1 1 0]\n"
     ]
    }
   ],
   "source": [
    "y_pred_train_log = log_reg.predict(X_train)\n",
    "print(y_pred_train_log)"
   ]
  },
  {
   "cell_type": "code",
   "execution_count": 34,
   "id": "8766dc1b",
   "metadata": {},
   "outputs": [
    {
     "name": "stdout",
     "output_type": "stream",
     "text": [
      "Tačnost: 95.99%\n"
     ]
    }
   ],
   "source": [
    "log_train_acc = accuracy_score(y_pred_train_log, y_train)\n",
    "print('Tačnost: {0:.2f}%'.format(log_train_acc*100))"
   ]
  },
  {
   "cell_type": "code",
   "execution_count": 35,
   "id": "834875ae",
   "metadata": {},
   "outputs": [
    {
     "name": "stdout",
     "output_type": "stream",
     "text": [
      "              precision    recall  f1-score   support\n",
      "\n",
      "           0       0.96      0.96      0.96      9833\n",
      "           1       0.96      0.96      0.96      9827\n",
      "\n",
      "    accuracy                           0.96     19660\n",
      "   macro avg       0.96      0.96      0.96     19660\n",
      "weighted avg       0.96      0.96      0.96     19660\n",
      "\n"
     ]
    }
   ],
   "source": [
    "log_train_cr = classification_report(y_pred_train_log, y_train)\n",
    "print(log_train_cr)"
   ]
  },
  {
   "cell_type": "code",
   "execution_count": 36,
   "id": "61de1cbd",
   "metadata": {},
   "outputs": [
    {
     "data": {
      "text/plain": [
       "array([[9439,  394],\n",
       "       [ 395, 9432]], dtype=int64)"
      ]
     },
     "execution_count": 36,
     "metadata": {},
     "output_type": "execute_result"
    }
   ],
   "source": [
    "log_train_cm = confusion_matrix(y_pred_train_log, y_train)\n",
    "log_train_cm"
   ]
  },
  {
   "cell_type": "markdown",
   "id": "9da18c50",
   "metadata": {},
   "source": [
    "### Provera preprilagodjavanja"
   ]
  },
  {
   "cell_type": "code",
   "execution_count": 37,
   "id": "829e1c6d",
   "metadata": {},
   "outputs": [
    {
     "name": "stdout",
     "output_type": "stream",
     "text": [
      "Tačnost na skupu za treniranje: 95.99%\n",
      "Tačnost na skupu za testiranje: 64.28%\n"
     ]
    }
   ],
   "source": [
    "print('Tačnost na skupu za treniranje: {0:.2f}%'.format(log_train_acc*100))\n",
    "print('Tačnost na skupu za testiranje: {0:.2f}%'.format(log_acc*100))"
   ]
  },
  {
   "cell_type": "markdown",
   "id": "991ce779",
   "metadata": {},
   "source": [
    "### Regularizacija zbog preprilagodjavanja"
   ]
  },
  {
   "cell_type": "code",
   "execution_count": 38,
   "id": "187b2e12",
   "metadata": {},
   "outputs": [
    {
     "name": "stdout",
     "output_type": "stream",
     "text": [
      "Solver =  newton-cg\n",
      "\t C =  0.0001\n",
      "\t\t Accuracy:  0.6924015868172109\n",
      "\t C =  0.001\n",
      "\t\t Accuracy:  0.6696673787000306\n",
      "\t C =  0.01\n",
      "\t\t Accuracy:  0.6502898992981385\n",
      "\t C =  0.1\n",
      "\t\t Accuracy:  0.6403722917302411\n",
      "Solver =  lbfgs\n",
      "\t C =  0.0001\n",
      "\t\t Accuracy:  0.6924015868172109\n",
      "\t C =  0.001\n",
      "\t\t Accuracy:  0.6724137931034483\n",
      "\t C =  0.01\n",
      "\t\t Accuracy:  0.6576136710405859\n",
      "\t C =  0.1\n",
      "\t\t Accuracy:  0.6460176991150443\n",
      "Solver =  liblinear\n",
      "\t C =  0.0001\n",
      "\t\t Accuracy:  0.6898077509917607\n",
      "\t C =  0.001\n",
      "\t\t Accuracy:  0.6699725358559658\n",
      "\t C =  0.01\n",
      "\t\t Accuracy:  0.6499847421422033\n",
      "\t C =  0.1\n",
      "\t\t Accuracy:  0.6406774488861764\n",
      "Solver =  sag\n",
      "\t C =  0.0001\n",
      "\t\t Accuracy:  0.6925541653951786\n",
      "\t C =  0.001\n",
      "\t\t Accuracy:  0.670735428745804\n",
      "\t C =  0.01\n",
      "\t\t Accuracy:  0.6599023497101008\n",
      "\t C =  0.1\n",
      "\t\t Accuracy:  0.6591394568202624\n",
      "Solver =  saga\n",
      "\t C =  0.0001\n",
      "\t\t Accuracy:  0.6925541653951786\n",
      "\t C =  0.001\n",
      "\t\t Accuracy:  0.671193164479707\n",
      "\t C =  0.01\n",
      "\t\t Accuracy:  0.664174549893195\n",
      "\t C =  0.1\n",
      "\t\t Accuracy:  0.6618858712236801\n"
     ]
    }
   ],
   "source": [
    "c = [0.0001, 0.001, 0.01, 0.1]\n",
    "solver = ['newton-cg', 'lbfgs', 'liblinear', 'sag', 'saga']\n",
    "\n",
    "lr_acc = 0\n",
    "best_c = 0\n",
    "best_solver = ''\n",
    "y_pred_lr = []\n",
    "scores = {}\n",
    "lr = None\n",
    "for i in range(len(solver)):\n",
    "    print(\"Solver = \", solver[i])\n",
    "    for j in range(len(c)):\n",
    "        print(\"\\t C = \", c[j])\n",
    "\n",
    "        model = LogisticRegression(C=c[j], solver = solver[i])\n",
    "        model.fit(X_train, y_train)\n",
    "        y_pred = model.predict(X_test)\n",
    "        acc = accuracy_score(y_pred, y_test)\n",
    "        print(\"\\t\\t Accuracy: \", acc)\n",
    "        \n",
    "        if solver[i] not in scores.keys():\n",
    "            scores[solver[i]] = []\n",
    "        \n",
    "        scores[solver[i]].append(acc)\n",
    "        if lr_acc < acc:\n",
    "            lr_acc = acc\n",
    "            best_c = c[j]\n",
    "            best_solver = solver[i]\n",
    "            y_pred_lr = y_pred\n",
    "            lr = model"
   ]
  },
  {
   "cell_type": "code",
   "execution_count": 39,
   "id": "998c3ea0",
   "metadata": {},
   "outputs": [
    {
     "name": "stdout",
     "output_type": "stream",
     "text": [
      "LogisticRegression(C=0.0001, solver='sag')\n",
      "sag\n",
      "0.0001\n",
      "0.6925541653951786\n"
     ]
    }
   ],
   "source": [
    "print(lr)\n",
    "print(best_solver)\n",
    "print(best_c)\n",
    "print(lr_acc)"
   ]
  },
  {
   "cell_type": "code",
   "execution_count": 40,
   "id": "d0ee04bd",
   "metadata": {},
   "outputs": [
    {
     "data": {
      "image/png": "[encoded data removed]",
      "text/plain": [
       "<Figure size 1008x432 with 1 Axes>"
      ]
     },
     "metadata": {
      "needs_background": "light"
     },
     "output_type": "display_data"
    }
   ],
   "source": [
    "\n",
    "cmap = ['indianred', 'orange', 'gold', 'mediumseagreen', 'lightskyblue']\n",
    "x_axis = np.arange(len(c))\n",
    "move = [-2, -1, 0, 1, 2]\n",
    "width = 0.2\n",
    "\n",
    "plt.figure(figsize = (14,6))\n",
    "for i in range(len(move)):\n",
    "    plt.bar(x_axis + width*move[i]/1.5, scores[solver[i]], width = 0.1, color = cmap[i], edgecolor='gray')\n",
    "\n",
    "plt.xticks(x_axis, c)\n",
    "plt.yticks(np.linspace(0,1,21))\n",
    "\n",
    "plt.title(\"Biranje najboljih parametara za logističku regresiju\")\n",
    "plt.xlabel(\"Solvers per regularization parameter C\")\n",
    "plt.ylabel(\"Accuracy\")\n",
    "plt.legend(solver)\n",
    "plt.grid(axis='y', linewidth = 0.5)\n",
    "\n",
    "plt.savefig(\"assets/pictures/CM_1_LR_best_parameters.jpg\")\n",
    "\n",
    "plt.show()\n"
   ]
  },
  {
   "cell_type": "markdown",
   "id": "afaa77b8",
   "metadata": {},
   "source": [
    "### Treniramo poboljšani model na train + validation setu"
   ]
  },
  {
   "cell_type": "code",
   "execution_count": 41,
   "id": "15884dc3",
   "metadata": {},
   "outputs": [
    {
     "data": {
      "text/plain": [
       "LogisticRegression(C=0.0001, solver='sag')"
      ]
     },
     "execution_count": 41,
     "metadata": {},
     "output_type": "execute_result"
    }
   ],
   "source": [
    "lr.fit(X_train_and_val, y_train_and_val)"
   ]
  },
  {
   "cell_type": "code",
   "execution_count": 42,
   "id": "72641681",
   "metadata": {},
   "outputs": [
    {
     "name": "stdout",
     "output_type": "stream",
     "text": [
      "[0 1 0 ... 1 1 1]\n"
     ]
    }
   ],
   "source": [
    "best_y_pred_lr = lr.predict(X_test)\n",
    "print(best_y_pred_lr)"
   ]
  },
  {
   "cell_type": "code",
   "execution_count": 43,
   "id": "de7ba5a0",
   "metadata": {},
   "outputs": [
    {
     "name": "stdout",
     "output_type": "stream",
     "text": [
      "Tačnost: 69.74%\n"
     ]
    }
   ],
   "source": [
    "best_lr_acc = accuracy_score(best_y_pred_lr, y_test)\n",
    "print('Tačnost: {0:.2f}%'.format(best_lr_acc*100))"
   ]
  },
  {
   "cell_type": "code",
   "execution_count": 44,
   "id": "c29b6b7e",
   "metadata": {},
   "outputs": [
    {
     "name": "stdout",
     "output_type": "stream",
     "text": [
      "              precision    recall  f1-score   support\n",
      "\n",
      "           0       0.73      0.69      0.71      3465\n",
      "           1       0.67      0.71      0.69      3089\n",
      "\n",
      "    accuracy                           0.70      6554\n",
      "   macro avg       0.70      0.70      0.70      6554\n",
      "weighted avg       0.70      0.70      0.70      6554\n",
      "\n"
     ]
    }
   ],
   "source": [
    "best_lr_cr = classification_report(best_y_pred_lr, y_test)\n",
    "print(best_lr_cr)"
   ]
  },
  {
   "cell_type": "code",
   "execution_count": 45,
   "id": "c2d3a697",
   "metadata": {},
   "outputs": [
    {
     "data": {
      "text/plain": [
       "array([[2380, 1085],\n",
       "       [ 898, 2191]], dtype=int64)"
      ]
     },
     "execution_count": 45,
     "metadata": {},
     "output_type": "execute_result"
    }
   ],
   "source": [
    "best_lr_cm = confusion_matrix(best_y_pred_lr, y_test)\n",
    "best_lr_cm"
   ]
  },
  {
   "cell_type": "markdown",
   "id": "162dc6b2",
   "metadata": {},
   "source": [
    "### Predikcija na trening + validation setu"
   ]
  },
  {
   "cell_type": "code",
   "execution_count": 46,
   "id": "ba21089c",
   "metadata": {},
   "outputs": [
    {
     "name": "stdout",
     "output_type": "stream",
     "text": [
      "[1 0 1 ... 1 0 0]\n"
     ]
    }
   ],
   "source": [
    "y_pred_tv_blr = lr.predict(X_train_and_val)\n",
    "print(y_pred_tv_blr)"
   ]
  },
  {
   "cell_type": "code",
   "execution_count": 47,
   "id": "c09f3d54",
   "metadata": {},
   "outputs": [
    {
     "name": "stdout",
     "output_type": "stream",
     "text": [
      "Tačnost: 78.78%\n"
     ]
    }
   ],
   "source": [
    "blr_tv_acc = accuracy_score(y_pred_tv_blr, y_train_and_val)\n",
    "print('Tačnost: {0:.2f}%'.format(blr_tv_acc*100))"
   ]
  },
  {
   "cell_type": "code",
   "execution_count": 48,
   "id": "21df0fd9",
   "metadata": {},
   "outputs": [
    {
     "name": "stdout",
     "output_type": "stream",
     "text": [
      "              precision    recall  f1-score   support\n",
      "\n",
      "           0       0.80      0.78      0.79     13478\n",
      "           1       0.77      0.80      0.78     12736\n",
      "\n",
      "    accuracy                           0.79     26214\n",
      "   macro avg       0.79      0.79      0.79     26214\n",
      "weighted avg       0.79      0.79      0.79     26214\n",
      "\n"
     ]
    }
   ],
   "source": [
    "blr_tv_cr = classification_report(y_pred_tv_blr, y_train_and_val)\n",
    "print(blr_tv_cr)"
   ]
  },
  {
   "cell_type": "code",
   "execution_count": 49,
   "id": "0b910253",
   "metadata": {},
   "outputs": [
    {
     "data": {
      "text/plain": [
       "array([[10514,  2964],\n",
       "       [ 2599, 10137]], dtype=int64)"
      ]
     },
     "execution_count": 49,
     "metadata": {},
     "output_type": "execute_result"
    }
   ],
   "source": [
    "blr_tv_cm = confusion_matrix(y_pred_tv_blr, y_train_and_val)\n",
    "blr_tv_cm"
   ]
  },
  {
   "cell_type": "markdown",
   "id": "579f3266",
   "metadata": {},
   "source": [
    "### Provera popravke preprilagodjavanja"
   ]
  },
  {
   "cell_type": "code",
   "execution_count": 50,
   "id": "67bbecb0",
   "metadata": {},
   "outputs": [
    {
     "name": "stdout",
     "output_type": "stream",
     "text": [
      "Tačnost na skupu za treniranje i validaciju: 78.78%\n",
      "Tačnost na skupu za testiranje: 69.74%\n"
     ]
    }
   ],
   "source": [
    "print('Tačnost na skupu za treniranje i validaciju: {0:.2f}%'.format(blr_tv_acc*100))\n",
    "print('Tačnost na skupu za testiranje: {0:.2f}%'.format(best_lr_acc*100))"
   ]
  },
  {
   "cell_type": "markdown",
   "id": "2ae67757",
   "metadata": {},
   "source": [
    "### ROC - AUC Kriva"
   ]
  },
  {
   "cell_type": "code",
   "execution_count": 51,
   "id": "88e27017",
   "metadata": {},
   "outputs": [
    {
     "data": {
      "image/png": "[encoded data removed]",
      "text/plain": [
       "<Figure size 720x360 with 1 Axes>"
      ]
     },
     "metadata": {
      "needs_background": "light"
     },
     "output_type": "display_data"
    }
   ],
   "source": [
    "y_pred_proba_lr = log_reg.predict_proba(X_test)[::,1]\n",
    "y_pred_proba_best_lr = lr.predict_proba(X_test)[::,1]\n",
    "\n",
    "fpr_lr, tpr_lr, _ = roc_curve(y_test,  y_pred_proba_lr)\n",
    "auc_lr = roc_auc_score(y_test, y_pred_proba_lr)\n",
    "\n",
    "fpr_blr, tpr_blr, _ = roc_curve(y_test,  y_pred_proba_best_lr)\n",
    "auc_blr = roc_auc_score(y_test,  y_pred_proba_best_lr)\n",
    "\n",
    "\n",
    "plt.figure(figsize = (10,5))\n",
    "plt.title(\"ROC-AUC ocena prvog i poboljšanog modela logističke regresije\")\n",
    "\n",
    "plt.plot(fpr_lr,tpr_lr, color='red', label=\"Previous AUC=\"+str(auc_lr))\n",
    "plt.plot(fpr_blr,tpr_blr, color = 'blue', label=\"New AUC=\"+str(auc_blr))\n",
    "\n",
    "plt.ylabel('True Positive Rate')\n",
    "plt.xlabel('False Positive Rate')\n",
    "plt.legend()\n",
    "\n",
    "plt.savefig(\"assets/pictures/CM_1_LR_ROC_AUC_comparisson.jpg\")\n",
    "\n",
    "plt.show()"
   ]
  },
  {
   "cell_type": "markdown",
   "id": "1ea3f64a",
   "metadata": {},
   "source": [
    "### Čuvanje modela logisticke regresije"
   ]
  },
  {
   "cell_type": "code",
   "execution_count": 53,
   "id": "4bf8e84c",
   "metadata": {},
   "outputs": [],
   "source": [
    "with open('models/classic_models/lr_classifier.model.pickle', 'wb') as model_file:\n",
    "    pickle.dump(lr, model_file)"
   ]
  },
  {
   "cell_type": "markdown",
   "id": "6b50b817",
   "metadata": {},
   "source": [
    "# <span style=\"color:blue\">2. Model k-najbližih suseda</span>"
   ]
  },
  {
   "cell_type": "markdown",
   "id": "e81e740b",
   "metadata": {},
   "source": [
    "### Provera najboljeg mogućeg koeficijenta k\n",
    "Za vrednosti od 1 do 10 proveravamo koja bi vrednost koeficijenta k bila najbolja"
   ]
  },
  {
   "cell_type": "code",
   "execution_count": 72,
   "id": "f832929d",
   "metadata": {},
   "outputs": [],
   "source": [
    "k_range = list(range(1, 10))\n",
    "scores = []\n",
    "maks = 0\n",
    "best_k = 0\n",
    "for k in k_range:\n",
    "    knn = KNeighborsClassifier(n_neighbors=k)\n",
    "    knn.fit(X_train, y_train)\n",
    "    y_pred = knn.predict(X_test)\n",
    "    acc = accuracy_score(y_test, y_pred)\n",
    "    scores.append(acc) \n",
    "    if acc > maks and k!=1:\n",
    "        maks = acc\n",
    "        best_k = k"
   ]
  },
  {
   "cell_type": "code",
   "execution_count": 73,
   "id": "bfc74fc9",
   "metadata": {},
   "outputs": [
    {
     "name": "stdout",
     "output_type": "stream",
     "text": [
      "Parametar k sa najvecom preciznoscu:  7\n"
     ]
    }
   ],
   "source": [
    "print('Parametar k sa najvecom preciznoscu: ', best_k)"
   ]
  },
  {
   "cell_type": "markdown",
   "id": "34cd1022",
   "metadata": {},
   "source": [
    "### Vizuelizacija odnosa preciznosti predikcije i vrednosti koeficijenta k"
   ]
  },
  {
   "cell_type": "code",
   "execution_count": 74,
   "id": "1c8a48d4",
   "metadata": {},
   "outputs": [
    {
     "data": {
      "image/png": "[encoded data removed]",
      "text/plain": [
       "<Figure size 720x360 with 1 Axes>"
      ]
     },
     "metadata": {
      "needs_background": "light"
     },
     "output_type": "display_data"
    }
   ],
   "source": [
    "plt.figure(figsize = (10,5))\n",
    "\n",
    "plt.title(\"Odnos parametra K i tačnosti modela KNN\")\n",
    "\n",
    "plt.xticks(np.linspace(0,10,11))\n",
    "plt.xlabel('Parameter K for KNN')\n",
    "plt.ylabel('Accuracy')\n",
    "plt.grid()\n",
    "plt.plot(k_range, scores)\n",
    "\n",
    "plt.savefig(\"assets/pictures/CM_2_KNN_best_parameter_k.jpg\")\n",
    "\n",
    "plt.show()"
   ]
  },
  {
   "cell_type": "markdown",
   "id": "d82e7adb",
   "metadata": {},
   "source": [
    "### Predikcija na test setu"
   ]
  },
  {
   "cell_type": "code",
   "execution_count": 59,
   "id": "908d7467",
   "metadata": {},
   "outputs": [
    {
     "data": {
      "text/plain": [
       "KNeighborsClassifier(n_neighbors=7)"
      ]
     },
     "execution_count": 59,
     "metadata": {},
     "output_type": "execute_result"
    }
   ],
   "source": [
    "knn = KNeighborsClassifier(n_neighbors=best_k)\n",
    "knn.fit(X_train, y_train)"
   ]
  },
  {
   "cell_type": "code",
   "execution_count": 60,
   "id": "55f04d81",
   "metadata": {},
   "outputs": [
    {
     "name": "stdout",
     "output_type": "stream",
     "text": [
      "[0 1 1 ... 0 1 0]\n"
     ]
    }
   ],
   "source": [
    "y_pred_knn = knn.predict(X_test)\n",
    "print(y_pred_knn)"
   ]
  },
  {
   "cell_type": "code",
   "execution_count": 61,
   "id": "ee685764",
   "metadata": {},
   "outputs": [
    {
     "name": "stdout",
     "output_type": "stream",
     "text": [
      "Tačnost: 65.94%\n"
     ]
    }
   ],
   "source": [
    "knn_acc = accuracy_score(y_pred_knn,y_test)\n",
    "print('Tačnost: {0:.2f}%'.format(knn_acc*100))"
   ]
  },
  {
   "cell_type": "code",
   "execution_count": 62,
   "id": "469056ca",
   "metadata": {},
   "outputs": [
    {
     "name": "stdout",
     "output_type": "stream",
     "text": [
      "              precision    recall  f1-score   support\n",
      "\n",
      "           0       0.80      0.63      0.70      4180\n",
      "           1       0.52      0.72      0.60      2374\n",
      "\n",
      "    accuracy                           0.66      6554\n",
      "   macro avg       0.66      0.67      0.65      6554\n",
      "weighted avg       0.70      0.66      0.67      6554\n",
      "\n"
     ]
    }
   ],
   "source": [
    "knn_cr = classification_report(y_pred_knn,y_test)\n",
    "print(knn_cr)"
   ]
  },
  {
   "cell_type": "code",
   "execution_count": 63,
   "id": "8a747657",
   "metadata": {},
   "outputs": [
    {
     "data": {
      "text/plain": [
       "array([[2613, 1567],\n",
       "       [ 665, 1709]], dtype=int64)"
      ]
     },
     "execution_count": 63,
     "metadata": {},
     "output_type": "execute_result"
    }
   ],
   "source": [
    "knn_cm = confusion_matrix(y_pred_knn,y_test)\n",
    "knn_cm"
   ]
  },
  {
   "cell_type": "markdown",
   "id": "181b2a36",
   "metadata": {},
   "source": [
    "### Predikcija na trening setu"
   ]
  },
  {
   "cell_type": "code",
   "execution_count": 64,
   "id": "753127b9",
   "metadata": {},
   "outputs": [
    {
     "name": "stdout",
     "output_type": "stream",
     "text": [
      "[0 1 1 ... 0 1 0]\n"
     ]
    }
   ],
   "source": [
    "y_pred_train_knn = knn.predict(X_train)\n",
    "print(y_pred_train_knn)"
   ]
  },
  {
   "cell_type": "code",
   "execution_count": 65,
   "id": "9265c546",
   "metadata": {},
   "outputs": [
    {
     "name": "stdout",
     "output_type": "stream",
     "text": [
      "Tačnost: 73.43%\n"
     ]
    }
   ],
   "source": [
    "knn_train_acc = accuracy_score(y_pred_train_knn, y_train)\n",
    "print('Tačnost: {0:.2f}%'.format(knn_train_acc*100))"
   ]
  },
  {
   "cell_type": "code",
   "execution_count": 66,
   "id": "03884eae",
   "metadata": {},
   "outputs": [
    {
     "name": "stdout",
     "output_type": "stream",
     "text": [
      "              precision    recall  f1-score   support\n",
      "\n",
      "           0       0.92      0.67      0.78     13398\n",
      "           1       0.55      0.87      0.68      6262\n",
      "\n",
      "    accuracy                           0.73     19660\n",
      "   macro avg       0.73      0.77      0.73     19660\n",
      "weighted avg       0.80      0.73      0.74     19660\n",
      "\n"
     ]
    }
   ],
   "source": [
    "knn_train_cr = classification_report(y_pred_train_knn, y_train)\n",
    "print(knn_train_cr)"
   ]
  },
  {
   "cell_type": "code",
   "execution_count": 67,
   "id": "e5266d5c",
   "metadata": {},
   "outputs": [
    {
     "data": {
      "text/plain": [
       "array([[9004, 4394],\n",
       "       [ 830, 5432]], dtype=int64)"
      ]
     },
     "execution_count": 67,
     "metadata": {},
     "output_type": "execute_result"
    }
   ],
   "source": [
    "knn_train_cm = confusion_matrix(y_pred_train_knn, y_train)\n",
    "knn_train_cm"
   ]
  },
  {
   "cell_type": "markdown",
   "id": "2206580a",
   "metadata": {},
   "source": [
    "### Provera preprilagodjavanja"
   ]
  },
  {
   "cell_type": "code",
   "execution_count": 68,
   "id": "0bdb4463",
   "metadata": {},
   "outputs": [
    {
     "name": "stdout",
     "output_type": "stream",
     "text": [
      "Tačnost na skupu za treniranje: 73.43%\n",
      "Tačnost na skupu za testiranje: 65.94%\n"
     ]
    }
   ],
   "source": [
    "print('Tačnost na skupu za treniranje: {0:.2f}%'.format(knn_train_acc*100))\n",
    "print('Tačnost na skupu za testiranje: {0:.2f}%'.format(knn_acc*100))"
   ]
  },
  {
   "cell_type": "markdown",
   "id": "7d68c41f",
   "metadata": {},
   "source": [
    "### ROC-AUC Kriva"
   ]
  },
  {
   "cell_type": "code",
   "execution_count": 240,
   "id": "9c08e8df",
   "metadata": {},
   "outputs": [
    {
     "data": {
      "image/png": "[encoded data removed]",
      "text/plain": [
       "<Figure size 720x360 with 1 Axes>"
      ]
     },
     "metadata": {
      "needs_background": "light"
     },
     "output_type": "display_data"
    }
   ],
   "source": [
    "y_pred_proba_knn = knn.predict_proba(X_test)[::,1]\n",
    "\n",
    "fpr_knn, tpr_knn, _ = roc_curve(y_test,  y_pred_proba_knn)\n",
    "auc_knn = roc_auc_score(y_test, y_pred_proba_knn)\n",
    "\n",
    "plt.figure(figsize = (10,5))\n",
    "\n",
    "plt.plot(fpr_knn,tpr_knn, color='red', label=\"AUC=\"+str(auc_knn))\n",
    "\n",
    "plt.title(\"ROC-AUC ocena modela K najbližih suseda\")\n",
    "plt.ylabel('True Positive Rate')\n",
    "plt.xlabel('False Positive Rate')\n",
    "plt.legend()\n",
    "\n",
    "plt.savefig(\"assets/pictures/CM_2_KNN_ROC_AUC.jpg\")\n",
    "\n",
    "plt.show()"
   ]
  },
  {
   "cell_type": "markdown",
   "id": "3577b695",
   "metadata": {},
   "source": [
    "### Čuvanje modela K najbližih suseda"
   ]
  },
  {
   "cell_type": "code",
   "execution_count": 70,
   "id": "54f50e35",
   "metadata": {},
   "outputs": [],
   "source": [
    "with open('models/classic_models/knn_classifier.model.pickle', 'wb') as model_file:\n",
    "    pickle.dump(knn, model_file)"
   ]
  },
  {
   "cell_type": "markdown",
   "id": "daeaa792",
   "metadata": {},
   "source": [
    "# <span style=\"color:blue\">3. Stabla odlučivanja</span>"
   ]
  },
  {
   "cell_type": "code",
   "execution_count": 75,
   "id": "3e8e7d92",
   "metadata": {},
   "outputs": [
    {
     "name": "stdout",
     "output_type": "stream",
     "text": [
      "Criterion =  gini\n",
      "\t max_depth= 5\n",
      "\t\t Accuracy:  0.6780592004882514\n",
      "\t max_depth= 6\n",
      "\t\t Accuracy:  0.682636557827281\n",
      "\t max_depth= 7\n",
      "\t\t Accuracy:  0.6893500152578578\n",
      "\t max_depth= 8\n",
      "\t\t Accuracy:  0.7012511443393348\n",
      "\t max_depth= 9\n",
      "\t\t Accuracy:  0.7012511443393348\n",
      "Criterion =  entropy\n",
      "\t max_depth= 5\n",
      "\t\t Accuracy:  0.6879768080561489\n",
      "\t max_depth= 6\n",
      "\t\t Accuracy:  0.6817210863594751\n",
      "\t max_depth= 7\n",
      "\t\t Accuracy:  0.6925541653951786\n",
      "\t max_depth= 8\n",
      "\t\t Accuracy:  0.6953005797985963\n",
      "\t max_depth= 9\n",
      "\t\t Accuracy:  0.6919438510833079\n"
     ]
    }
   ],
   "source": [
    "criterion = ['gini', 'entropy']\n",
    "max_depth = [5,6,7,8,9]\n",
    "dtc_acc = 0\n",
    "best_depth = 0\n",
    "dtc_criterion = ''\n",
    "dtc = None\n",
    "y_pred_dtc = []\n",
    "scores = {}\n",
    "\n",
    "for i in range(len(criterion)):\n",
    "    print(\"Criterion = \", criterion[i])\n",
    "    for j in range(len(max_depth)):\n",
    "        print(\"\\t max_depth=\", max_depth[j])\n",
    "        model = DecisionTreeClassifier(criterion = criterion[i], max_features=0.9, max_depth=max_depth[j], random_state=7)\n",
    "        model.fit(X_train, y_train)\n",
    "        y_pred = model.predict(X_test)\n",
    "        acc = accuracy_score(y_pred, y_test)\n",
    "        print(\"\\t\\t Accuracy: \", acc)\n",
    "        \n",
    "        if criterion[i] not in scores.keys():\n",
    "            scores[criterion[i]] = []\n",
    "        \n",
    "        scores[criterion[i]].append(acc)\n",
    "        \n",
    "        if dtc_acc < acc:\n",
    "            best_criterion = criterion[i]\n",
    "            best_depthp = max_depth[j]\n",
    "            dtc_acc = acc\n",
    "            dtc = model\n",
    "            y_pred_dtc = y_pred"
   ]
  },
  {
   "cell_type": "code",
   "execution_count": 119,
   "id": "c22bf111",
   "metadata": {},
   "outputs": [
    {
     "data": {
      "image/png": "[encoded data removed]",
      "text/plain": [
       "<Figure size 720x432 with 1 Axes>"
      ]
     },
     "metadata": {
      "needs_background": "light"
     },
     "output_type": "display_data"
    }
   ],
   "source": [
    "cmap = ['tomato', 'gold']\n",
    "x_axis = np.arange(len(max_depth))\n",
    "move = [-1/2, 1/2]\n",
    "width = 0.2\n",
    "\n",
    "plt.figure(figsize = (10,6))\n",
    "for i in range(len(move)):\n",
    "    plt.bar(x_axis + width*move[i], scores[criterion[i]], width = width, color = cmap[i], edgecolor='gray')\n",
    "\n",
    "plt.xticks(x_axis, max_depth)\n",
    "plt.yticks(np.linspace(0,0.8,17))\n",
    "\n",
    "plt.title(\"Ocena parametara stabla odlučivanja\")\n",
    "plt.xlabel(\"Criterion per max_depth\")\n",
    "plt.ylabel(\"Accuracy\")\n",
    "plt.legend(criterion)\n",
    "plt.grid(axis='y', linewidth = 0.5)\n",
    "\n",
    "plt.savefig(\"assets/pictures/CM_1_DTC_best_parameters.jpg\")\n",
    "\n",
    "plt.show()"
   ]
  },
  {
   "cell_type": "markdown",
   "id": "ff4d1345",
   "metadata": {},
   "source": [
    "### Predikcija na test setu"
   ]
  },
  {
   "cell_type": "code",
   "execution_count": 98,
   "id": "2ef6e687",
   "metadata": {},
   "outputs": [
    {
     "data": {
      "text/plain": [
       "DecisionTreeClassifier(max_depth=8, max_features=0.9, random_state=7)"
      ]
     },
     "execution_count": 98,
     "metadata": {},
     "output_type": "execute_result"
    }
   ],
   "source": [
    "dtc"
   ]
  },
  {
   "cell_type": "code",
   "execution_count": 99,
   "id": "96a604b8",
   "metadata": {},
   "outputs": [
    {
     "data": {
      "text/plain": [
       "array([1, 1, 1, ..., 1, 1, 1], dtype=uint8)"
      ]
     },
     "execution_count": 99,
     "metadata": {},
     "output_type": "execute_result"
    }
   ],
   "source": [
    "y_pred_dtc"
   ]
  },
  {
   "cell_type": "code",
   "execution_count": 100,
   "id": "ca35736e",
   "metadata": {},
   "outputs": [
    {
     "name": "stdout",
     "output_type": "stream",
     "text": [
      "Tačnost: 70.13%\n"
     ]
    }
   ],
   "source": [
    "print('Tačnost: {0:.2f}%'.format(dtc_acc*100))"
   ]
  },
  {
   "cell_type": "code",
   "execution_count": 101,
   "id": "a80f75ec",
   "metadata": {},
   "outputs": [
    {
     "name": "stdout",
     "output_type": "stream",
     "text": [
      "              precision    recall  f1-score   support\n",
      "\n",
      "           0       0.59      0.76      0.67      2572\n",
      "           1       0.81      0.67      0.73      3982\n",
      "\n",
      "    accuracy                           0.70      6554\n",
      "   macro avg       0.70      0.71      0.70      6554\n",
      "weighted avg       0.72      0.70      0.70      6554\n",
      "\n"
     ]
    }
   ],
   "source": [
    "dtc_cr = classification_report(y_pred_dtc, y_test)\n",
    "print(dtc_cr)"
   ]
  },
  {
   "cell_type": "markdown",
   "id": "4e659970",
   "metadata": {},
   "source": [
    "### Predikcija na trening setu"
   ]
  },
  {
   "cell_type": "code",
   "execution_count": 102,
   "id": "f46b06a3",
   "metadata": {},
   "outputs": [
    {
     "name": "stdout",
     "output_type": "stream",
     "text": [
      "[1 1 1 ... 1 1 1]\n"
     ]
    }
   ],
   "source": [
    "y_pred_train_dtc = dtc.predict(X_train)\n",
    "print(y_pred_train_dtc)"
   ]
  },
  {
   "cell_type": "code",
   "execution_count": 103,
   "id": "c4102098",
   "metadata": {},
   "outputs": [
    {
     "name": "stdout",
     "output_type": "stream",
     "text": [
      "Tačnost: 78.39%\n"
     ]
    }
   ],
   "source": [
    "dtc_train_acc = accuracy_score(y_pred_train_dtc, y_train)\n",
    "print('Tačnost: {0:.2f}%'.format(dtc_train_acc*100))"
   ]
  },
  {
   "cell_type": "code",
   "execution_count": 104,
   "id": "40e666f4",
   "metadata": {},
   "outputs": [
    {
     "name": "stdout",
     "output_type": "stream",
     "text": [
      "              precision    recall  f1-score   support\n",
      "\n",
      "           0       0.67      0.86      0.76      7681\n",
      "           1       0.89      0.73      0.81     11979\n",
      "\n",
      "    accuracy                           0.78     19660\n",
      "   macro avg       0.78      0.80      0.78     19660\n",
      "weighted avg       0.81      0.78      0.79     19660\n",
      "\n"
     ]
    }
   ],
   "source": [
    "dtc_train_cr = classification_report(y_pred_train_dtc, y_train)\n",
    "print(dtc_train_cr)"
   ]
  },
  {
   "cell_type": "code",
   "execution_count": 105,
   "id": "37ea98e6",
   "metadata": {},
   "outputs": [
    {
     "name": "stdout",
     "output_type": "stream",
     "text": [
      "[[6633 1048]\n",
      " [3201 8778]]\n"
     ]
    }
   ],
   "source": [
    "dtc_train_cm = confusion_matrix(y_pred_train_dtc, y_train)\n",
    "print(dtc_train_cm)"
   ]
  },
  {
   "cell_type": "markdown",
   "id": "f9975608",
   "metadata": {},
   "source": [
    "### Provera preprilagodjavanja"
   ]
  },
  {
   "cell_type": "code",
   "execution_count": 106,
   "id": "789cb1ca",
   "metadata": {},
   "outputs": [
    {
     "name": "stdout",
     "output_type": "stream",
     "text": [
      "Tačnost na skupu za treniranje: 78.39%\n",
      "Tačnost na skupu za testiranje: 70.13%\n"
     ]
    }
   ],
   "source": [
    "print('Tačnost na skupu za treniranje: {0:.2f}%'.format(dtc_train_acc*100))\n",
    "print('Tačnost na skupu za testiranje: {0:.2f}%'.format(dtc_acc*100))"
   ]
  },
  {
   "cell_type": "markdown",
   "id": "98bfccfe",
   "metadata": {},
   "source": [
    "### ROC-AUC Kriva"
   ]
  },
  {
   "cell_type": "code",
   "execution_count": 231,
   "id": "20d0e494",
   "metadata": {},
   "outputs": [
    {
     "data": {
      "image/png": "[encoded data removed]",
      "text/plain": [
       "<Figure size 720x360 with 1 Axes>"
      ]
     },
     "metadata": {
      "needs_background": "light"
     },
     "output_type": "display_data"
    }
   ],
   "source": [
    "y_pred_proba_dtc = dtc.predict_proba(X_test)[::,1]\n",
    "\n",
    "fpr_dtc, tpr_dtc, _ = roc_curve(y_test,  y_pred_proba_dtc)\n",
    "auc_dtc = roc_auc_score(y_test, y_pred_proba_dtc)\n",
    "\n",
    "plt.figure(figsize = (10,5))\n",
    "\n",
    "plt.plot(fpr_dtc, tpr_dtc, color='red', label=\"AUC=\"+str(auc_dtc))\n",
    "\n",
    "plt.title(\"ROC-AUC ocena modela stabla odlučivanja\")\n",
    "plt.ylabel('True Positive Rate')\n",
    "plt.xlabel('False Positive Rate')\n",
    "plt.legend()\n",
    "\n",
    "plt.savefig(\"assets/pictures/CM_3_DTC_ROC_AUC.jpg\")\n",
    "\n",
    "plt.show()"
   ]
  },
  {
   "cell_type": "markdown",
   "id": "071bedc6",
   "metadata": {},
   "source": [
    "### Čuvanje modela stabla odlučivanja"
   ]
  },
  {
   "cell_type": "code",
   "execution_count": 108,
   "id": "d3a98e75",
   "metadata": {},
   "outputs": [],
   "source": [
    "with open('models/classic_models/dtc_classifier.model.pickle', 'wb') as model_file:\n",
    "    pickle.dump(dtc, model_file)"
   ]
  },
  {
   "cell_type": "markdown",
   "id": "28a3fe30",
   "metadata": {},
   "source": [
    "# <span style=\"color:blue\">4. Slučajne šume</span>"
   ]
  },
  {
   "cell_type": "code",
   "execution_count": 109,
   "id": "b8bb09ef",
   "metadata": {},
   "outputs": [
    {
     "data": {
      "text/plain": [
       "RandomForestClassifier(max_depth=3, n_estimators=20, random_state=7)"
      ]
     },
     "execution_count": 109,
     "metadata": {},
     "output_type": "execute_result"
    }
   ],
   "source": [
    "rf = RandomForestClassifier(n_estimators = 20, max_depth = 3, random_state = 7)\n",
    "rf.fit(X_train, y_train)"
   ]
  },
  {
   "cell_type": "markdown",
   "id": "09e9ccff",
   "metadata": {},
   "source": [
    "### Predikcija na test setu"
   ]
  },
  {
   "cell_type": "code",
   "execution_count": 110,
   "id": "966d8c67",
   "metadata": {},
   "outputs": [
    {
     "name": "stdout",
     "output_type": "stream",
     "text": [
      "[1 1 1 ... 1 1 0]\n"
     ]
    }
   ],
   "source": [
    "y_pred_rf = rf.predict(X_test)\n",
    "print(y_pred_rf)"
   ]
  },
  {
   "cell_type": "code",
   "execution_count": 111,
   "id": "602f3790",
   "metadata": {},
   "outputs": [
    {
     "name": "stdout",
     "output_type": "stream",
     "text": [
      "Tačnost: 70.95%\n"
     ]
    }
   ],
   "source": [
    "rf_acc = accuracy_score(y_pred_rf, y_test)\n",
    "print('Tačnost: {0:.2f}%'.format(rf_acc*100))"
   ]
  },
  {
   "cell_type": "code",
   "execution_count": 112,
   "id": "bd43141d",
   "metadata": {},
   "outputs": [
    {
     "name": "stdout",
     "output_type": "stream",
     "text": [
      "              precision    recall  f1-score   support\n",
      "\n",
      "           0       0.55      0.80      0.66      2258\n",
      "           1       0.87      0.66      0.75      4296\n",
      "\n",
      "    accuracy                           0.71      6554\n",
      "   macro avg       0.71      0.73      0.70      6554\n",
      "weighted avg       0.76      0.71      0.72      6554\n",
      "\n"
     ]
    }
   ],
   "source": [
    "rf_cr = classification_report(y_pred_rf, y_test)\n",
    "print(rf_cr)"
   ]
  },
  {
   "cell_type": "code",
   "execution_count": 113,
   "id": "a12f04ba",
   "metadata": {},
   "outputs": [
    {
     "data": {
      "text/plain": [
       "array([[1816,  442],\n",
       "       [1462, 2834]], dtype=int64)"
      ]
     },
     "execution_count": 113,
     "metadata": {},
     "output_type": "execute_result"
    }
   ],
   "source": [
    "rf_cm = confusion_matrix(y_pred_rf, y_test)\n",
    "rf_cm"
   ]
  },
  {
   "cell_type": "markdown",
   "id": "ed0383f9",
   "metadata": {},
   "source": [
    "### Predikcija na trening setu"
   ]
  },
  {
   "cell_type": "code",
   "execution_count": 114,
   "id": "884d434c",
   "metadata": {},
   "outputs": [
    {
     "name": "stdout",
     "output_type": "stream",
     "text": [
      "[1 1 1 ... 1 1 0]\n"
     ]
    }
   ],
   "source": [
    "y_pred_train_rf = rf.predict(X_train)\n",
    "print(y_pred_train_rf)"
   ]
  },
  {
   "cell_type": "code",
   "execution_count": 115,
   "id": "2f895eb6",
   "metadata": {},
   "outputs": [
    {
     "name": "stdout",
     "output_type": "stream",
     "text": [
      "Tačnost: 71.25%\n"
     ]
    }
   ],
   "source": [
    "rf_train_acc = accuracy_score(y_pred_train_rf, y_train)\n",
    "print('Tačnost: {0:.2f}%'.format(rf_train_acc*100))"
   ]
  },
  {
   "cell_type": "code",
   "execution_count": 116,
   "id": "a6a4e790",
   "metadata": {},
   "outputs": [
    {
     "name": "stdout",
     "output_type": "stream",
     "text": [
      "              precision    recall  f1-score   support\n",
      "\n",
      "           0       0.55      0.82      0.66      6590\n",
      "           1       0.88      0.66      0.75     13070\n",
      "\n",
      "    accuracy                           0.71     19660\n",
      "   macro avg       0.71      0.74      0.70     19660\n",
      "weighted avg       0.77      0.71      0.72     19660\n",
      "\n"
     ]
    }
   ],
   "source": [
    "rf_train_cr = classification_report(y_pred_train_rf, y_train)\n",
    "print(rf_train_cr)"
   ]
  },
  {
   "cell_type": "code",
   "execution_count": 117,
   "id": "9ba07d0f",
   "metadata": {},
   "outputs": [
    {
     "name": "stdout",
     "output_type": "stream",
     "text": [
      "              precision    recall  f1-score   support\n",
      "\n",
      "           0       0.55      0.82      0.66      6590\n",
      "           1       0.88      0.66      0.75     13070\n",
      "\n",
      "    accuracy                           0.71     19660\n",
      "   macro avg       0.71      0.74      0.70     19660\n",
      "weighted avg       0.77      0.71      0.72     19660\n",
      "\n"
     ]
    }
   ],
   "source": [
    "rf_train_cr = classification_report(y_pred_train_rf, y_train)\n",
    "print(rf_train_cr)"
   ]
  },
  {
   "cell_type": "markdown",
   "id": "8efd4bac",
   "metadata": {},
   "source": [
    "### Provera_preprilagodjavanja"
   ]
  },
  {
   "cell_type": "code",
   "execution_count": 118,
   "id": "b29d9178",
   "metadata": {},
   "outputs": [
    {
     "name": "stdout",
     "output_type": "stream",
     "text": [
      "Tačnost na skupu za treniranje: 71.25%\n",
      "Tačnost na skupu za testiranje: 70.95%\n"
     ]
    }
   ],
   "source": [
    "print('Tačnost na skupu za treniranje: {0:.2f}%'.format(rf_train_acc*100))\n",
    "print('Tačnost na skupu za testiranje: {0:.2f}%'.format(rf_acc*100))"
   ]
  },
  {
   "cell_type": "markdown",
   "id": "4ea037c7",
   "metadata": {},
   "source": [
    "### Pokušaj da se dobiju malo bolji rezultati "
   ]
  },
  {
   "cell_type": "code",
   "execution_count": 119,
   "id": "c3ac2667",
   "metadata": {},
   "outputs": [
    {
     "name": "stdout",
     "output_type": "stream",
     "text": [
      "criterion: gini\n",
      "\t max_depth: 5\n",
      "\t\t n_estimators: 20\n",
      "\t\t\t Accuracy: 0.7349710100701862\n",
      "\t\t n_estimators: 50\n",
      "\t\t\t Accuracy: 0.7459566676838572\n",
      "\t\t n_estimators: 100\n",
      "\t\t\t Accuracy: 0.7497711321330485\n",
      "\t max_depth: 6\n",
      "\t\t n_estimators: 20\n",
      "\t\t\t Accuracy: 0.7456515105279219\n",
      "\t\t n_estimators: 50\n",
      "\t\t\t Accuracy: 0.747329874885566\n",
      "\t\t n_estimators: 100\n",
      "\t\t\t Accuracy: 0.7540433323161428\n",
      "\t max_depth: 7\n",
      "\t\t n_estimators: 20\n",
      "\t\t\t Accuracy: 0.7491608178211779\n",
      "\t\t n_estimators: 50\n",
      "\t\t\t Accuracy: 0.7551113823619164\n",
      "\t\t n_estimators: 100\n",
      "\t\t\t Accuracy: 0.7577052181873665\n",
      "\t max_depth: 8\n",
      "\t\t n_estimators: 20\n",
      "\t\t\t Accuracy: 0.7509917607567898\n",
      "\t\t n_estimators: 50\n",
      "\t\t\t Accuracy: 0.7569423252975283\n",
      "\t\t n_estimators: 100\n",
      "\t\t\t Accuracy: 0.7621299969484284\n",
      "\t max_depth: 9\n",
      "\t\t n_estimators: 20\n",
      "\t\t\t Accuracy: 0.7561794324076899\n",
      "\t\t n_estimators: 50\n",
      "\t\t\t Accuracy: 0.7642660970399756\n",
      "\t\t n_estimators: 100\n",
      "\t\t\t Accuracy: 0.7659444613976197\n",
      "criterion: entropy\n",
      "\t max_depth: 5\n",
      "\t\t n_estimators: 20\n",
      "\t\t\t Accuracy: 0.7450411962160512\n",
      "\t\t n_estimators: 50\n",
      "\t\t\t Accuracy: 0.7474824534635337\n",
      "\t\t n_estimators: 100\n",
      "\t\t\t Accuracy: 0.7505340250228868\n",
      "\t max_depth: 6\n",
      "\t\t n_estimators: 20\n",
      "\t\t\t Accuracy: 0.7459566676838572\n",
      "\t\t n_estimators: 50\n",
      "\t\t\t Accuracy: 0.7497711321330485\n",
      "\t\t n_estimators: 100\n",
      "\t\t\t Accuracy: 0.7522123893805309\n",
      "\t max_depth: 7\n",
      "\t\t n_estimators: 20\n",
      "\t\t\t Accuracy: 0.7508391821788221\n",
      "\t\t n_estimators: 50\n",
      "\t\t\t Accuracy: 0.7548062252059811\n",
      "\t\t n_estimators: 100\n",
      "\t\t\t Accuracy: 0.7601464754348489\n",
      "\t max_depth: 8\n",
      "\t\t n_estimators: 20\n",
      "\t\t\t Accuracy: 0.7572474824534635\n",
      "\t\t n_estimators: 50\n",
      "\t\t\t Accuracy: 0.763198046994202\n",
      "\t\t n_estimators: 100\n",
      "\t\t\t Accuracy: 0.763198046994202\n",
      "\t max_depth: 9\n",
      "\t\t n_estimators: 20\n",
      "\t\t\t Accuracy: 0.759688739700946\n",
      "\t\t n_estimators: 50\n",
      "\t\t\t Accuracy: 0.7664021971315227\n",
      "\t\t n_estimators: 100\n",
      "\t\t\t Accuracy: 0.7668599328654256\n"
     ]
    }
   ],
   "source": [
    "criterion = ['gini', 'entropy']\n",
    "max_depth = [5,6,7,8,9]\n",
    "n_estimators = [20,50,100]\n",
    "rfc_acc = 0\n",
    "best_criterion = ''\n",
    "best_depth = 0\n",
    "best_estimator = 0\n",
    "rfc = None\n",
    "y_pred_rfc = []\n",
    "for i in range(len(criterion)):\n",
    "    print(\"criterion: {}\".format(criterion[i]))\n",
    "    for j in range(len(max_depth)):\n",
    "        print(\"\\t max_depth: {}\".format(max_depth[j]))\n",
    "        for k in range(len(n_estimators)):\n",
    "            print(\"\\t\\t n_estimators: {}\".format(n_estimators[k]))\n",
    "            model = RandomForestClassifier(criterion = criterion[i], n_estimators = n_estimators[k], max_depth = max_depth[j], random_state = 7)\n",
    "            model.fit(X_train, y_train)\n",
    "            y_pred = model.predict(X_test)\n",
    "            acc = accuracy_score(y_pred, y_test)\n",
    "            print('\\t\\t\\t Accuracy: {}'.format(acc))\n",
    "            if dtc_acc < acc:\n",
    "                best_criterion = criterion[i]\n",
    "                best_depth = max_depth[j]\n",
    "                best_estimator = n_estimators[k]\n",
    "                rfc_acc = acc\n",
    "                rfc = model\n",
    "                y_pred_rfc = y_pred"
   ]
  },
  {
   "cell_type": "code",
   "execution_count": 120,
   "id": "8a302f2f",
   "metadata": {},
   "outputs": [
    {
     "name": "stdout",
     "output_type": "stream",
     "text": [
      "best max_depth:  9\n",
      "best n_estimators:  100\n"
     ]
    }
   ],
   "source": [
    "print('best max_depth: ',best_depth)\n",
    "print('best n_estimators: ',best_estimator)"
   ]
  },
  {
   "cell_type": "code",
   "execution_count": 121,
   "id": "12cde498",
   "metadata": {},
   "outputs": [
    {
     "name": "stdout",
     "output_type": "stream",
     "text": [
      "Tačnost: 76.69%\n"
     ]
    }
   ],
   "source": [
    "print('Tačnost: {0:.2f}%'.format(rfc_acc*100))"
   ]
  },
  {
   "cell_type": "markdown",
   "id": "757b2efd",
   "metadata": {},
   "source": [
    "### Treniramo poboljšani model na train + validation setu"
   ]
  },
  {
   "cell_type": "code",
   "execution_count": 122,
   "id": "62538732",
   "metadata": {
    "scrolled": true
   },
   "outputs": [
    {
     "data": {
      "text/plain": [
       "RandomForestClassifier(criterion='entropy', max_depth=9, random_state=7)"
      ]
     },
     "execution_count": 122,
     "metadata": {},
     "output_type": "execute_result"
    }
   ],
   "source": [
    "rfc"
   ]
  },
  {
   "cell_type": "code",
   "execution_count": 123,
   "id": "c128de7c",
   "metadata": {},
   "outputs": [
    {
     "data": {
      "text/plain": [
       "RandomForestClassifier(criterion='entropy', max_depth=9, random_state=7)"
      ]
     },
     "execution_count": 123,
     "metadata": {},
     "output_type": "execute_result"
    }
   ],
   "source": [
    "rfc.fit(X_train_and_val, y_train_and_val)"
   ]
  },
  {
   "cell_type": "markdown",
   "id": "b81977a0",
   "metadata": {},
   "source": [
    "### Predikcija na test setu\n"
   ]
  },
  {
   "cell_type": "code",
   "execution_count": 124,
   "id": "dd08dbf0",
   "metadata": {},
   "outputs": [
    {
     "name": "stdout",
     "output_type": "stream",
     "text": [
      "[1 1 1 ... 1 1 1]\n"
     ]
    }
   ],
   "source": [
    "best_y_pred_rfc = rfc.predict(X_test)\n",
    "print(best_y_pred_rfc)"
   ]
  },
  {
   "cell_type": "code",
   "execution_count": 125,
   "id": "baa4e245",
   "metadata": {},
   "outputs": [
    {
     "name": "stdout",
     "output_type": "stream",
     "text": [
      "Tačnost: 77.11%\n"
     ]
    }
   ],
   "source": [
    "best_rfc_acc = accuracy_score(best_y_pred_rfc, y_test)\n",
    "print('Tačnost: {0:.2f}%'.format(best_rfc_acc*100))"
   ]
  },
  {
   "cell_type": "code",
   "execution_count": 126,
   "id": "2406264c",
   "metadata": {},
   "outputs": [
    {
     "name": "stdout",
     "output_type": "stream",
     "text": [
      "              precision    recall  f1-score   support\n",
      "\n",
      "           0       0.67      0.84      0.74      2600\n",
      "           1       0.87      0.72      0.79      3954\n",
      "\n",
      "    accuracy                           0.77      6554\n",
      "   macro avg       0.77      0.78      0.77      6554\n",
      "weighted avg       0.79      0.77      0.77      6554\n",
      "\n"
     ]
    }
   ],
   "source": [
    "best_rfc_cr = classification_report(best_y_pred_rfc, y_test)\n",
    "print(best_rfc_cr)"
   ]
  },
  {
   "cell_type": "code",
   "execution_count": 127,
   "id": "19b67333",
   "metadata": {},
   "outputs": [
    {
     "data": {
      "text/plain": [
       "array([[2189,  411],\n",
       "       [1089, 2865]], dtype=int64)"
      ]
     },
     "execution_count": 127,
     "metadata": {},
     "output_type": "execute_result"
    }
   ],
   "source": [
    "best_rfc_cm = confusion_matrix(best_y_pred_rfc, y_test)\n",
    "best_rfc_cm"
   ]
  },
  {
   "cell_type": "markdown",
   "id": "db2c2a66",
   "metadata": {},
   "source": [
    "### Predikcija na  train + validation setu"
   ]
  },
  {
   "cell_type": "code",
   "execution_count": 128,
   "id": "1322319f",
   "metadata": {},
   "outputs": [
    {
     "name": "stdout",
     "output_type": "stream",
     "text": [
      "[1 1 1 ... 1 0 1]\n"
     ]
    }
   ],
   "source": [
    "y_pred_tv_brfc = rfc.predict(X_train_and_val)\n",
    "print(y_pred_tv_brfc)"
   ]
  },
  {
   "cell_type": "code",
   "execution_count": 129,
   "id": "a370ee85",
   "metadata": {},
   "outputs": [
    {
     "name": "stdout",
     "output_type": "stream",
     "text": [
      "Tačnost: 85.72%\n"
     ]
    }
   ],
   "source": [
    "brfc_tv_acc = accuracy_score(y_pred_tv_brfc, y_train_and_val)\n",
    "print('Tačnost: {0:.2f}%'.format(brfc_tv_acc*100))"
   ]
  },
  {
   "cell_type": "code",
   "execution_count": 130,
   "id": "86c7612f",
   "metadata": {},
   "outputs": [
    {
     "name": "stdout",
     "output_type": "stream",
     "text": [
      "              precision    recall  f1-score   support\n",
      "\n",
      "           0       0.74      0.97      0.84     10062\n",
      "           1       0.97      0.79      0.87     16152\n",
      "\n",
      "    accuracy                           0.86     26214\n",
      "   macro avg       0.86      0.88      0.86     26214\n",
      "weighted avg       0.88      0.86      0.86     26214\n",
      "\n"
     ]
    }
   ],
   "source": [
    "brfc_tv_cr = classification_report(y_pred_tv_brfc, y_train_and_val)\n",
    "print(brfc_tv_cr)"
   ]
  },
  {
   "cell_type": "code",
   "execution_count": 131,
   "id": "78209768",
   "metadata": {},
   "outputs": [
    {
     "data": {
      "text/plain": [
       "array([[ 9716,   346],\n",
       "       [ 3397, 12755]], dtype=int64)"
      ]
     },
     "execution_count": 131,
     "metadata": {},
     "output_type": "execute_result"
    }
   ],
   "source": [
    "brfc_tv_cm = confusion_matrix(y_pred_tv_brfc, y_train_and_val)\n",
    "brfc_tv_cm"
   ]
  },
  {
   "cell_type": "markdown",
   "id": "3db96113",
   "metadata": {},
   "source": [
    "### Provera preprilagodjavanja"
   ]
  },
  {
   "cell_type": "code",
   "execution_count": 132,
   "id": "9b30f2c0",
   "metadata": {},
   "outputs": [
    {
     "name": "stdout",
     "output_type": "stream",
     "text": [
      "Tačnost na skupu za treniranje: 85.72%\n",
      "Tačnost na skupu za testiranje: 77.11%\n"
     ]
    }
   ],
   "source": [
    "print('Tačnost na skupu za treniranje: {0:.2f}%'.format(brfc_tv_acc*100))\n",
    "print('Tačnost na skupu za testiranje: {0:.2f}%'.format(best_rfc_acc*100))"
   ]
  },
  {
   "cell_type": "markdown",
   "id": "42e74a07",
   "metadata": {},
   "source": [
    "### ROC-AUC Kriva"
   ]
  },
  {
   "cell_type": "code",
   "execution_count": 232,
   "id": "07a1466c",
   "metadata": {},
   "outputs": [
    {
     "data": {
      "image/png": "[encoded data removed]",
      "text/plain": [
       "<Figure size 720x360 with 1 Axes>"
      ]
     },
     "metadata": {
      "needs_background": "light"
     },
     "output_type": "display_data"
    }
   ],
   "source": [
    "y_pred_proba_rf = rf.predict_proba(X_test)[::,1]\n",
    "y_pred_proba_brfc = rfc.predict_proba(X_test)[::,1]\n",
    "\n",
    "fpr_rf, tpr_rf, _ = roc_curve(y_test,  y_pred_proba_rf)\n",
    "auc_rf = roc_auc_score(y_test, y_pred_proba_rf)\n",
    "\n",
    "fpr_brfc, tpr_brfc, _ = roc_curve(y_test,  y_pred_proba_brfc)\n",
    "auc_brfc = roc_auc_score(y_test,  y_pred_proba_brfc)\n",
    "\n",
    "plt.figure(figsize = (10,5))\n",
    "\n",
    "plt.plot(fpr_rf, tpr_rf, color='red', label=\"Previous AUC=\"+str(auc_rf))\n",
    "plt.plot(fpr_brfc,tpr_brfc, color = 'blue', label=\"New AUC=\"+str(auc_brfc))\n",
    "\n",
    "plt.title(\"ROC-AUC ocena prvog i poboljšanog modela slučajne šume\")\n",
    "plt.ylabel('True Positive Rate')\n",
    "plt.xlabel('False Positive Rate')\n",
    "plt.legend()\n",
    "\n",
    "plt.savefig(\"assets/pictures/CM_4_RF_ROC_AUC_comparisson.jpg\")\n",
    "\n",
    "plt.show()"
   ]
  },
  {
   "cell_type": "markdown",
   "id": "24eb8c7d",
   "metadata": {},
   "source": [
    "### Čuvanje modela slučajne šume"
   ]
  },
  {
   "cell_type": "code",
   "execution_count": 134,
   "id": "35b0b37a",
   "metadata": {},
   "outputs": [],
   "source": [
    "with open('models/classic_models/rf_classifier.model.pickle', 'wb') as model_file:\n",
    "    pickle.dump(rfc, model_file)"
   ]
  },
  {
   "cell_type": "markdown",
   "id": "185c1181",
   "metadata": {},
   "source": [
    "# <span style=\"color:blue\">5. Naivni Bayes</span>"
   ]
  },
  {
   "cell_type": "code",
   "execution_count": 135,
   "id": "08d49dc0",
   "metadata": {},
   "outputs": [
    {
     "data": {
      "text/plain": [
       "GaussianNB()"
      ]
     },
     "execution_count": 135,
     "metadata": {},
     "output_type": "execute_result"
    }
   ],
   "source": [
    "nb = GaussianNB()\n",
    "nb.fit(X_train, y_train)"
   ]
  },
  {
   "cell_type": "markdown",
   "id": "bfe12768",
   "metadata": {},
   "source": [
    "### Predikcija na test setu"
   ]
  },
  {
   "cell_type": "code",
   "execution_count": 136,
   "id": "2fd1fb38",
   "metadata": {},
   "outputs": [
    {
     "name": "stdout",
     "output_type": "stream",
     "text": [
      "[0 1 1 ... 1 1 1]\n"
     ]
    }
   ],
   "source": [
    "y_pred_nb = nb.predict(X_test)\n",
    "print(y_pred_nb)"
   ]
  },
  {
   "cell_type": "code",
   "execution_count": 137,
   "id": "af643613",
   "metadata": {},
   "outputs": [
    {
     "name": "stdout",
     "output_type": "stream",
     "text": [
      "Tačnost: 65.97%\n"
     ]
    }
   ],
   "source": [
    "nb_acc = accuracy_score(y_pred_nb,y_test)\n",
    "print('Tačnost: {0:.2f}%'.format(nb_acc*100))"
   ]
  },
  {
   "cell_type": "code",
   "execution_count": 138,
   "id": "3989fea9",
   "metadata": {},
   "outputs": [
    {
     "name": "stdout",
     "output_type": "stream",
     "text": [
      "              precision    recall  f1-score   support\n",
      "\n",
      "           0       0.56      0.70      0.62      2648\n",
      "           1       0.76      0.63      0.69      3906\n",
      "\n",
      "    accuracy                           0.66      6554\n",
      "   macro avg       0.66      0.67      0.66      6554\n",
      "weighted avg       0.68      0.66      0.66      6554\n",
      "\n"
     ]
    }
   ],
   "source": [
    "nb_cr = classification_report(y_pred_nb,y_test)\n",
    "print(nb_cr)"
   ]
  },
  {
   "cell_type": "code",
   "execution_count": 139,
   "id": "802994af",
   "metadata": {},
   "outputs": [
    {
     "name": "stdout",
     "output_type": "stream",
     "text": [
      "[[1848  800]\n",
      " [1430 2476]]\n"
     ]
    }
   ],
   "source": [
    "nb_cm = confusion_matrix(y_pred_nb,y_test)\n",
    "print(nb_cm)"
   ]
  },
  {
   "cell_type": "markdown",
   "id": "0c60faa5",
   "metadata": {},
   "source": [
    "### Predikcija na trening setu"
   ]
  },
  {
   "cell_type": "code",
   "execution_count": 140,
   "id": "35d4e578",
   "metadata": {},
   "outputs": [
    {
     "name": "stdout",
     "output_type": "stream",
     "text": [
      "[0 1 1 ... 1 1 1]\n"
     ]
    }
   ],
   "source": [
    "y_pred_train_nb = nb.predict(X_train)\n",
    "print(y_pred_train_nb)"
   ]
  },
  {
   "cell_type": "code",
   "execution_count": 141,
   "id": "7c17613b",
   "metadata": {},
   "outputs": [
    {
     "name": "stdout",
     "output_type": "stream",
     "text": [
      "Tačnost: 65.51%\n"
     ]
    }
   ],
   "source": [
    "nb_train_acc = accuracy_score(y_pred_train_nb,y_train)\n",
    "print('Tačnost: {0:.2f}%'.format(nb_train_acc*100))"
   ]
  },
  {
   "cell_type": "code",
   "execution_count": 142,
   "id": "d28d63ed",
   "metadata": {},
   "outputs": [
    {
     "name": "stdout",
     "output_type": "stream",
     "text": [
      "              precision    recall  f1-score   support\n",
      "\n",
      "           0       0.55      0.70      0.61      7761\n",
      "           1       0.76      0.63      0.69     11899\n",
      "\n",
      "    accuracy                           0.66     19660\n",
      "   macro avg       0.66      0.66      0.65     19660\n",
      "weighted avg       0.68      0.66      0.66     19660\n",
      "\n"
     ]
    }
   ],
   "source": [
    "nb_train_cr = classification_report(y_pred_train_nb,y_train)\n",
    "print(nb_train_cr)"
   ]
  },
  {
   "cell_type": "code",
   "execution_count": 143,
   "id": "baf92a50",
   "metadata": {},
   "outputs": [
    {
     "name": "stdout",
     "output_type": "stream",
     "text": [
      "[[5407 2354]\n",
      " [4427 7472]]\n"
     ]
    }
   ],
   "source": [
    "nb_train_cm = confusion_matrix(y_pred_train_nb,y_train)\n",
    "print(nb_train_cm)"
   ]
  },
  {
   "cell_type": "markdown",
   "id": "0081422e",
   "metadata": {},
   "source": [
    "### Provera preprilagodjavanja"
   ]
  },
  {
   "cell_type": "code",
   "execution_count": 144,
   "id": "68cf4f72",
   "metadata": {},
   "outputs": [
    {
     "name": "stdout",
     "output_type": "stream",
     "text": [
      "Tačnost na skupu za treniranje: 65.51%\n",
      "Tačnost na skupu za testiranje: 65.97%\n"
     ]
    }
   ],
   "source": [
    "print('Tačnost na skupu za treniranje: {0:.2f}%'.format(nb_train_acc*100))\n",
    "print('Tačnost na skupu za testiranje: {0:.2f}%'.format(nb_acc*100))"
   ]
  },
  {
   "cell_type": "markdown",
   "id": "69ae3922",
   "metadata": {},
   "source": [
    "### ROC-AUC Kriva"
   ]
  },
  {
   "cell_type": "code",
   "execution_count": 233,
   "id": "6597051d",
   "metadata": {},
   "outputs": [
    {
     "data": {
      "image/png": "[encoded data removed]",
      "text/plain": [
       "<Figure size 720x360 with 1 Axes>"
      ]
     },
     "metadata": {
      "needs_background": "light"
     },
     "output_type": "display_data"
    }
   ],
   "source": [
    "y_pred_proba_nb = nb.predict_proba(X_test)[::,1]\n",
    "\n",
    "fpr_nb, tpr_nb, _ = roc_curve(y_test,  y_pred_proba_nb)\n",
    "auc_nb = roc_auc_score(y_test, y_pred_proba_nb)\n",
    "\n",
    "plt.figure(figsize = (10,5))\n",
    "\n",
    "plt.plot(fpr_nb, tpr_nb, color='red', label=\"AUC=\"+str(auc_nb))\n",
    "\n",
    "plt.title(\"ROC-AUC ocena modela naivni bayes\")\n",
    "plt.ylabel('True Positive Rate')\n",
    "plt.xlabel('False Positive Rate')\n",
    "plt.legend()\n",
    "\n",
    "plt.savefig(\"assets/pictures/CM_5_NB_ROC_AUC.jpg\")\n",
    "\n",
    "plt.show()"
   ]
  },
  {
   "cell_type": "markdown",
   "id": "8405cc36",
   "metadata": {},
   "source": [
    "### Čuvanje modela NB"
   ]
  },
  {
   "cell_type": "code",
   "execution_count": 146,
   "id": "a1ca4287",
   "metadata": {},
   "outputs": [],
   "source": [
    "with open('models/classic_models/nb_classifier.model.pickle', 'wb') as model_file:\n",
    "    pickle.dump(nb, model_file)"
   ]
  },
  {
   "cell_type": "markdown",
   "id": "b2aa12a4",
   "metadata": {},
   "source": [
    "# <span style=\"color:blue\">6. Metod potpornih vektora</span>"
   ]
  },
  {
   "cell_type": "code",
   "execution_count": 241,
   "id": "c87ad5df",
   "metadata": {},
   "outputs": [
    {
     "data": {
      "text/plain": [
       "SVC(probability=True, random_state=0)"
      ]
     },
     "execution_count": 241,
     "metadata": {},
     "output_type": "execute_result"
    }
   ],
   "source": [
    "sv = SVC(kernel = 'rbf', random_state = 0, probability=True)\n",
    "sv.fit(X_train, y_train)"
   ]
  },
  {
   "cell_type": "markdown",
   "id": "adbe01b0",
   "metadata": {},
   "source": [
    "### Predikcija na test setu"
   ]
  },
  {
   "cell_type": "code",
   "execution_count": 242,
   "id": "7f53c948",
   "metadata": {},
   "outputs": [
    {
     "name": "stdout",
     "output_type": "stream",
     "text": [
      "[1 1 1 ... 1 1 1]\n"
     ]
    }
   ],
   "source": [
    "y_pred_svc = sv.predict(X_test)\n",
    "print(y_pred_svc)"
   ]
  },
  {
   "cell_type": "code",
   "execution_count": 243,
   "id": "27fefc80",
   "metadata": {},
   "outputs": [
    {
     "name": "stdout",
     "output_type": "stream",
     "text": [
      "Tačnost: 80.44%\n"
     ]
    }
   ],
   "source": [
    "svc_acc = accuracy_score(y_pred_svc, y_test)\n",
    "print('Tačnost: {0:.2f}%'.format(svc_acc*100))"
   ]
  },
  {
   "cell_type": "code",
   "execution_count": 244,
   "id": "40077fb9",
   "metadata": {},
   "outputs": [
    {
     "name": "stdout",
     "output_type": "stream",
     "text": [
      "              precision    recall  f1-score   support\n",
      "\n",
      "           0       0.80      0.81      0.80      3218\n",
      "           1       0.81      0.80      0.81      3336\n",
      "\n",
      "    accuracy                           0.80      6554\n",
      "   macro avg       0.80      0.80      0.80      6554\n",
      "weighted avg       0.80      0.80      0.80      6554\n",
      "\n"
     ]
    }
   ],
   "source": [
    "svc_cr = classification_report(y_pred_svc, y_test)\n",
    "print(svc_cr)"
   ]
  },
  {
   "cell_type": "code",
   "execution_count": 245,
   "id": "9245302f",
   "metadata": {},
   "outputs": [
    {
     "name": "stdout",
     "output_type": "stream",
     "text": [
      "[[2607  611]\n",
      " [ 671 2665]]\n"
     ]
    }
   ],
   "source": [
    "svc_cm = confusion_matrix(y_pred_svc, y_test)\n",
    "print(svc_cm)"
   ]
  },
  {
   "cell_type": "markdown",
   "id": "80381aff",
   "metadata": {},
   "source": [
    "### Predikcija na trening setu"
   ]
  },
  {
   "cell_type": "code",
   "execution_count": 246,
   "id": "32c0b1be",
   "metadata": {},
   "outputs": [
    {
     "name": "stdout",
     "output_type": "stream",
     "text": [
      "[0 1 1 ... 1 1 0]\n"
     ]
    }
   ],
   "source": [
    "y_pred_train_svc = sv.predict(X_train)\n",
    "print(y_pred_train_svc)"
   ]
  },
  {
   "cell_type": "code",
   "execution_count": 247,
   "id": "f535fc59",
   "metadata": {},
   "outputs": [
    {
     "name": "stdout",
     "output_type": "stream",
     "text": [
      "Tačnost: 93.07%\n"
     ]
    }
   ],
   "source": [
    "svc_train_acc = accuracy_score(y_pred_train_svc, y_train)\n",
    "print('Tačnost: {0:.2f}%'.format(svc_train_acc*100))"
   ]
  },
  {
   "cell_type": "code",
   "execution_count": 248,
   "id": "2a45a4ac",
   "metadata": {},
   "outputs": [
    {
     "name": "stdout",
     "output_type": "stream",
     "text": [
      "              precision    recall  f1-score   support\n",
      "\n",
      "           0       0.92      0.94      0.93      9625\n",
      "           1       0.94      0.92      0.93     10035\n",
      "\n",
      "    accuracy                           0.93     19660\n",
      "   macro avg       0.93      0.93      0.93     19660\n",
      "weighted avg       0.93      0.93      0.93     19660\n",
      "\n"
     ]
    }
   ],
   "source": [
    "svc_train_cr = classification_report(y_pred_train_svc, y_train)\n",
    "print(svc_train_cr)"
   ]
  },
  {
   "cell_type": "code",
   "execution_count": 249,
   "id": "6ebda3c7",
   "metadata": {},
   "outputs": [
    {
     "name": "stdout",
     "output_type": "stream",
     "text": [
      "[[9048  577]\n",
      " [ 786 9249]]\n"
     ]
    }
   ],
   "source": [
    "svc_train_cm = confusion_matrix(y_pred_train_svc, y_train)\n",
    "print(svc_train_cm)"
   ]
  },
  {
   "cell_type": "markdown",
   "id": "2eaf8204",
   "metadata": {},
   "source": [
    "### Provera preprilagodjavanja"
   ]
  },
  {
   "cell_type": "code",
   "execution_count": 250,
   "id": "5e5761d2",
   "metadata": {},
   "outputs": [
    {
     "name": "stdout",
     "output_type": "stream",
     "text": [
      "Tačnost na skupu za treniranje: 93.07%\n",
      "Tačnost na skupu za testiranje: 80.44%\n"
     ]
    }
   ],
   "source": [
    "print('Tačnost na skupu za treniranje: {0:.2f}%'.format(svc_train_acc*100))\n",
    "print('Tačnost na skupu za testiranje: {0:.2f}%'.format(svc_acc*100))"
   ]
  },
  {
   "cell_type": "code",
   "execution_count": null,
   "id": "22a1e6f2",
   "metadata": {},
   "outputs": [],
   "source": []
  },
  {
   "cell_type": "code",
   "execution_count": 156,
   "id": "eea385a9",
   "metadata": {},
   "outputs": [],
   "source": [
    "### K-fold unakrsna validacija\n",
    "\n",
    "# accuracies = cross_val_score(estimator = svc, X = X_train, y = y_train, cv = 10)\n",
    "# print(\"Tačnost: \",accuracies.mean()*100)\n",
    "# print(\"Standardna devijacija: \",accuracies.std()*100)\n",
    "\n",
    "# print(accuracies)"
   ]
  },
  {
   "cell_type": "markdown",
   "id": "15d0143f",
   "metadata": {},
   "source": [
    "### Traženje malo boljih parametara"
   ]
  },
  {
   "cell_type": "code",
   "execution_count": null,
   "id": "5e990d82",
   "metadata": {},
   "outputs": [],
   "source": [
    "# c = [0.001, 0.01, 0.1, 1, 10, 100]\n",
    "# gamma = [0.001, 0.01, 0.1, 1, 10, 100]\n",
    "    \n",
    "# svc_acc = 0\n",
    "# best_c = 0\n",
    "# best_gamma = 0\n",
    "# y_pred_svc = []\n",
    "# scores = {}\n",
    "\n",
    "# svc = None\n",
    "# for i in range(len(c)):\n",
    "#     print('C = ', c[i])\n",
    "#     for j in range(len(gamma)):\n",
    "#         print('\\t Gamma: ',gamma[j])\n",
    "\n",
    "#         model = SVC(kernel = 'rbf', C=c[i], gamma=gamma[j])\n",
    "#         model.fit(X_train, y_train)\n",
    "#         y_pred = model.predict(X_test)\n",
    "#         acc = accuracy_score(y_pred, y_test)\n",
    "#         print('\\t\\t Accuracy: ',acc)\n",
    "        \n",
    "#         if c[i] not in scores.keys():\n",
    "#             scores[c[i]] = []\n",
    "            \n",
    "#         scores[c[i]].append(acc)\n",
    "        \n",
    "#         if svc_acc < acc:\n",
    "#             svc_acc = acc\n",
    "#             best_c = c[i]\n",
    "#             best_gamma = gamma[j]\n",
    "#             y_pred_svc = y_pred\n",
    "#             svc = model"
   ]
  },
  {
   "cell_type": "code",
   "execution_count": null,
   "id": "d4d46c92",
   "metadata": {},
   "outputs": [],
   "source": [
    "# print(scores)"
   ]
  },
  {
   "cell_type": "code",
   "execution_count": null,
   "id": "d96f0855",
   "metadata": {},
   "outputs": [],
   "source": [
    "# plt.figure(figsize = (10,10))\n",
    "\n",
    "# plt.imshow((gamma,c), cmap = 'coolwarm')\n",
    "\n",
    "# plt.colorbar()\n",
    "\n",
    "# # Odradi reshape za scores pa nastavi!\n",
    "\n",
    "# # plt.xticks(np.arrage(0, len(c), c))\n",
    "# # plt.yticks(np.arrage(0, len(gamma), gamma))\n",
    "\n",
    "# # plt.xlabel(\"Gamma\")\n",
    "# # plt.ylabel(\"C\")\n",
    "\n",
    "# # plt.savefig(\"assets/pictures/CM_7_SVC_best_parameters.jpg\")\n",
    "\n",
    "# # plt.show()"
   ]
  },
  {
   "cell_type": "code",
   "execution_count": null,
   "id": "172d68d4",
   "metadata": {},
   "outputs": [],
   "source": [
    "# print('Best C = ',best_c)\n",
    "# print('Best Gamma = ', best_gamma)"
   ]
  },
  {
   "cell_type": "code",
   "execution_count": null,
   "id": "47933f73",
   "metadata": {},
   "outputs": [],
   "source": [
    "# print('Tačnost: {0:.2f}%'.format(svc_acc*100))"
   ]
  },
  {
   "cell_type": "markdown",
   "id": "4bacfd73",
   "metadata": {},
   "source": [
    "<!-- ### Treniramo poboljšani model na train + validation setu -->"
   ]
  },
  {
   "cell_type": "code",
   "execution_count": null,
   "id": "45f68e84",
   "metadata": {},
   "outputs": [],
   "source": [
    "# svc"
   ]
  },
  {
   "cell_type": "code",
   "execution_count": null,
   "id": "66ac32ff",
   "metadata": {},
   "outputs": [],
   "source": [
    "# svc.fit(X_train_and_val, y_train_and_val)"
   ]
  },
  {
   "cell_type": "markdown",
   "id": "407b4b4d",
   "metadata": {},
   "source": [
    "<!-- ### Predikcija na test setu -->"
   ]
  },
  {
   "cell_type": "code",
   "execution_count": null,
   "id": "d09c78f7",
   "metadata": {},
   "outputs": [],
   "source": [
    "# best_y_pred_svc = svc.predict(X_test)\n",
    "# print(best_y_pred_svc)"
   ]
  },
  {
   "cell_type": "code",
   "execution_count": null,
   "id": "69b2a4eb",
   "metadata": {},
   "outputs": [],
   "source": [
    "# best_svc_acc = accuracy_score(best_y_pred_svc, y_test)\n",
    "# print('Tačnost: {0:.2f}%'.format(best_svc_acc*100))"
   ]
  },
  {
   "cell_type": "code",
   "execution_count": null,
   "id": "35f9766d",
   "metadata": {},
   "outputs": [],
   "source": [
    "# best_svc_cr = classification_report(best_y_pred_svc, y_test)\n",
    "# print(best_svc_cr)"
   ]
  },
  {
   "cell_type": "code",
   "execution_count": null,
   "id": "d324e80f",
   "metadata": {},
   "outputs": [],
   "source": [
    "# best_svc_cm = confusion_matrix(best_y_pred_svc, y_test)\n",
    "# best_svc_cm"
   ]
  },
  {
   "cell_type": "markdown",
   "id": "a2f25f1d",
   "metadata": {},
   "source": [
    "<!-- ### Predikcija na train + validation setu -->"
   ]
  },
  {
   "cell_type": "code",
   "execution_count": null,
   "id": "ed231c4d",
   "metadata": {},
   "outputs": [],
   "source": [
    "# y_pred_tv_bsvc = svc.predict(X_train_and_val)\n",
    "# print(y_pred_tv_bsvc)"
   ]
  },
  {
   "cell_type": "code",
   "execution_count": null,
   "id": "b870f523",
   "metadata": {},
   "outputs": [],
   "source": [
    "# bsvc_tv_acc = accuracy_score(y_pred_tv_bsvc, y_train_and_val)\n",
    "# print('Tačnost: {0:.2f}%'.format(bsvc_tv_acc*100))"
   ]
  },
  {
   "cell_type": "code",
   "execution_count": null,
   "id": "1b716cf0",
   "metadata": {},
   "outputs": [],
   "source": [
    "# bsvc_tv_cr = classification_report(y_pred_tv_bsvc, y_train_and_val)\n",
    "# print(bsvc_tv_cr)"
   ]
  },
  {
   "cell_type": "code",
   "execution_count": null,
   "id": "f45b39e8",
   "metadata": {},
   "outputs": [],
   "source": [
    "# bsvc_tv_cm = confusion_matrix(y_pred_tv_bsvc, y_train_and_val)\n",
    "# bsvc_tv_cm"
   ]
  },
  {
   "cell_type": "markdown",
   "id": "e992a4d4",
   "metadata": {},
   "source": [
    "<!-- ### Provera preprilagodjavanja nakon popravke -->"
   ]
  },
  {
   "cell_type": "code",
   "execution_count": null,
   "id": "0bf41602",
   "metadata": {},
   "outputs": [],
   "source": [
    "# print('Tačnost na skupu za treniranje: {0:.2f}%'.format(bsvc_tv_acc*100))\n",
    "# print('Tačnost na skupu za testiranje: {0:.2f}%'.format(best_svc_acc*100))"
   ]
  },
  {
   "cell_type": "markdown",
   "id": "f4f43a80",
   "metadata": {},
   "source": [
    "<!-- ### ROC-AUC Kriva -->"
   ]
  },
  {
   "cell_type": "code",
   "execution_count": null,
   "id": "72a686fe",
   "metadata": {},
   "outputs": [],
   "source": [
    "# y_pred_proba_sv = sv.predict_proba(X_test)[::,1]\n",
    "# y_pred_proba_bsvc = svc.predict_proba(X_test)[::,1]\n",
    "\n",
    "# fpr_sv, tpr_sv, _ = roc_curve(y_test,  y_pred_proba_sv)\n",
    "# auc_sv = roc_auc_score(y_test, y_pred_proba_sv)\n",
    "\n",
    "# fpr_bsvc, tpr_svc, _ = roc_curve(y_test,  y_pred_proba_bsvc)\n",
    "# auc_bsvc = roc_auc_score(y_test,  y_pred_proba_bsvc)\n",
    "\n",
    "# plt.figure(figsize = (10,5))\n",
    "\n",
    "# plt.plot(fpr_sv, tpr_sv, color='red', label=\"AUC=\"+str(auc_sv))\n",
    "# plt.plot(fpr_bsvc,tpr_bsvc, color = 'blue', label=\"AUC=\"+str(auc_bsvc))\n",
    "\n",
    "# plt.ylabel('True Positive Rate')\n",
    "# plt.xlabel('False Positive Rate')\n",
    "# plt.legend()\n",
    "\n",
    "# plt.savefig(\"assets/pictures/CM_6_SVC_ROC_AUC_comparisson.jpg\")\n",
    "\n",
    "# plt.show()"
   ]
  },
  {
   "cell_type": "code",
   "execution_count": 252,
   "id": "93238a9a",
   "metadata": {},
   "outputs": [
    {
     "data": {
      "image/png": "[encoded data removed]",
      "text/plain": [
       "<Figure size 720x360 with 1 Axes>"
      ]
     },
     "metadata": {
      "needs_background": "light"
     },
     "output_type": "display_data"
    }
   ],
   "source": [
    "y_pred_proba_sv = sv.predict_proba(X_test)[::,1]\n",
    "\n",
    "fpr_sv, tpr_sv, _ = roc_curve(y_test,  y_pred_proba_sv)\n",
    "auc_sv = roc_auc_score(y_test, y_pred_proba_sv)\n",
    "\n",
    "plt.figure(figsize = (10,5))\n",
    "\n",
    "plt.plot(fpr_sv, tpr_sv, color='red', label=\"AUC=\"+str(auc_sv))\n",
    "\n",
    "plt.title(\"ROC-AUC ocena modela potpornih vektora\")\n",
    "plt.ylabel('True Positive Rate')\n",
    "plt.xlabel('False Positive Rate')\n",
    "plt.legend()\n",
    "\n",
    "plt.savefig(\"assets/pictures/CM_6_SVC_ROC_AUC_comparisson.jpg\")\n",
    "\n",
    "plt.show()"
   ]
  },
  {
   "cell_type": "markdown",
   "id": "03fc954b",
   "metadata": {},
   "source": [
    "### Čuvanje modela potpornih vektora"
   ]
  },
  {
   "cell_type": "code",
   "execution_count": 251,
   "id": "c380c657",
   "metadata": {},
   "outputs": [],
   "source": [
    "with open('models/classic_models/svc_classifier.model.pickle', 'wb') as model_file:\n",
    "    pickle.dump(sv, model_file)"
   ]
  },
  {
   "cell_type": "markdown",
   "id": "16a865cf",
   "metadata": {},
   "source": [
    "# <span style=\"color:blue\">7. Pojačavanje</span>"
   ]
  },
  {
   "cell_type": "markdown",
   "id": "c967b2a9",
   "metadata": {},
   "source": [
    "## 7.1 AdaBoost"
   ]
  },
  {
   "cell_type": "code",
   "execution_count": 165,
   "id": "8217511c",
   "metadata": {},
   "outputs": [
    {
     "data": {
      "text/plain": [
       "AdaBoostClassifier(base_estimator=DecisionTreeClassifier(max_depth=8,\n",
       "                                                         max_features=0.9,\n",
       "                                                         random_state=7))"
      ]
     },
     "execution_count": 165,
     "metadata": {},
     "output_type": "execute_result"
    }
   ],
   "source": [
    "ab = AdaBoostClassifier(base_estimator = dtc)\n",
    "ab.fit(X_train, y_train)"
   ]
  },
  {
   "cell_type": "markdown",
   "id": "3e815ca4",
   "metadata": {},
   "source": [
    "### Predikcija na test setu"
   ]
  },
  {
   "cell_type": "code",
   "execution_count": 166,
   "id": "56edfd74",
   "metadata": {},
   "outputs": [
    {
     "name": "stdout",
     "output_type": "stream",
     "text": [
      "[1 0 1 ... 1 1 1]\n"
     ]
    }
   ],
   "source": [
    "y_pred_ab = ab.predict(X_test)\n",
    "print(y_pred_ab)"
   ]
  },
  {
   "cell_type": "code",
   "execution_count": 167,
   "id": "626e27b1",
   "metadata": {},
   "outputs": [
    {
     "name": "stdout",
     "output_type": "stream",
     "text": [
      "Tačnost: 72.31%\n"
     ]
    }
   ],
   "source": [
    "ab_acc = accuracy_score(y_pred_ab, y_test)\n",
    "print('Tačnost: {0:.2f}%'.format(ab_acc*100))"
   ]
  },
  {
   "cell_type": "code",
   "execution_count": 168,
   "id": "a98a9af0",
   "metadata": {},
   "outputs": [
    {
     "name": "stdout",
     "output_type": "stream",
     "text": [
      "              precision    recall  f1-score   support\n",
      "\n",
      "           0       0.71      0.73      0.72      3165\n",
      "           1       0.74      0.72      0.73      3389\n",
      "\n",
      "    accuracy                           0.72      6554\n",
      "   macro avg       0.72      0.72      0.72      6554\n",
      "weighted avg       0.72      0.72      0.72      6554\n",
      "\n"
     ]
    }
   ],
   "source": [
    "ab_cr = classification_report(y_pred_ab, y_test)\n",
    "print(ab_cr)"
   ]
  },
  {
   "cell_type": "code",
   "execution_count": 169,
   "id": "d76cf13c",
   "metadata": {},
   "outputs": [
    {
     "name": "stdout",
     "output_type": "stream",
     "text": [
      "[[2314  851]\n",
      " [ 964 2425]]\n"
     ]
    }
   ],
   "source": [
    "ab_cm = confusion_matrix(y_pred_ab, y_test)\n",
    "print(ab_cm)"
   ]
  },
  {
   "cell_type": "markdown",
   "id": "ea7f4495",
   "metadata": {},
   "source": [
    "### Predikcija na trening setu"
   ]
  },
  {
   "cell_type": "code",
   "execution_count": 170,
   "id": "56016594",
   "metadata": {},
   "outputs": [
    {
     "name": "stdout",
     "output_type": "stream",
     "text": [
      "[0 1 1 ... 1 1 0]\n"
     ]
    }
   ],
   "source": [
    "y_pred_tv_ab = ab.predict(X_train)\n",
    "print(y_pred_tv_ab)"
   ]
  },
  {
   "cell_type": "code",
   "execution_count": 171,
   "id": "f0eb6945",
   "metadata": {},
   "outputs": [
    {
     "name": "stdout",
     "output_type": "stream",
     "text": [
      "Tačnost: 100.00%\n"
     ]
    }
   ],
   "source": [
    "ab_train_acc = accuracy_score(y_pred_tv_ab, y_train)\n",
    "print('Tačnost: {0:.2f}%'.format(ab_train_acc*100))"
   ]
  },
  {
   "cell_type": "code",
   "execution_count": 172,
   "id": "c2218946",
   "metadata": {},
   "outputs": [
    {
     "name": "stdout",
     "output_type": "stream",
     "text": [
      "              precision    recall  f1-score   support\n",
      "\n",
      "           0       1.00      1.00      1.00      9834\n",
      "           1       1.00      1.00      1.00      9826\n",
      "\n",
      "    accuracy                           1.00     19660\n",
      "   macro avg       1.00      1.00      1.00     19660\n",
      "weighted avg       1.00      1.00      1.00     19660\n",
      "\n"
     ]
    }
   ],
   "source": [
    "ab_train_cr = classification_report(y_pred_tv_ab, y_train)\n",
    "print(ab_train_cr)"
   ]
  },
  {
   "cell_type": "code",
   "execution_count": 173,
   "id": "131da2a3",
   "metadata": {},
   "outputs": [
    {
     "name": "stdout",
     "output_type": "stream",
     "text": [
      "[[9834    0]\n",
      " [   0 9826]]\n"
     ]
    }
   ],
   "source": [
    "ab_train_cm = confusion_matrix(y_pred_tv_ab, y_train)\n",
    "print(ab_train_cm)"
   ]
  },
  {
   "cell_type": "markdown",
   "id": "4635d5cb",
   "metadata": {},
   "source": [
    "### Provera preprilagodjavanja"
   ]
  },
  {
   "cell_type": "code",
   "execution_count": 174,
   "id": "4fb9e071",
   "metadata": {},
   "outputs": [
    {
     "name": "stdout",
     "output_type": "stream",
     "text": [
      "Tačnost na skupu za treniranje: 100.00%\n",
      "Tačnost na skupu za testiranje: 72.31%\n"
     ]
    }
   ],
   "source": [
    "print('Tačnost na skupu za treniranje: {0:.2f}%'.format(ab_train_acc*100))\n",
    "print('Tačnost na skupu za testiranje: {0:.2f}%'.format(ab_acc*100))"
   ]
  },
  {
   "cell_type": "markdown",
   "id": "86782c1e",
   "metadata": {},
   "source": [
    "Model je **preprilagodjen**, ali neće biti popravljan. "
   ]
  },
  {
   "cell_type": "code",
   "execution_count": 175,
   "id": "d6b2eec8",
   "metadata": {},
   "outputs": [
    {
     "data": {
      "image/png": "[encoded data removed]",
      "text/plain": [
       "<Figure size 720x360 with 1 Axes>"
      ]
     },
     "metadata": {
      "needs_background": "light"
     },
     "output_type": "display_data"
    }
   ],
   "source": [
    "plt.figure(figsize = (10,5))\n",
    "plt.plot(range(0, ab.n_estimators), ab.estimator_errors_)\n",
    "\n",
    "plt.savefig()\n",
    "plt.show()"
   ]
  },
  {
   "cell_type": "markdown",
   "id": "920b17e1",
   "metadata": {},
   "source": [
    "### ROC-AUC Kriva"
   ]
  },
  {
   "cell_type": "code",
   "execution_count": 234,
   "id": "17e12578",
   "metadata": {},
   "outputs": [
    {
     "data": {
      "image/png": "[encoded data removed]",
      "text/plain": [
       "<Figure size 720x360 with 1 Axes>"
      ]
     },
     "metadata": {
      "needs_background": "light"
     },
     "output_type": "display_data"
    }
   ],
   "source": [
    "y_pred_proba_ab = ab.predict_proba(X_test)[::,1]\n",
    "\n",
    "fpr_ab, tpr_ab, _ = roc_curve(y_test,  y_pred_proba_ab)\n",
    "auc_ab = roc_auc_score(y_test,  y_pred_proba_ab)\n",
    "\n",
    "plt.figure(figsize = (10,5))\n",
    "\n",
    "plt.plot(fpr_ab, tpr_ab, color='red', label=\"AUC=\"+str(auc_ab))\n",
    "\n",
    "plt.title(\"ROC-AUC ocena modela AdaBoost\")\n",
    "plt.ylabel('True Positive Rate')\n",
    "plt.xlabel('False Positive Rate')\n",
    "plt.legend()\n",
    "\n",
    "plt.savefig(\"assets/pictures/CM_7_AB_ROC_AUC.jpg\")\n",
    "\n",
    "plt.show()"
   ]
  },
  {
   "cell_type": "markdown",
   "id": "e11298d7",
   "metadata": {},
   "source": [
    "### Čuvanje modela Ada Boost"
   ]
  },
  {
   "cell_type": "code",
   "execution_count": 179,
   "id": "56ca3c24",
   "metadata": {},
   "outputs": [],
   "source": [
    "with open('models/classic_models/ab_classifier.model.pickle', 'wb') as model_file:\n",
    "    pickle.dump(ab, model_file)"
   ]
  },
  {
   "cell_type": "markdown",
   "id": "fe01dd17",
   "metadata": {},
   "source": [
    "## 7.2 XGBoost"
   ]
  },
  {
   "cell_type": "code",
   "execution_count": 180,
   "id": "51e65aa8",
   "metadata": {},
   "outputs": [
    {
     "name": "stdout",
     "output_type": "stream",
     "text": [
      "[13:55:12] WARNING: C:\\Windows\\Temp\\abs_557yfx631l\\croots\\recipe\\xgboost-split_1659548953302\\work\\src\\learner.cc:1115: Starting in XGBoost 1.3.0, the default evaluation metric used with the objective 'binary:logistic' was changed from 'error' to 'logloss'. Explicitly set eval_metric if you'd like to restore the old behavior.\n"
     ]
    },
    {
     "data": {
      "text/plain": [
       "XGBClassifier(base_score=0.5, booster='gbtree', colsample_bylevel=1,\n",
       "              colsample_bynode=1, colsample_bytree=1, enable_categorical=False,\n",
       "              gamma=0, gpu_id=-1, importance_type=None,\n",
       "              interaction_constraints='', learning_rate=0.300000012,\n",
       "              max_delta_step=0, max_depth=6, min_child_weight=1, missing=nan,\n",
       "              monotone_constraints='()', n_estimators=100, n_jobs=12,\n",
       "              num_parallel_tree=1, predictor='auto', random_state=0,\n",
       "              reg_alpha=0, reg_lambda=1, scale_pos_weight=1, subsample=1,\n",
       "              tree_method='exact', use_label_encoder=False,\n",
       "              validate_parameters=1, verbosity=None)"
      ]
     },
     "execution_count": 180,
     "metadata": {},
     "output_type": "execute_result"
    }
   ],
   "source": [
    "xgb = XGBClassifier(use_label_encoder=False)\n",
    "xgb.fit(X_train, y_train)"
   ]
  },
  {
   "cell_type": "markdown",
   "id": "09924862",
   "metadata": {},
   "source": [
    "### Predikcija na test setu"
   ]
  },
  {
   "cell_type": "code",
   "execution_count": 181,
   "id": "acce28e0",
   "metadata": {},
   "outputs": [
    {
     "name": "stdout",
     "output_type": "stream",
     "text": [
      "[1 1 1 ... 1 1 1]\n"
     ]
    }
   ],
   "source": [
    "y_pred_xgb = xgb.predict(X_test)\n",
    "print(y_pred_xgb)"
   ]
  },
  {
   "cell_type": "code",
   "execution_count": 182,
   "id": "db0e1c3a",
   "metadata": {},
   "outputs": [
    {
     "name": "stdout",
     "output_type": "stream",
     "text": [
      "Tačnost: 79.72%\n"
     ]
    }
   ],
   "source": [
    "xgb_acc = accuracy_score(y_pred_xgb, y_test)\n",
    "print('Tačnost: {0:.2f}%'.format(xgb_acc*100))"
   ]
  },
  {
   "cell_type": "code",
   "execution_count": 183,
   "id": "65a86b41",
   "metadata": {},
   "outputs": [
    {
     "name": "stdout",
     "output_type": "stream",
     "text": [
      "              precision    recall  f1-score   support\n",
      "\n",
      "           0       0.78      0.81      0.79      3185\n",
      "           1       0.81      0.79      0.80      3369\n",
      "\n",
      "    accuracy                           0.80      6554\n",
      "   macro avg       0.80      0.80      0.80      6554\n",
      "weighted avg       0.80      0.80      0.80      6554\n",
      "\n"
     ]
    }
   ],
   "source": [
    "xgb_cr = classification_report(y_pred_xgb, y_test)\n",
    "print(xgb_cr)"
   ]
  },
  {
   "cell_type": "code",
   "execution_count": 184,
   "id": "f73505b4",
   "metadata": {},
   "outputs": [
    {
     "name": "stdout",
     "output_type": "stream",
     "text": [
      "[[2567  618]\n",
      " [ 711 2658]]\n"
     ]
    }
   ],
   "source": [
    "xgb_cm = confusion_matrix(y_pred_xgb, y_test)\n",
    "print(xgb_cm)"
   ]
  },
  {
   "cell_type": "markdown",
   "id": "1a58603b",
   "metadata": {},
   "source": [
    "### Predikcija na trening setu"
   ]
  },
  {
   "cell_type": "code",
   "execution_count": 185,
   "id": "4162ec7b",
   "metadata": {},
   "outputs": [
    {
     "name": "stdout",
     "output_type": "stream",
     "text": [
      "[0 1 1 ... 1 1 0]\n"
     ]
    }
   ],
   "source": [
    "y_train_pred_xgb = xgb.predict(X_train)\n",
    "print(y_train_pred_xgb)"
   ]
  },
  {
   "cell_type": "code",
   "execution_count": 186,
   "id": "7de1fbeb",
   "metadata": {},
   "outputs": [
    {
     "name": "stdout",
     "output_type": "stream",
     "text": [
      "Tačnost: 99.94%\n"
     ]
    }
   ],
   "source": [
    "xgb_train_acc = accuracy_score(y_train_pred_xgb, y_train)\n",
    "print('Tačnost: {0:.2f}%'.format(xgb_train_acc*100))"
   ]
  },
  {
   "cell_type": "code",
   "execution_count": 187,
   "id": "34bcdaf9",
   "metadata": {},
   "outputs": [
    {
     "name": "stdout",
     "output_type": "stream",
     "text": [
      "              precision    recall  f1-score   support\n",
      "\n",
      "           0       1.00      1.00      1.00      9838\n",
      "           1       1.00      1.00      1.00      9822\n",
      "\n",
      "    accuracy                           1.00     19660\n",
      "   macro avg       1.00      1.00      1.00     19660\n",
      "weighted avg       1.00      1.00      1.00     19660\n",
      "\n"
     ]
    }
   ],
   "source": [
    "xgb_train_cr = classification_report(y_train_pred_xgb, y_train)\n",
    "print(xgb_train_cr)"
   ]
  },
  {
   "cell_type": "code",
   "execution_count": 188,
   "id": "f98aa6dd",
   "metadata": {},
   "outputs": [
    {
     "name": "stdout",
     "output_type": "stream",
     "text": [
      "[[9830    8]\n",
      " [   4 9818]]\n"
     ]
    }
   ],
   "source": [
    "xgb_train_cm = confusion_matrix(y_train_pred_xgb, y_train)\n",
    "print(xgb_train_cm)"
   ]
  },
  {
   "cell_type": "markdown",
   "id": "f9a5216d",
   "metadata": {},
   "source": [
    "### Provera preprilagodjavanja"
   ]
  },
  {
   "cell_type": "code",
   "execution_count": 189,
   "id": "338a281e",
   "metadata": {},
   "outputs": [
    {
     "name": "stdout",
     "output_type": "stream",
     "text": [
      "Tačnost na skupu za treniranje: 99.94%\n",
      "Tačnost na skupu za testiranje: 79.72%\n"
     ]
    }
   ],
   "source": [
    "print('Tačnost na skupu za treniranje: {0:.2f}%'.format(xgb_train_acc*100))\n",
    "print('Tačnost na skupu za testiranje: {0:.2f}%'.format(xgb_acc*100))"
   ]
  },
  {
   "cell_type": "markdown",
   "id": "d3c69355",
   "metadata": {},
   "source": [
    "Model je **preprilagodjen**, ali neće biti popravljan. "
   ]
  },
  {
   "cell_type": "markdown",
   "id": "392cd50a",
   "metadata": {},
   "source": [
    "### ROC-AUC kriva"
   ]
  },
  {
   "cell_type": "code",
   "execution_count": 235,
   "id": "6247c424",
   "metadata": {},
   "outputs": [
    {
     "data": {
      "image/png": "[encoded data removed]",
      "text/plain": [
       "<Figure size 720x360 with 1 Axes>"
      ]
     },
     "metadata": {
      "needs_background": "light"
     },
     "output_type": "display_data"
    }
   ],
   "source": [
    "y_pred_proba_xgb = xgb.predict_proba(X_test)[::,1]\n",
    "\n",
    "fpr_xgb, tpr_xgb, _ = roc_curve(y_test,  y_pred_proba_xgb)\n",
    "auc_xgb = roc_auc_score(y_test,  y_pred_proba_xgb)\n",
    "\n",
    "plt.figure(figsize = (10,5))\n",
    "\n",
    "plt.plot(fpr_xgb, tpr_xgb, color='red', label=\"AUC=\"+str(auc_xgb))\n",
    "\n",
    "plt.title(\"ROC-AUC ocena modela XGBoost\")\n",
    "plt.ylabel('True Positive Rate')\n",
    "plt.xlabel('False Positive Rate')\n",
    "plt.legend()\n",
    "\n",
    "plt.savefig(\"assets/pictures/CM_7_XGB_ROC_AUC.jpg\")\n",
    "\n",
    "plt.show()"
   ]
  },
  {
   "cell_type": "markdown",
   "id": "64b43b43",
   "metadata": {},
   "source": [
    "### Čuvanje modela XGBoost"
   ]
  },
  {
   "cell_type": "code",
   "execution_count": 190,
   "id": "a5de172a",
   "metadata": {},
   "outputs": [],
   "source": [
    "with open('models/classic_models/xgb_classifier.model.pickle', 'wb') as model_file:\n",
    "    pickle.dump(xgb, model_file)"
   ]
  },
  {
   "cell_type": "markdown",
   "id": "c456a4cd",
   "metadata": {},
   "source": [
    "# <span style=\"color:blue\">8. Prosta agregacija</span>"
   ]
  },
  {
   "cell_type": "code",
   "execution_count": 191,
   "id": "ecc331b0",
   "metadata": {},
   "outputs": [
    {
     "data": {
      "text/plain": [
       "BaggingClassifier(base_estimator=DecisionTreeClassifier(max_depth=8,\n",
       "                                                        max_features=0.9,\n",
       "                                                        random_state=7),\n",
       "                  max_samples=100, n_estimators=500, random_state=7)"
      ]
     },
     "execution_count": 191,
     "metadata": {},
     "output_type": "execute_result"
    }
   ],
   "source": [
    "bag = BaggingClassifier(dtc, n_estimators=500, max_samples=100, bootstrap=True, random_state=7)\n",
    "bag.fit(X_train, y_train)"
   ]
  },
  {
   "cell_type": "markdown",
   "id": "6468cfd4",
   "metadata": {},
   "source": [
    "### Predikcija na test setu"
   ]
  },
  {
   "cell_type": "code",
   "execution_count": 192,
   "id": "e1c641f8",
   "metadata": {},
   "outputs": [
    {
     "name": "stdout",
     "output_type": "stream",
     "text": [
      "[1 1 1 ... 1 1 1]\n"
     ]
    }
   ],
   "source": [
    "y_pred_bag = bag.predict(X_test)\n",
    "print(y_pred_bag)"
   ]
  },
  {
   "cell_type": "code",
   "execution_count": 193,
   "id": "2db153f8",
   "metadata": {},
   "outputs": [
    {
     "name": "stdout",
     "output_type": "stream",
     "text": [
      "Tačnost: 74.05%\n"
     ]
    }
   ],
   "source": [
    "bag_acc = accuracy_score(y_pred_bag, y_test)\n",
    "print('Tačnost: {0:.2f}%'.format(bag_acc*100))"
   ]
  },
  {
   "cell_type": "code",
   "execution_count": 194,
   "id": "18a0fb18",
   "metadata": {},
   "outputs": [
    {
     "name": "stdout",
     "output_type": "stream",
     "text": [
      "              precision    recall  f1-score   support\n",
      "\n",
      "           0       0.69      0.76      0.73      2979\n",
      "           1       0.79      0.72      0.75      3575\n",
      "\n",
      "    accuracy                           0.74      6554\n",
      "   macro avg       0.74      0.74      0.74      6554\n",
      "weighted avg       0.74      0.74      0.74      6554\n",
      "\n"
     ]
    }
   ],
   "source": [
    "bag_cr = classification_report(y_pred_bag, y_test)\n",
    "print(bag_cr)"
   ]
  },
  {
   "cell_type": "code",
   "execution_count": 195,
   "id": "6936c2f3",
   "metadata": {},
   "outputs": [
    {
     "name": "stdout",
     "output_type": "stream",
     "text": [
      "[[2278  701]\n",
      " [1000 2575]]\n"
     ]
    }
   ],
   "source": [
    "bag_cm = confusion_matrix(y_pred_bag, y_test)\n",
    "print(bag_cm)"
   ]
  },
  {
   "cell_type": "markdown",
   "id": "14ed1db8",
   "metadata": {},
   "source": [
    "### Predikcija na trening setu"
   ]
  },
  {
   "cell_type": "code",
   "execution_count": 196,
   "id": "70bdb562",
   "metadata": {},
   "outputs": [
    {
     "name": "stdout",
     "output_type": "stream",
     "text": [
      "[0 1 1 ... 1 1 0]\n"
     ]
    }
   ],
   "source": [
    "y_train_pred_bag = bag.predict(X_train)\n",
    "print(y_train_pred_bag)"
   ]
  },
  {
   "cell_type": "code",
   "execution_count": 197,
   "id": "10788eb5",
   "metadata": {},
   "outputs": [
    {
     "name": "stdout",
     "output_type": "stream",
     "text": [
      "Tačnost: 74.03%\n"
     ]
    }
   ],
   "source": [
    "bag_train_acc = accuracy_score(y_train_pred_bag, y_train)\n",
    "print('Tačnost: {0:.2f}%'.format(bag_train_acc*100))"
   ]
  },
  {
   "cell_type": "code",
   "execution_count": 198,
   "id": "83dc3df5",
   "metadata": {},
   "outputs": [
    {
     "name": "stdout",
     "output_type": "stream",
     "text": [
      "              precision    recall  f1-score   support\n",
      "\n",
      "           0       0.69      0.77      0.73      8781\n",
      "           1       0.79      0.72      0.75     10879\n",
      "\n",
      "    accuracy                           0.74     19660\n",
      "   macro avg       0.74      0.74      0.74     19660\n",
      "weighted avg       0.75      0.74      0.74     19660\n",
      "\n"
     ]
    }
   ],
   "source": [
    "bag_train_cr = classification_report(y_train_pred_bag, y_train)\n",
    "print(bag_train_cr)"
   ]
  },
  {
   "cell_type": "code",
   "execution_count": 199,
   "id": "abaa1720",
   "metadata": {},
   "outputs": [
    {
     "name": "stdout",
     "output_type": "stream",
     "text": [
      "[[6755 2026]\n",
      " [3079 7800]]\n"
     ]
    }
   ],
   "source": [
    "bag_train_cm = confusion_matrix(y_train_pred_bag, y_train)\n",
    "print(bag_train_cm)"
   ]
  },
  {
   "cell_type": "markdown",
   "id": "a6f07bd4",
   "metadata": {},
   "source": [
    "### Provera preprilagodjavanja"
   ]
  },
  {
   "cell_type": "code",
   "execution_count": 200,
   "id": "6aa94cd5",
   "metadata": {},
   "outputs": [
    {
     "name": "stdout",
     "output_type": "stream",
     "text": [
      "Tačnost na skupu za treniranje: 74.03%\n",
      "Tačnost na skupu za testiranje: 74.05%\n"
     ]
    }
   ],
   "source": [
    "print('Tačnost na skupu za treniranje: {0:.2f}%'.format(bag_train_acc*100))\n",
    "print('Tačnost na skupu za testiranje: {0:.2f}%'.format(bag_acc*100))"
   ]
  },
  {
   "cell_type": "markdown",
   "id": "5810c3b7",
   "metadata": {},
   "source": [
    "### ROC-AUC Kriva"
   ]
  },
  {
   "cell_type": "code",
   "execution_count": 236,
   "id": "1933c854",
   "metadata": {},
   "outputs": [
    {
     "data": {
      "image/png": "[encoded data removed]",
      "text/plain": [
       "<Figure size 720x360 with 1 Axes>"
      ]
     },
     "metadata": {
      "needs_background": "light"
     },
     "output_type": "display_data"
    }
   ],
   "source": [
    "y_pred_proba_bag = bag.predict_proba(X_test)[::,1]\n",
    "\n",
    "fpr_bag, tpr_bag, _ = roc_curve(y_test,  y_pred_proba_bag)\n",
    "auc_bag = roc_auc_score(y_test,  y_pred_proba_bag)\n",
    "\n",
    "plt.figure(figsize = (10,5))\n",
    "\n",
    "plt.plot(fpr_bag, tpr_bag, color='red', label=\"AUC=\"+str(auc_bag))\n",
    "\n",
    "plt.title(\"ROC-AUC ocena modela proste agregacije\")\n",
    "plt.ylabel('True Positive Rate')\n",
    "plt.xlabel('False Positive Rate')\n",
    "plt.legend()\n",
    "\n",
    "plt.savefig(\"assets/pictures/CM_8_BAGGING_ROC_AUC.jpg\")\n",
    "\n",
    "plt.show()"
   ]
  },
  {
   "cell_type": "markdown",
   "id": "b5c2e8c2",
   "metadata": {},
   "source": [
    "### ROC-AUC Kriva"
   ]
  },
  {
   "cell_type": "markdown",
   "id": "d6ba8930",
   "metadata": {},
   "source": [
    "### Čuvanje modela proste agregacije"
   ]
  },
  {
   "cell_type": "code",
   "execution_count": 201,
   "id": "9ad773da",
   "metadata": {},
   "outputs": [],
   "source": [
    "with open('models/classic_models/bag_classifier.model.pickle', 'wb') as model_file:\n",
    "    pickle.dump(bag, model_file)"
   ]
  },
  {
   "cell_type": "markdown",
   "id": "af1de0f9",
   "metadata": {},
   "source": [
    "# <span style=\"color:blue\"> Uporedjivanje</span>"
   ]
  },
  {
   "cell_type": "code",
   "execution_count": 253,
   "id": "8881e07e",
   "metadata": {},
   "outputs": [],
   "source": [
    "accuracies = [best_lr_acc, knn_acc, dtc_acc, best_rfc_acc, nb_acc, svc_acc, ab_acc, xgb_acc, bag_acc]\n",
    "cms = [best_lr_cm, knn_cm, dtc_cm, best_rfc_cm, nb_cm, svc_cm, ab_cm, xgb_cm, bag_cm]\n",
    "\n",
    "fp = [fpr_blr, fpr_knn, fpr_dtc, fpr_brfc, fpr_nb, fpr_sv, fpr_ab, fpr_xgb, fpr_bag]\n",
    "tpr = [tpr_blr, tpr_knn, tpr_dtc, tpr_brfc, tpr_nb, tpr_sv, tpr_ab, tpr_xgb, tpr_bag]\n",
    "auc = [auc_blr, auc_knn, auc_dtc, auc_brfc, auc_nb, auc_sv, auc_ab, auc_xgb, auc_bag]\n",
    "\n",
    "labels = [\"Logistička regresija\", \"K najbližih suseda\", \"Stabla odlučivanja\", \"Slučajne šume\", \"Naivni bayes\", \"Metod potpornih vektora\", \"AdaBoost\", \"XGBoost\", \"Prosta agregacija\"]"
   ]
  },
  {
   "cell_type": "code",
   "execution_count": 254,
   "id": "1928dc88",
   "metadata": {},
   "outputs": [
    {
     "data": {
      "image/png": "[encoded data removed]",
      "text/plain": [
       "<Figure size 720x360 with 1 Axes>"
      ]
     },
     "metadata": {
      "needs_background": "light"
     },
     "output_type": "display_data"
    }
   ],
   "source": [
    "plt.figure(figsize = (10,5))\n",
    "\n",
    "unsorted_list = [(labels, accuracies) for labels, accuracies in \n",
    "                  zip(accuracies, labels)]\n",
    "sorted_list = sorted(unsorted_list) \n",
    "\n",
    "labels_sorted = []\n",
    "accuracies_sorted = []\n",
    "\n",
    "for i in sorted_list:\n",
    "    labels_sorted += [i[1]]\n",
    "    accuracies_sorted += [i[0]]\n",
    "    \n",
    "plt.title(\"Ocena tačnosti modela\", fontsize=15)\n",
    "plt.xlabel(\"Tačnost\", fontsize=13)\n",
    "plt.grid(axis = 'x', linewidth = 0.5)\n",
    "\n",
    "plt.barh(labels_sorted, accuracies_sorted, color=\"green\", edgecolor='green')\n",
    "\n",
    "plt.savefig('assets/pictures/CM_Classification_models_comparisson.jpg')\n",
    "\n",
    "plt.show()"
   ]
  },
  {
   "cell_type": "code",
   "execution_count": 69,
   "id": "e6fc57e9",
   "metadata": {},
   "outputs": [
    {
     "name": "stdout",
     "output_type": "stream",
     "text": [
      "Logistička regresija : f1 = 0.70 with f1p = 0.71 and f1n = 0.69\n",
      "K najbližih suseda : f1 = 0.65 with f1p = 0.70 and f1n = 0.60\n",
      "Stabla odlučivanja : f1 = 0.78 with f1p = 0.76 and f1n = 0.81\n",
      "Slučajne šume : f1 = 0.70 with f1p = 0.66 and f1n = 0.75\n",
      "Naivni bayes : f1 = 0.66 with f1p = 0.62 and f1n = 0.69\n",
      "Metod potpornih vektora : f1 = 0.80 with f1p = 0.80 and f1n = 0.81\n",
      "AdaBoost : f1 = 0.72 with f1p = 0.72 and f1n = 0.73\n",
      "XGBoost : f1 = 0.80 with f1p = 0.79 and f1n = 0.80\n",
      "Prosta agregacija : f1 = 0.74 with f1p = 0.73 and f1n = 0.75\n"
     ]
    }
   ],
   "source": [
    "f1s = []\n",
    "f1p = 0\n",
    "f1n = 0\n",
    "for i in range(len(cms)):\n",
    "    cm = cms[i]\n",
    "    tp = cm[0, 0]\n",
    "    fn = cm[0, 1]\n",
    "    fp = cm[1, 0]\n",
    "    tn = cm[1,1]\n",
    "    f1p = (2*tp)/(2*tp + fn + fp)\n",
    "    f1n = (2*tn)/(2*tn + fn + fp)\n",
    "    f1 = (f1p+f1n)/2\n",
    "    print('{0} : f1 = {1:.2f} with f1p = {2:.2f} and f1n = {3:.2f}'.format(labels[i], f1, f1p, f1n))\n",
    "    f1s.append((f1,labels[i]))"
   ]
  },
  {
   "cell_type": "code",
   "execution_count": 70,
   "id": "98400bef",
   "metadata": {},
   "outputs": [
    {
     "data": {
      "image/png": "[encoded data removed]",
      "text/plain": [
       "<Figure size 720x360 with 1 Axes>"
      ]
     },
     "metadata": {
      "needs_background": "light"
     },
     "output_type": "display_data"
    }
   ],
   "source": [
    "plt.figure(figsize = (10,5))\n",
    "\n",
    "unsorted_list = f1s\n",
    "sorted_list = sorted(unsorted_list) \n",
    "\n",
    "labels_sorted = []\n",
    "f1_sorted = []\n",
    "\n",
    "for i in sorted_list:\n",
    "    labels_sorted += [i[1]]\n",
    "    f1_sorted += [i[0]]\n",
    "    \n",
    "plt.title(\"F1 ocena klasifikacionih modela\", fontsize=15)\n",
    "plt.xlabel(\"F1\", fontsize=13)\n",
    "plt.grid(axis = 'x', linewidth = 0.5)\n",
    "\n",
    "plt.barh(labels_sorted, f1_sorted, color=\"orange\", edgecolor='orange')\n",
    "\n",
    "plt.savefig('assets/pictures/CM_Classification_models_f1_comparisson.jpg')\n",
    "\n",
    "plt.show()"
   ]
  },
  {
   "cell_type": "code",
   "execution_count": 255,
   "id": "ee283b19",
   "metadata": {},
   "outputs": [
    {
     "data": {
      "image/png": "[encoded data removed]",
      "text/plain": [
       "<Figure size 1008x576 with 1 Axes>"
      ]
     },
     "metadata": {
      "needs_background": "light"
     },
     "output_type": "display_data"
    }
   ],
   "source": [
    "plt.figure(figsize = (14,8))\n",
    "\n",
    "for i in range(len(fp)):\n",
    "    plt.plot(fp[i], tpr[i], label=labels[i]+\" AUC = \"+str(auc[i]))\n",
    "\n",
    "plt.title('ROC-AUC Ocena klasifikacionih modela')\n",
    "plt.ylabel('True Positive Rate')\n",
    "plt.xlabel('False Positive Rate')\n",
    "plt.legend()\n",
    "\n",
    "plt.savefig(\"assets/pictures/CM_ALL_ROC_AUC_comparisson.jpg\")\n",
    "\n",
    "plt.show()"
   ]
  }
 ],
 "metadata": {
  "kernelspec": {
   "display_name": "Python 3 (ipykernel)",
   "language": "python",
   "name": "python3"
  },
  "language_info": {
   "codemirror_mode": {
    "name": "ipython",
    "version": 3
   },
   "file_extension": ".py",
   "mimetype": "text/x-python",
   "name": "python",
   "nbconvert_exporter": "python",
   "pygments_lexer": "ipython3",
   "version": "3.9.7"
  }
 },
 "nbformat": 4,
 "nbformat_minor": 5
}
