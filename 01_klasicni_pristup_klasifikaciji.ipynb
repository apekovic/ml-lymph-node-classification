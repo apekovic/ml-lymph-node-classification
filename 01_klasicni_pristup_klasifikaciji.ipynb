{
 "cells": [
  {
   "cell_type": "markdown",
   "id": "340d059c",
   "metadata": {},
   "source": [
    "# <span style=\"color:blue\">Klasični pristup klasifikaciji slika limfnih čvorova</span>"
   ]
  },
  {
   "cell_type": "code",
   "execution_count": 191,
   "id": "967fa420",
   "metadata": {},
   "outputs": [],
   "source": [
    "import numpy as np\n",
    "import pandas as pd\n",
    "import matplotlib.pyplot as plt\n",
    "%matplotlib inline\n",
    "\n",
    "import h5py\n",
    "\n",
    "from sklearn import preprocessing, model_selection\n",
    "from sklearn.metrics import accuracy_score, confusion_matrix, classification_report, roc_curve, auc\n",
    "from sklearn.linear_model import LogisticRegression\n",
    "from sklearn.ensemble import RandomForestClassifier, AdaBoostClassifier, GradientBoostingClassifier, BaggingClassifier\n",
    "from sklearn.neighbors import KNeighborsClassifier\n",
    "from sklearn.tree import DecisionTreeClassifier\n",
    "from sklearn.naive_bayes import GaussianNB\n",
    "from sklearn.svm import SVC\n",
    "from sklearn.model_selection import cross_val_score, train_test_split, GridSearchCV\n",
    "\n",
    "from xgboost import XGBClassifier"
   ]
  },
  {
   "cell_type": "markdown",
   "id": "692b698f",
   "metadata": {},
   "source": [
    "### Učitavanje podataka iz hdf5 fajlova"
   ]
  },
  {
   "cell_type": "code",
   "execution_count": 2,
   "id": "8a2a46e2",
   "metadata": {},
   "outputs": [
    {
     "name": "stdout",
     "output_type": "stream",
     "text": [
      "X shape =  (32768, 96, 96, 3)\n",
      "y shape =  (32768, 1, 1, 1)\n"
     ]
    }
   ],
   "source": [
    "hdf5_x_file = 'dataset/camelyonpatch_x.h5'\n",
    "hdf5_y_file = 'dataset/camelyonpatch_y.h5'\n",
    "\n",
    "hfx = h5py.File(hdf5_x_file, 'r')\n",
    "hfy = h5py.File(hdf5_y_file, 'r')\n",
    "\n",
    "X = hfx['x']\n",
    "y = hfy['y']\n",
    "\n",
    "print(\"X shape = \",X.shape)\n",
    "print(\"y shape = \",y.shape)"
   ]
  },
  {
   "cell_type": "code",
   "execution_count": 3,
   "id": "e3049d2f",
   "metadata": {},
   "outputs": [
    {
     "data": {
      "text/plain": [
       "array([[[[247, 246, 244],\n",
       "         [246, 245, 243],\n",
       "         [246, 245, 243],\n",
       "         ...,\n",
       "         [235, 236, 230],\n",
       "         [251, 250, 248],\n",
       "         [254, 254, 254]],\n",
       "\n",
       "        [[247, 246, 244],\n",
       "         [246, 245, 243],\n",
       "         [246, 245, 243],\n",
       "         ...,\n",
       "         [247, 246, 244],\n",
       "         [245, 243, 244],\n",
       "         [245, 245, 247]],\n",
       "\n",
       "        [[247, 246, 244],\n",
       "         [246, 245, 243],\n",
       "         [246, 245, 243],\n",
       "         ...,\n",
       "         [255, 254, 255],\n",
       "         [243, 241, 244],\n",
       "         [236, 235, 240]],\n",
       "\n",
       "        ...,\n",
       "\n",
       "        [[244, 244, 242],\n",
       "         [244, 244, 242],\n",
       "         [244, 244, 242],\n",
       "         ...,\n",
       "         [244, 242, 243],\n",
       "         [245, 243, 244],\n",
       "         [249, 245, 246]],\n",
       "\n",
       "        [[243, 243, 241],\n",
       "         [243, 243, 241],\n",
       "         [244, 244, 242],\n",
       "         ...,\n",
       "         [242, 242, 242],\n",
       "         [243, 241, 242],\n",
       "         [245, 243, 244]],\n",
       "\n",
       "        [[243, 243, 241],\n",
       "         [243, 243, 241],\n",
       "         [244, 244, 242],\n",
       "         ...,\n",
       "         [243, 243, 243],\n",
       "         [241, 241, 243],\n",
       "         [243, 241, 244]]],\n",
       "\n",
       "\n",
       "       [[[216, 166, 203],\n",
       "         [241, 195, 221],\n",
       "         [245, 205, 216],\n",
       "         ...,\n",
       "         [202, 157, 180],\n",
       "         [ 97,  44,  72],\n",
       "         [192, 137, 168]],\n",
       "\n",
       "        [[225, 179, 215],\n",
       "         [193, 151, 175],\n",
       "         [228, 192, 204],\n",
       "         ...,\n",
       "         [249, 204, 227],\n",
       "         [255, 213, 241],\n",
       "         [215, 160, 189]],\n",
       "\n",
       "        [[136,  91, 122],\n",
       "         [242, 202, 226],\n",
       "         [255, 228, 241],\n",
       "         ...,\n",
       "         [186, 141, 162],\n",
       "         [205, 155, 180],\n",
       "         [227, 174, 200]],\n",
       "\n",
       "        ...,\n",
       "\n",
       "        [[ 56,   9,  41],\n",
       "         [ 99,  55,  82],\n",
       "         [239, 195, 220],\n",
       "         ...,\n",
       "         [255, 246, 255],\n",
       "         [251, 242, 247],\n",
       "         [255, 255, 253]],\n",
       "\n",
       "        [[ 34,   0,  23],\n",
       "         [128,  81, 113],\n",
       "         [233, 187, 215],\n",
       "         ...,\n",
       "         [249, 219, 243],\n",
       "         [255, 241, 254],\n",
       "         [252, 245, 252]],\n",
       "\n",
       "        [[ 70,  22,  60],\n",
       "         [242, 195, 231],\n",
       "         [211, 162, 192],\n",
       "         ...,\n",
       "         [129,  92, 123],\n",
       "         [255, 246, 255],\n",
       "         [227, 213, 226]]],\n",
       "\n",
       "\n",
       "       [[[184, 155, 186],\n",
       "         [246, 215, 247],\n",
       "         [225, 191, 228],\n",
       "         ...,\n",
       "         [193, 128, 182],\n",
       "         [237, 179, 229],\n",
       "         [212, 154, 202]],\n",
       "\n",
       "        [[216, 190, 219],\n",
       "         [224, 195, 226],\n",
       "         [205, 173, 210],\n",
       "         ...,\n",
       "         [179, 117, 168],\n",
       "         [255, 199, 247],\n",
       "         [214, 156, 204]],\n",
       "\n",
       "        [[189, 163, 192],\n",
       "         [232, 205, 236],\n",
       "         [255, 239, 255],\n",
       "         ...,\n",
       "         [176, 118, 168],\n",
       "         [237, 181, 230],\n",
       "         [236, 177, 225]],\n",
       "\n",
       "        ...,\n",
       "\n",
       "        [[240, 237, 246],\n",
       "         [205, 197, 218],\n",
       "         [172, 157, 196],\n",
       "         ...,\n",
       "         [180, 138, 178],\n",
       "         [241, 196, 235],\n",
       "         [220, 172, 210]],\n",
       "\n",
       "        [[217, 218, 213],\n",
       "         [212, 209, 218],\n",
       "         [210, 201, 232],\n",
       "         ...,\n",
       "         [151, 108, 151],\n",
       "         [255, 213, 252],\n",
       "         [229, 183, 220]],\n",
       "\n",
       "        [[238, 236, 224],\n",
       "         [222, 217, 221],\n",
       "         [218, 210, 234],\n",
       "         ...,\n",
       "         [170, 129, 171],\n",
       "         [225, 180, 219],\n",
       "         [251, 205, 242]]],\n",
       "\n",
       "\n",
       "       [[[140,  64, 164],\n",
       "         [169,  92, 188],\n",
       "         [160,  77, 167],\n",
       "         ...,\n",
       "         [140, 101, 182],\n",
       "         [147, 105, 187],\n",
       "         [130,  89, 168]],\n",
       "\n",
       "        [[155,  73, 175],\n",
       "         [173,  89, 185],\n",
       "         [155,  70, 161],\n",
       "         ...,\n",
       "         [141,  99, 181],\n",
       "         [116,  74, 156],\n",
       "         [127,  85, 167]],\n",
       "\n",
       "        [[172,  79, 185],\n",
       "         [186,  94, 193],\n",
       "         [221, 133, 220],\n",
       "         ...,\n",
       "         [127,  85, 167],\n",
       "         [129,  85, 170],\n",
       "         [108,  64, 149]],\n",
       "\n",
       "        ...,\n",
       "\n",
       "        [[112,  72, 161],\n",
       "         [115,  69, 159],\n",
       "         [112,  59, 147],\n",
       "         ...,\n",
       "         [ 96,  36, 122],\n",
       "         [121,  67, 151],\n",
       "         [113,  64, 146]],\n",
       "\n",
       "        [[111,  76, 166],\n",
       "         [113,  70, 160],\n",
       "         [123,  69, 163],\n",
       "         ...,\n",
       "         [150,  76, 163],\n",
       "         [129,  59, 145],\n",
       "         [132,  67, 151]],\n",
       "\n",
       "        [[161, 131, 219],\n",
       "         [131,  92, 183],\n",
       "         [136,  85, 180],\n",
       "         ...,\n",
       "         [235, 149, 236],\n",
       "         [202, 120, 205],\n",
       "         [221, 143, 227]]],\n",
       "\n",
       "\n",
       "       [[[153, 111, 175],\n",
       "         [131,  75, 140],\n",
       "         [195, 125, 188],\n",
       "         ...,\n",
       "         [ 63,  32, 126],\n",
       "         [ 73,  53, 150],\n",
       "         [ 31,  19, 117]],\n",
       "\n",
       "        [[134,  93, 161],\n",
       "         [135,  82, 150],\n",
       "         [230, 164, 228],\n",
       "         ...,\n",
       "         [ 72,  47, 131],\n",
       "         [ 67,  49, 135],\n",
       "         [ 70,  56, 144]],\n",
       "\n",
       "        [[190, 150, 221],\n",
       "         [142,  92, 163],\n",
       "         [193, 132, 199],\n",
       "         ...,\n",
       "         [ 60,  38, 113],\n",
       "         [ 47,  26, 101],\n",
       "         [ 76,  58, 132]],\n",
       "\n",
       "        ...,\n",
       "\n",
       "        [[236, 224, 238],\n",
       "         [229, 218, 232],\n",
       "         [225, 214, 228],\n",
       "         ...,\n",
       "         [151,  81, 179],\n",
       "         [ 96,  68, 142],\n",
       "         [ 28,  49,  94]],\n",
       "\n",
       "        [[240, 228, 242],\n",
       "         [232, 220, 234],\n",
       "         [227, 215, 229],\n",
       "         ...,\n",
       "         [131,  57, 156],\n",
       "         [ 64,  31, 118],\n",
       "         [ 51,  69, 133]],\n",
       "\n",
       "        [[243, 229, 244],\n",
       "         [234, 222, 236],\n",
       "         [228, 216, 230],\n",
       "         ...,\n",
       "         [133,  57, 157],\n",
       "         [ 60,  23, 118],\n",
       "         [ 36,  50, 125]]]], dtype=uint8)"
      ]
     },
     "execution_count": 3,
     "metadata": {},
     "output_type": "execute_result"
    }
   ],
   "source": [
    "X[:5]"
   ]
  },
  {
   "cell_type": "code",
   "execution_count": 4,
   "id": "ffbac322",
   "metadata": {},
   "outputs": [
    {
     "data": {
      "text/plain": [
       "array([[[[0]]],\n",
       "\n",
       "\n",
       "       [[[1]]],\n",
       "\n",
       "\n",
       "       [[[0]]],\n",
       "\n",
       "\n",
       "       [[[1]]],\n",
       "\n",
       "\n",
       "       [[[1]]]], dtype=uint8)"
      ]
     },
     "execution_count": 4,
     "metadata": {},
     "output_type": "execute_result"
    }
   ],
   "source": [
    "y[:5]"
   ]
  },
  {
   "cell_type": "markdown",
   "id": "23ec2aa5",
   "metadata": {},
   "source": [
    "### Konvertovanje u np.array"
   ]
  },
  {
   "cell_type": "code",
   "execution_count": 5,
   "id": "4bf07648",
   "metadata": {},
   "outputs": [],
   "source": [
    "X = np.array(X)[:12000]\n",
    "y = np.array(y)[:12000]"
   ]
  },
  {
   "cell_type": "code",
   "execution_count": 6,
   "id": "6deeec54",
   "metadata": {},
   "outputs": [
    {
     "name": "stdout",
     "output_type": "stream",
     "text": [
      "2D X shape =  (12000, 27648)\n",
      "2D y shape =  (12000,)\n"
     ]
    }
   ],
   "source": [
    "#Reshape iz  4D u 2D\n",
    "\n",
    "nsamples, nx, ny, nrgb = X.shape\n",
    "X = X.reshape((nsamples,nx*ny*nrgb))\n",
    "print('2D X shape = ',X.shape)\n",
    "\n",
    "y = y.ravel()\n",
    "print('2D y shape = ',y.shape)"
   ]
  },
  {
   "cell_type": "code",
   "execution_count": 7,
   "id": "e2ed469d",
   "metadata": {},
   "outputs": [
    {
     "name": "stdout",
     "output_type": "stream",
     "text": [
      "Broj pozitivnih instanci dataseta:  5997\n",
      "Broj negativnih instanci dataseta:  6003\n"
     ]
    }
   ],
   "source": [
    "#Provera koliko u datasetu ima benignih i malignih uzoraka\n",
    "\n",
    "benigni = np.sum(y==1)\n",
    "print('Broj pozitivnih instanci dataseta: ', benigni)\n",
    "\n",
    "maligni = np.sum(y==0)\n",
    "print('Broj negativnih instanci dataseta: ', maligni)"
   ]
  },
  {
   "cell_type": "markdown",
   "id": "0fd2619f",
   "metadata": {},
   "source": [
    "### Podela dataseta na Training, Test i Validation set"
   ]
  },
  {
   "cell_type": "code",
   "execution_count": 8,
   "id": "aacaaf22",
   "metadata": {},
   "outputs": [],
   "source": [
    "X_train, X_test_and_val, y_train, y_test_and_val = train_test_split(X, y, test_size = 0.4, random_state = 42, stratify = y )\n",
    "X_test, X_validation, y_test, y_validation = train_test_split(X_test_and_val, y_test_and_val, test_size = 0.5, random_state = 42, stratify = y_test_and_val )"
   ]
  },
  {
   "cell_type": "code",
   "execution_count": 9,
   "id": "88aedb68",
   "metadata": {},
   "outputs": [
    {
     "name": "stdout",
     "output_type": "stream",
     "text": [
      "[[ 55  29  40 ...  66  19  71]\n",
      " [ 69  32  66 ... 166 128 175]\n",
      " [201 206 212 ... 224  97 212]\n",
      " ...\n",
      " [201 157 192 ... 255 217 239]\n",
      " [ 40  23  57 ... 231 169 206]\n",
      " [228 222 236 ... 226 215 231]]\n"
     ]
    }
   ],
   "source": [
    "print(X_train)"
   ]
  },
  {
   "cell_type": "code",
   "execution_count": 10,
   "id": "fe7ca5a1",
   "metadata": {},
   "outputs": [
    {
     "name": "stdout",
     "output_type": "stream",
     "text": [
      "[0 0 1 ... 0 1 0]\n"
     ]
    }
   ],
   "source": [
    "print(y_train)"
   ]
  },
  {
   "cell_type": "code",
   "execution_count": 11,
   "id": "a86adb72",
   "metadata": {},
   "outputs": [
    {
     "name": "stdout",
     "output_type": "stream",
     "text": [
      "[[142  95 129 ... 202 130 152]\n",
      " [148 126 173 ... 159 111 153]\n",
      " [233 226 234 ... 229 222 230]\n",
      " ...\n",
      " [208 117 150 ... 234 239 233]\n",
      " [244 207 225 ... 246 246 244]\n",
      " [ 82  22  84 ... 107  58 103]]\n"
     ]
    }
   ],
   "source": [
    "print(X_test)"
   ]
  },
  {
   "cell_type": "code",
   "execution_count": 12,
   "id": "cfc08d1e",
   "metadata": {},
   "outputs": [
    {
     "name": "stdout",
     "output_type": "stream",
     "text": [
      "[1 0 0 ... 0 0 0]\n"
     ]
    }
   ],
   "source": [
    "print(y_test)"
   ]
  },
  {
   "cell_type": "code",
   "execution_count": 13,
   "id": "a14b660f",
   "metadata": {},
   "outputs": [
    {
     "name": "stdout",
     "output_type": "stream",
     "text": [
      "[[218 228 227 ... 110  85 186]\n",
      " [244 233 231 ... 236 205 211]\n",
      " [175 128 146 ... 207 184 194]\n",
      " ...\n",
      " [147  77 175 ... 108  44 158]\n",
      " [153  96 128 ... 201 130 164]\n",
      " [252 246 255 ...  52  30  76]]\n"
     ]
    }
   ],
   "source": [
    "print(X_validation)"
   ]
  },
  {
   "cell_type": "code",
   "execution_count": 14,
   "id": "768da944",
   "metadata": {},
   "outputs": [
    {
     "name": "stdout",
     "output_type": "stream",
     "text": [
      "[1 1 1 ... 0 1 0]\n"
     ]
    }
   ],
   "source": [
    "print(y_validation)"
   ]
  },
  {
   "cell_type": "code",
   "execution_count": 15,
   "id": "b76768b4",
   "metadata": {},
   "outputs": [
    {
     "name": "stdout",
     "output_type": "stream",
     "text": [
      "Trening set (shape):  (7200, 27648)\n",
      "Test set (shape):  (2400, 27648)\n",
      "Validation set (shape):  (2400, 27648)\n"
     ]
    }
   ],
   "source": [
    "print(\"Trening set (shape): \",X_train.shape)\n",
    "print(\"Test set (shape): \",X_test.shape)\n",
    "print(\"Validation set (shape): \",X_validation.shape)"
   ]
  },
  {
   "cell_type": "code",
   "execution_count": null,
   "id": "b73a0035",
   "metadata": {},
   "outputs": [],
   "source": []
  },
  {
   "cell_type": "code",
   "execution_count": 16,
   "id": "d27bc990",
   "metadata": {},
   "outputs": [],
   "source": [
    "#Zbog velike količine iskorišćene memorije, oslobadja se deo koji nije više neophodan. \n",
    "#Nakon podele na train i test, mogu X i y da se uklone\n",
    "del X, y"
   ]
  },
  {
   "cell_type": "markdown",
   "id": "fc38886c",
   "metadata": {},
   "source": [
    "### Provera stratifikovanosti podataka za Training, Test i Validation set"
   ]
  },
  {
   "cell_type": "code",
   "execution_count": 17,
   "id": "aa66042b",
   "metadata": {},
   "outputs": [
    {
     "name": "stdout",
     "output_type": "stream",
     "text": [
      "Broj pozitivnih instanci trening seta:  3598\n",
      "Broj negativnih instanci trening seta:  3602\n"
     ]
    }
   ],
   "source": [
    "benigni_train = np.sum(y_train==1)\n",
    "print('Broj pozitivnih instanci trening seta: ', benigni_train)\n",
    "\n",
    "maligni_train = np.sum(y_train==0)\n",
    "print('Broj negativnih instanci trening seta: ', maligni_train)"
   ]
  },
  {
   "cell_type": "code",
   "execution_count": 18,
   "id": "b0ea9319",
   "metadata": {},
   "outputs": [
    {
     "name": "stdout",
     "output_type": "stream",
     "text": [
      "Broj pozitivnih instanci test seta:  1200\n",
      "Broj negativnih instanci test seta:  1200\n"
     ]
    }
   ],
   "source": [
    "benigni_test = np.sum(y_test==1)\n",
    "print('Broj pozitivnih instanci test seta: ', benigni_test)\n",
    "maligni_test = np.sum(y_test==0)\n",
    "print('Broj negativnih instanci test seta: ', maligni_test)"
   ]
  },
  {
   "cell_type": "code",
   "execution_count": 19,
   "id": "9bfc57b0",
   "metadata": {},
   "outputs": [
    {
     "name": "stdout",
     "output_type": "stream",
     "text": [
      "Broj pozitivnih instanci validacionog seta:  1199\n",
      "Broj negativnih instanci validacionog seta:  1201\n"
     ]
    }
   ],
   "source": [
    "benigni_val = np.sum(y_validation==1)\n",
    "print('Broj pozitivnih instanci validacionog seta: ', benigni_val)\n",
    "maligni_val = np.sum(y_validation==0)\n",
    "print('Broj negativnih instanci validacionog seta: ', maligni_val)"
   ]
  },
  {
   "cell_type": "code",
   "execution_count": 20,
   "id": "45c6e03a",
   "metadata": {},
   "outputs": [
    {
     "data": {
      "image/png": "[encoded data removed]",
      "text/plain": [
       "<Figure size 432x288 with 1 Axes>"
      ]
     },
     "metadata": {
      "needs_background": "light"
     },
     "output_type": "display_data"
    }
   ],
   "source": [
    "plt.title('Vizuelna provera stratifikovanosti')\n",
    "plt.xticks([0,1])\n",
    "plt.xlabel('0 - maligni tumor, 1 - benigni tumor')\n",
    "plt.hist([y_train, y_test, y_validation], color=['orange', 'cadetblue', 'red'], label=['skup za treniranje', 'skup za testiranje', 'skup za validaciju'])\n",
    "plt.legend(loc='best')\n",
    "plt.show()"
   ]
  },
  {
   "cell_type": "markdown",
   "id": "13b58f11",
   "metadata": {},
   "source": [
    "### Standardizacija"
   ]
  },
  {
   "cell_type": "code",
   "execution_count": 21,
   "id": "2c538c77",
   "metadata": {},
   "outputs": [],
   "source": [
    "scaler = preprocessing.StandardScaler()\n",
    "scaler.fit(X_train)\n",
    "X_train = scaler.transform(X_train)\n",
    "X_test = scaler.transform(X_test)\n",
    "X_validation = scaler.transform(X_validation)"
   ]
  },
  {
   "cell_type": "code",
   "execution_count": 22,
   "id": "ac614480",
   "metadata": {},
   "outputs": [
    {
     "name": "stdout",
     "output_type": "stream",
     "text": [
      "[[-1.88647399 -1.44093522 -2.593453   ... -1.744461   -1.58952023\n",
      "  -2.00642359]\n",
      " [-1.66148322 -1.39940955 -2.09924623 ... -0.14662173 -0.10030922\n",
      "  -0.06609754]\n",
      " [ 0.45985838  1.00907972  0.67591488 ...  0.78012505 -0.52384629\n",
      "   0.62421077]\n",
      " ...\n",
      " [ 0.45985838  0.33082699  0.29575583 ...  1.27545522  1.11565207\n",
      "   1.12794926]\n",
      " [-2.12753554 -1.52398658 -2.2703178  ...  0.8919738   0.45985272\n",
      "   0.51226888]\n",
      " [ 0.89376916  1.23055     1.13210575 ...  0.81208184  1.0883271\n",
      "   0.97869341]]\n"
     ]
    }
   ],
   "source": [
    "print(X_train)"
   ]
  },
  {
   "cell_type": "code",
   "execution_count": 23,
   "id": "23e7d365",
   "metadata": {},
   "outputs": [
    {
     "name": "stdout",
     "output_type": "stream",
     "text": [
      "[[-0.48831703 -0.52737033 -0.9017452  ...  0.42860041 -0.07298424\n",
      "  -0.49520811]\n",
      " [-0.39189241 -0.09827167 -0.06539528 ... -0.25847047 -0.33257148\n",
      "  -0.47655113]\n",
      " [ 0.97412301  1.28591757  1.09408984 ...  0.86001701  1.1839645\n",
      "   0.96003643]\n",
      " ...\n",
      " [ 0.57235376 -0.2228487  -0.50257819 ...  0.93990898  1.41622677\n",
      "   1.01600737]\n",
      " [ 1.15090147  1.02292161  0.92301827 ...  1.13164969  1.51186417\n",
      "   1.22123417]\n",
      " [-1.45256321 -1.53782847 -1.75710308 ... -1.08934689 -1.05668326\n",
      "  -1.40940019]]\n"
     ]
    }
   ],
   "source": [
    "print(X_test)"
   ]
  },
  {
   "cell_type": "code",
   "execution_count": 24,
   "id": "87887817",
   "metadata": {},
   "outputs": [
    {
     "name": "stdout",
     "output_type": "stream",
     "text": [
      "[[ 0.73306146  1.31360135  0.96103417 ... -1.04141172 -0.68779613\n",
      "   0.13912925]\n",
      " [ 1.15090147  1.38281081  1.03706599 ...  0.97186576  0.95170223\n",
      "   0.60555379]\n",
      " [ 0.04201837 -0.07058788 -0.57861    ...  0.50849237  0.66479002\n",
      "   0.2883851 ]\n",
      " ...\n",
      " [-0.40796318 -0.77652439 -0.02737937 ... -1.0733685  -1.24795807\n",
      "  -0.38326622]\n",
      " [-0.31153857 -0.51352844 -0.92075315 ...  0.41262202 -0.07298424\n",
      "  -0.27132433]\n",
      " [ 1.27946763  1.56275541  1.49325685 ... -1.96815849 -1.43923288\n",
      "  -1.91313868]]\n"
     ]
    }
   ],
   "source": [
    "print(X_validation)"
   ]
  },
  {
   "cell_type": "markdown",
   "id": "d1a36b2d",
   "metadata": {},
   "source": [
    "# <span style=\"color:blue\">1. Logistička regresija</span>"
   ]
  },
  {
   "cell_type": "code",
   "execution_count": 25,
   "id": "b2191377",
   "metadata": {},
   "outputs": [
    {
     "name": "stderr",
     "output_type": "stream",
     "text": [
      "C:\\Users\\nikolap\\anaconda3\\envs\\tf\\lib\\site-packages\\sklearn\\linear_model\\_logistic.py:818: ConvergenceWarning: lbfgs failed to converge (status=1):\n",
      "STOP: TOTAL NO. of ITERATIONS REACHED LIMIT.\n",
      "\n",
      "Increase the number of iterations (max_iter) or scale the data as shown in:\n",
      "    https://scikit-learn.org/stable/modules/preprocessing.html\n",
      "Please also refer to the documentation for alternative solver options:\n",
      "    https://scikit-learn.org/stable/modules/linear_model.html#logistic-regression\n",
      "  extra_warning_msg=_LOGISTIC_SOLVER_CONVERGENCE_MSG,\n"
     ]
    },
    {
     "data": {
      "text/plain": [
       "LogisticRegression(random_state=0)"
      ]
     },
     "execution_count": 25,
     "metadata": {},
     "output_type": "execute_result"
    }
   ],
   "source": [
    "lr = LogisticRegression(random_state = 0)\n",
    "lr.fit(X_train, y_train)"
   ]
  },
  {
   "cell_type": "markdown",
   "id": "afaa77b8",
   "metadata": {},
   "source": [
    "### Predikcija na test setu"
   ]
  },
  {
   "cell_type": "code",
   "execution_count": 26,
   "id": "15884dc3",
   "metadata": {},
   "outputs": [
    {
     "name": "stdout",
     "output_type": "stream",
     "text": [
      "[0 1 0 ... 0 0 1]\n"
     ]
    }
   ],
   "source": [
    "y_pred_lr = lr.predict(X_test)\n",
    "print(y_pred_lr)"
   ]
  },
  {
   "cell_type": "code",
   "execution_count": 27,
   "id": "de7ba5a0",
   "metadata": {},
   "outputs": [
    {
     "name": "stdout",
     "output_type": "stream",
     "text": [
      "Tačnost: 65.33%\n"
     ]
    }
   ],
   "source": [
    "lr_acc = accuracy_score(y_pred_lr,y_test)\n",
    "print('Tačnost: {0:.2f}%'.format(lr_acc*100))"
   ]
  },
  {
   "cell_type": "code",
   "execution_count": 28,
   "id": "c29b6b7e",
   "metadata": {},
   "outputs": [
    {
     "name": "stdout",
     "output_type": "stream",
     "text": [
      "              precision    recall  f1-score   support\n",
      "\n",
      "           0       0.63      0.66      0.65      1150\n",
      "           1       0.67      0.65      0.66      1250\n",
      "\n",
      "    accuracy                           0.65      2400\n",
      "   macro avg       0.65      0.65      0.65      2400\n",
      "weighted avg       0.65      0.65      0.65      2400\n",
      "\n"
     ]
    }
   ],
   "source": [
    "lr_cr = classification_report(y_pred_lr,y_test)\n",
    "print(lr_cr)"
   ]
  },
  {
   "cell_type": "code",
   "execution_count": 29,
   "id": "c2d3a697",
   "metadata": {},
   "outputs": [
    {
     "data": {
      "text/plain": [
       "array([[759, 391],\n",
       "       [441, 809]], dtype=int64)"
      ]
     },
     "execution_count": 29,
     "metadata": {},
     "output_type": "execute_result"
    }
   ],
   "source": [
    "lr_cm = confusion_matrix(y_pred_lr,y_test)\n",
    "lr_cm"
   ]
  },
  {
   "cell_type": "markdown",
   "id": "264fe31b",
   "metadata": {},
   "source": [
    "### Predikcija na trening setu"
   ]
  },
  {
   "cell_type": "code",
   "execution_count": 30,
   "id": "43d6baa1",
   "metadata": {},
   "outputs": [
    {
     "name": "stdout",
     "output_type": "stream",
     "text": [
      "[0 0 1 ... 0 1 0]\n"
     ]
    }
   ],
   "source": [
    "y_pred_train_lr = lr.predict(X_train)\n",
    "print(y_pred_train_lr)"
   ]
  },
  {
   "cell_type": "code",
   "execution_count": 31,
   "id": "4baca688",
   "metadata": {},
   "outputs": [
    {
     "name": "stdout",
     "output_type": "stream",
     "text": [
      "Tačnost: 99.97%\n"
     ]
    }
   ],
   "source": [
    "lr_train_acc = accuracy_score(y_pred_train_lr,y_train)\n",
    "print('Tačnost: {0:.2f}%'.format(lr_train_acc*100))"
   ]
  },
  {
   "cell_type": "code",
   "execution_count": 32,
   "id": "89d5ff4c",
   "metadata": {},
   "outputs": [
    {
     "name": "stdout",
     "output_type": "stream",
     "text": [
      "              precision    recall  f1-score   support\n",
      "\n",
      "           0       1.00      1.00      1.00      3602\n",
      "           1       1.00      1.00      1.00      3598\n",
      "\n",
      "    accuracy                           1.00      7200\n",
      "   macro avg       1.00      1.00      1.00      7200\n",
      "weighted avg       1.00      1.00      1.00      7200\n",
      "\n"
     ]
    }
   ],
   "source": [
    "lr_train_cr = classification_report(y_pred_train_lr, y_train)\n",
    "print(lr_train_cr)"
   ]
  },
  {
   "cell_type": "code",
   "execution_count": 33,
   "id": "fe939a3b",
   "metadata": {},
   "outputs": [
    {
     "data": {
      "text/plain": [
       "array([[3601,    1],\n",
       "       [   1, 3597]], dtype=int64)"
      ]
     },
     "execution_count": 33,
     "metadata": {},
     "output_type": "execute_result"
    }
   ],
   "source": [
    "lr_train_cm = confusion_matrix(y_pred_train_lr,y_train)\n",
    "lr_train_cm"
   ]
  },
  {
   "cell_type": "markdown",
   "id": "a61e2738",
   "metadata": {},
   "source": [
    "### Provera preprilagodjavanja"
   ]
  },
  {
   "cell_type": "code",
   "execution_count": 34,
   "id": "f032be16",
   "metadata": {},
   "outputs": [
    {
     "name": "stdout",
     "output_type": "stream",
     "text": [
      "Tačnost na skupu za treniranje: 99.97%\n",
      "Tačnost na skupu za testiranje: 65.33%\n"
     ]
    }
   ],
   "source": [
    "print('Tačnost na skupu za treniranje: {0:.2f}%'.format(lr_train_acc*100))\n",
    "print('Tačnost na skupu za testiranje: {0:.2f}%'.format(lr_acc*100))"
   ]
  },
  {
   "cell_type": "markdown",
   "id": "50b8ba45",
   "metadata": {},
   "source": [
    "Primena modela na validacioni set, zbog preprilagodjavanja trening seta, da se vidi da li validacioni set mnogo odstupa od test testa."
   ]
  },
  {
   "cell_type": "code",
   "execution_count": 134,
   "id": "270c721e",
   "metadata": {},
   "outputs": [
    {
     "name": "stdout",
     "output_type": "stream",
     "text": [
      "[1 1 1 ... 1 1 1]\n"
     ]
    }
   ],
   "source": [
    "y_pred_val_lr = lr.predict(X_validation)\n",
    "print(y_pred_val_lr)"
   ]
  },
  {
   "cell_type": "code",
   "execution_count": 135,
   "id": "a7e7a111",
   "metadata": {},
   "outputs": [
    {
     "name": "stdout",
     "output_type": "stream",
     "text": [
      "Tačnost: 64.75%\n"
     ]
    }
   ],
   "source": [
    "lr_val_acc = accuracy_score(y_pred_val_lr,y_validation)\n",
    "print('Tačnost: {0:.2f}%'.format(lr_val_acc*100))"
   ]
  },
  {
   "cell_type": "markdown",
   "id": "056a3890",
   "metadata": {},
   "source": [
    "# <span style=\"color:blue\">2. Slučajne šume</span>"
   ]
  },
  {
   "cell_type": "code",
   "execution_count": 35,
   "id": "5a2433bd",
   "metadata": {},
   "outputs": [
    {
     "data": {
      "text/plain": [
       "RandomForestClassifier(max_depth=3, n_estimators=20, random_state=7)"
      ]
     },
     "execution_count": 35,
     "metadata": {},
     "output_type": "execute_result"
    }
   ],
   "source": [
    "rfc = RandomForestClassifier(n_estimators = 20, max_depth = 3, random_state = 7)\n",
    "rfc.fit(X_train, y_train)"
   ]
  },
  {
   "cell_type": "markdown",
   "id": "d7a516ea",
   "metadata": {},
   "source": [
    "### Predikcija na test setu"
   ]
  },
  {
   "cell_type": "code",
   "execution_count": 36,
   "id": "6631549c",
   "metadata": {},
   "outputs": [
    {
     "name": "stdout",
     "output_type": "stream",
     "text": [
      "[1 1 0 ... 1 0 0]\n"
     ]
    }
   ],
   "source": [
    "y_pred_rfc = rfc.predict(X_test)\n",
    "print(y_pred_rfc)"
   ]
  },
  {
   "cell_type": "code",
   "execution_count": 37,
   "id": "bb5e2378",
   "metadata": {},
   "outputs": [
    {
     "name": "stdout",
     "output_type": "stream",
     "text": [
      "Tačnost: 72.00%\n"
     ]
    }
   ],
   "source": [
    "rfc_acc = accuracy_score(y_pred_rfc,y_test)\n",
    "print('Tačnost: {0:.2f}%'.format(rfc_acc*100))"
   ]
  },
  {
   "cell_type": "markdown",
   "id": "274ee581",
   "metadata": {},
   "source": [
    "Uz podrazumevan poziv RandomForestClassifier metode dobijamo tačnost **78.35%**, ali ujedno preprilagodjen model koji ima tačnost **1** na predikciji trening seta."
   ]
  },
  {
   "cell_type": "code",
   "execution_count": 38,
   "id": "63f0ccbd",
   "metadata": {},
   "outputs": [
    {
     "name": "stdout",
     "output_type": "stream",
     "text": [
      "              precision    recall  f1-score   support\n",
      "\n",
      "           0       0.58      0.81      0.67       862\n",
      "           1       0.86      0.67      0.75      1538\n",
      "\n",
      "    accuracy                           0.72      2400\n",
      "   macro avg       0.72      0.74      0.71      2400\n",
      "weighted avg       0.76      0.72      0.73      2400\n",
      "\n"
     ]
    }
   ],
   "source": [
    "rfc_cr = classification_report(y_pred_rfc,y_test)\n",
    "print(rfc_cr)"
   ]
  },
  {
   "cell_type": "code",
   "execution_count": 39,
   "id": "e7f15de1",
   "metadata": {},
   "outputs": [
    {
     "data": {
      "text/plain": [
       "array([[ 695,  167],\n",
       "       [ 505, 1033]], dtype=int64)"
      ]
     },
     "execution_count": 39,
     "metadata": {},
     "output_type": "execute_result"
    }
   ],
   "source": [
    "rfc_cm = confusion_matrix(y_pred_rfc,y_test)\n",
    "rfc_cm"
   ]
  },
  {
   "cell_type": "markdown",
   "id": "7d218c70",
   "metadata": {},
   "source": [
    "### Predikcija na trening setu"
   ]
  },
  {
   "cell_type": "code",
   "execution_count": 40,
   "id": "36724573",
   "metadata": {},
   "outputs": [
    {
     "name": "stdout",
     "output_type": "stream",
     "text": [
      "[0 0 1 ... 0 0 0]\n"
     ]
    }
   ],
   "source": [
    "y_pred_train_rfc = rfc.predict(X_train)\n",
    "print(y_pred_train_rfc)"
   ]
  },
  {
   "cell_type": "code",
   "execution_count": 41,
   "id": "e103575c",
   "metadata": {},
   "outputs": [
    {
     "name": "stdout",
     "output_type": "stream",
     "text": [
      "Tačnost: 74.18%\n"
     ]
    }
   ],
   "source": [
    "rfc_train_acc = accuracy_score(y_pred_train_rfc, y_train)\n",
    "print('Tačnost: {0:.2f}%'.format(rfc_train_acc*100))"
   ]
  },
  {
   "cell_type": "code",
   "execution_count": 42,
   "id": "4ff72ff9",
   "metadata": {},
   "outputs": [
    {
     "name": "stdout",
     "output_type": "stream",
     "text": [
      "              precision    recall  f1-score   support\n",
      "\n",
      "           0       0.60      0.84      0.70      2583\n",
      "           1       0.88      0.69      0.77      4617\n",
      "\n",
      "    accuracy                           0.74      7200\n",
      "   macro avg       0.74      0.76      0.74      7200\n",
      "weighted avg       0.78      0.74      0.75      7200\n",
      "\n"
     ]
    }
   ],
   "source": [
    "rfc_train_cr = classification_report(y_pred_train_rfc, y_train)\n",
    "print(rfc_train_cr)"
   ]
  },
  {
   "cell_type": "code",
   "execution_count": 43,
   "id": "96e71aa0",
   "metadata": {},
   "outputs": [
    {
     "data": {
      "text/plain": [
       "array([[2163,  420],\n",
       "       [1439, 3178]], dtype=int64)"
      ]
     },
     "execution_count": 43,
     "metadata": {},
     "output_type": "execute_result"
    }
   ],
   "source": [
    "rfc_train_cm = confusion_matrix(y_pred_train_rfc, y_train)\n",
    "rfc_train_cm"
   ]
  },
  {
   "cell_type": "markdown",
   "id": "a07bfd60",
   "metadata": {},
   "source": [
    "### Provera preprilagodjavanja"
   ]
  },
  {
   "cell_type": "code",
   "execution_count": 44,
   "id": "d21098ed",
   "metadata": {},
   "outputs": [
    {
     "name": "stdout",
     "output_type": "stream",
     "text": [
      "Tačnost na skupu za treniranje: 74.18%\n",
      "Tačnost na skupu za testiranje: 72.00%\n"
     ]
    }
   ],
   "source": [
    "print('Tačnost na skupu za treniranje: {0:.2f}%'.format(rfc_train_acc*100))\n",
    "print('Tačnost na skupu za testiranje: {0:.2f}%'.format(rfc_acc*100))"
   ]
  },
  {
   "cell_type": "markdown",
   "id": "6b50b817",
   "metadata": {},
   "source": [
    "# <span style=\"color:blue\">3. Model k-najbližih suseda</span>"
   ]
  },
  {
   "cell_type": "markdown",
   "id": "e81e740b",
   "metadata": {},
   "source": [
    "### Provera najboljeg mogućeg koeficijenta k\n",
    "Za vrednosti od 1 do 10 proveravamo koja bi vrednost koeficijenta k bila najbolja"
   ]
  },
  {
   "cell_type": "code",
   "execution_count": 45,
   "id": "f832929d",
   "metadata": {},
   "outputs": [],
   "source": [
    "k_range = list(range(1, 10))\n",
    "scores = []\n",
    "maks = 0\n",
    "best_k = 0\n",
    "for k in k_range:\n",
    "    knn = KNeighborsClassifier(n_neighbors=k)\n",
    "    knn.fit(X_train, y_train)\n",
    "    y_pred = knn.predict(X_test)\n",
    "    acc = accuracy_score(y_test, y_pred)\n",
    "    scores.append(acc)\n",
    "    if acc > maks:\n",
    "        maks = acc\n",
    "        best_k = k"
   ]
  },
  {
   "cell_type": "markdown",
   "id": "34cd1022",
   "metadata": {},
   "source": [
    "### Vizuelizacija odnosa preciznosti predikcije i vrednosti koeficijenta k"
   ]
  },
  {
   "cell_type": "code",
   "execution_count": 46,
   "id": "1c8a48d4",
   "metadata": {},
   "outputs": [
    {
     "data": {
      "image/png": "[encoded data removed]",
      "text/plain": [
       "<Figure size 432x288 with 1 Axes>"
      ]
     },
     "metadata": {
      "needs_background": "light"
     },
     "output_type": "display_data"
    }
   ],
   "source": [
    "plt.xticks(np.linspace(0,10,11))\n",
    "plt.xlabel('K')\n",
    "plt.ylabel('Preciznost predikcije')\n",
    "plt.grid()\n",
    "plt.plot(k_range, scores)\n",
    "plt.show()"
   ]
  },
  {
   "cell_type": "markdown",
   "id": "d82e7adb",
   "metadata": {},
   "source": [
    "### Predikcija na test setu"
   ]
  },
  {
   "cell_type": "code",
   "execution_count": 47,
   "id": "908d7467",
   "metadata": {},
   "outputs": [
    {
     "data": {
      "text/plain": [
       "KNeighborsClassifier()"
      ]
     },
     "execution_count": 47,
     "metadata": {},
     "output_type": "execute_result"
    }
   ],
   "source": [
    "knn = KNeighborsClassifier(n_neighbors=best_k)\n",
    "knn.fit(X_train, y_train)"
   ]
  },
  {
   "cell_type": "code",
   "execution_count": 48,
   "id": "55f04d81",
   "metadata": {},
   "outputs": [
    {
     "name": "stdout",
     "output_type": "stream",
     "text": [
      "[0 0 0 ... 0 0 0]\n"
     ]
    }
   ],
   "source": [
    "y_pred_knn = knn.predict(X_test)\n",
    "print(y_pred_knn)"
   ]
  },
  {
   "cell_type": "code",
   "execution_count": 49,
   "id": "ee685764",
   "metadata": {},
   "outputs": [
    {
     "name": "stdout",
     "output_type": "stream",
     "text": [
      "Tačnost: 64.58%\n"
     ]
    }
   ],
   "source": [
    "knn_acc = accuracy_score(y_pred_knn,y_test)\n",
    "print('Tačnost: {0:.2f}%'.format(knn_acc*100))"
   ]
  },
  {
   "cell_type": "code",
   "execution_count": 50,
   "id": "469056ca",
   "metadata": {},
   "outputs": [
    {
     "name": "stdout",
     "output_type": "stream",
     "text": [
      "              precision    recall  f1-score   support\n",
      "\n",
      "           0       0.80      0.61      0.69      1576\n",
      "           1       0.49      0.71      0.58       824\n",
      "\n",
      "    accuracy                           0.65      2400\n",
      "   macro avg       0.65      0.66      0.64      2400\n",
      "weighted avg       0.69      0.65      0.65      2400\n",
      "\n"
     ]
    }
   ],
   "source": [
    "knn_cr = classification_report(y_pred_knn,y_test)\n",
    "print(knn_cr)"
   ]
  },
  {
   "cell_type": "code",
   "execution_count": 51,
   "id": "8a747657",
   "metadata": {},
   "outputs": [
    {
     "data": {
      "text/plain": [
       "array([[963, 613],\n",
       "       [237, 587]], dtype=int64)"
      ]
     },
     "execution_count": 51,
     "metadata": {},
     "output_type": "execute_result"
    }
   ],
   "source": [
    "knn_cm = confusion_matrix(y_pred_knn,y_test)\n",
    "knn_cm"
   ]
  },
  {
   "cell_type": "markdown",
   "id": "181b2a36",
   "metadata": {},
   "source": [
    "### Predikcija na trening setu"
   ]
  },
  {
   "cell_type": "code",
   "execution_count": 52,
   "id": "753127b9",
   "metadata": {},
   "outputs": [
    {
     "name": "stdout",
     "output_type": "stream",
     "text": [
      "[0 0 1 ... 0 0 0]\n"
     ]
    }
   ],
   "source": [
    "y_pred_train_knn = knn.predict(X_train)\n",
    "print(y_pred_train_knn)"
   ]
  },
  {
   "cell_type": "code",
   "execution_count": 53,
   "id": "9265c546",
   "metadata": {},
   "outputs": [
    {
     "name": "stdout",
     "output_type": "stream",
     "text": [
      "Tačnost: 74.50%\n"
     ]
    }
   ],
   "source": [
    "knn_train_acc = accuracy_score(y_pred_train_knn, y_train)\n",
    "print('Tačnost: {0:.2f}%'.format(knn_train_acc*100))"
   ]
  },
  {
   "cell_type": "code",
   "execution_count": 54,
   "id": "03884eae",
   "metadata": {},
   "outputs": [
    {
     "name": "stdout",
     "output_type": "stream",
     "text": [
      "              precision    recall  f1-score   support\n",
      "\n",
      "           0       0.92      0.68      0.78      4846\n",
      "           1       0.57      0.87      0.69      2354\n",
      "\n",
      "    accuracy                           0.74      7200\n",
      "   macro avg       0.74      0.78      0.74      7200\n",
      "weighted avg       0.80      0.74      0.75      7200\n",
      "\n"
     ]
    }
   ],
   "source": [
    "knn_train_cr = classification_report(y_pred_train_knn, y_train)\n",
    "print(knn_train_cr)"
   ]
  },
  {
   "cell_type": "code",
   "execution_count": 55,
   "id": "e5266d5c",
   "metadata": {},
   "outputs": [
    {
     "data": {
      "text/plain": [
       "array([[3306, 1540],\n",
       "       [ 296, 2058]], dtype=int64)"
      ]
     },
     "execution_count": 55,
     "metadata": {},
     "output_type": "execute_result"
    }
   ],
   "source": [
    "knn_train_cm = confusion_matrix(y_pred_train_knn, y_train)\n",
    "knn_train_cm"
   ]
  },
  {
   "cell_type": "markdown",
   "id": "2206580a",
   "metadata": {},
   "source": [
    "### Provera preprilagodjavanja"
   ]
  },
  {
   "cell_type": "code",
   "execution_count": 56,
   "id": "0bdb4463",
   "metadata": {},
   "outputs": [
    {
     "name": "stdout",
     "output_type": "stream",
     "text": [
      "Tačnost na skupu za treniranje: 74.50%\n",
      "Tačnost na skupu za testiranje: 64.58%\n"
     ]
    }
   ],
   "source": [
    "print('Tačnost na skupu za treniranje: {0:.2f}%'.format(knn_train_acc*100))\n",
    "print('Tačnost na skupu za testiranje: {0:.2f}%'.format(knn_acc*100))"
   ]
  },
  {
   "cell_type": "markdown",
   "id": "daeaa792",
   "metadata": {},
   "source": [
    "# <span style=\"color:blue\">5. Stabla odlučivanja</span>\n",
    "## 5.1. criterion = 'Gini'"
   ]
  },
  {
   "cell_type": "code",
   "execution_count": 57,
   "id": "1a9fc6ea",
   "metadata": {},
   "outputs": [
    {
     "data": {
      "text/plain": [
       "DecisionTreeClassifier(max_depth=3, max_features=0.9, random_state=7)"
      ]
     },
     "execution_count": 57,
     "metadata": {},
     "output_type": "execute_result"
    }
   ],
   "source": [
    "dtc = DecisionTreeClassifier(criterion = 'gini', max_features=0.9, max_depth=3, random_state=7)\n",
    "dtc.fit(X_train,y_train)"
   ]
  },
  {
   "cell_type": "markdown",
   "id": "910f8a90",
   "metadata": {},
   "source": [
    "### Predikcija na test setu"
   ]
  },
  {
   "cell_type": "code",
   "execution_count": 58,
   "id": "ac19c0cf",
   "metadata": {},
   "outputs": [
    {
     "name": "stdout",
     "output_type": "stream",
     "text": [
      "[1 0 0 ... 1 0 1]\n"
     ]
    }
   ],
   "source": [
    "y_pred_dtc = dtc.predict(X_test)\n",
    "print(y_pred_dtc)"
   ]
  },
  {
   "cell_type": "code",
   "execution_count": 59,
   "id": "79af90d0",
   "metadata": {},
   "outputs": [
    {
     "name": "stdout",
     "output_type": "stream",
     "text": [
      "Tačnost: 65.29%\n"
     ]
    }
   ],
   "source": [
    "dtc_acc = accuracy_score(y_pred_dtc, y_test)\n",
    "print('Tačnost: {0:.2f}%'.format(dtc_acc*100))"
   ]
  },
  {
   "cell_type": "code",
   "execution_count": 60,
   "id": "fa32291a",
   "metadata": {},
   "outputs": [
    {
     "name": "stdout",
     "output_type": "stream",
     "text": [
      "              precision    recall  f1-score   support\n",
      "\n",
      "           0       0.49      0.72      0.59       819\n",
      "           1       0.81      0.62      0.70      1581\n",
      "\n",
      "    accuracy                           0.65      2400\n",
      "   macro avg       0.65      0.67      0.64      2400\n",
      "weighted avg       0.70      0.65      0.66      2400\n",
      "\n"
     ]
    }
   ],
   "source": [
    "dtc_cr = classification_report(y_pred_dtc, y_test)\n",
    "print(dtc_cr)"
   ]
  },
  {
   "cell_type": "code",
   "execution_count": 61,
   "id": "30c19a2d",
   "metadata": {},
   "outputs": [
    {
     "name": "stdout",
     "output_type": "stream",
     "text": [
      "[[593 226]\n",
      " [607 974]]\n"
     ]
    }
   ],
   "source": [
    "dtc_cm = confusion_matrix(y_pred_dtc, y_test)\n",
    "print(dtc_cm)"
   ]
  },
  {
   "cell_type": "markdown",
   "id": "4e659970",
   "metadata": {},
   "source": [
    "### Predikcija na trening setu"
   ]
  },
  {
   "cell_type": "code",
   "execution_count": 62,
   "id": "f46b06a3",
   "metadata": {},
   "outputs": [
    {
     "name": "stdout",
     "output_type": "stream",
     "text": [
      "[1 1 1 ... 1 0 1]\n"
     ]
    }
   ],
   "source": [
    "y_pred_train_dtc = dtc.predict(X_train)\n",
    "print(y_pred_train_dtc)"
   ]
  },
  {
   "cell_type": "code",
   "execution_count": 63,
   "id": "c4102098",
   "metadata": {},
   "outputs": [
    {
     "name": "stdout",
     "output_type": "stream",
     "text": [
      "Tačnost: 68.67%\n"
     ]
    }
   ],
   "source": [
    "dtc_train_acc = accuracy_score(y_pred_train_dtc, y_train)\n",
    "print('Tačnost: {0:.2f}%'.format(dtc_train_acc*100))"
   ]
  },
  {
   "cell_type": "code",
   "execution_count": 64,
   "id": "40e666f4",
   "metadata": {},
   "outputs": [
    {
     "name": "stdout",
     "output_type": "stream",
     "text": [
      "              precision    recall  f1-score   support\n",
      "\n",
      "           0       0.51      0.79      0.62      2358\n",
      "           1       0.86      0.64      0.73      4842\n",
      "\n",
      "    accuracy                           0.69      7200\n",
      "   macro avg       0.69      0.71      0.68      7200\n",
      "weighted avg       0.75      0.69      0.70      7200\n",
      "\n"
     ]
    }
   ],
   "source": [
    "dtc_train_cr = classification_report(y_pred_train_dtc, y_train)\n",
    "print(dtc_train_cr)"
   ]
  },
  {
   "cell_type": "code",
   "execution_count": 65,
   "id": "37ea98e6",
   "metadata": {},
   "outputs": [
    {
     "name": "stdout",
     "output_type": "stream",
     "text": [
      "[[1852  506]\n",
      " [1750 3092]]\n"
     ]
    }
   ],
   "source": [
    "dtc_train_cm = confusion_matrix(y_pred_train_dtc, y_train)\n",
    "print(dtc_train_cm)"
   ]
  },
  {
   "cell_type": "markdown",
   "id": "f9975608",
   "metadata": {},
   "source": [
    "### Provera preprilagodjavanja"
   ]
  },
  {
   "cell_type": "code",
   "execution_count": 66,
   "id": "789cb1ca",
   "metadata": {},
   "outputs": [
    {
     "name": "stdout",
     "output_type": "stream",
     "text": [
      "Tačnost na skupu za treniranje: 68.67%\n",
      "Tačnost na skupu za testiranje: 65.29%\n"
     ]
    }
   ],
   "source": [
    "print('Tačnost na skupu za treniranje: {0:.2f}%'.format(dtc_train_acc*100))\n",
    "print('Tačnost na skupu za testiranje: {0:.2f}%'.format(dtc_acc*100))"
   ]
  },
  {
   "cell_type": "markdown",
   "id": "9ae7fdc1",
   "metadata": {},
   "source": [
    "## 5.2 criterion = 'Enthropy'"
   ]
  },
  {
   "cell_type": "code",
   "execution_count": 67,
   "id": "cd3baad7",
   "metadata": {},
   "outputs": [
    {
     "data": {
      "text/plain": [
       "DecisionTreeClassifier(criterion='entropy', random_state=7)"
      ]
     },
     "execution_count": 67,
     "metadata": {},
     "output_type": "execute_result"
    }
   ],
   "source": [
    "dtc_e = DecisionTreeClassifier(criterion = 'entropy' , random_state=7)\n",
    "dtc_e.fit(X_train,y_train)"
   ]
  },
  {
   "cell_type": "markdown",
   "id": "ac5e6527",
   "metadata": {},
   "source": [
    "### Predikcija na test setu"
   ]
  },
  {
   "cell_type": "code",
   "execution_count": 68,
   "id": "10e973fd",
   "metadata": {},
   "outputs": [
    {
     "name": "stdout",
     "output_type": "stream",
     "text": [
      "[1 0 0 ... 1 0 1]\n"
     ]
    }
   ],
   "source": [
    "y_pred_dtc_e = dtc.predict(X_test)\n",
    "print(y_pred_dtc_e)"
   ]
  },
  {
   "cell_type": "code",
   "execution_count": 69,
   "id": "dc74b095",
   "metadata": {},
   "outputs": [
    {
     "name": "stdout",
     "output_type": "stream",
     "text": [
      "Tačnost: 65.29%\n"
     ]
    }
   ],
   "source": [
    "dtc_e_acc = accuracy_score(y_pred_dtc_e, y_test)\n",
    "print('Tačnost: {0:.2f}%'.format(dtc_e_acc*100))"
   ]
  },
  {
   "cell_type": "code",
   "execution_count": 70,
   "id": "95fb32cd",
   "metadata": {},
   "outputs": [
    {
     "name": "stdout",
     "output_type": "stream",
     "text": [
      "              precision    recall  f1-score   support\n",
      "\n",
      "           0       0.49      0.72      0.59       819\n",
      "           1       0.81      0.62      0.70      1581\n",
      "\n",
      "    accuracy                           0.65      2400\n",
      "   macro avg       0.65      0.67      0.64      2400\n",
      "weighted avg       0.70      0.65      0.66      2400\n",
      "\n"
     ]
    }
   ],
   "source": [
    "dtc_e_cr = classification_report(y_pred_dtc_e, y_test)\n",
    "print(dtc_e_cr)"
   ]
  },
  {
   "cell_type": "code",
   "execution_count": 71,
   "id": "6578c408",
   "metadata": {},
   "outputs": [
    {
     "name": "stdout",
     "output_type": "stream",
     "text": [
      "[[593 226]\n",
      " [607 974]]\n"
     ]
    }
   ],
   "source": [
    "dtc_e_cm = confusion_matrix(y_pred_dtc_e, y_test)\n",
    "print(dtc_e_cm)"
   ]
  },
  {
   "cell_type": "markdown",
   "id": "e4a0a955",
   "metadata": {},
   "source": [
    "### Predikcija na trening setu"
   ]
  },
  {
   "cell_type": "code",
   "execution_count": 72,
   "id": "23b9da8a",
   "metadata": {},
   "outputs": [
    {
     "name": "stdout",
     "output_type": "stream",
     "text": [
      "[1 1 1 ... 1 0 1]\n"
     ]
    }
   ],
   "source": [
    "y_pred_train_dtc_e = dtc.predict(X_train)\n",
    "print(y_pred_train_dtc_e)"
   ]
  },
  {
   "cell_type": "code",
   "execution_count": 73,
   "id": "d4d7d0db",
   "metadata": {},
   "outputs": [
    {
     "name": "stdout",
     "output_type": "stream",
     "text": [
      "Tačnost: 68.67%\n"
     ]
    }
   ],
   "source": [
    "dtc_e_train_acc = accuracy_score(y_pred_train_dtc_e, y_train)\n",
    "print('Tačnost: {0:.2f}%'.format(dtc_e_train_acc*100))"
   ]
  },
  {
   "cell_type": "code",
   "execution_count": 74,
   "id": "12ed248a",
   "metadata": {},
   "outputs": [
    {
     "name": "stdout",
     "output_type": "stream",
     "text": [
      "              precision    recall  f1-score   support\n",
      "\n",
      "           0       0.51      0.79      0.62      2358\n",
      "           1       0.86      0.64      0.73      4842\n",
      "\n",
      "    accuracy                           0.69      7200\n",
      "   macro avg       0.69      0.71      0.68      7200\n",
      "weighted avg       0.75      0.69      0.70      7200\n",
      "\n"
     ]
    }
   ],
   "source": [
    "dtc_e_train_cr = classification_report(y_pred_train_dtc_e, y_train)\n",
    "print(dtc_e_train_cr)"
   ]
  },
  {
   "cell_type": "code",
   "execution_count": 75,
   "id": "db2840bd",
   "metadata": {},
   "outputs": [
    {
     "name": "stdout",
     "output_type": "stream",
     "text": [
      "[[1852  506]\n",
      " [1750 3092]]\n"
     ]
    }
   ],
   "source": [
    "dtc_e_train_cm = confusion_matrix(y_pred_train_dtc_e, y_train)\n",
    "print(dtc_e_train_cm)"
   ]
  },
  {
   "cell_type": "markdown",
   "id": "5520218e",
   "metadata": {},
   "source": [
    "### Provera preprilagodjavanja"
   ]
  },
  {
   "cell_type": "code",
   "execution_count": 76,
   "id": "9223f6c6",
   "metadata": {},
   "outputs": [
    {
     "name": "stdout",
     "output_type": "stream",
     "text": [
      "Tačnost na skupu za treniranje: 68.67%\n",
      "Tačnost na skupu za testiranje: 65.29%\n"
     ]
    }
   ],
   "source": [
    "print('Tačnost na skupu za treniranje: {0:.2f}%'.format(dtc_e_train_acc*100))\n",
    "print('Tačnost na skupu za testiranje: {0:.2f}%'.format(dtc_e_acc*100))"
   ]
  },
  {
   "cell_type": "markdown",
   "id": "104508b7",
   "metadata": {},
   "source": [
    "Ne vidi se nikakva razlika izmedju postavljenih kriterijuma. Rezultati su isti"
   ]
  },
  {
   "cell_type": "markdown",
   "id": "185c1181",
   "metadata": {},
   "source": [
    "# <span style=\"color:blue\">6. Naivni Bayes</span>"
   ]
  },
  {
   "cell_type": "code",
   "execution_count": 77,
   "id": "08d49dc0",
   "metadata": {},
   "outputs": [
    {
     "data": {
      "text/plain": [
       "GaussianNB()"
      ]
     },
     "execution_count": 77,
     "metadata": {},
     "output_type": "execute_result"
    }
   ],
   "source": [
    "nb = GaussianNB()\n",
    "nb.fit(X_train, y_train)"
   ]
  },
  {
   "cell_type": "markdown",
   "id": "bfe12768",
   "metadata": {},
   "source": [
    "### Predikcija na test setu"
   ]
  },
  {
   "cell_type": "code",
   "execution_count": 78,
   "id": "2fd1fb38",
   "metadata": {},
   "outputs": [
    {
     "name": "stdout",
     "output_type": "stream",
     "text": [
      "[0 0 0 ... 0 0 0]\n"
     ]
    }
   ],
   "source": [
    "y_pred_nb = nb.predict(X_test)\n",
    "print(y_pred_nb)"
   ]
  },
  {
   "cell_type": "code",
   "execution_count": 79,
   "id": "af643613",
   "metadata": {},
   "outputs": [
    {
     "name": "stdout",
     "output_type": "stream",
     "text": [
      "Tačnost: 66.38%\n"
     ]
    }
   ],
   "source": [
    "nb_acc = accuracy_score(y_pred_nb,y_test)\n",
    "print('Tačnost: {0:.2f}%'.format(nb_acc*100))"
   ]
  },
  {
   "cell_type": "code",
   "execution_count": 80,
   "id": "3989fea9",
   "metadata": {},
   "outputs": [
    {
     "name": "stdout",
     "output_type": "stream",
     "text": [
      "              precision    recall  f1-score   support\n",
      "\n",
      "           0       0.59      0.69      0.64      1027\n",
      "           1       0.74      0.64      0.69      1373\n",
      "\n",
      "    accuracy                           0.66      2400\n",
      "   macro avg       0.66      0.67      0.66      2400\n",
      "weighted avg       0.67      0.66      0.67      2400\n",
      "\n"
     ]
    }
   ],
   "source": [
    "nb_cr = classification_report(y_pred_nb,y_test)\n",
    "print(nb_cr)"
   ]
  },
  {
   "cell_type": "code",
   "execution_count": 81,
   "id": "802994af",
   "metadata": {},
   "outputs": [
    {
     "name": "stdout",
     "output_type": "stream",
     "text": [
      "[[710 317]\n",
      " [490 883]]\n"
     ]
    }
   ],
   "source": [
    "nb_cm = confusion_matrix(y_pred_nb,y_test)\n",
    "print(nb_cm)"
   ]
  },
  {
   "cell_type": "markdown",
   "id": "0c60faa5",
   "metadata": {},
   "source": [
    "### Predikcija na trening setu"
   ]
  },
  {
   "cell_type": "code",
   "execution_count": 82,
   "id": "35d4e578",
   "metadata": {},
   "outputs": [
    {
     "name": "stdout",
     "output_type": "stream",
     "text": [
      "[1 0 1 ... 0 1 0]\n"
     ]
    }
   ],
   "source": [
    "y_pred_train_nb = nb.predict(X_train)\n",
    "print(y_pred_train_nb)"
   ]
  },
  {
   "cell_type": "code",
   "execution_count": 83,
   "id": "7c17613b",
   "metadata": {},
   "outputs": [
    {
     "name": "stdout",
     "output_type": "stream",
     "text": [
      "Tačnost: 66.32%\n"
     ]
    }
   ],
   "source": [
    "nb_train_acc = accuracy_score(y_pred_train_nb,y_train)\n",
    "print('Tačnost: {0:.2f}%'.format(nb_train_acc*100))"
   ]
  },
  {
   "cell_type": "code",
   "execution_count": 84,
   "id": "d28d63ed",
   "metadata": {},
   "outputs": [
    {
     "name": "stdout",
     "output_type": "stream",
     "text": [
      "              precision    recall  f1-score   support\n",
      "\n",
      "           0       0.57      0.70      0.63      2895\n",
      "           1       0.76      0.64      0.69      4305\n",
      "\n",
      "    accuracy                           0.66      7200\n",
      "   macro avg       0.66      0.67      0.66      7200\n",
      "weighted avg       0.68      0.66      0.67      7200\n",
      "\n"
     ]
    }
   ],
   "source": [
    "nb_train_cr = classification_report(y_pred_train_nb,y_train)\n",
    "print(nb_train_cr)"
   ]
  },
  {
   "cell_type": "code",
   "execution_count": 85,
   "id": "baf92a50",
   "metadata": {},
   "outputs": [
    {
     "name": "stdout",
     "output_type": "stream",
     "text": [
      "[[2036  859]\n",
      " [1566 2739]]\n"
     ]
    }
   ],
   "source": [
    "nb_train_cm = confusion_matrix(y_pred_train_nb,y_train)\n",
    "print(nb_train_cm)"
   ]
  },
  {
   "cell_type": "markdown",
   "id": "0081422e",
   "metadata": {},
   "source": [
    "### Provera preprilagodjavanja"
   ]
  },
  {
   "cell_type": "code",
   "execution_count": 86,
   "id": "68cf4f72",
   "metadata": {},
   "outputs": [
    {
     "name": "stdout",
     "output_type": "stream",
     "text": [
      "Tačnost na skupu za treniranje: 66.32%\n",
      "Tačnost na skupu za testiranje: 66.38%\n"
     ]
    }
   ],
   "source": [
    "print('Tačnost na skupu za treniranje: {0:.2f}%'.format(nb_train_acc*100))\n",
    "print('Tačnost na skupu za testiranje: {0:.2f}%'.format(nb_acc*100))"
   ]
  },
  {
   "cell_type": "markdown",
   "id": "b2aa12a4",
   "metadata": {},
   "source": [
    "# <span style=\"color:blue\">7. Metod potpornih vektora</span>"
   ]
  },
  {
   "cell_type": "code",
   "execution_count": 87,
   "id": "df07e2ee",
   "metadata": {},
   "outputs": [
    {
     "data": {
      "text/plain": [
       "SVC(random_state=0)"
      ]
     },
     "execution_count": 87,
     "metadata": {},
     "output_type": "execute_result"
    }
   ],
   "source": [
    "svc = SVC(kernel = 'rbf', random_state = 0)\n",
    "svc.fit(X_train, y_train)"
   ]
  },
  {
   "cell_type": "markdown",
   "id": "a91a2a94",
   "metadata": {},
   "source": [
    "### Predikcija na test setu"
   ]
  },
  {
   "cell_type": "code",
   "execution_count": 88,
   "id": "44ff9469",
   "metadata": {},
   "outputs": [
    {
     "name": "stdout",
     "output_type": "stream",
     "text": [
      "[1 0 0 ... 1 0 0]\n"
     ]
    }
   ],
   "source": [
    "y_pred_svc = svc.predict(X_test)\n",
    "print(y_pred_svc)"
   ]
  },
  {
   "cell_type": "code",
   "execution_count": 89,
   "id": "98d50489",
   "metadata": {},
   "outputs": [
    {
     "name": "stdout",
     "output_type": "stream",
     "text": [
      "Tačnost: 80.25%\n"
     ]
    }
   ],
   "source": [
    "svc_acc = accuracy_score(y_pred_svc, y_test)\n",
    "print('Tačnost: {0:.2f}%'.format(svc_acc*100))"
   ]
  },
  {
   "cell_type": "code",
   "execution_count": 90,
   "id": "1205d206",
   "metadata": {},
   "outputs": [
    {
     "name": "stdout",
     "output_type": "stream",
     "text": [
      "              precision    recall  f1-score   support\n",
      "\n",
      "           0       0.79      0.81      0.80      1162\n",
      "           1       0.82      0.79      0.81      1238\n",
      "\n",
      "    accuracy                           0.80      2400\n",
      "   macro avg       0.80      0.80      0.80      2400\n",
      "weighted avg       0.80      0.80      0.80      2400\n",
      "\n"
     ]
    }
   ],
   "source": [
    "svc_cr = classification_report(y_pred_svc, y_test)\n",
    "print(svc_cr)"
   ]
  },
  {
   "cell_type": "code",
   "execution_count": 91,
   "id": "ae693864",
   "metadata": {},
   "outputs": [
    {
     "name": "stdout",
     "output_type": "stream",
     "text": [
      "[[944 218]\n",
      " [256 982]]\n"
     ]
    }
   ],
   "source": [
    "svc_cm = confusion_matrix(y_pred_svc, y_test)\n",
    "print(svc_cm)"
   ]
  },
  {
   "cell_type": "markdown",
   "id": "3ab1f8d5",
   "metadata": {},
   "source": [
    "### Predikcija na trening setu"
   ]
  },
  {
   "cell_type": "code",
   "execution_count": 129,
   "id": "0ba26dd7",
   "metadata": {},
   "outputs": [
    {
     "name": "stdout",
     "output_type": "stream",
     "text": [
      "[0 0 1 ... 0 1 0]\n"
     ]
    }
   ],
   "source": [
    "y_pred_train_svc = svc.predict(X_train)\n",
    "print(y_pred_train_svc)"
   ]
  },
  {
   "cell_type": "code",
   "execution_count": 130,
   "id": "95e0e131",
   "metadata": {},
   "outputs": [
    {
     "name": "stdout",
     "output_type": "stream",
     "text": [
      "Tačnost: 93.19%\n"
     ]
    }
   ],
   "source": [
    "svc_train_acc = accuracy_score(y_pred_train_svc, y_train)\n",
    "print('Tačnost: {0:.2f}%'.format(svc_train_acc*100))"
   ]
  },
  {
   "cell_type": "code",
   "execution_count": 132,
   "id": "1e16aeaa",
   "metadata": {},
   "outputs": [
    {
     "name": "stdout",
     "output_type": "stream",
     "text": [
      "              precision    recall  f1-score   support\n",
      "\n",
      "           0       0.92      0.94      0.93      3500\n",
      "           1       0.95      0.92      0.93      3700\n",
      "\n",
      "    accuracy                           0.93      7200\n",
      "   macro avg       0.93      0.93      0.93      7200\n",
      "weighted avg       0.93      0.93      0.93      7200\n",
      "\n"
     ]
    }
   ],
   "source": [
    "svc_train_cr = classification_report(y_pred_train_svc, y_train)\n",
    "print(svc_train_cr)"
   ]
  },
  {
   "cell_type": "code",
   "execution_count": 133,
   "id": "94678fec",
   "metadata": {},
   "outputs": [
    {
     "name": "stdout",
     "output_type": "stream",
     "text": [
      "[[3306  194]\n",
      " [ 296 3404]]\n"
     ]
    }
   ],
   "source": [
    "svc_train_cm = confusion_matrix(y_pred_train_svc, y_train)\n",
    "print(svc_train_cm)"
   ]
  },
  {
   "cell_type": "markdown",
   "id": "9b81abc1",
   "metadata": {},
   "source": [
    "### Provera preprilagodjavanja"
   ]
  },
  {
   "cell_type": "code",
   "execution_count": 136,
   "id": "dc8c7795",
   "metadata": {},
   "outputs": [
    {
     "name": "stdout",
     "output_type": "stream",
     "text": [
      "Tačnost na skupu za treniranje: 93.19%\n",
      "Tačnost na skupu za testiranje: 80.25%\n"
     ]
    }
   ],
   "source": [
    "print('Tačnost na skupu za treniranje: {0:.2f}%'.format(svc_train_acc*100))\n",
    "print('Tačnost na skupu za testiranje: {0:.2f}%'.format(svc_acc*100))"
   ]
  },
  {
   "cell_type": "markdown",
   "id": "d6ed22a7",
   "metadata": {},
   "source": [
    "### K-fold unakrsna validacija"
   ]
  },
  {
   "cell_type": "code",
   "execution_count": 92,
   "id": "185cb59c",
   "metadata": {},
   "outputs": [
    {
     "name": "stdout",
     "output_type": "stream",
     "text": [
      "Tačnost:  79.04166666666667\n",
      "Standardna devijacija:  1.2194570994028244\n"
     ]
    }
   ],
   "source": [
    "accuracies = cross_val_score(estimator = svc, X = X_train, y = y_train, cv = 10)\n",
    "print(\"Tačnost: \",accuracies.mean()*100)\n",
    "print(\"Standardna devijacija: \",accuracies.std()*100)"
   ]
  },
  {
   "cell_type": "markdown",
   "id": "bf5f4aa6",
   "metadata": {},
   "source": [
    "Pošto je u startu dobijeno bolje rešenje, ne mora da se izvršava sledeći korak bi bio traženje boljih parametara pomoću Grid Search-a.\n",
    "Zakomentarisan je kao prikaz mogućih narednih koraka traženja boljih parametara."
   ]
  },
  {
   "cell_type": "code",
   "execution_count": 93,
   "id": "f14afa52",
   "metadata": {},
   "outputs": [],
   "source": [
    "### Primena Grid Search-a za nalaženje najboljih parametara za SVC, radi dostizanja bolje tačnosti modela\n",
    "\n",
    "# parameters = [{'C': [0.25, 0.5, 0.75, 1], 'kernel': ['linear']},\n",
    "#               {'C': [0.25, 0.5, 0.75, 1], 'kernel': ['rbf'], 'gamma': [0.001, 0.01, 1, 10, 100, 1000]}]\n",
    "# grid_search = GridSearchCV(estimator = svc,\n",
    "#                            param_grid = parameters,\n",
    "#                            scoring = 'accuracy',\n",
    "#                            cv = 10,\n",
    "#                            n_jobs = -1)\n",
    "# grid_search.fit(X_train, y_train)\n",
    "# best_accuracy = grid_search.best_score_\n",
    "# best_parameters = grid_search.best_params_\n",
    "# print(\"Najbolja tačnost: \", best_accuracy*100)\n",
    "# print(\"Najbolji parametri: \", best_parameters)"
   ]
  },
  {
   "cell_type": "code",
   "execution_count": 94,
   "id": "85661243",
   "metadata": {},
   "outputs": [],
   "source": [
    "# if best_params['kernel'] == 'rbf':\n",
    "#     svc = SVC(kernel = best_params['kernel'], C=best_params['C'], gamma=best_params['gamma'])\n",
    "# else:\n",
    "#     svc = SVC(kernel = best_params['kernel'], C=best_params['C'])\n",
    "# svc.fit(X_validation, y_validation)"
   ]
  },
  {
   "cell_type": "code",
   "execution_count": 95,
   "id": "f4fcdcc0",
   "metadata": {},
   "outputs": [],
   "source": [
    "# y_pred_svc_val = svc.predict(X_validation)\n",
    "# print(y_pred_svc_val)"
   ]
  },
  {
   "cell_type": "code",
   "execution_count": 96,
   "id": "31d13bee",
   "metadata": {},
   "outputs": [],
   "source": [
    "# svc_val_cr = classification_report(y_pred_svc_val, y_validation)\n",
    "# print(svc_val_cr)"
   ]
  },
  {
   "cell_type": "code",
   "execution_count": 97,
   "id": "df3ec3f8",
   "metadata": {},
   "outputs": [],
   "source": [
    "# svc_val_cm = confusion_matrix(y_pred_svc_val, y_validation)\n",
    "# print(svc_val_cm)"
   ]
  },
  {
   "cell_type": "markdown",
   "id": "16a865cf",
   "metadata": {},
   "source": [
    "# <span style=\"color:blue\">7. Pojačavanje</span>"
   ]
  },
  {
   "cell_type": "markdown",
   "id": "c967b2a9",
   "metadata": {},
   "source": [
    "## 7.1 AdaBoost"
   ]
  },
  {
   "cell_type": "code",
   "execution_count": 137,
   "id": "8217511c",
   "metadata": {},
   "outputs": [
    {
     "data": {
      "text/plain": [
       "AdaBoostClassifier(base_estimator=DecisionTreeClassifier(max_depth=3,\n",
       "                                                         max_features=0.9,\n",
       "                                                         random_state=7))"
      ]
     },
     "execution_count": 137,
     "metadata": {},
     "output_type": "execute_result"
    }
   ],
   "source": [
    "ab = AdaBoostClassifier(base_estimator = DecisionTreeClassifier(max_features=0.9, max_depth=3, random_state=7))\n",
    "ab.fit(X_train, y_train)"
   ]
  },
  {
   "cell_type": "code",
   "execution_count": 138,
   "id": "56edfd74",
   "metadata": {},
   "outputs": [
    {
     "name": "stdout",
     "output_type": "stream",
     "text": [
      "[1 0 0 ... 0 0 0]\n"
     ]
    }
   ],
   "source": [
    "y_pred_ab = ab.predict(X_test)\n",
    "print(y_pred_ab)"
   ]
  },
  {
   "cell_type": "code",
   "execution_count": 139,
   "id": "626e27b1",
   "metadata": {},
   "outputs": [
    {
     "name": "stdout",
     "output_type": "stream",
     "text": [
      "Tačnost: 73.00%\n"
     ]
    }
   ],
   "source": [
    "ab_acc = accuracy_score(y_pred_ab, y_test)\n",
    "print('Tačnost: {0:.2f}%'.format(ab_acc*100))"
   ]
  },
  {
   "cell_type": "code",
   "execution_count": 140,
   "id": "a98a9af0",
   "metadata": {},
   "outputs": [
    {
     "name": "stdout",
     "output_type": "stream",
     "text": [
      "              precision    recall  f1-score   support\n",
      "\n",
      "           0       0.73      0.73      0.73      1212\n",
      "           1       0.72      0.73      0.73      1188\n",
      "\n",
      "    accuracy                           0.73      2400\n",
      "   macro avg       0.73      0.73      0.73      2400\n",
      "weighted avg       0.73      0.73      0.73      2400\n",
      "\n"
     ]
    }
   ],
   "source": [
    "ab_cr = classification_report(y_pred_ab, y_test)\n",
    "print(ab_cr)"
   ]
  },
  {
   "cell_type": "code",
   "execution_count": 141,
   "id": "d76cf13c",
   "metadata": {},
   "outputs": [
    {
     "name": "stdout",
     "output_type": "stream",
     "text": [
      "[[882 330]\n",
      " [318 870]]\n"
     ]
    }
   ],
   "source": [
    "ab_cm = confusion_matrix(y_pred_ab, y_test)\n",
    "print(ab_cm)"
   ]
  },
  {
   "cell_type": "code",
   "execution_count": 145,
   "id": "d6b2eec8",
   "metadata": {},
   "outputs": [
    {
     "data": {
      "image/png": "[encoded data removed]",
      "text/plain": [
       "<Figure size 720x360 with 1 Axes>"
      ]
     },
     "metadata": {
      "needs_background": "light"
     },
     "output_type": "display_data"
    }
   ],
   "source": [
    "plt.figure(figsize = (10,5))\n",
    "plt.plot(range(0, ab.n_estimators), ab.estimator_errors_)\n",
    "plt.show()"
   ]
  },
  {
   "cell_type": "markdown",
   "id": "fe01dd17",
   "metadata": {},
   "source": [
    "## 7.2 XGBoost"
   ]
  },
  {
   "cell_type": "code",
   "execution_count": 192,
   "id": "51e65aa8",
   "metadata": {},
   "outputs": [
    {
     "name": "stdout",
     "output_type": "stream",
     "text": [
      "[21:06:49] WARNING: C:\\Windows\\Temp\\abs_557yfx631l\\croots\\recipe\\xgboost-split_1659548953302\\work\\src\\learner.cc:1115: Starting in XGBoost 1.3.0, the default evaluation metric used with the objective 'binary:logistic' was changed from 'error' to 'logloss'. Explicitly set eval_metric if you'd like to restore the old behavior.\n"
     ]
    },
    {
     "data": {
      "text/plain": [
       "XGBClassifier(base_score=0.5, booster='gbtree', colsample_bylevel=1,\n",
       "              colsample_bynode=1, colsample_bytree=1, enable_categorical=False,\n",
       "              gamma=0, gpu_id=-1, importance_type=None,\n",
       "              interaction_constraints='', learning_rate=0.300000012,\n",
       "              max_delta_step=0, max_depth=6, min_child_weight=1, missing=nan,\n",
       "              monotone_constraints='()', n_estimators=100, n_jobs=12,\n",
       "              num_parallel_tree=1, predictor='auto', random_state=0,\n",
       "              reg_alpha=0, reg_lambda=1, scale_pos_weight=1, subsample=1,\n",
       "              tree_method='exact', use_label_encoder=False,\n",
       "              validate_parameters=1, verbosity=None)"
      ]
     },
     "execution_count": 192,
     "metadata": {},
     "output_type": "execute_result"
    }
   ],
   "source": [
    "xgb = XGBClassifier(use_label_encoder=False)\n",
    "xgb.fit(X_train, y_train)"
   ]
  },
  {
   "cell_type": "code",
   "execution_count": 193,
   "id": "acce28e0",
   "metadata": {},
   "outputs": [
    {
     "name": "stdout",
     "output_type": "stream",
     "text": [
      "[1 1 0 ... 0 0 0]\n"
     ]
    }
   ],
   "source": [
    "y_pred_xgb = xgb.predict(X_test)\n",
    "print(y_pred_xgb)"
   ]
  },
  {
   "cell_type": "code",
   "execution_count": 194,
   "id": "db0e1c3a",
   "metadata": {},
   "outputs": [
    {
     "name": "stdout",
     "output_type": "stream",
     "text": [
      "Tačnost: 77.79%\n"
     ]
    }
   ],
   "source": [
    "xgb_acc = accuracy_score(y_pred_xgb, y_test)\n",
    "print('Tačnost: {0:.2f}%'.format(xgb_acc*100))"
   ]
  },
  {
   "cell_type": "code",
   "execution_count": 195,
   "id": "65a86b41",
   "metadata": {},
   "outputs": [
    {
     "name": "stdout",
     "output_type": "stream",
     "text": [
      "              precision    recall  f1-score   support\n",
      "\n",
      "           0       0.75      0.79      0.77      1135\n",
      "           1       0.81      0.76      0.78      1265\n",
      "\n",
      "    accuracy                           0.78      2400\n",
      "   macro avg       0.78      0.78      0.78      2400\n",
      "weighted avg       0.78      0.78      0.78      2400\n",
      "\n"
     ]
    }
   ],
   "source": [
    "xgb_cr = classification_report(y_pred_xgb, y_test)\n",
    "print(xgb_cr)"
   ]
  },
  {
   "cell_type": "code",
   "execution_count": 196,
   "id": "f73505b4",
   "metadata": {},
   "outputs": [
    {
     "name": "stdout",
     "output_type": "stream",
     "text": [
      "[[901 234]\n",
      " [299 966]]\n"
     ]
    }
   ],
   "source": [
    "xgb_cm = confusion_matrix(y_pred_xgb, y_test)\n",
    "print(xgb_cm)"
   ]
  },
  {
   "cell_type": "markdown",
   "id": "3e6e78e6",
   "metadata": {},
   "source": [
    "## 7.3 Gradient Boosting "
   ]
  },
  {
   "cell_type": "code",
   "execution_count": 184,
   "id": "7abf894e",
   "metadata": {},
   "outputs": [
    {
     "name": "stdout",
     "output_type": "stream",
     "text": [
      "Learning rate:  0.05\n",
      "==============================\n",
      "Learning rate:  0.075\n",
      "==============================\n",
      "Learning rate:  0.1\n",
      "==============================\n",
      "Learning rate:  0.25\n",
      "==============================\n",
      "Learning rate:  0.5\n",
      "==============================\n",
      "Learning rate:  0.75\n",
      "==============================\n",
      "Learning rate:  1\n",
      "==============================\n"
     ]
    }
   ],
   "source": [
    "lr_list = [0.05, 0.075, 0.1, 0.25, 0.5, 0.75, 1]\n",
    "gb_acc = 0\n",
    "gb_cm = 0\n",
    "y_pred = 0\n",
    "for learning_rate in lr_list:\n",
    "    gb = GradientBoostingClassifier(n_estimators=30, learning_rate=learning_rate, max_features=2, max_depth=3, random_state=0)\n",
    "    gb.fit(X_train, y_train)\n",
    "    \n",
    "    y_pred_gb = gb.predict(X_test)\n",
    "    acc = gb.score(X_test, y_test)\n",
    "    print(\"Learning rate: \", learning_rate)\n",
    "    \n",
    "    if gb_acc < acc:\n",
    "        gb_acc = acc\n",
    "        gb_cm = confusion_matrix(y_pred_gb, y_test)\n",
    "        y_pred = y_pred_gb\n",
    "    print(\"==============================\")"
   ]
  },
  {
   "cell_type": "code",
   "execution_count": 185,
   "id": "8f526349",
   "metadata": {},
   "outputs": [
    {
     "name": "stdout",
     "output_type": "stream",
     "text": [
      "Tačnost: 76.42%\n"
     ]
    }
   ],
   "source": [
    "print('Tačnost: {0:.2f}%'.format(gb_acc*100))"
   ]
  },
  {
   "cell_type": "code",
   "execution_count": 186,
   "id": "bc53d0c1",
   "metadata": {},
   "outputs": [
    {
     "name": "stdout",
     "output_type": "stream",
     "text": [
      "              precision    recall  f1-score   support\n",
      "\n",
      "           0       0.73      0.78      0.76      1118\n",
      "           1       0.80      0.75      0.77      1282\n",
      "\n",
      "    accuracy                           0.76      2400\n",
      "   macro avg       0.76      0.77      0.76      2400\n",
      "weighted avg       0.77      0.76      0.76      2400\n",
      "\n"
     ]
    }
   ],
   "source": [
    "gb_cr = classification_report(y_pred, y_test) \n",
    "print(gb_cr)"
   ]
  },
  {
   "cell_type": "code",
   "execution_count": 187,
   "id": "182d9dda",
   "metadata": {},
   "outputs": [
    {
     "name": "stdout",
     "output_type": "stream",
     "text": [
      "[[876 242]\n",
      " [324 958]]\n"
     ]
    }
   ],
   "source": [
    "print(gb_cm)"
   ]
  },
  {
   "cell_type": "markdown",
   "id": "c456a4cd",
   "metadata": {},
   "source": [
    "# <span style=\"color:blue\">8. Prosta agregacija</span>"
   ]
  },
  {
   "cell_type": "code",
   "execution_count": 197,
   "id": "ecc331b0",
   "metadata": {},
   "outputs": [
    {
     "data": {
      "text/plain": [
       "BaggingClassifier(base_estimator=DecisionTreeClassifier(random_state=42),\n",
       "                  max_samples=100, n_estimators=500, random_state=7)"
      ]
     },
     "execution_count": 197,
     "metadata": {},
     "output_type": "execute_result"
    }
   ],
   "source": [
    "bag = BaggingClassifier(DecisionTreeClassifier(random_state=42), n_estimators=500, max_samples=100, bootstrap=True, random_state=7)\n",
    "bag.fit(X_train, y_train)"
   ]
  },
  {
   "cell_type": "code",
   "execution_count": 198,
   "id": "e1c641f8",
   "metadata": {},
   "outputs": [
    {
     "name": "stdout",
     "output_type": "stream",
     "text": [
      "[1 0 0 ... 1 0 0]\n"
     ]
    }
   ],
   "source": [
    "y_pred_bag = bag.predict(X_test)\n",
    "print(y_pred_bag)"
   ]
  },
  {
   "cell_type": "code",
   "execution_count": 199,
   "id": "2db153f8",
   "metadata": {},
   "outputs": [
    {
     "name": "stdout",
     "output_type": "stream",
     "text": [
      "Tačnost: 74.21%\n"
     ]
    }
   ],
   "source": [
    "bag_acc = accuracy_score(y_pred_bag, y_test)\n",
    "print('Tačnost: {0:.2f}%'.format(bag_acc*100))"
   ]
  },
  {
   "cell_type": "code",
   "execution_count": 200,
   "id": "18a0fb18",
   "metadata": {},
   "outputs": [
    {
     "name": "stdout",
     "output_type": "stream",
     "text": [
      "              precision    recall  f1-score   support\n",
      "\n",
      "           0       0.72      0.75      0.74      1157\n",
      "           1       0.76      0.73      0.75      1243\n",
      "\n",
      "    accuracy                           0.74      2400\n",
      "   macro avg       0.74      0.74      0.74      2400\n",
      "weighted avg       0.74      0.74      0.74      2400\n",
      "\n"
     ]
    }
   ],
   "source": [
    "bag_cr = classification_report(y_pred_bag, y_test)\n",
    "print(bag_cr)"
   ]
  },
  {
   "cell_type": "code",
   "execution_count": 201,
   "id": "6936c2f3",
   "metadata": {},
   "outputs": [
    {
     "name": "stdout",
     "output_type": "stream",
     "text": [
      "[[869 288]\n",
      " [331 912]]\n"
     ]
    }
   ],
   "source": [
    "bag_cm = confusion_matrix(y_pred_bag, y_test)\n",
    "print(bag_cm)"
   ]
  },
  {
   "cell_type": "markdown",
   "id": "af1de0f9",
   "metadata": {},
   "source": [
    "# <span style=\"color:blue\"> Uporedjivanje</span>"
   ]
  },
  {
   "cell_type": "code",
   "execution_count": 205,
   "id": "8881e07e",
   "metadata": {},
   "outputs": [],
   "source": [
    "accuracies = [lr_acc, rfc_acc, knn_acc, dtc_acc, nb_acc, svc_acc, ab_acc, xgb_acc, gb_acc, bag_acc]\n",
    "confusion_matrices = [lr_cm, rfc_cm, knn_cm, dtc_cm, nb_cm, svc_cm, ab_cm, xgb_cm, gb_cm, bag_cm]\n",
    "classification_reports = [lr_cr, rfc_cr, knn_cr, dtc_cr, nb_cr, svc_cr, ab_cr, xgb_cr, gb_cr, bag_cr]\n",
    "labels = [\"Logistička regresija\", \"Slučajne šume\", \"K najbližih suseda\", \"Stabla odlučivanja\", \"Naivni bayes\", \"Metod potpornih vektora\", \"AdaBoost\", \"XGBoost\", \"GradientBoost\", \"Prosta agregacija\"]"
   ]
  },
  {
   "cell_type": "code",
   "execution_count": 221,
   "id": "63c5ffbf",
   "metadata": {},
   "outputs": [
    {
     "data": {
      "image/png": "[encoded data removed]",
      "text/plain": [
       "<Figure size 720x360 with 1 Axes>"
      ]
     },
     "metadata": {
      "needs_background": "light"
     },
     "output_type": "display_data"
    }
   ],
   "source": [
    "plt.figure(figsize = (10,5))\n",
    "\n",
    "unsorted_list = [(labels, accuracies) for labels, accuracies in \n",
    "                  zip(accuracies, labels)]\n",
    "sorted_list = sorted(unsorted_list) \n",
    "\n",
    "labels_sorted = []\n",
    "accuracies_sorted = []\n",
    "\n",
    "for i in sorted_list:\n",
    "    labels_sorted += [i[1]]\n",
    "    accuracies_sorted += [i[0]]\n",
    "    \n",
    "plt.title(\"Ocena tačnosti modela\", fontsize=15)\n",
    "plt.xlabel(\"Tačnost\", fontsize=13)\n",
    "\n",
    "plt.barh(labels_sorted, accuracies_sorted, color=\"green\", edgecolor='green')\n",
    "\n",
    "plt.show()"
   ]
  }
 ],
 "metadata": {
  "kernelspec": {
   "display_name": "Python 3 (ipykernel)",
   "language": "python",
   "name": "python3"
  },
  "language_info": {
   "codemirror_mode": {
    "name": "ipython",
    "version": 3
   },
   "file_extension": ".py",
   "mimetype": "text/x-python",
   "name": "python",
   "nbconvert_exporter": "python",
   "pygments_lexer": "ipython3",
   "version": "3.7.13"
  }
 },
 "nbformat": 4,
 "nbformat_minor": 5
}
